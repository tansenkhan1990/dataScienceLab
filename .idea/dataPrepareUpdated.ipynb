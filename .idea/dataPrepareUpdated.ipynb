{
 "metadata": {
  "language_info": {
   "codemirror_mode": {
    "name": "ipython",
    "version": 3
   },
   "file_extension": ".py",
   "mimetype": "text/x-python",
   "name": "python",
   "nbconvert_exporter": "python",
   "pygments_lexer": "ipython3",
   "version": "3.7.6-final"
  },
  "orig_nbformat": 2,
  "kernelspec": {
   "name": "python3",
   "display_name": "Python 3"
  }
 },
 "nbformat": 4,
 "nbformat_minor": 2,
 "cells": [
  {
   "cell_type": "code",
   "execution_count": 7,
   "metadata": {},
   "outputs": [
    {
     "output_type": "stream",
     "name": "stdout",
     "text": [
      "(79781, 12)\n"
     ]
    }
   ],
   "source": [
    "import pandas as pd\n",
    "\n",
    "import seaborn as sns\n",
    "\n",
    "data = pd.read_csv('/home/tansen/my files/dataScienceLab/gcp_covid19_countrylevel.csv',\n",
    "                   usecols=[\"key\",\"date\",\"country_name\",\"total_hospitalized\", \"current_hospitalized\", \"new_intensive_care\", \"total_intensive_care\",\n",
    "                       \"hospital_beds\",\"nurses\",\"physicians\",\"health_expenditure\",\"out_of_pocket_health_expenditure\"\n",
    "                    ]\n",
    "                   )\n",
    "\n",
    "print(data.shape)\n"
   ]
  },
  {
   "cell_type": "code",
   "execution_count": 10,
   "metadata": {},
   "outputs": [
    {
     "output_type": "display_data",
     "data": {
      "text/plain": "key                                  0.404858\ndate                                 0.000000\ncountry_name                         0.000000\ntotal_hospitalized                  97.578371\ncurrent_hospitalized                98.144922\nnew_intensive_care                  98.764117\ntotal_intensive_care                98.741555\nhospital_beds                       89.878543\nnurses                              27.125506\nphysicians                          33.603239\nhealth_expenditure                  24.696356\nout_of_pocket_health_expenditure    24.696356\ndtype: float64"
     },
     "metadata": {}
    }
   ],
   "source": [
    "df = data\n",
    "totalnull_df = df.isNaN().sum()\n",
    "percentnull = totalnull_df/len(df)*100\n",
    "display(percentnull)"
   ]
  },
  {
   "cell_type": "code",
   "execution_count": null,
   "metadata": {},
   "outputs": [],
   "source": []
  }
 ]
}