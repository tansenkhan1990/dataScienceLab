{
 "cells": [
  {
   "cell_type": "markdown",
   "metadata": {},
   "source": [
    "## COVID-19 Group 2"
   ]
  },
  {
   "cell_type": "markdown",
   "metadata": {},
   "source": [
    "### Importing required libraries"
   ]
  },
  {
   "cell_type": "code",
   "execution_count": 292,
   "metadata": {},
   "outputs": [],
   "source": [
    "import pandas as pd \n",
    "import numpy as np \n",
    "import matplotlib.pyplot as plt \n",
    "from datetime import datetime, timedelta,date\n",
    "import plotly.express as px \n",
    "import json, requests\n",
    "from io import StringIO\n",
    "import re\n",
    "import seaborn as sns\n",
    "from sklearn.impute import SimpleImputer\n",
    "from sklearn.preprocessing import StandardScaler\n",
    "from sklearn.preprocessing import Normalizer\n",
    "from sklearn import preprocessing\n",
    "from sklearn.model_selection import train_test_split\n",
    "import warnings\n",
    "from IPython.display import Image\n",
    "\n",
    "from scipy.stats import ttest_ind, ttest_ind_from_stats\n",
    "\n",
    "\n",
    "warnings.filterwarnings('ignore')\n",
    "\n",
    "%matplotlib inline"
   ]
  },
  {
   "cell_type": "code",
   "execution_count": 293,
   "metadata": {},
   "outputs": [
    {
     "data": {
      "text/html": [
       "<div>\n",
       "<style scoped>\n",
       "    .dataframe tbody tr th:only-of-type {\n",
       "        vertical-align: middle;\n",
       "    }\n",
       "\n",
       "    .dataframe tbody tr th {\n",
       "        vertical-align: top;\n",
       "    }\n",
       "\n",
       "    .dataframe thead th {\n",
       "        text-align: right;\n",
       "    }\n",
       "</style>\n",
       "<table border=\"1\" class=\"dataframe\">\n",
       "  <thead>\n",
       "    <tr style=\"text-align: right;\">\n",
       "      <th></th>\n",
       "      <th>date</th>\n",
       "      <th>country_name</th>\n",
       "      <th>total_confirmed</th>\n",
       "      <th>total_deceased</th>\n",
       "      <th>average_temperature</th>\n",
       "    </tr>\n",
       "  </thead>\n",
       "  <tbody>\n",
       "    <tr>\n",
       "      <th>0</th>\n",
       "      <td>2020-01-01</td>\n",
       "      <td>Andorra</td>\n",
       "      <td>0.0</td>\n",
       "      <td>0.0</td>\n",
       "      <td>6.201389</td>\n",
       "    </tr>\n",
       "    <tr>\n",
       "      <th>1</th>\n",
       "      <td>2020-01-02</td>\n",
       "      <td>Andorra</td>\n",
       "      <td>0.0</td>\n",
       "      <td>0.0</td>\n",
       "      <td>5.340278</td>\n",
       "    </tr>\n",
       "    <tr>\n",
       "      <th>2</th>\n",
       "      <td>2020-01-03</td>\n",
       "      <td>Andorra</td>\n",
       "      <td>0.0</td>\n",
       "      <td>0.0</td>\n",
       "      <td>6.638889</td>\n",
       "    </tr>\n",
       "    <tr>\n",
       "      <th>3</th>\n",
       "      <td>2020-01-04</td>\n",
       "      <td>Andorra</td>\n",
       "      <td>0.0</td>\n",
       "      <td>0.0</td>\n",
       "      <td>7.375000</td>\n",
       "    </tr>\n",
       "    <tr>\n",
       "      <th>4</th>\n",
       "      <td>2020-01-05</td>\n",
       "      <td>Andorra</td>\n",
       "      <td>0.0</td>\n",
       "      <td>0.0</td>\n",
       "      <td>5.833333</td>\n",
       "    </tr>\n",
       "    <tr>\n",
       "      <th>...</th>\n",
       "      <td>...</td>\n",
       "      <td>...</td>\n",
       "      <td>...</td>\n",
       "      <td>...</td>\n",
       "      <td>...</td>\n",
       "    </tr>\n",
       "    <tr>\n",
       "      <th>79776</th>\n",
       "      <td>2020-11-14</td>\n",
       "      <td>Zimbabwe</td>\n",
       "      <td>8786.0</td>\n",
       "      <td>257.0</td>\n",
       "      <td>NaN</td>\n",
       "    </tr>\n",
       "    <tr>\n",
       "      <th>79777</th>\n",
       "      <td>2020-11-15</td>\n",
       "      <td>Zimbabwe</td>\n",
       "      <td>8786.0</td>\n",
       "      <td>257.0</td>\n",
       "      <td>NaN</td>\n",
       "    </tr>\n",
       "    <tr>\n",
       "      <th>79778</th>\n",
       "      <td>2020-11-16</td>\n",
       "      <td>Zimbabwe</td>\n",
       "      <td>NaN</td>\n",
       "      <td>NaN</td>\n",
       "      <td>NaN</td>\n",
       "    </tr>\n",
       "    <tr>\n",
       "      <th>79779</th>\n",
       "      <td>2020-11-17</td>\n",
       "      <td>Zimbabwe</td>\n",
       "      <td>NaN</td>\n",
       "      <td>NaN</td>\n",
       "      <td>NaN</td>\n",
       "    </tr>\n",
       "    <tr>\n",
       "      <th>79780</th>\n",
       "      <td>2020-11-18</td>\n",
       "      <td>Zimbabwe</td>\n",
       "      <td>NaN</td>\n",
       "      <td>NaN</td>\n",
       "      <td>NaN</td>\n",
       "    </tr>\n",
       "  </tbody>\n",
       "</table>\n",
       "<p>79781 rows × 5 columns</p>\n",
       "</div>"
      ],
      "text/plain": [
       "            date country_name  total_confirmed  total_deceased  \\\n",
       "0     2020-01-01      Andorra              0.0             0.0   \n",
       "1     2020-01-02      Andorra              0.0             0.0   \n",
       "2     2020-01-03      Andorra              0.0             0.0   \n",
       "3     2020-01-04      Andorra              0.0             0.0   \n",
       "4     2020-01-05      Andorra              0.0             0.0   \n",
       "...          ...          ...              ...             ...   \n",
       "79776 2020-11-14     Zimbabwe           8786.0           257.0   \n",
       "79777 2020-11-15     Zimbabwe           8786.0           257.0   \n",
       "79778 2020-11-16     Zimbabwe              NaN             NaN   \n",
       "79779 2020-11-17     Zimbabwe              NaN             NaN   \n",
       "79780 2020-11-18     Zimbabwe              NaN             NaN   \n",
       "\n",
       "       average_temperature  \n",
       "0                 6.201389  \n",
       "1                 5.340278  \n",
       "2                 6.638889  \n",
       "3                 7.375000  \n",
       "4                 5.833333  \n",
       "...                    ...  \n",
       "79776                  NaN  \n",
       "79777                  NaN  \n",
       "79778                  NaN  \n",
       "79779                  NaN  \n",
       "79780                  NaN  \n",
       "\n",
       "[79781 rows x 5 columns]"
      ]
     },
     "execution_count": 293,
     "metadata": {},
     "output_type": "execute_result"
    }
   ],
   "source": [
    "# Load CSV data directly from the URL with pandas\n",
    "data = pd.read_csv(\n",
    "    \"gcp_covid19_countrylevel.csv\",\n",
    "      usecols=[\"date\", \"country_name\", \"total_confirmed\", \"total_deceased\",\"average_temperature\"],\n",
    "      parse_dates=[\"date\"]\n",
    "    )\n",
    "\n",
    "data"
   ]
  },
  {
   "cell_type": "code",
   "execution_count": 294,
   "metadata": {},
   "outputs": [],
   "source": [
    "dataset = data[data['country_name'].isin([ \"France\",\"Germany\"])].copy()\n"
   ]
  },
  {
   "cell_type": "code",
   "execution_count": 295,
   "metadata": {},
   "outputs": [],
   "source": [
    "# Defining Active Cases\n",
    "dataset['Active'] = dataset['total_confirmed'] - dataset['total_deceased'] "
   ]
  },
  {
   "cell_type": "code",
   "execution_count": 296,
   "metadata": {},
   "outputs": [],
   "source": [
    "# Replace NAN and Missing Values with 0\n",
    "dataset.fillna(pd.Series(0, index=dataset.select_dtypes(exclude='category').columns),inplace=True)"
   ]
  },
  {
   "cell_type": "code",
   "execution_count": 297,
   "metadata": {},
   "outputs": [
    {
     "data": {
      "text/plain": [
       "<matplotlib.axes._subplots.AxesSubplot at 0x237f4edb108>"
      ]
     },
     "execution_count": 297,
     "metadata": {},
     "output_type": "execute_result"
    },
    {
     "data": {
      "image/png": "[encoded data removed]",
      "text/plain": [
       "<Figure size 432x288 with 2 Axes>"
      ]
     },
     "metadata": {
      "needs_background": "light"
     },
     "output_type": "display_data"
    }
   ],
   "source": [
    "corr = dataset.drop('total_confirmed',axis=1).corr()\n",
    "sns.heatmap(corr[(corr>0.5) | (corr <= -0.4)],cmap='viridis',vmax=1.0,vmin=-1.0,linewidth=0.1,annot=True,annot_kws={\"size\":8},square=True)"
   ]
  },
  {
   "cell_type": "code",
   "execution_count": 298,
   "metadata": {},
   "outputs": [
    {
     "name": "stdout",
     "output_type": "stream",
     "text": [
      "6.0\n",
      "540604.0\n"
     ]
    }
   ],
   "source": [
    "#print(dataset['average_temperature'].quantile(0.10))\n",
    "#print(dataset['average_temperature'].quantile(0.90))\n",
    "\n",
    "#4.5027775000000005\n",
    "#20.966666500000002\n",
    "\n",
    "print(dataset['total_confirmed'].quantile(0.10))\n",
    "print(dataset['total_confirmed'].quantile(0.90))\n",
    "\n",
    "#6.0\n",
    "#540604.0"
   ]
  },
  {
   "cell_type": "code",
   "execution_count": 299,
   "metadata": {},
   "outputs": [
    {
     "name": "stdout",
     "output_type": "stream",
     "text": [
      "0.8594921821959212\n"
     ]
    }
   ],
   "source": [
    "# Checking Skewness:-1 and +1 (should be)\n",
    "\n",
    "\n",
    "#dataset[\"average_temperature\"] = np.where(dataset[\"average_temperature\"] <4.5027775000000005, 4.5027775000000005,dataset['average_temperature'])\n",
    "#dataset[\"average_temperature\"] = np.where(dataset[\"average_temperature\"] >20.966666500000002, 20.966666500000002,dataset['average_temperature'])\n",
    "#print(dataset['average_temperature'].skew())\n",
    "\n",
    "# -0.053932283151533325\n",
    "\n",
    "dataset[\"total_confirmed\"] = np.where(dataset[\"total_confirmed\"] <6.0, 6.0,dataset['total_confirmed'])\n",
    "dataset[\"total_confirmed\"] = np.where(dataset[\"total_confirmed\"] >540604.0, 540604.0,dataset['total_confirmed'])\n",
    "print(dataset['total_confirmed'].skew())\n",
    "\n",
    "# 0.8594921821959212"
   ]
  },
  {
   "cell_type": "code",
   "execution_count": 300,
   "metadata": {},
   "outputs": [
    {
     "data": {
      "text/plain": [
       "count       646.000000\n",
       "mean     114580.269350\n",
       "std       72531.789549\n",
       "min           6.000000\n",
       "25%       11399.250000\n",
       "50%      168912.000000\n",
       "75%      169014.000000\n",
       "max      169014.000000\n",
       "Name: total_confirmed, dtype: float64"
      ]
     },
     "execution_count": 300,
     "metadata": {},
     "output_type": "execute_result"
    }
   ],
   "source": [
    "# Replacing outliers with median of that column\n",
    "\n",
    "median = float(dataset['average_temperature'].median())\n",
    "\n",
    "dataset[\"average_temperature\"] = np.where(dataset[\"average_temperature\"] > median, median, dataset['average_temperature'])\n",
    "\n",
    "dataset['average_temperature'].describe()\n",
    "\n",
    "#count    646.000000\n",
    "#mean      10.735317\n",
    "#std        3.278170\n",
    "#min        4.502778\n",
    "#25%        8.069445\n",
    "#50%       13.316667\n",
    "#75%       13.316667\n",
    "#max       13.316667\n",
    "#Name: average_temperature, dtype: float64\n",
    "\n",
    "median = float(dataset['total_confirmed'].median())\n",
    "\n",
    "dataset[\"total_confirmed\"] = np.where(dataset[\"total_confirmed\"] > median, median, dataset['total_confirmed'])\n",
    "\n",
    "dataset['total_confirmed'].describe()\n",
    "\n",
    "#count       646.000000\n",
    "#mean     114580.269350\n",
    "#std       72531.789549\n",
    "#min           6.000000\n",
    "#25%       11399.250000\n",
    "#50%      168912.000000\n",
    "#75%      169014.000000\n",
    "#max      169014.000000\n",
    "#Name: total_confirmed, dtype: float64"
   ]
  },
  {
   "cell_type": "code",
   "execution_count": 301,
   "metadata": {},
   "outputs": [
    {
     "data": {
      "text/html": [
       "<div>\n",
       "<style scoped>\n",
       "    .dataframe tbody tr th:only-of-type {\n",
       "        vertical-align: middle;\n",
       "    }\n",
       "\n",
       "    .dataframe tbody tr th {\n",
       "        vertical-align: top;\n",
       "    }\n",
       "\n",
       "    .dataframe thead th {\n",
       "        text-align: right;\n",
       "    }\n",
       "</style>\n",
       "<table border=\"1\" class=\"dataframe\">\n",
       "  <thead>\n",
       "    <tr style=\"text-align: right;\">\n",
       "      <th></th>\n",
       "      <th>date</th>\n",
       "      <th>total_confirmed</th>\n",
       "      <th>total_deceased</th>\n",
       "      <th>average_temperature</th>\n",
       "      <th>MonthsRange</th>\n",
       "    </tr>\n",
       "    <tr>\n",
       "      <th>country_name</th>\n",
       "      <th></th>\n",
       "      <th></th>\n",
       "      <th></th>\n",
       "      <th></th>\n",
       "      <th></th>\n",
       "    </tr>\n",
       "  </thead>\n",
       "  <tbody>\n",
       "    <tr>\n",
       "      <th>France</th>\n",
       "      <td>2020-03-01</td>\n",
       "      <td>130.0</td>\n",
       "      <td>2.0</td>\n",
       "      <td>13.316667</td>\n",
       "      <td>Jan-APR</td>\n",
       "    </tr>\n",
       "    <tr>\n",
       "      <th>Germany</th>\n",
       "      <td>2020-03-01</td>\n",
       "      <td>129.0</td>\n",
       "      <td>0.0</td>\n",
       "      <td>12.538889</td>\n",
       "      <td>Jan-APR</td>\n",
       "    </tr>\n",
       "  </tbody>\n",
       "</table>\n",
       "</div>"
      ],
      "text/plain": [
       "                   date  total_confirmed  total_deceased  average_temperature  \\\n",
       "country_name                                                                    \n",
       "France       2020-03-01            130.0             2.0            13.316667   \n",
       "Germany      2020-03-01            129.0             0.0            12.538889   \n",
       "\n",
       "             MonthsRange  \n",
       "country_name              \n",
       "France           Jan-APR  \n",
       "Germany          Jan-APR  "
      ]
     },
     "execution_count": 301,
     "metadata": {},
     "output_type": "execute_result"
    }
   ],
   "source": [
    "bins = [0, 1000, 5000, 10000]\n",
    "labels = [\"Not Critical\",\"Worrying\",\"Critical\"]\n",
    "dataset['State'] = pd.cut(dataset['total_confirmed'], bins=bins, labels=labels)\n",
    "\n",
    "\n",
    "dataset['year'] = pd.DatetimeIndex(dataset['date']).year\n",
    "dataset['month'] = pd.DatetimeIndex(dataset['date']).month\n",
    "dataset['day'] = pd.DatetimeIndex(dataset['date']).day\n",
    "\n",
    "bins = [0, 4, 8, 11]\n",
    "labels = [\"Jan-APR\",\"APR-AUG\",\"AUG-SEP\"]\n",
    "dataset['MonthsRange'] = pd.cut(dataset['month'], bins=bins, labels=labels)\n",
    "\n",
    "dataFrame = pd.DataFrame(dataset, columns=['date','country_name','total_confirmed', 'total_deceased', 'average_temperature','MonthsRange'])\n",
    "dataFrame\n",
    "\n",
    "# From Jan-Apr\n",
    "start_date = \"2020-1-1\"\n",
    "end_date = \"2020-3-1\"\n",
    "\n",
    "after_start_date = dataFrame[\"date\"] >= start_date\n",
    "before_end_date = dataFrame[\"date\"] <= end_date\n",
    "between_two_dates = after_start_date & before_end_date\n",
    "filtered_dates = dataFrame.loc[between_two_dates]\n",
    "\n",
    "filtered_dates\n",
    "\n",
    "temp = filtered_dates.groupby(['country_name'])['date','total_confirmed', 'total_deceased', 'average_temperature', 'MonthsRange'].max()\n",
    "temp\n",
    "\n",
    "\n"
   ]
  },
  {
   "cell_type": "code",
   "execution_count": 302,
   "metadata": {},
   "outputs": [
    {
     "data": {
      "text/html": [
       "<div>\n",
       "<style scoped>\n",
       "    .dataframe tbody tr th:only-of-type {\n",
       "        vertical-align: middle;\n",
       "    }\n",
       "\n",
       "    .dataframe tbody tr th {\n",
       "        vertical-align: top;\n",
       "    }\n",
       "\n",
       "    .dataframe thead th {\n",
       "        text-align: right;\n",
       "    }\n",
       "</style>\n",
       "<table border=\"1\" class=\"dataframe\">\n",
       "  <thead>\n",
       "    <tr style=\"text-align: right;\">\n",
       "      <th></th>\n",
       "      <th>date</th>\n",
       "      <th>total_confirmed</th>\n",
       "      <th>total_deceased</th>\n",
       "      <th>average_temperature</th>\n",
       "      <th>MonthsRange</th>\n",
       "    </tr>\n",
       "    <tr>\n",
       "      <th>country_name</th>\n",
       "      <th></th>\n",
       "      <th></th>\n",
       "      <th></th>\n",
       "      <th></th>\n",
       "      <th></th>\n",
       "    </tr>\n",
       "  </thead>\n",
       "  <tbody>\n",
       "    <tr>\n",
       "      <th>France</th>\n",
       "      <td>2020-08-01</td>\n",
       "      <td>169014.0</td>\n",
       "      <td>30265.0</td>\n",
       "      <td>13.316667</td>\n",
       "      <td>APR-AUG</td>\n",
       "    </tr>\n",
       "    <tr>\n",
       "      <th>Germany</th>\n",
       "      <td>2020-08-01</td>\n",
       "      <td>169014.0</td>\n",
       "      <td>9141.0</td>\n",
       "      <td>13.316667</td>\n",
       "      <td>APR-AUG</td>\n",
       "    </tr>\n",
       "  </tbody>\n",
       "</table>\n",
       "</div>"
      ],
      "text/plain": [
       "                   date  total_confirmed  total_deceased  average_temperature  \\\n",
       "country_name                                                                    \n",
       "France       2020-08-01         169014.0         30265.0            13.316667   \n",
       "Germany      2020-08-01         169014.0          9141.0            13.316667   \n",
       "\n",
       "             MonthsRange  \n",
       "country_name              \n",
       "France           APR-AUG  \n",
       "Germany          APR-AUG  "
      ]
     },
     "execution_count": 302,
     "metadata": {},
     "output_type": "execute_result"
    }
   ],
   "source": [
    "# From Apr-Aug\n",
    "start_date = \"2020-4-1\"\n",
    "end_date = \"2020-8-1\"\n",
    "\n",
    "after_start_date = dataFrame[\"date\"] >= start_date\n",
    "before_end_date = dataFrame[\"date\"] <= end_date\n",
    "between_two_dates = after_start_date & before_end_date\n",
    "filtered_dates = dataFrame.loc[between_two_dates]\n",
    "\n",
    "filtered_dates\n",
    "\n",
    "temp = filtered_dates.groupby(['country_name'])['date','total_confirmed', 'total_deceased', 'average_temperature', 'MonthsRange'].max()\n",
    "temp\n"
   ]
  },
  {
   "cell_type": "code",
   "execution_count": 303,
   "metadata": {},
   "outputs": [
    {
     "data": {
      "text/html": [
       "<div>\n",
       "<style scoped>\n",
       "    .dataframe tbody tr th:only-of-type {\n",
       "        vertical-align: middle;\n",
       "    }\n",
       "\n",
       "    .dataframe tbody tr th {\n",
       "        vertical-align: top;\n",
       "    }\n",
       "\n",
       "    .dataframe thead th {\n",
       "        text-align: right;\n",
       "    }\n",
       "</style>\n",
       "<table border=\"1\" class=\"dataframe\">\n",
       "  <thead>\n",
       "    <tr style=\"text-align: right;\">\n",
       "      <th></th>\n",
       "      <th>date</th>\n",
       "      <th>total_confirmed</th>\n",
       "      <th>total_deceased</th>\n",
       "      <th>average_temperature</th>\n",
       "      <th>MonthsRange</th>\n",
       "    </tr>\n",
       "    <tr>\n",
       "      <th>country_name</th>\n",
       "      <th></th>\n",
       "      <th></th>\n",
       "      <th></th>\n",
       "      <th></th>\n",
       "      <th></th>\n",
       "    </tr>\n",
       "  </thead>\n",
       "  <tbody>\n",
       "    <tr>\n",
       "      <th>France</th>\n",
       "      <td>2020-11-01</td>\n",
       "      <td>169014.0</td>\n",
       "      <td>30544.0</td>\n",
       "      <td>13.316667</td>\n",
       "      <td>AUG-SEP</td>\n",
       "    </tr>\n",
       "    <tr>\n",
       "      <th>Germany</th>\n",
       "      <td>2020-11-01</td>\n",
       "      <td>169014.0</td>\n",
       "      <td>10530.0</td>\n",
       "      <td>13.316667</td>\n",
       "      <td>AUG-SEP</td>\n",
       "    </tr>\n",
       "  </tbody>\n",
       "</table>\n",
       "</div>"
      ],
      "text/plain": [
       "                   date  total_confirmed  total_deceased  average_temperature  \\\n",
       "country_name                                                                    \n",
       "France       2020-11-01         169014.0         30544.0            13.316667   \n",
       "Germany      2020-11-01         169014.0         10530.0            13.316667   \n",
       "\n",
       "             MonthsRange  \n",
       "country_name              \n",
       "France           AUG-SEP  \n",
       "Germany          AUG-SEP  "
      ]
     },
     "execution_count": 303,
     "metadata": {},
     "output_type": "execute_result"
    }
   ],
   "source": [
    "start_date = \"2020-8-1\"\n",
    "end_date = \"2020-11-1\"\n",
    "\n",
    "after_start_date = dataFrame[\"date\"] >= start_date\n",
    "before_end_date = dataFrame[\"date\"] <= end_date\n",
    "between_two_dates = after_start_date & before_end_date\n",
    "filtered_dates = dataFrame.loc[between_two_dates]\n",
    "\n",
    "filtered_dates\n",
    "\n",
    "temp = filtered_dates.groupby(['country_name'])['date','total_confirmed', 'total_deceased', 'average_temperature', 'MonthsRange'].max()\n",
    "temp\n",
    "\n",
    "\n",
    "\n",
    "\n",
    "\n",
    "\n",
    "\n",
    "\n"
   ]
  },
  {
   "cell_type": "code",
   "execution_count": 304,
   "metadata": {},
   "outputs": [
    {
     "data": {
      "text/plain": [
       "<seaborn.axisgrid.FacetGrid at 0x237f4c0f548>"
      ]
     },
     "execution_count": 304,
     "metadata": {},
     "output_type": "execute_result"
    },
    {
     "data": {
      "image/png": "[encoded data removed]",
      "text/plain": [
       "<Figure size 657.375x288 with 2 Axes>"
      ]
     },
     "metadata": {
      "needs_background": "light"
     },
     "output_type": "display_data"
    }
   ],
   "source": [
    "def qqplot(x, y, **kwargs):\n",
    "    _, xr = stats.probplot(x, fit=False)\n",
    "    _, yr = stats.probplot(y, fit=False)\n",
    "    plt.scatter(xr, yr, **kwargs)\n",
    "\n",
    "g = sns.FacetGrid(dataFrame, hue=\"MonthsRange\", col=\"country_name\", height=4)\n",
    "g.map(qqplot, \"total_confirmed\", \"average_temperature\")\n",
    "g.add_legend()"
   ]
  },
  {
   "cell_type": "code",
   "execution_count": 306,
   "metadata": {},
   "outputs": [
    {
     "data": {
      "text/html": [
       "        <script type=\"text/javascript\">\n",
       "        window.PlotlyConfig = {MathJaxConfig: 'local'};\n",
       "        if (window.MathJax) {MathJax.Hub.Config({SVG: {font: \"STIX-Web\"}});}\n",
       "        if (typeof require !== 'undefined') {\n",
       "        require.undef(\"plotly\");\n",
       "        requirejs.config({\n",
       "            paths: {\n",
       "                'plotly': ['https://cdn.plot.ly/plotly-latest.min']\n",
       "            }\n",
       "        });\n",
       "        require(['plotly'], function(Plotly) {\n",
       "            window._Plotly = Plotly;\n",
       "        });\n",
       "        }\n",
       "        </script>\n",
       "        "
      ]
     },
     "metadata": {},
     "output_type": "display_data"
    },
    {
     "data": {
      "application/vnd.plotly.v1+json": {
       "config": {
        "linkText": "Export to plot.ly",
        "plotlyServerURL": "https://plot.ly",
        "showLink": false
       },
       "data": [
        {
         "colorbar": {
          "autotick": true,
          "tickprefix": "",
          "title": "Temperature"
         },
         "locationmode": "country names",
         "locations": [
          "Bangladesh",
          "India"
         ],
         "marker": {
          "line": {
           "color": "rgb(0,0,0)",
           "width": 1
          }
         },
         "text": [
          "Bangladesh",
          "India"
         ],
         "type": "choropleth",
         "z": [
          26.393956087912088,
          26.739754724770645
         ]
        }
       ],
       "layout": {
        "geo": {
         "lataxis": {
          "gridcolor": "rgb(102, 102, 102)",
          "showgrid": true
         },
         "lonaxis": {
          "gridcolor": "rgb(102, 102, 102)",
          "showgrid": true
         },
         "oceancolor": "rgb(0,255,255)",
         "projection": {
          "rotation": {
           "lat": 10,
           "lon": 60
          },
          "type": "orthographic"
         },
         "showframe": false,
         "showocean": true
        },
        "title": "Avg Temperature by Country"
       }
      },
      "text/html": [
       "<div>                            <div id=\"72b30f2e-989e-47c7-a60b-1492ac01586e\" class=\"plotly-graph-div\" style=\"height:525px; width:100%;\"></div>            <script type=\"text/javascript\">                require([\"plotly\"], function(Plotly) {                    window.PLOTLYENV=window.PLOTLYENV || {};                                    if (document.getElementById(\"72b30f2e-989e-47c7-a60b-1492ac01586e\")) {                    Plotly.newPlot(                        \"72b30f2e-989e-47c7-a60b-1492ac01586e\",                        [{\"colorbar\": {\"autotick\": true, \"tickprefix\": \"\", \"title\": \"Temperature\"}, \"locationmode\": \"country names\", \"locations\": [\"Bangladesh\", \"India\"], \"marker\": {\"line\": {\"color\": \"rgb(0,0,0)\", \"width\": 1}}, \"text\": [\"Bangladesh\", \"India\"], \"type\": \"choropleth\", \"z\": [26.393956087912088, 26.739754724770645]}],                        {\"geo\": {\"lataxis\": {\"gridcolor\": \"rgb(102, 102, 102)\", \"showgrid\": true}, \"lonaxis\": {\"gridcolor\": \"rgb(102, 102, 102)\", \"showgrid\": true}, \"oceancolor\": \"rgb(0,255,255)\", \"projection\": {\"rotation\": {\"lat\": 10, \"lon\": 60}, \"type\": \"orthographic\"}, \"showframe\": false, \"showocean\": true}, \"title\": \"Avg Temperature by Country\"},                        {\"responsive\": true}                    ).then(function(){\n",
       "                            \n",
       "var gd = document.getElementById('72b30f2e-989e-47c7-a60b-1492ac01586e');\n",
       "var x = new MutationObserver(function (mutations, observer) {{\n",
       "        var display = window.getComputedStyle(gd).display;\n",
       "        if (!display || display === 'none') {{\n",
       "            console.log([gd, 'removed!']);\n",
       "            Plotly.purge(gd);\n",
       "            observer.disconnect();\n",
       "        }}\n",
       "}});\n",
       "\n",
       "// Listen for the removal of the full notebook cells\n",
       "var notebookContainer = gd.closest('#notebook-container');\n",
       "if (notebookContainer) {{\n",
       "    x.observe(notebookContainer, {childList: true});\n",
       "}}\n",
       "\n",
       "// Listen for the clearing of the current output cell\n",
       "var outputEl = gd.closest('.output');\n",
       "if (outputEl) {{\n",
       "    x.observe(outputEl, {childList: true});\n",
       "}}\n",
       "\n",
       "                        })                };                });            </script>        </div>"
      ]
     },
     "metadata": {},
     "output_type": "display_data"
    },
    {
     "data": {
      "application/vnd.plotly.v1+json": {
       "config": {
        "linkText": "Export to plot.ly",
        "plotlyServerURL": "https://plot.ly",
        "showLink": false
       },
       "data": [
        {
         "geo": "geo",
         "hovertemplate": "<b>%{hovertext}</b><br><br>date=01/02/2020<br>size=%{marker.size}<br>country_name=%{location}<br>total_confirmed=%{marker.color}<extra></extra>",
         "hovertext": [
          "Bangladesh"
         ],
         "legendgroup": "",
         "locationmode": "country names",
         "locations": [
          "Bangladesh"
         ],
         "marker": {
          "color": [
           0
          ],
          "coloraxis": "coloraxis",
          "size": [
           0
          ],
          "sizemode": "area",
          "sizeref": 0.3021525730050908
         },
         "name": "",
         "showlegend": false,
         "type": "scattergeo"
        }
       ],
       "frames": [
        {
         "data": [
          {
           "geo": "geo",
           "hovertemplate": "<b>%{hovertext}</b><br><br>date=01/02/2020<br>size=%{marker.size}<br>country_name=%{location}<br>total_confirmed=%{marker.color}<extra></extra>",
           "hovertext": [
            "Bangladesh"
           ],
           "legendgroup": "",
           "locationmode": "country names",
           "locations": [
            "Bangladesh"
           ],
           "marker": {
            "color": [
             0
            ],
            "coloraxis": "coloraxis",
            "size": [
             0
            ],
            "sizemode": "area",
            "sizeref": 0.3021525730050908
           },
           "name": "",
           "showlegend": false,
           "type": "scattergeo"
          }
         ],
         "name": "01/02/2020"
        },
        {
         "data": [
          {
           "geo": "geo",
           "hovertemplate": "<b>%{hovertext}</b><br><br>date=01/03/2020<br>size=%{marker.size}<br>country_name=%{location}<br>total_confirmed=%{marker.color}<extra></extra>",
           "hovertext": [
            "Bangladesh",
            "India"
           ],
           "legendgroup": "",
           "locationmode": "country names",
           "locations": [
            "Bangladesh",
            "India"
           ],
           "marker": {
            "color": [
             0,
             0
            ],
            "coloraxis": "coloraxis",
            "size": [
             0,
             0
            ],
            "sizemode": "area",
            "sizeref": 0.3021525730050908
           },
           "name": "",
           "showlegend": false,
           "type": "scattergeo"
          }
         ],
         "name": "01/03/2020"
        },
        {
         "data": [
          {
           "geo": "geo",
           "hovertemplate": "<b>%{hovertext}</b><br><br>date=01/04/2020<br>size=%{marker.size}<br>country_name=%{location}<br>total_confirmed=%{marker.color}<extra></extra>",
           "hovertext": [
            "Bangladesh"
           ],
           "legendgroup": "",
           "locationmode": "country names",
           "locations": [
            "Bangladesh"
           ],
           "marker": {
            "color": [
             0
            ],
            "coloraxis": "coloraxis",
            "size": [
             0
            ],
            "sizemode": "area",
            "sizeref": 0.3021525730050908
           },
           "name": "",
           "showlegend": false,
           "type": "scattergeo"
          }
         ],
         "name": "01/04/2020"
        },
        {
         "data": [
          {
           "geo": "geo",
           "hovertemplate": "<b>%{hovertext}</b><br><br>date=01/06/2020<br>size=%{marker.size}<br>country_name=%{location}<br>total_confirmed=%{marker.color}<extra></extra>",
           "hovertext": [
            "Bangladesh",
            "India"
           ],
           "legendgroup": "",
           "locationmode": "country names",
           "locations": [
            "Bangladesh",
            "India"
           ],
           "marker": {
            "color": [
             0,
             0
            ],
            "coloraxis": "coloraxis",
            "size": [
             0,
             0
            ],
            "sizemode": "area",
            "sizeref": 0.3021525730050908
           },
           "name": "",
           "showlegend": false,
           "type": "scattergeo"
          }
         ],
         "name": "01/06/2020"
        },
        {
         "data": [
          {
           "geo": "geo",
           "hovertemplate": "<b>%{hovertext}</b><br><br>date=01/07/2020<br>size=%{marker.size}<br>country_name=%{location}<br>total_confirmed=%{marker.color}<extra></extra>",
           "hovertext": [
            "Bangladesh",
            "India"
           ],
           "legendgroup": "",
           "locationmode": "country names",
           "locations": [
            "Bangladesh",
            "India"
           ],
           "marker": {
            "color": [
             0,
             0
            ],
            "coloraxis": "coloraxis",
            "size": [
             0,
             0
            ],
            "sizemode": "area",
            "sizeref": 0.3021525730050908
           },
           "name": "",
           "showlegend": false,
           "type": "scattergeo"
          }
         ],
         "name": "01/07/2020"
        },
        {
         "data": [
          {
           "geo": "geo",
           "hovertemplate": "<b>%{hovertext}</b><br><br>date=01/09/2020<br>size=%{marker.size}<br>country_name=%{location}<br>total_confirmed=%{marker.color}<extra></extra>",
           "hovertext": [
            "India"
           ],
           "legendgroup": "",
           "locationmode": "country names",
           "locations": [
            "India"
           ],
           "marker": {
            "color": [
             0
            ],
            "coloraxis": "coloraxis",
            "size": [
             0
            ],
            "sizemode": "area",
            "sizeref": 0.3021525730050908
           },
           "name": "",
           "showlegend": false,
           "type": "scattergeo"
          }
         ],
         "name": "01/09/2020"
        },
        {
         "data": [
          {
           "geo": "geo",
           "hovertemplate": "<b>%{hovertext}</b><br><br>date=01/13/2020<br>size=%{marker.size}<br>country_name=%{location}<br>total_confirmed=%{marker.color}<extra></extra>",
           "hovertext": [
            "India"
           ],
           "legendgroup": "",
           "locationmode": "country names",
           "locations": [
            "India"
           ],
           "marker": {
            "color": [
             0
            ],
            "coloraxis": "coloraxis",
            "size": [
             0
            ],
            "sizemode": "area",
            "sizeref": 0.3021525730050908
           },
           "name": "",
           "showlegend": false,
           "type": "scattergeo"
          }
         ],
         "name": "01/13/2020"
        },
        {
         "data": [
          {
           "geo": "geo",
           "hovertemplate": "<b>%{hovertext}</b><br><br>date=01/14/2020<br>size=%{marker.size}<br>country_name=%{location}<br>total_confirmed=%{marker.color}<extra></extra>",
           "hovertext": [
            "India"
           ],
           "legendgroup": "",
           "locationmode": "country names",
           "locations": [
            "India"
           ],
           "marker": {
            "color": [
             0
            ],
            "coloraxis": "coloraxis",
            "size": [
             0
            ],
            "sizemode": "area",
            "sizeref": 0.3021525730050908
           },
           "name": "",
           "showlegend": false,
           "type": "scattergeo"
          }
         ],
         "name": "01/14/2020"
        },
        {
         "data": [
          {
           "geo": "geo",
           "hovertemplate": "<b>%{hovertext}</b><br><br>date=01/16/2020<br>size=%{marker.size}<br>country_name=%{location}<br>total_confirmed=%{marker.color}<extra></extra>",
           "hovertext": [
            "Bangladesh"
           ],
           "legendgroup": "",
           "locationmode": "country names",
           "locations": [
            "Bangladesh"
           ],
           "marker": {
            "color": [
             0
            ],
            "coloraxis": "coloraxis",
            "size": [
             0
            ],
            "sizemode": "area",
            "sizeref": 0.3021525730050908
           },
           "name": "",
           "showlegend": false,
           "type": "scattergeo"
          }
         ],
         "name": "01/16/2020"
        },
        {
         "data": [
          {
           "geo": "geo",
           "hovertemplate": "<b>%{hovertext}</b><br><br>date=01/18/2020<br>size=%{marker.size}<br>country_name=%{location}<br>total_confirmed=%{marker.color}<extra></extra>",
           "hovertext": [
            "Bangladesh",
            "India"
           ],
           "legendgroup": "",
           "locationmode": "country names",
           "locations": [
            "Bangladesh",
            "India"
           ],
           "marker": {
            "color": [
             0,
             0
            ],
            "coloraxis": "coloraxis",
            "size": [
             0,
             0
            ],
            "sizemode": "area",
            "sizeref": 0.3021525730050908
           },
           "name": "",
           "showlegend": false,
           "type": "scattergeo"
          }
         ],
         "name": "01/18/2020"
        },
        {
         "data": [
          {
           "geo": "geo",
           "hovertemplate": "<b>%{hovertext}</b><br><br>date=01/19/2020<br>size=%{marker.size}<br>country_name=%{location}<br>total_confirmed=%{marker.color}<extra></extra>",
           "hovertext": [
            "India"
           ],
           "legendgroup": "",
           "locationmode": "country names",
           "locations": [
            "India"
           ],
           "marker": {
            "color": [
             0
            ],
            "coloraxis": "coloraxis",
            "size": [
             0
            ],
            "sizemode": "area",
            "sizeref": 0.3021525730050908
           },
           "name": "",
           "showlegend": false,
           "type": "scattergeo"
          }
         ],
         "name": "01/19/2020"
        },
        {
         "data": [
          {
           "geo": "geo",
           "hovertemplate": "<b>%{hovertext}</b><br><br>date=01/20/2020<br>size=%{marker.size}<br>country_name=%{location}<br>total_confirmed=%{marker.color}<extra></extra>",
           "hovertext": [
            "Bangladesh",
            "India"
           ],
           "legendgroup": "",
           "locationmode": "country names",
           "locations": [
            "Bangladesh",
            "India"
           ],
           "marker": {
            "color": [
             0,
             0
            ],
            "coloraxis": "coloraxis",
            "size": [
             0,
             0
            ],
            "sizemode": "area",
            "sizeref": 0.3021525730050908
           },
           "name": "",
           "showlegend": false,
           "type": "scattergeo"
          }
         ],
         "name": "01/20/2020"
        },
        {
         "data": [
          {
           "geo": "geo",
           "hovertemplate": "<b>%{hovertext}</b><br><br>date=01/25/2020<br>size=%{marker.size}<br>country_name=%{location}<br>total_confirmed=%{marker.color}<extra></extra>",
           "hovertext": [
            "Bangladesh"
           ],
           "legendgroup": "",
           "locationmode": "country names",
           "locations": [
            "Bangladesh"
           ],
           "marker": {
            "color": [
             0
            ],
            "coloraxis": "coloraxis",
            "size": [
             0
            ],
            "sizemode": "area",
            "sizeref": 0.3021525730050908
           },
           "name": "",
           "showlegend": false,
           "type": "scattergeo"
          }
         ],
         "name": "01/25/2020"
        },
        {
         "data": [
          {
           "geo": "geo",
           "hovertemplate": "<b>%{hovertext}</b><br><br>date=01/26/2020<br>size=%{marker.size}<br>country_name=%{location}<br>total_confirmed=%{marker.color}<extra></extra>",
           "hovertext": [
            "India"
           ],
           "legendgroup": "",
           "locationmode": "country names",
           "locations": [
            "India"
           ],
           "marker": {
            "color": [
             0
            ],
            "coloraxis": "coloraxis",
            "size": [
             0
            ],
            "sizemode": "area",
            "sizeref": 0.3021525730050908
           },
           "name": "",
           "showlegend": false,
           "type": "scattergeo"
          }
         ],
         "name": "01/26/2020"
        },
        {
         "data": [
          {
           "geo": "geo",
           "hovertemplate": "<b>%{hovertext}</b><br><br>date=01/27/2020<br>size=%{marker.size}<br>country_name=%{location}<br>total_confirmed=%{marker.color}<extra></extra>",
           "hovertext": [
            "India"
           ],
           "legendgroup": "",
           "locationmode": "country names",
           "locations": [
            "India"
           ],
           "marker": {
            "color": [
             0
            ],
            "coloraxis": "coloraxis",
            "size": [
             0
            ],
            "sizemode": "area",
            "sizeref": 0.3021525730050908
           },
           "name": "",
           "showlegend": false,
           "type": "scattergeo"
          }
         ],
         "name": "01/27/2020"
        },
        {
         "data": [
          {
           "geo": "geo",
           "hovertemplate": "<b>%{hovertext}</b><br><br>date=01/28/2020<br>size=%{marker.size}<br>country_name=%{location}<br>total_confirmed=%{marker.color}<extra></extra>",
           "hovertext": [
            "Bangladesh"
           ],
           "legendgroup": "",
           "locationmode": "country names",
           "locations": [
            "Bangladesh"
           ],
           "marker": {
            "color": [
             0
            ],
            "coloraxis": "coloraxis",
            "size": [
             0
            ],
            "sizemode": "area",
            "sizeref": 0.3021525730050908
           },
           "name": "",
           "showlegend": false,
           "type": "scattergeo"
          }
         ],
         "name": "01/28/2020"
        },
        {
         "data": [
          {
           "geo": "geo",
           "hovertemplate": "<b>%{hovertext}</b><br><br>date=01/29/2020<br>size=%{marker.size}<br>country_name=%{location}<br>total_confirmed=%{marker.color}<extra></extra>",
           "hovertext": [
            "Bangladesh"
           ],
           "legendgroup": "",
           "locationmode": "country names",
           "locations": [
            "Bangladesh"
           ],
           "marker": {
            "color": [
             0
            ],
            "coloraxis": "coloraxis",
            "size": [
             0
            ],
            "sizemode": "area",
            "sizeref": 0.3021525730050908
           },
           "name": "",
           "showlegend": false,
           "type": "scattergeo"
          }
         ],
         "name": "01/29/2020"
        },
        {
         "data": [
          {
           "geo": "geo",
           "hovertemplate": "<b>%{hovertext}</b><br><br>date=01/31/2020<br>size=%{marker.size}<br>country_name=%{location}<br>total_confirmed=%{marker.color}<extra></extra>",
           "hovertext": [
            "Bangladesh"
           ],
           "legendgroup": "",
           "locationmode": "country names",
           "locations": [
            "Bangladesh"
           ],
           "marker": {
            "color": [
             0
            ],
            "coloraxis": "coloraxis",
            "size": [
             0
            ],
            "sizemode": "area",
            "sizeref": 0.3021525730050908
           },
           "name": "",
           "showlegend": false,
           "type": "scattergeo"
          }
         ],
         "name": "01/31/2020"
        },
        {
         "data": [
          {
           "geo": "geo",
           "hovertemplate": "<b>%{hovertext}</b><br><br>date=02/01/2020<br>size=%{marker.size}<br>country_name=%{location}<br>total_confirmed=%{marker.color}<extra></extra>",
           "hovertext": [
            "India"
           ],
           "legendgroup": "",
           "locationmode": "country names",
           "locations": [
            "India"
           ],
           "marker": {
            "color": [
             2
            ],
            "coloraxis": "coloraxis",
            "size": [
             1.2311444133449163
            ],
            "sizemode": "area",
            "sizeref": 0.3021525730050908
           },
           "name": "",
           "showlegend": false,
           "type": "scattergeo"
          }
         ],
         "name": "02/01/2020"
        },
        {
         "data": [
          {
           "geo": "geo",
           "hovertemplate": "<b>%{hovertext}</b><br><br>date=02/04/2020<br>size=%{marker.size}<br>country_name=%{location}<br>total_confirmed=%{marker.color}<extra></extra>",
           "hovertext": [
            "India"
           ],
           "legendgroup": "",
           "locationmode": "country names",
           "locations": [
            "India"
           ],
           "marker": {
            "color": [
             3
            ],
            "coloraxis": "coloraxis",
            "size": [
             1.3903891703159093
            ],
            "sizemode": "area",
            "sizeref": 0.3021525730050908
           },
           "name": "",
           "showlegend": false,
           "type": "scattergeo"
          }
         ],
         "name": "02/04/2020"
        },
        {
         "data": [
          {
           "geo": "geo",
           "hovertemplate": "<b>%{hovertext}</b><br><br>date=02/05/2020<br>size=%{marker.size}<br>country_name=%{location}<br>total_confirmed=%{marker.color}<extra></extra>",
           "hovertext": [
            "Bangladesh",
            "India"
           ],
           "legendgroup": "",
           "locationmode": "country names",
           "locations": [
            "Bangladesh",
            "India"
           ],
           "marker": {
            "color": [
             0,
             3
            ],
            "coloraxis": "coloraxis",
            "size": [
             0,
             1.3903891703159093
            ],
            "sizemode": "area",
            "sizeref": 0.3021525730050908
           },
           "name": "",
           "showlegend": false,
           "type": "scattergeo"
          }
         ],
         "name": "02/05/2020"
        },
        {
         "data": [
          {
           "geo": "geo",
           "hovertemplate": "<b>%{hovertext}</b><br><br>date=02/11/2020<br>size=%{marker.size}<br>country_name=%{location}<br>total_confirmed=%{marker.color}<extra></extra>",
           "hovertext": [
            "India"
           ],
           "legendgroup": "",
           "locationmode": "country names",
           "locations": [
            "India"
           ],
           "marker": {
            "color": [
             3
            ],
            "coloraxis": "coloraxis",
            "size": [
             1.3903891703159093
            ],
            "sizemode": "area",
            "sizeref": 0.3021525730050908
           },
           "name": "",
           "showlegend": false,
           "type": "scattergeo"
          }
         ],
         "name": "02/11/2020"
        },
        {
         "data": [
          {
           "geo": "geo",
           "hovertemplate": "<b>%{hovertext}</b><br><br>date=02/12/2020<br>size=%{marker.size}<br>country_name=%{location}<br>total_confirmed=%{marker.color}<extra></extra>",
           "hovertext": [
            "India"
           ],
           "legendgroup": "",
           "locationmode": "country names",
           "locations": [
            "India"
           ],
           "marker": {
            "color": [
             3
            ],
            "coloraxis": "coloraxis",
            "size": [
             1.3903891703159093
            ],
            "sizemode": "area",
            "sizeref": 0.3021525730050908
           },
           "name": "",
           "showlegend": false,
           "type": "scattergeo"
          }
         ],
         "name": "02/12/2020"
        },
        {
         "data": [
          {
           "geo": "geo",
           "hovertemplate": "<b>%{hovertext}</b><br><br>date=02/15/2020<br>size=%{marker.size}<br>country_name=%{location}<br>total_confirmed=%{marker.color}<extra></extra>",
           "hovertext": [
            "Bangladesh"
           ],
           "legendgroup": "",
           "locationmode": "country names",
           "locations": [
            "Bangladesh"
           ],
           "marker": {
            "color": [
             0
            ],
            "coloraxis": "coloraxis",
            "size": [
             0
            ],
            "sizemode": "area",
            "sizeref": 0.3021525730050908
           },
           "name": "",
           "showlegend": false,
           "type": "scattergeo"
          }
         ],
         "name": "02/15/2020"
        },
        {
         "data": [
          {
           "geo": "geo",
           "hovertemplate": "<b>%{hovertext}</b><br><br>date=02/18/2020<br>size=%{marker.size}<br>country_name=%{location}<br>total_confirmed=%{marker.color}<extra></extra>",
           "hovertext": [
            "India"
           ],
           "legendgroup": "",
           "locationmode": "country names",
           "locations": [
            "India"
           ],
           "marker": {
            "color": [
             3
            ],
            "coloraxis": "coloraxis",
            "size": [
             1.3903891703159093
            ],
            "sizemode": "area",
            "sizeref": 0.3021525730050908
           },
           "name": "",
           "showlegend": false,
           "type": "scattergeo"
          }
         ],
         "name": "02/18/2020"
        },
        {
         "data": [
          {
           "geo": "geo",
           "hovertemplate": "<b>%{hovertext}</b><br><br>date=02/19/2020<br>size=%{marker.size}<br>country_name=%{location}<br>total_confirmed=%{marker.color}<extra></extra>",
           "hovertext": [
            "India"
           ],
           "legendgroup": "",
           "locationmode": "country names",
           "locations": [
            "India"
           ],
           "marker": {
            "color": [
             3
            ],
            "coloraxis": "coloraxis",
            "size": [
             1.3903891703159093
            ],
            "sizemode": "area",
            "sizeref": 0.3021525730050908
           },
           "name": "",
           "showlegend": false,
           "type": "scattergeo"
          }
         ],
         "name": "02/19/2020"
        },
        {
         "data": [
          {
           "geo": "geo",
           "hovertemplate": "<b>%{hovertext}</b><br><br>date=02/21/2020<br>size=%{marker.size}<br>country_name=%{location}<br>total_confirmed=%{marker.color}<extra></extra>",
           "hovertext": [
            "India"
           ],
           "legendgroup": "",
           "locationmode": "country names",
           "locations": [
            "India"
           ],
           "marker": {
            "color": [
             3
            ],
            "coloraxis": "coloraxis",
            "size": [
             1.3903891703159093
            ],
            "sizemode": "area",
            "sizeref": 0.3021525730050908
           },
           "name": "",
           "showlegend": false,
           "type": "scattergeo"
          }
         ],
         "name": "02/21/2020"
        },
        {
         "data": [
          {
           "geo": "geo",
           "hovertemplate": "<b>%{hovertext}</b><br><br>date=02/24/2020<br>size=%{marker.size}<br>country_name=%{location}<br>total_confirmed=%{marker.color}<extra></extra>",
           "hovertext": [
            "Bangladesh",
            "India"
           ],
           "legendgroup": "",
           "locationmode": "country names",
           "locations": [
            "Bangladesh",
            "India"
           ],
           "marker": {
            "color": [
             0,
             3
            ],
            "coloraxis": "coloraxis",
            "size": [
             0,
             1.3903891703159093
            ],
            "sizemode": "area",
            "sizeref": 0.3021525730050908
           },
           "name": "",
           "showlegend": false,
           "type": "scattergeo"
          }
         ],
         "name": "02/24/2020"
        },
        {
         "data": [
          {
           "geo": "geo",
           "hovertemplate": "<b>%{hovertext}</b><br><br>date=02/25/2020<br>size=%{marker.size}<br>country_name=%{location}<br>total_confirmed=%{marker.color}<extra></extra>",
           "hovertext": [
            "Bangladesh"
           ],
           "legendgroup": "",
           "locationmode": "country names",
           "locations": [
            "Bangladesh"
           ],
           "marker": {
            "color": [
             0
            ],
            "coloraxis": "coloraxis",
            "size": [
             0
            ],
            "sizemode": "area",
            "sizeref": 0.3021525730050908
           },
           "name": "",
           "showlegend": false,
           "type": "scattergeo"
          }
         ],
         "name": "02/25/2020"
        },
        {
         "data": [
          {
           "geo": "geo",
           "hovertemplate": "<b>%{hovertext}</b><br><br>date=02/26/2020<br>size=%{marker.size}<br>country_name=%{location}<br>total_confirmed=%{marker.color}<extra></extra>",
           "hovertext": [
            "India"
           ],
           "legendgroup": "",
           "locationmode": "country names",
           "locations": [
            "India"
           ],
           "marker": {
            "color": [
             3
            ],
            "coloraxis": "coloraxis",
            "size": [
             1.3903891703159093
            ],
            "sizemode": "area",
            "sizeref": 0.3021525730050908
           },
           "name": "",
           "showlegend": false,
           "type": "scattergeo"
          }
         ],
         "name": "02/26/2020"
        },
        {
         "data": [
          {
           "geo": "geo",
           "hovertemplate": "<b>%{hovertext}</b><br><br>date=02/27/2020<br>size=%{marker.size}<br>country_name=%{location}<br>total_confirmed=%{marker.color}<extra></extra>",
           "hovertext": [
            "India"
           ],
           "legendgroup": "",
           "locationmode": "country names",
           "locations": [
            "India"
           ],
           "marker": {
            "color": [
             3
            ],
            "coloraxis": "coloraxis",
            "size": [
             1.3903891703159093
            ],
            "sizemode": "area",
            "sizeref": 0.3021525730050908
           },
           "name": "",
           "showlegend": false,
           "type": "scattergeo"
          }
         ],
         "name": "02/27/2020"
        },
        {
         "data": [
          {
           "geo": "geo",
           "hovertemplate": "<b>%{hovertext}</b><br><br>date=02/28/2020<br>size=%{marker.size}<br>country_name=%{location}<br>total_confirmed=%{marker.color}<extra></extra>",
           "hovertext": [
            "India"
           ],
           "legendgroup": "",
           "locationmode": "country names",
           "locations": [
            "India"
           ],
           "marker": {
            "color": [
             3
            ],
            "coloraxis": "coloraxis",
            "size": [
             1.3903891703159093
            ],
            "sizemode": "area",
            "sizeref": 0.3021525730050908
           },
           "name": "",
           "showlegend": false,
           "type": "scattergeo"
          }
         ],
         "name": "02/28/2020"
        },
        {
         "data": [
          {
           "geo": "geo",
           "hovertemplate": "<b>%{hovertext}</b><br><br>date=03/02/2020<br>size=%{marker.size}<br>country_name=%{location}<br>total_confirmed=%{marker.color}<extra></extra>",
           "hovertext": [
            "India"
           ],
           "legendgroup": "",
           "locationmode": "country names",
           "locations": [
            "India"
           ],
           "marker": {
            "color": [
             5
            ],
            "coloraxis": "coloraxis",
            "size": [
             1.6206565966927624
            ],
            "sizemode": "area",
            "sizeref": 0.3021525730050908
           },
           "name": "",
           "showlegend": false,
           "type": "scattergeo"
          }
         ],
         "name": "03/02/2020"
        },
        {
         "data": [
          {
           "geo": "geo",
           "hovertemplate": "<b>%{hovertext}</b><br><br>date=03/03/2020<br>size=%{marker.size}<br>country_name=%{location}<br>total_confirmed=%{marker.color}<extra></extra>",
           "hovertext": [
            "India"
           ],
           "legendgroup": "",
           "locationmode": "country names",
           "locations": [
            "India"
           ],
           "marker": {
            "color": [
             6
            ],
            "coloraxis": "coloraxis",
            "size": [
             1.711769859409705
            ],
            "sizemode": "area",
            "sizeref": 0.3021525730050908
           },
           "name": "",
           "showlegend": false,
           "type": "scattergeo"
          }
         ],
         "name": "03/03/2020"
        },
        {
         "data": [
          {
           "geo": "geo",
           "hovertemplate": "<b>%{hovertext}</b><br><br>date=03/08/2020<br>size=%{marker.size}<br>country_name=%{location}<br>total_confirmed=%{marker.color}<extra></extra>",
           "hovertext": [
            "India"
           ],
           "legendgroup": "",
           "locationmode": "country names",
           "locations": [
            "India"
           ],
           "marker": {
            "color": [
             54
            ],
            "coloraxis": "coloraxis",
            "size": [
             3.3091627572662095
            ],
            "sizemode": "area",
            "sizeref": 0.3021525730050908
           },
           "name": "",
           "showlegend": false,
           "type": "scattergeo"
          }
         ],
         "name": "03/08/2020"
        },
        {
         "data": [
          {
           "geo": "geo",
           "hovertemplate": "<b>%{hovertext}</b><br><br>date=03/09/2020<br>size=%{marker.size}<br>country_name=%{location}<br>total_confirmed=%{marker.color}<extra></extra>",
           "hovertext": [
            "Bangladesh"
           ],
           "legendgroup": "",
           "locationmode": "country names",
           "locations": [
            "Bangladesh"
           ],
           "marker": {
            "color": [
             7
            ],
            "coloraxis": "coloraxis",
            "size": [
             1.792789962520997
            ],
            "sizemode": "area",
            "sizeref": 0.3021525730050908
           },
           "name": "",
           "showlegend": false,
           "type": "scattergeo"
          }
         ],
         "name": "03/09/2020"
        },
        {
         "data": [
          {
           "geo": "geo",
           "hovertemplate": "<b>%{hovertext}</b><br><br>date=03/10/2020<br>size=%{marker.size}<br>country_name=%{location}<br>total_confirmed=%{marker.color}<extra></extra>",
           "hovertext": [
            "Bangladesh",
            "India"
           ],
           "legendgroup": "",
           "locationmode": "country names",
           "locations": [
            "Bangladesh",
            "India"
           ],
           "marker": {
            "color": [
             7,
             50
            ],
            "coloraxis": "coloraxis",
            "size": [
             1.792789962520997,
             3.233635032886787
            ],
            "sizemode": "area",
            "sizeref": 0.3021525730050908
           },
           "name": "",
           "showlegend": false,
           "type": "scattergeo"
          }
         ],
         "name": "03/10/2020"
        },
        {
         "data": [
          {
           "geo": "geo",
           "hovertemplate": "<b>%{hovertext}</b><br><br>date=03/12/2020<br>size=%{marker.size}<br>country_name=%{location}<br>total_confirmed=%{marker.color}<extra></extra>",
           "hovertext": [
            "India"
           ],
           "legendgroup": "",
           "locationmode": "country names",
           "locations": [
            "India"
           ],
           "marker": {
            "color": [
             75
            ],
            "coloraxis": "coloraxis",
            "size": [
             3.651895814776621
            ],
            "sizemode": "area",
            "sizeref": 0.3021525730050908
           },
           "name": "",
           "showlegend": false,
           "type": "scattergeo"
          }
         ],
         "name": "03/12/2020"
        },
        {
         "data": [
          {
           "geo": "geo",
           "hovertemplate": "<b>%{hovertext}</b><br><br>date=03/16/2020<br>size=%{marker.size}<br>country_name=%{location}<br>total_confirmed=%{marker.color}<extra></extra>",
           "hovertext": [
            "Bangladesh"
           ],
           "legendgroup": "",
           "locationmode": "country names",
           "locations": [
            "Bangladesh"
           ],
           "marker": {
            "color": [
             5
            ],
            "coloraxis": "coloraxis",
            "size": [
             1.6206565966927624
            ],
            "sizemode": "area",
            "sizeref": 0.3021525730050908
           },
           "name": "",
           "showlegend": false,
           "type": "scattergeo"
          }
         ],
         "name": "03/16/2020"
        },
        {
         "data": [
          {
           "geo": "geo",
           "hovertemplate": "<b>%{hovertext}</b><br><br>date=03/19/2020<br>size=%{marker.size}<br>country_name=%{location}<br>total_confirmed=%{marker.color}<extra></extra>",
           "hovertext": [
            "Bangladesh"
           ],
           "legendgroup": "",
           "locationmode": "country names",
           "locations": [
            "Bangladesh"
           ],
           "marker": {
            "color": [
             10
            ],
            "coloraxis": "coloraxis",
            "size": [
             1.9952623149688795
            ],
            "sizemode": "area",
            "sizeref": 0.3021525730050908
           },
           "name": "",
           "showlegend": false,
           "type": "scattergeo"
          }
         ],
         "name": "03/19/2020"
        },
        {
         "data": [
          {
           "geo": "geo",
           "hovertemplate": "<b>%{hovertext}</b><br><br>date=03/20/2020<br>size=%{marker.size}<br>country_name=%{location}<br>total_confirmed=%{marker.color}<extra></extra>",
           "hovertext": [
            "Bangladesh"
           ],
           "legendgroup": "",
           "locationmode": "country names",
           "locations": [
            "Bangladesh"
           ],
           "marker": {
            "color": [
             17
            ],
            "coloraxis": "coloraxis",
            "size": [
             2.3395626336814512
            ],
            "sizemode": "area",
            "sizeref": 0.3021525730050908
           },
           "name": "",
           "showlegend": false,
           "type": "scattergeo"
          }
         ],
         "name": "03/20/2020"
        },
        {
         "data": [
          {
           "geo": "geo",
           "hovertemplate": "<b>%{hovertext}</b><br><br>date=03/21/2020<br>size=%{marker.size}<br>country_name=%{location}<br>total_confirmed=%{marker.color}<extra></extra>",
           "hovertext": [
            "India"
           ],
           "legendgroup": "",
           "locationmode": "country names",
           "locations": [
            "India"
           ],
           "marker": {
            "color": [
             320
            ],
            "coloraxis": "coloraxis",
            "size": [
             5.643454052641855
            ],
            "sizemode": "area",
            "sizeref": 0.3021525730050908
           },
           "name": "",
           "showlegend": false,
           "type": "scattergeo"
          }
         ],
         "name": "03/21/2020"
        },
        {
         "data": [
          {
           "geo": "geo",
           "hovertemplate": "<b>%{hovertext}</b><br><br>date=03/22/2020<br>size=%{marker.size}<br>country_name=%{location}<br>total_confirmed=%{marker.color}<extra></extra>",
           "hovertext": [
            "Bangladesh",
            "India"
           ],
           "legendgroup": "",
           "locationmode": "country names",
           "locations": [
            "Bangladesh",
            "India"
           ],
           "marker": {
            "color": [
             27,
             439
            ],
            "coloraxis": "coloraxis",
            "size": [
             2.6878753795222865,
             6.2049652847725225
            ],
            "sizemode": "area",
            "sizeref": 0.3021525730050908
           },
           "name": "",
           "showlegend": false,
           "type": "scattergeo"
          }
         ],
         "name": "03/22/2020"
        },
        {
         "data": [
          {
           "geo": "geo",
           "hovertemplate": "<b>%{hovertext}</b><br><br>date=03/24/2020<br>size=%{marker.size}<br>country_name=%{location}<br>total_confirmed=%{marker.color}<extra></extra>",
           "hovertext": [
            "Bangladesh",
            "India"
           ],
           "legendgroup": "",
           "locationmode": "country names",
           "locations": [
            "Bangladesh",
            "India"
           ],
           "marker": {
            "color": [
             39,
             562
            ],
            "coloraxis": "coloraxis",
            "size": [
             3.001368927744568,
             6.682221919811203
            ],
            "sizemode": "area",
            "sizeref": 0.3021525730050908
           },
           "name": "",
           "showlegend": false,
           "type": "scattergeo"
          }
         ],
         "name": "03/24/2020"
        },
        {
         "data": [
          {
           "geo": "geo",
           "hovertemplate": "<b>%{hovertext}</b><br><br>date=03/26/2020<br>size=%{marker.size}<br>country_name=%{location}<br>total_confirmed=%{marker.color}<extra></extra>",
           "hovertext": [
            "India"
           ],
           "legendgroup": "",
           "locationmode": "country names",
           "locations": [
            "India"
           ],
           "marker": {
            "color": [
             724
            ],
            "coloraxis": "coloraxis",
            "size": [
             7.209772646464614
            ],
            "sizemode": "area",
            "sizeref": 0.3021525730050908
           },
           "name": "",
           "showlegend": false,
           "type": "scattergeo"
          }
         ],
         "name": "03/26/2020"
        },
        {
         "data": [
          {
           "geo": "geo",
           "hovertemplate": "<b>%{hovertext}</b><br><br>date=03/27/2020<br>size=%{marker.size}<br>country_name=%{location}<br>total_confirmed=%{marker.color}<extra></extra>",
           "hovertext": [
            "India"
           ],
           "legendgroup": "",
           "locationmode": "country names",
           "locations": [
            "India"
           ],
           "marker": {
            "color": [
             873
            ],
            "coloraxis": "coloraxis",
            "size": [
             7.626131208872437
            ],
            "sizemode": "area",
            "sizeref": 0.3021525730050908
           },
           "name": "",
           "showlegend": false,
           "type": "scattergeo"
          }
         ],
         "name": "03/27/2020"
        },
        {
         "data": [
          {
           "geo": "geo",
           "hovertemplate": "<b>%{hovertext}</b><br><br>date=03/28/2020<br>size=%{marker.size}<br>country_name=%{location}<br>total_confirmed=%{marker.color}<extra></extra>",
           "hovertext": [
            "Bangladesh",
            "India"
           ],
           "legendgroup": "",
           "locationmode": "country names",
           "locations": [
            "Bangladesh",
            "India"
           ],
           "marker": {
            "color": [
             48,
             979
            ],
            "coloraxis": "coloraxis",
            "size": [
             3.194275505495155,
             7.892867414759166
            ],
            "sizemode": "area",
            "sizeref": 0.3021525730050908
           },
           "name": "",
           "showlegend": false,
           "type": "scattergeo"
          }
         ],
         "name": "03/28/2020"
        },
        {
         "data": [
          {
           "geo": "geo",
           "hovertemplate": "<b>%{hovertext}</b><br><br>date=03/30/2020<br>size=%{marker.size}<br>country_name=%{location}<br>total_confirmed=%{marker.color}<extra></extra>",
           "hovertext": [
            "India"
           ],
           "legendgroup": "",
           "locationmode": "country names",
           "locations": [
            "India"
           ],
           "marker": {
            "color": [
             1251
            ],
            "coloraxis": "coloraxis",
            "size": [
             8.495270128442183
            ],
            "sizemode": "area",
            "sizeref": 0.3021525730050908
           },
           "name": "",
           "showlegend": false,
           "type": "scattergeo"
          }
         ],
         "name": "03/30/2020"
        },
        {
         "data": [
          {
           "geo": "geo",
           "hovertemplate": "<b>%{hovertext}</b><br><br>date=03/31/2020<br>size=%{marker.size}<br>country_name=%{location}<br>total_confirmed=%{marker.color}<extra></extra>",
           "hovertext": [
            "Bangladesh"
           ],
           "legendgroup": "",
           "locationmode": "country names",
           "locations": [
            "Bangladesh"
           ],
           "marker": {
            "color": [
             51
            ],
            "coloraxis": "coloraxis",
            "size": [
             3.2529025491464565
            ],
            "sizemode": "area",
            "sizeref": 0.3021525730050908
           },
           "name": "",
           "showlegend": false,
           "type": "scattergeo"
          }
         ],
         "name": "03/31/2020"
        },
        {
         "data": [
          {
           "geo": "geo",
           "hovertemplate": "<b>%{hovertext}</b><br><br>date=04/02/2020<br>size=%{marker.size}<br>country_name=%{location}<br>total_confirmed=%{marker.color}<extra></extra>",
           "hovertext": [
            "India"
           ],
           "legendgroup": "",
           "locationmode": "country names",
           "locations": [
            "India"
           ],
           "marker": {
            "color": [
             2301
            ],
            "coloraxis": "coloraxis",
            "size": [
             10.199408485700012
            ],
            "sizemode": "area",
            "sizeref": 0.3021525730050908
           },
           "name": "",
           "showlegend": false,
           "type": "scattergeo"
          }
         ],
         "name": "04/02/2020"
        },
        {
         "data": [
          {
           "geo": "geo",
           "hovertemplate": "<b>%{hovertext}</b><br><br>date=04/04/2020<br>size=%{marker.size}<br>country_name=%{location}<br>total_confirmed=%{marker.color}<extra></extra>",
           "hovertext": [
            "India"
           ],
           "legendgroup": "",
           "locationmode": "country names",
           "locations": [
            "India"
           ],
           "marker": {
            "color": [
             3374
            ],
            "coloraxis": "coloraxis",
            "size": [
             11.44046096097928
            ],
            "sizemode": "area",
            "sizeref": 0.3021525730050908
           },
           "name": "",
           "showlegend": false,
           "type": "scattergeo"
          }
         ],
         "name": "04/04/2020"
        },
        {
         "data": [
          {
           "geo": "geo",
           "hovertemplate": "<b>%{hovertext}</b><br><br>date=04/06/2020<br>size=%{marker.size}<br>country_name=%{location}<br>total_confirmed=%{marker.color}<extra></extra>",
           "hovertext": [
            "India"
           ],
           "legendgroup": "",
           "locationmode": "country names",
           "locations": [
            "India"
           ],
           "marker": {
            "color": [
             4421
            ],
            "coloraxis": "coloraxis",
            "size": [
             12.40669638813623
            ],
            "sizemode": "area",
            "sizeref": 0.3021525730050908
           },
           "name": "",
           "showlegend": false,
           "type": "scattergeo"
          }
         ],
         "name": "04/06/2020"
        },
        {
         "data": [
          {
           "geo": "geo",
           "hovertemplate": "<b>%{hovertext}</b><br><br>date=04/07/2020<br>size=%{marker.size}<br>country_name=%{location}<br>total_confirmed=%{marker.color}<extra></extra>",
           "hovertext": [
            "Bangladesh"
           ],
           "legendgroup": "",
           "locationmode": "country names",
           "locations": [
            "Bangladesh"
           ],
           "marker": {
            "color": [
             164
            ],
            "coloraxis": "coloraxis",
            "size": [
             4.617991768029603
            ],
            "sizemode": "area",
            "sizeref": 0.3021525730050908
           },
           "name": "",
           "showlegend": false,
           "type": "scattergeo"
          }
         ],
         "name": "04/07/2020"
        },
        {
         "data": [
          {
           "geo": "geo",
           "hovertemplate": "<b>%{hovertext}</b><br><br>date=04/10/2020<br>size=%{marker.size}<br>country_name=%{location}<br>total_confirmed=%{marker.color}<extra></extra>",
           "hovertext": [
            "India"
           ],
           "legendgroup": "",
           "locationmode": "country names",
           "locations": [
            "India"
           ],
           "marker": {
            "color": [
             7447
            ],
            "coloraxis": "coloraxis",
            "size": [
             14.507561027821316
            ],
            "sizemode": "area",
            "sizeref": 0.3021525730050908
           },
           "name": "",
           "showlegend": false,
           "type": "scattergeo"
          }
         ],
         "name": "04/10/2020"
        },
        {
         "data": [
          {
           "geo": "geo",
           "hovertemplate": "<b>%{hovertext}</b><br><br>date=04/11/2020<br>size=%{marker.size}<br>country_name=%{location}<br>total_confirmed=%{marker.color}<extra></extra>",
           "hovertext": [
            "Bangladesh"
           ],
           "legendgroup": "",
           "locationmode": "country names",
           "locations": [
            "Bangladesh"
           ],
           "marker": {
            "color": [
             482
            ],
            "coloraxis": "coloraxis",
            "size": [
             6.381372720813239
            ],
            "sizemode": "area",
            "sizeref": 0.3021525730050908
           },
           "name": "",
           "showlegend": false,
           "type": "scattergeo"
          }
         ],
         "name": "04/11/2020"
        },
        {
         "data": [
          {
           "geo": "geo",
           "hovertemplate": "<b>%{hovertext}</b><br><br>date=04/12/2020<br>size=%{marker.size}<br>country_name=%{location}<br>total_confirmed=%{marker.color}<extra></extra>",
           "hovertext": [
            "India"
           ],
           "legendgroup": "",
           "locationmode": "country names",
           "locations": [
            "India"
           ],
           "marker": {
            "color": [
             9152
            ],
            "coloraxis": "coloraxis",
            "size": [
             15.433158037309239
            ],
            "sizemode": "area",
            "sizeref": 0.3021525730050908
           },
           "name": "",
           "showlegend": false,
           "type": "scattergeo"
          }
         ],
         "name": "04/12/2020"
        },
        {
         "data": [
          {
           "geo": "geo",
           "hovertemplate": "<b>%{hovertext}</b><br><br>date=04/17/2020<br>size=%{marker.size}<br>country_name=%{location}<br>total_confirmed=%{marker.color}<extra></extra>",
           "hovertext": [
            "India"
           ],
           "legendgroup": "",
           "locationmode": "country names",
           "locations": [
            "India"
           ],
           "marker": {
            "color": [
             14378
            ],
            "coloraxis": "coloraxis",
            "size": [
             17.672970144239603
            ],
            "sizemode": "area",
            "sizeref": 0.3021525730050908
           },
           "name": "",
           "showlegend": false,
           "type": "scattergeo"
          }
         ],
         "name": "04/17/2020"
        },
        {
         "data": [
          {
           "geo": "geo",
           "hovertemplate": "<b>%{hovertext}</b><br><br>date=04/24/2020<br>size=%{marker.size}<br>country_name=%{location}<br>total_confirmed=%{marker.color}<extra></extra>",
           "hovertext": [
            "India"
           ],
           "legendgroup": "",
           "locationmode": "country names",
           "locations": [
            "India"
           ],
           "marker": {
            "color": [
             24506
            ],
            "coloraxis": "coloraxis",
            "size": [
             20.738709525826078
            ],
            "sizemode": "area",
            "sizeref": 0.3021525730050908
           },
           "name": "",
           "showlegend": false,
           "type": "scattergeo"
          }
         ],
         "name": "04/24/2020"
        },
        {
         "data": [
          {
           "geo": "geo",
           "hovertemplate": "<b>%{hovertext}</b><br><br>date=04/25/2020<br>size=%{marker.size}<br>country_name=%{location}<br>total_confirmed=%{marker.color}<extra></extra>",
           "hovertext": [
            "Bangladesh",
            "India"
           ],
           "legendgroup": "",
           "locationmode": "country names",
           "locations": [
            "Bangladesh",
            "India"
           ],
           "marker": {
            "color": [
             4998,
             26496
            ],
            "coloraxis": "coloraxis",
            "size": [
             12.871787919178955,
             21.23020044272446
            ],
            "sizemode": "area",
            "sizeref": 0.3021525730050908
           },
           "name": "",
           "showlegend": false,
           "type": "scattergeo"
          }
         ],
         "name": "04/25/2020"
        },
        {
         "data": [
          {
           "geo": "geo",
           "hovertemplate": "<b>%{hovertext}</b><br><br>date=04/26/2020<br>size=%{marker.size}<br>country_name=%{location}<br>total_confirmed=%{marker.color}<extra></extra>",
           "hovertext": [
            "India"
           ],
           "legendgroup": "",
           "locationmode": "country names",
           "locations": [
            "India"
           ],
           "marker": {
            "color": [
             27892
            ],
            "coloraxis": "coloraxis",
            "size": [
             21.55975875489909
            ],
            "sizemode": "area",
            "sizeref": 0.3021525730050908
           },
           "name": "",
           "showlegend": false,
           "type": "scattergeo"
          }
         ],
         "name": "04/26/2020"
        },
        {
         "data": [
          {
           "geo": "geo",
           "hovertemplate": "<b>%{hovertext}</b><br><br>date=04/27/2020<br>size=%{marker.size}<br>country_name=%{location}<br>total_confirmed=%{marker.color}<extra></extra>",
           "hovertext": [
            "Bangladesh",
            "India"
           ],
           "legendgroup": "",
           "locationmode": "country names",
           "locations": [
            "Bangladesh",
            "India"
           ],
           "marker": {
            "color": [
             5913,
             29435
            ],
            "coloraxis": "coloraxis",
            "size": [
             13.537621383443293,
             21.910849310095237
            ],
            "sizemode": "area",
            "sizeref": 0.3021525730050908
           },
           "name": "",
           "showlegend": false,
           "type": "scattergeo"
          }
         ],
         "name": "04/27/2020"
        },
        {
         "data": [
          {
           "geo": "geo",
           "hovertemplate": "<b>%{hovertext}</b><br><br>date=05/01/2020<br>size=%{marker.size}<br>country_name=%{location}<br>total_confirmed=%{marker.color}<extra></extra>",
           "hovertext": [
            "India"
           ],
           "legendgroup": "",
           "locationmode": "country names",
           "locations": [
            "India"
           ],
           "marker": {
            "color": [
             37336
            ],
            "coloraxis": "coloraxis",
            "size": [
             23.530889063718543
            ],
            "sizemode": "area",
            "sizeref": 0.3021525730050908
           },
           "name": "",
           "showlegend": false,
           "type": "scattergeo"
          }
         ],
         "name": "05/01/2020"
        },
        {
         "data": [
          {
           "geo": "geo",
           "hovertemplate": "<b>%{hovertext}</b><br><br>date=05/02/2020<br>size=%{marker.size}<br>country_name=%{location}<br>total_confirmed=%{marker.color}<extra></extra>",
           "hovertext": [
            "India"
           ],
           "legendgroup": "",
           "locationmode": "country names",
           "locations": [
            "India"
           ],
           "marker": {
            "color": [
             39980
            ],
            "coloraxis": "coloraxis",
            "size": [
             24.018884675557622
            ],
            "sizemode": "area",
            "sizeref": 0.3021525730050908
           },
           "name": "",
           "showlegend": false,
           "type": "scattergeo"
          }
         ],
         "name": "05/02/2020"
        },
        {
         "data": [
          {
           "geo": "geo",
           "hovertemplate": "<b>%{hovertext}</b><br><br>date=05/03/2020<br>size=%{marker.size}<br>country_name=%{location}<br>total_confirmed=%{marker.color}<extra></extra>",
           "hovertext": [
            "Bangladesh",
            "India"
           ],
           "legendgroup": "",
           "locationmode": "country names",
           "locations": [
            "Bangladesh",
            "India"
           ],
           "marker": {
            "color": [
             9455,
             42533
            ],
            "coloraxis": "coloraxis",
            "size": [
             15.58470047645372,
             24.469089238813122
            ],
            "sizemode": "area",
            "sizeref": 0.3021525730050908
           },
           "name": "",
           "showlegend": false,
           "type": "scattergeo"
          }
         ],
         "name": "05/03/2020"
        },
        {
         "data": [
          {
           "geo": "geo",
           "hovertemplate": "<b>%{hovertext}</b><br><br>date=05/04/2020<br>size=%{marker.size}<br>country_name=%{location}<br>total_confirmed=%{marker.color}<extra></extra>",
           "hovertext": [
            "India"
           ],
           "legendgroup": "",
           "locationmode": "country names",
           "locations": [
            "India"
           ],
           "marker": {
            "color": [
             46433
            ],
            "coloraxis": "coloraxis",
            "size": [
             25.121642050021716
            ],
            "sizemode": "area",
            "sizeref": 0.3021525730050908
           },
           "name": "",
           "showlegend": false,
           "type": "scattergeo"
          }
         ],
         "name": "05/04/2020"
        },
        {
         "data": [
          {
           "geo": "geo",
           "hovertemplate": "<b>%{hovertext}</b><br><br>date=05/05/2020<br>size=%{marker.size}<br>country_name=%{location}<br>total_confirmed=%{marker.color}<extra></extra>",
           "hovertext": [
            "Bangladesh"
           ],
           "legendgroup": "",
           "locationmode": "country names",
           "locations": [
            "Bangladesh"
           ],
           "marker": {
            "color": [
             10929
            ],
            "coloraxis": "coloraxis",
            "size": [
             16.276991166370987
            ],
            "sizemode": "area",
            "sizeref": 0.3021525730050908
           },
           "name": "",
           "showlegend": false,
           "type": "scattergeo"
          }
         ],
         "name": "05/05/2020"
        },
        {
         "data": [
          {
           "geo": "geo",
           "hovertemplate": "<b>%{hovertext}</b><br><br>date=05/06/2020<br>size=%{marker.size}<br>country_name=%{location}<br>total_confirmed=%{marker.color}<extra></extra>",
           "hovertext": [
            "India"
           ],
           "legendgroup": "",
           "locationmode": "country names",
           "locations": [
            "India"
           ],
           "marker": {
            "color": [
             52952
            ],
            "coloraxis": "coloraxis",
            "size": [
             26.13152229993758
            ],
            "sizemode": "area",
            "sizeref": 0.3021525730050908
           },
           "name": "",
           "showlegend": false,
           "type": "scattergeo"
          }
         ],
         "name": "05/06/2020"
        },
        {
         "data": [
          {
           "geo": "geo",
           "hovertemplate": "<b>%{hovertext}</b><br><br>date=05/07/2020<br>size=%{marker.size}<br>country_name=%{location}<br>total_confirmed=%{marker.color}<extra></extra>",
           "hovertext": [
            "Bangladesh"
           ],
           "legendgroup": "",
           "locationmode": "country names",
           "locations": [
            "Bangladesh"
           ],
           "marker": {
            "color": [
             12425
            ],
            "coloraxis": "coloraxis",
            "size": [
             16.915658903788458
            ],
            "sizemode": "area",
            "sizeref": 0.3021525730050908
           },
           "name": "",
           "showlegend": false,
           "type": "scattergeo"
          }
         ],
         "name": "05/07/2020"
        },
        {
         "data": [
          {
           "geo": "geo",
           "hovertemplate": "<b>%{hovertext}</b><br><br>date=05/08/2020<br>size=%{marker.size}<br>country_name=%{location}<br>total_confirmed=%{marker.color}<extra></extra>",
           "hovertext": [
            "India"
           ],
           "legendgroup": "",
           "locationmode": "country names",
           "locations": [
            "India"
           ],
           "marker": {
            "color": [
             59662
            ],
            "coloraxis": "coloraxis",
            "size": [
             27.08378404978995
            ],
            "sizemode": "area",
            "sizeref": 0.3021525730050908
           },
           "name": "",
           "showlegend": false,
           "type": "scattergeo"
          }
         ],
         "name": "05/08/2020"
        },
        {
         "data": [
          {
           "geo": "geo",
           "hovertemplate": "<b>%{hovertext}</b><br><br>date=05/09/2020<br>size=%{marker.size}<br>country_name=%{location}<br>total_confirmed=%{marker.color}<extra></extra>",
           "hovertext": [
            "India"
           ],
           "legendgroup": "",
           "locationmode": "country names",
           "locations": [
            "India"
           ],
           "marker": {
            "color": [
             62939
            ],
            "coloraxis": "coloraxis",
            "size": [
             27.52174404274626
            ],
            "sizemode": "area",
            "sizeref": 0.3021525730050908
           },
           "name": "",
           "showlegend": false,
           "type": "scattergeo"
          }
         ],
         "name": "05/09/2020"
        },
        {
         "data": [
          {
           "geo": "geo",
           "hovertemplate": "<b>%{hovertext}</b><br><br>date=05/12/2020<br>size=%{marker.size}<br>country_name=%{location}<br>total_confirmed=%{marker.color}<extra></extra>",
           "hovertext": [
            "India"
           ],
           "legendgroup": "",
           "locationmode": "country names",
           "locations": [
            "India"
           ],
           "marker": {
            "color": [
             74281
            ],
            "coloraxis": "coloraxis",
            "size": [
             28.92433098131734
            ],
            "sizemode": "area",
            "sizeref": 0.3021525730050908
           },
           "name": "",
           "showlegend": false,
           "type": "scattergeo"
          }
         ],
         "name": "05/12/2020"
        },
        {
         "data": [
          {
           "geo": "geo",
           "hovertemplate": "<b>%{hovertext}</b><br><br>date=05/14/2020<br>size=%{marker.size}<br>country_name=%{location}<br>total_confirmed=%{marker.color}<extra></extra>",
           "hovertext": [
            "India"
           ],
           "legendgroup": "",
           "locationmode": "country names",
           "locations": [
            "India"
           ],
           "marker": {
            "color": [
             81970
            ],
            "coloraxis": "coloraxis",
            "size": [
             29.791781941217327
            ],
            "sizemode": "area",
            "sizeref": 0.3021525730050908
           },
           "name": "",
           "showlegend": false,
           "type": "scattergeo"
          }
         ],
         "name": "05/14/2020"
        },
        {
         "data": [
          {
           "geo": "geo",
           "hovertemplate": "<b>%{hovertext}</b><br><br>date=05/18/2020<br>size=%{marker.size}<br>country_name=%{location}<br>total_confirmed=%{marker.color}<extra></extra>",
           "hovertext": [
            "Bangladesh"
           ],
           "legendgroup": "",
           "locationmode": "country names",
           "locations": [
            "Bangladesh"
           ],
           "marker": {
            "color": [
             23870
            ],
            "coloraxis": "coloraxis",
            "size": [
             20.575752425803437
            ],
            "sizemode": "area",
            "sizeref": 0.3021525730050908
           },
           "name": "",
           "showlegend": false,
           "type": "scattergeo"
          }
         ],
         "name": "05/18/2020"
        },
        {
         "data": [
          {
           "geo": "geo",
           "hovertemplate": "<b>%{hovertext}</b><br><br>date=05/20/2020<br>size=%{marker.size}<br>country_name=%{location}<br>total_confirmed=%{marker.color}<extra></extra>",
           "hovertext": [
            "India"
           ],
           "legendgroup": "",
           "locationmode": "country names",
           "locations": [
            "India"
           ],
           "marker": {
            "color": [
             112359
            ],
            "coloraxis": "coloraxis",
            "size": [
             32.74781736000276
            ],
            "sizemode": "area",
            "sizeref": 0.3021525730050908
           },
           "name": "",
           "showlegend": false,
           "type": "scattergeo"
          }
         ],
         "name": "05/20/2020"
        },
        {
         "data": [
          {
           "geo": "geo",
           "hovertemplate": "<b>%{hovertext}</b><br><br>date=05/23/2020<br>size=%{marker.size}<br>country_name=%{location}<br>total_confirmed=%{marker.color}<extra></extra>",
           "hovertext": [
            "Bangladesh"
           ],
           "legendgroup": "",
           "locationmode": "country names",
           "locations": [
            "Bangladesh"
           ],
           "marker": {
            "color": [
             32078
            ],
            "coloraxis": "coloraxis",
            "size": [
             22.483410244081508
            ],
            "sizemode": "area",
            "sizeref": 0.3021525730050908
           },
           "name": "",
           "showlegend": false,
           "type": "scattergeo"
          }
         ],
         "name": "05/23/2020"
        },
        {
         "data": [
          {
           "geo": "geo",
           "hovertemplate": "<b>%{hovertext}</b><br><br>date=05/26/2020<br>size=%{marker.size}<br>country_name=%{location}<br>total_confirmed=%{marker.color}<extra></extra>",
           "hovertext": [
            "India"
           ],
           "legendgroup": "",
           "locationmode": "country names",
           "locations": [
            "India"
           ],
           "marker": {
            "color": [
             151767
            ],
            "coloraxis": "coloraxis",
            "size": [
             35.8387789733316
            ],
            "sizemode": "area",
            "sizeref": 0.3021525730050908
           },
           "name": "",
           "showlegend": false,
           "type": "scattergeo"
          }
         ],
         "name": "05/26/2020"
        },
        {
         "data": [
          {
           "geo": "geo",
           "hovertemplate": "<b>%{hovertext}</b><br><br>date=05/27/2020<br>size=%{marker.size}<br>country_name=%{location}<br>total_confirmed=%{marker.color}<extra></extra>",
           "hovertext": [
            "Bangladesh",
            "India"
           ],
           "legendgroup": "",
           "locationmode": "country names",
           "locations": [
            "Bangladesh",
            "India"
           ],
           "marker": {
            "color": [
             38292,
             158333
            ],
            "coloraxis": "coloraxis",
            "size": [
             23.710047010872678,
             36.297058565167376
            ],
            "sizemode": "area",
            "sizeref": 0.3021525730050908
           },
           "name": "",
           "showlegend": false,
           "type": "scattergeo"
          }
         ],
         "name": "05/27/2020"
        },
        {
         "data": [
          {
           "geo": "geo",
           "hovertemplate": "<b>%{hovertext}</b><br><br>date=05/30/2020<br>size=%{marker.size}<br>country_name=%{location}<br>total_confirmed=%{marker.color}<extra></extra>",
           "hovertext": [
            "India"
           ],
           "legendgroup": "",
           "locationmode": "country names",
           "locations": [
            "India"
           ],
           "marker": {
            "color": [
             182143
            ],
            "coloraxis": "coloraxis",
            "size": [
             37.85504315451868
            ],
            "sizemode": "area",
            "sizeref": 0.3021525730050908
           },
           "name": "",
           "showlegend": false,
           "type": "scattergeo"
          }
         ],
         "name": "05/30/2020"
        },
        {
         "data": [
          {
           "geo": "geo",
           "hovertemplate": "<b>%{hovertext}</b><br><br>date=06/01/2020<br>size=%{marker.size}<br>country_name=%{location}<br>total_confirmed=%{marker.color}<extra></extra>",
           "hovertext": [
            "India"
           ],
           "legendgroup": "",
           "locationmode": "country names",
           "locations": [
            "India"
           ],
           "marker": {
            "color": [
             198706
            ],
            "coloraxis": "coloraxis",
            "size": [
             38.856465585658675
            ],
            "sizemode": "area",
            "sizeref": 0.3021525730050908
           },
           "name": "",
           "showlegend": false,
           "type": "scattergeo"
          }
         ],
         "name": "06/01/2020"
        },
        {
         "data": [
          {
           "geo": "geo",
           "hovertemplate": "<b>%{hovertext}</b><br><br>date=06/04/2020<br>size=%{marker.size}<br>country_name=%{location}<br>total_confirmed=%{marker.color}<extra></extra>",
           "hovertext": [
            "Bangladesh"
           ],
           "legendgroup": "",
           "locationmode": "country names",
           "locations": [
            "Bangladesh"
           ],
           "marker": {
            "color": [
             57563
            ],
            "coloraxis": "coloraxis",
            "size": [
             26.794337657339145
            ],
            "sizemode": "area",
            "sizeref": 0.3021525730050908
           },
           "name": "",
           "showlegend": false,
           "type": "scattergeo"
          }
         ],
         "name": "06/04/2020"
        },
        {
         "data": [
          {
           "geo": "geo",
           "hovertemplate": "<b>%{hovertext}</b><br><br>date=06/06/2020<br>size=%{marker.size}<br>country_name=%{location}<br>total_confirmed=%{marker.color}<extra></extra>",
           "hovertext": [
            "Bangladesh"
           ],
           "legendgroup": "",
           "locationmode": "country names",
           "locations": [
            "Bangladesh"
           ],
           "marker": {
            "color": [
             63026
            ],
            "coloraxis": "coloraxis",
            "size": [
             27.533151441468583
            ],
            "sizemode": "area",
            "sizeref": 0.3021525730050908
           },
           "name": "",
           "showlegend": false,
           "type": "scattergeo"
          }
         ],
         "name": "06/06/2020"
        },
        {
         "data": [
          {
           "geo": "geo",
           "hovertemplate": "<b>%{hovertext}</b><br><br>date=06/07/2020<br>size=%{marker.size}<br>country_name=%{location}<br>total_confirmed=%{marker.color}<extra></extra>",
           "hovertext": [
            "Bangladesh"
           ],
           "legendgroup": "",
           "locationmode": "country names",
           "locations": [
            "Bangladesh"
           ],
           "marker": {
            "color": [
             65769
            ],
            "coloraxis": "coloraxis",
            "size": [
             27.887293765592432
            ],
            "sizemode": "area",
            "sizeref": 0.3021525730050908
           },
           "name": "",
           "showlegend": false,
           "type": "scattergeo"
          }
         ],
         "name": "06/07/2020"
        },
        {
         "data": [
          {
           "geo": "geo",
           "hovertemplate": "<b>%{hovertext}</b><br><br>date=06/09/2020<br>size=%{marker.size}<br>country_name=%{location}<br>total_confirmed=%{marker.color}<extra></extra>",
           "hovertext": [
            "Bangladesh"
           ],
           "legendgroup": "",
           "locationmode": "country names",
           "locations": [
            "Bangladesh"
           ],
           "marker": {
            "color": [
             71675
            ],
            "coloraxis": "coloraxis",
            "size": [
             28.616091149795846
            ],
            "sizemode": "area",
            "sizeref": 0.3021525730050908
           },
           "name": "",
           "showlegend": false,
           "type": "scattergeo"
          }
         ],
         "name": "06/09/2020"
        },
        {
         "data": [
          {
           "geo": "geo",
           "hovertemplate": "<b>%{hovertext}</b><br><br>date=06/10/2020<br>size=%{marker.size}<br>country_name=%{location}<br>total_confirmed=%{marker.color}<extra></extra>",
           "hovertext": [
            "Bangladesh",
            "India"
           ],
           "legendgroup": "",
           "locationmode": "country names",
           "locations": [
            "Bangladesh",
            "India"
           ],
           "marker": {
            "color": [
             74865,
             286579
            ],
            "coloraxis": "coloraxis",
            "size": [
             28.992365339509714,
             43.368390907608614
            ],
            "sizemode": "area",
            "sizeref": 0.3021525730050908
           },
           "name": "",
           "showlegend": false,
           "type": "scattergeo"
          }
         ],
         "name": "06/10/2020"
        },
        {
         "data": [
          {
           "geo": "geo",
           "hovertemplate": "<b>%{hovertext}</b><br><br>date=06/11/2020<br>size=%{marker.size}<br>country_name=%{location}<br>total_confirmed=%{marker.color}<extra></extra>",
           "hovertext": [
            "India"
           ],
           "legendgroup": "",
           "locationmode": "country names",
           "locations": [
            "India"
           ],
           "marker": {
            "color": [
             297535
            ],
            "coloraxis": "coloraxis",
            "size": [
             43.859271940669636
            ],
            "sizemode": "area",
            "sizeref": 0.3021525730050908
           },
           "name": "",
           "showlegend": false,
           "type": "scattergeo"
          }
         ],
         "name": "06/11/2020"
        },
        {
         "data": [
          {
           "geo": "geo",
           "hovertemplate": "<b>%{hovertext}</b><br><br>date=06/13/2020<br>size=%{marker.size}<br>country_name=%{location}<br>total_confirmed=%{marker.color}<extra></extra>",
           "hovertext": [
            "Bangladesh",
            "India"
           ],
           "legendgroup": "",
           "locationmode": "country names",
           "locations": [
            "Bangladesh",
            "India"
           ],
           "marker": {
            "color": [
             84379,
             320922
            ],
            "coloraxis": "coloraxis",
            "size": [
             30.051787708332483,
             44.866257755379486
            ],
            "sizemode": "area",
            "sizeref": 0.3021525730050908
           },
           "name": "",
           "showlegend": false,
           "type": "scattergeo"
          }
         ],
         "name": "06/13/2020"
        },
        {
         "data": [
          {
           "geo": "geo",
           "hovertemplate": "<b>%{hovertext}</b><br><br>date=06/14/2020<br>size=%{marker.size}<br>country_name=%{location}<br>total_confirmed=%{marker.color}<extra></extra>",
           "hovertext": [
            "India"
           ],
           "legendgroup": "",
           "locationmode": "country names",
           "locations": [
            "India"
           ],
           "marker": {
            "color": [
             332424
            ],
            "coloraxis": "coloraxis",
            "size": [
             45.34273487237655
            ],
            "sizemode": "area",
            "sizeref": 0.3021525730050908
           },
           "name": "",
           "showlegend": false,
           "type": "scattergeo"
          }
         ],
         "name": "06/14/2020"
        },
        {
         "data": [
          {
           "geo": "geo",
           "hovertemplate": "<b>%{hovertext}</b><br><br>date=06/15/2020<br>size=%{marker.size}<br>country_name=%{location}<br>total_confirmed=%{marker.color}<extra></extra>",
           "hovertext": [
            "Bangladesh"
           ],
           "legendgroup": "",
           "locationmode": "country names",
           "locations": [
            "Bangladesh"
           ],
           "marker": {
            "color": [
             90619
            ],
            "coloraxis": "coloraxis",
            "size": [
             30.701937241172153
            ],
            "sizemode": "area",
            "sizeref": 0.3021525730050908
           },
           "name": "",
           "showlegend": false,
           "type": "scattergeo"
          }
         ],
         "name": "06/15/2020"
        },
        {
         "data": [
          {
           "geo": "geo",
           "hovertemplate": "<b>%{hovertext}</b><br><br>date=06/16/2020<br>size=%{marker.size}<br>country_name=%{location}<br>total_confirmed=%{marker.color}<extra></extra>",
           "hovertext": [
            "India"
           ],
           "legendgroup": "",
           "locationmode": "country names",
           "locations": [
            "India"
           ],
           "marker": {
            "color": [
             354065
            ],
            "coloraxis": "coloraxis",
            "size": [
             46.208822234943185
            ],
            "sizemode": "area",
            "sizeref": 0.3021525730050908
           },
           "name": "",
           "showlegend": false,
           "type": "scattergeo"
          }
         ],
         "name": "06/16/2020"
        },
        {
         "data": [
          {
           "geo": "geo",
           "hovertemplate": "<b>%{hovertext}</b><br><br>date=06/17/2020<br>size=%{marker.size}<br>country_name=%{location}<br>total_confirmed=%{marker.color}<extra></extra>",
           "hovertext": [
            "India"
           ],
           "legendgroup": "",
           "locationmode": "country names",
           "locations": [
            "India"
           ],
           "marker": {
            "color": [
             366946
            ],
            "coloraxis": "coloraxis",
            "size": [
             46.70685739432084
            ],
            "sizemode": "area",
            "sizeref": 0.3021525730050908
           },
           "name": "",
           "showlegend": false,
           "type": "scattergeo"
          }
         ],
         "name": "06/17/2020"
        },
        {
         "data": [
          {
           "geo": "geo",
           "hovertemplate": "<b>%{hovertext}</b><br><br>date=06/19/2020<br>size=%{marker.size}<br>country_name=%{location}<br>total_confirmed=%{marker.color}<extra></extra>",
           "hovertext": [
            "India"
           ],
           "legendgroup": "",
           "locationmode": "country names",
           "locations": [
            "India"
           ],
           "marker": {
            "color": [
             395048
            ],
            "coloraxis": "coloraxis",
            "size": [
             47.75237322058416
            ],
            "sizemode": "area",
            "sizeref": 0.3021525730050908
           },
           "name": "",
           "showlegend": false,
           "type": "scattergeo"
          }
         ],
         "name": "06/19/2020"
        },
        {
         "data": [
          {
           "geo": "geo",
           "hovertemplate": "<b>%{hovertext}</b><br><br>date=06/20/2020<br>size=%{marker.size}<br>country_name=%{location}<br>total_confirmed=%{marker.color}<extra></extra>",
           "hovertext": [
            "India"
           ],
           "legendgroup": "",
           "locationmode": "country names",
           "locations": [
            "India"
           ],
           "marker": {
            "color": [
             410461
            ],
            "coloraxis": "coloraxis",
            "size": [
             48.30383027051708
            ],
            "sizemode": "area",
            "sizeref": 0.3021525730050908
           },
           "name": "",
           "showlegend": false,
           "type": "scattergeo"
          }
         ],
         "name": "06/20/2020"
        },
        {
         "data": [
          {
           "geo": "geo",
           "hovertemplate": "<b>%{hovertext}</b><br><br>date=06/23/2020<br>size=%{marker.size}<br>country_name=%{location}<br>total_confirmed=%{marker.color}<extra></extra>",
           "hovertext": [
            "Bangladesh"
           ],
           "legendgroup": "",
           "locationmode": "country names",
           "locations": [
            "Bangladesh"
           ],
           "marker": {
            "color": [
             119198
            ],
            "coloraxis": "coloraxis",
            "size": [
             33.333482639159676
            ],
            "sizemode": "area",
            "sizeref": 0.3021525730050908
           },
           "name": "",
           "showlegend": false,
           "type": "scattergeo"
          }
         ],
         "name": "06/23/2020"
        },
        {
         "data": [
          {
           "geo": "geo",
           "hovertemplate": "<b>%{hovertext}</b><br><br>date=06/24/2020<br>size=%{marker.size}<br>country_name=%{location}<br>total_confirmed=%{marker.color}<extra></extra>",
           "hovertext": [
            "Bangladesh",
            "India"
           ],
           "legendgroup": "",
           "locationmode": "country names",
           "locations": [
            "Bangladesh",
            "India"
           ],
           "marker": {
            "color": [
             122660,
             473105
            ],
            "coloraxis": "coloraxis",
            "size": [
             33.62102024038575,
             50.40658337395542
            ],
            "sizemode": "area",
            "sizeref": 0.3021525730050908
           },
           "name": "",
           "showlegend": false,
           "type": "scattergeo"
          }
         ],
         "name": "06/24/2020"
        },
        {
         "data": [
          {
           "geo": "geo",
           "hovertemplate": "<b>%{hovertext}</b><br><br>date=06/26/2020<br>size=%{marker.size}<br>country_name=%{location}<br>total_confirmed=%{marker.color}<extra></extra>",
           "hovertext": [
            "Bangladesh"
           ],
           "legendgroup": "",
           "locationmode": "country names",
           "locations": [
            "Bangladesh"
           ],
           "marker": {
            "color": [
             130474
            ],
            "coloraxis": "coloraxis",
            "size": [
             34.24973322591845
            ],
            "sizemode": "area",
            "sizeref": 0.3021525730050908
           },
           "name": "",
           "showlegend": false,
           "type": "scattergeo"
          }
         ],
         "name": "06/26/2020"
        },
        {
         "data": [
          {
           "geo": "geo",
           "hovertemplate": "<b>%{hovertext}</b><br><br>date=06/29/2020<br>size=%{marker.size}<br>country_name=%{location}<br>total_confirmed=%{marker.color}<extra></extra>",
           "hovertext": [
            "Bangladesh",
            "India"
           ],
           "legendgroup": "",
           "locationmode": "country names",
           "locations": [
            "Bangladesh",
            "India"
           ],
           "marker": {
            "color": [
             141801,
             566840
            ],
            "coloraxis": "coloraxis",
            "size": [
             35.11589874345778,
             53.21549997263336
            ],
            "sizemode": "area",
            "sizeref": 0.3021525730050908
           },
           "name": "",
           "showlegend": false,
           "type": "scattergeo"
          }
         ],
         "name": "06/29/2020"
        },
        {
         "data": [
          {
           "geo": "geo",
           "hovertemplate": "<b>%{hovertext}</b><br><br>date=06/30/2020<br>size=%{marker.size}<br>country_name=%{location}<br>total_confirmed=%{marker.color}<extra></extra>",
           "hovertext": [
            "India"
           ],
           "legendgroup": "",
           "locationmode": "country names",
           "locations": [
            "India"
           ],
           "marker": {
            "color": [
             585493
            ],
            "coloraxis": "coloraxis",
            "size": [
             53.73490830739226
            ],
            "sizemode": "area",
            "sizeref": 0.3021525730050908
           },
           "name": "",
           "showlegend": false,
           "type": "scattergeo"
          }
         ],
         "name": "06/30/2020"
        },
        {
         "data": [
          {
           "geo": "geo",
           "hovertemplate": "<b>%{hovertext}</b><br><br>date=07/01/2020<br>size=%{marker.size}<br>country_name=%{location}<br>total_confirmed=%{marker.color}<extra></extra>",
           "hovertext": [
            "Bangladesh"
           ],
           "legendgroup": "",
           "locationmode": "country names",
           "locations": [
            "Bangladesh"
           ],
           "marker": {
            "color": [
             149258
            ],
            "coloraxis": "coloraxis",
            "size": [
             35.65999561070073
            ],
            "sizemode": "area",
            "sizeref": 0.3021525730050908
           },
           "name": "",
           "showlegend": false,
           "type": "scattergeo"
          }
         ],
         "name": "07/01/2020"
        },
        {
         "data": [
          {
           "geo": "geo",
           "hovertemplate": "<b>%{hovertext}</b><br><br>date=07/03/2020<br>size=%{marker.size}<br>country_name=%{location}<br>total_confirmed=%{marker.color}<extra></extra>",
           "hovertext": [
            "India"
           ],
           "legendgroup": "",
           "locationmode": "country names",
           "locations": [
            "India"
           ],
           "marker": {
            "color": [
             648315
            ],
            "coloraxis": "coloraxis",
            "size": [
             55.40332391945618
            ],
            "sizemode": "area",
            "sizeref": 0.3021525730050908
           },
           "name": "",
           "showlegend": false,
           "type": "scattergeo"
          }
         ],
         "name": "07/03/2020"
        },
        {
         "data": [
          {
           "geo": "geo",
           "hovertemplate": "<b>%{hovertext}</b><br><br>date=07/04/2020<br>size=%{marker.size}<br>country_name=%{location}<br>total_confirmed=%{marker.color}<extra></extra>",
           "hovertext": [
            "Bangladesh"
           ],
           "legendgroup": "",
           "locationmode": "country names",
           "locations": [
            "Bangladesh"
           ],
           "marker": {
            "color": [
             159679
            ],
            "coloraxis": "coloraxis",
            "size": [
             36.389353612940916
            ],
            "sizemode": "area",
            "sizeref": 0.3021525730050908
           },
           "name": "",
           "showlegend": false,
           "type": "scattergeo"
          }
         ],
         "name": "07/04/2020"
        },
        {
         "data": [
          {
           "geo": "geo",
           "hovertemplate": "<b>%{hovertext}</b><br><br>date=07/05/2020<br>size=%{marker.size}<br>country_name=%{location}<br>total_confirmed=%{marker.color}<extra></extra>",
           "hovertext": [
            "India"
           ],
           "legendgroup": "",
           "locationmode": "country names",
           "locations": [
            "India"
           ],
           "marker": {
            "color": [
             697413
            ],
            "coloraxis": "coloraxis",
            "size": [
             56.63005866808013
            ],
            "sizemode": "area",
            "sizeref": 0.3021525730050908
           },
           "name": "",
           "showlegend": false,
           "type": "scattergeo"
          }
         ],
         "name": "07/05/2020"
        },
        {
         "data": [
          {
           "geo": "geo",
           "hovertemplate": "<b>%{hovertext}</b><br><br>date=07/07/2020<br>size=%{marker.size}<br>country_name=%{location}<br>total_confirmed=%{marker.color}<extra></extra>",
           "hovertext": [
            "Bangladesh"
           ],
           "legendgroup": "",
           "locationmode": "country names",
           "locations": [
            "Bangladesh"
           ],
           "marker": {
            "color": [
             168645
            ],
            "coloraxis": "coloraxis",
            "size": [
             36.990656652723764
            ],
            "sizemode": "area",
            "sizeref": 0.3021525730050908
           },
           "name": "",
           "showlegend": false,
           "type": "scattergeo"
          }
         ],
         "name": "07/07/2020"
        },
        {
         "data": [
          {
           "geo": "geo",
           "hovertemplate": "<b>%{hovertext}</b><br><br>date=07/10/2020<br>size=%{marker.size}<br>country_name=%{location}<br>total_confirmed=%{marker.color}<extra></extra>",
           "hovertext": [
            "Bangladesh"
           ],
           "legendgroup": "",
           "locationmode": "country names",
           "locations": [
            "Bangladesh"
           ],
           "marker": {
            "color": [
             178443
            ],
            "coloraxis": "coloraxis",
            "size": [
             37.622690925781676
            ],
            "sizemode": "area",
            "sizeref": 0.3021525730050908
           },
           "name": "",
           "showlegend": false,
           "type": "scattergeo"
          }
         ],
         "name": "07/10/2020"
        },
        {
         "data": [
          {
           "geo": "geo",
           "hovertemplate": "<b>%{hovertext}</b><br><br>date=07/15/2020<br>size=%{marker.size}<br>country_name=%{location}<br>total_confirmed=%{marker.color}<extra></extra>",
           "hovertext": [
            "Bangladesh",
            "India"
           ],
           "legendgroup": "",
           "locationmode": "country names",
           "locations": [
            "Bangladesh",
            "India"
           ],
           "marker": {
            "color": [
             193590,
             968876
            ],
            "coloraxis": "coloraxis",
            "size": [
             38.55359456456657,
             62.500063623163264
            ],
            "sizemode": "area",
            "sizeref": 0.3021525730050908
           },
           "name": "",
           "showlegend": false,
           "type": "scattergeo"
          }
         ],
         "name": "07/15/2020"
        },
        {
         "data": [
          {
           "geo": "geo",
           "hovertemplate": "<b>%{hovertext}</b><br><br>date=07/16/2020<br>size=%{marker.size}<br>country_name=%{location}<br>total_confirmed=%{marker.color}<extra></extra>",
           "hovertext": [
            "India"
           ],
           "legendgroup": "",
           "locationmode": "country names",
           "locations": [
            "India"
           ],
           "marker": {
            "color": [
             1003832
            ],
            "coloraxis": "coloraxis",
            "size": [
             63.16817223129501
            ],
            "sizemode": "area",
            "sizeref": 0.3021525730050908
           },
           "name": "",
           "showlegend": false,
           "type": "scattergeo"
          }
         ],
         "name": "07/16/2020"
        },
        {
         "data": [
          {
           "geo": "geo",
           "hovertemplate": "<b>%{hovertext}</b><br><br>date=07/18/2020<br>size=%{marker.size}<br>country_name=%{location}<br>total_confirmed=%{marker.color}<extra></extra>",
           "hovertext": [
            "Bangladesh",
            "India"
           ],
           "legendgroup": "",
           "locationmode": "country names",
           "locations": [
            "Bangladesh",
            "India"
           ],
           "marker": {
            "color": [
             202066,
             1077618
            ],
            "coloraxis": "coloraxis",
            "size": [
             39.0524219725701,
             64.52669939877259
            ],
            "sizemode": "area",
            "sizeref": 0.3021525730050908
           },
           "name": "",
           "showlegend": false,
           "type": "scattergeo"
          }
         ],
         "name": "07/18/2020"
        },
        {
         "data": [
          {
           "geo": "geo",
           "hovertemplate": "<b>%{hovertext}</b><br><br>date=07/19/2020<br>size=%{marker.size}<br>country_name=%{location}<br>total_confirmed=%{marker.color}<extra></extra>",
           "hovertext": [
            "India"
           ],
           "legendgroup": "",
           "locationmode": "country names",
           "locations": [
            "India"
           ],
           "marker": {
            "color": [
             1118043
            ],
            "coloraxis": "coloraxis",
            "size": [
             65.2435452572348
            ],
            "sizemode": "area",
            "sizeref": 0.3021525730050908
           },
           "name": "",
           "showlegend": false,
           "type": "scattergeo"
          }
         ],
         "name": "07/19/2020"
        },
        {
         "data": [
          {
           "geo": "geo",
           "hovertemplate": "<b>%{hovertext}</b><br><br>date=07/22/2020<br>size=%{marker.size}<br>country_name=%{location}<br>total_confirmed=%{marker.color}<extra></extra>",
           "hovertext": [
            "Bangladesh"
           ],
           "legendgroup": "",
           "locationmode": "country names",
           "locations": [
            "Bangladesh"
           ],
           "marker": {
            "color": [
             213254
            ],
            "coloraxis": "coloraxis",
            "size": [
             39.68890853828327
            ],
            "sizemode": "area",
            "sizeref": 0.3021525730050908
           },
           "name": "",
           "showlegend": false,
           "type": "scattergeo"
          }
         ],
         "name": "07/22/2020"
        },
        {
         "data": [
          {
           "geo": "geo",
           "hovertemplate": "<b>%{hovertext}</b><br><br>date=07/23/2020<br>size=%{marker.size}<br>country_name=%{location}<br>total_confirmed=%{marker.color}<extra></extra>",
           "hovertext": [
            "Bangladesh"
           ],
           "legendgroup": "",
           "locationmode": "country names",
           "locations": [
            "Bangladesh"
           ],
           "marker": {
            "color": [
             216110
            ],
            "coloraxis": "coloraxis",
            "size": [
             39.84762659084921
            ],
            "sizemode": "area",
            "sizeref": 0.3021525730050908
           },
           "name": "",
           "showlegend": false,
           "type": "scattergeo"
          }
         ],
         "name": "07/23/2020"
        },
        {
         "data": [
          {
           "geo": "geo",
           "hovertemplate": "<b>%{hovertext}</b><br><br>date=07/25/2020<br>size=%{marker.size}<br>country_name=%{location}<br>total_confirmed=%{marker.color}<extra></extra>",
           "hovertext": [
            "India"
           ],
           "legendgroup": "",
           "locationmode": "country names",
           "locations": [
            "India"
           ],
           "marker": {
            "color": [
             1385522
            ],
            "coloraxis": "coloraxis",
            "size": [
             69.5799364628555
            ],
            "sizemode": "area",
            "sizeref": 0.3021525730050908
           },
           "name": "",
           "showlegend": false,
           "type": "scattergeo"
          }
         ],
         "name": "07/25/2020"
        },
        {
         "data": [
          {
           "geo": "geo",
           "hovertemplate": "<b>%{hovertext}</b><br><br>date=07/27/2020<br>size=%{marker.size}<br>country_name=%{location}<br>total_confirmed=%{marker.color}<extra></extra>",
           "hovertext": [
            "Bangladesh",
            "India"
           ],
           "legendgroup": "",
           "locationmode": "country names",
           "locations": [
            "Bangladesh",
            "India"
           ],
           "marker": {
            "color": [
             226225,
             1483156
            ],
            "coloraxis": "coloraxis",
            "size": [
             40.39821526837009,
             71.01597433224542
            ],
            "sizemode": "area",
            "sizeref": 0.3021525730050908
           },
           "name": "",
           "showlegend": false,
           "type": "scattergeo"
          }
         ],
         "name": "07/27/2020"
        },
        {
         "data": [
          {
           "geo": "geo",
           "hovertemplate": "<b>%{hovertext}</b><br><br>date=07/31/2020<br>size=%{marker.size}<br>country_name=%{location}<br>total_confirmed=%{marker.color}<extra></extra>",
           "hovertext": [
            "Bangladesh"
           ],
           "legendgroup": "",
           "locationmode": "country names",
           "locations": [
            "Bangladesh"
           ],
           "marker": {
            "color": [
             237661
            ],
            "coloraxis": "coloraxis",
            "size": [
             41.00033224704951
            ],
            "sizemode": "area",
            "sizeref": 0.3021525730050908
           },
           "name": "",
           "showlegend": false,
           "type": "scattergeo"
          }
         ],
         "name": "07/31/2020"
        },
        {
         "data": [
          {
           "geo": "geo",
           "hovertemplate": "<b>%{hovertext}</b><br><br>date=08/01/2020<br>size=%{marker.size}<br>country_name=%{location}<br>total_confirmed=%{marker.color}<extra></extra>",
           "hovertext": [
            "India"
           ],
           "legendgroup": "",
           "locationmode": "country names",
           "locations": [
            "India"
           ],
           "marker": {
            "color": [
             1750723
            ],
            "coloraxis": "coloraxis",
            "size": [
             74.63890014978334
            ],
            "sizemode": "area",
            "sizeref": 0.3021525730050908
           },
           "name": "",
           "showlegend": false,
           "type": "scattergeo"
          }
         ],
         "name": "08/01/2020"
        },
        {
         "data": [
          {
           "geo": "geo",
           "hovertemplate": "<b>%{hovertext}</b><br><br>date=08/06/2020<br>size=%{marker.size}<br>country_name=%{location}<br>total_confirmed=%{marker.color}<extra></extra>",
           "hovertext": [
            "Bangladesh"
           ],
           "legendgroup": "",
           "locationmode": "country names",
           "locations": [
            "Bangladesh"
           ],
           "marker": {
            "color": [
             249651
            ],
            "coloraxis": "coloraxis",
            "size": [
             41.610218181097615
            ],
            "sizemode": "area",
            "sizeref": 0.3021525730050908
           },
           "name": "",
           "showlegend": false,
           "type": "scattergeo"
          }
         ],
         "name": "08/06/2020"
        },
        {
         "data": [
          {
           "geo": "geo",
           "hovertemplate": "<b>%{hovertext}</b><br><br>date=08/13/2020<br>size=%{marker.size}<br>country_name=%{location}<br>total_confirmed=%{marker.color}<extra></extra>",
           "hovertext": [
            "Bangladesh"
           ],
           "legendgroup": "",
           "locationmode": "country names",
           "locations": [
            "Bangladesh"
           ],
           "marker": {
            "color": [
             269115
            ],
            "coloraxis": "coloraxis",
            "size": [
             42.55801581066055
            ],
            "sizemode": "area",
            "sizeref": 0.3021525730050908
           },
           "name": "",
           "showlegend": false,
           "type": "scattergeo"
          }
         ],
         "name": "08/13/2020"
        },
        {
         "data": [
          {
           "geo": "geo",
           "hovertemplate": "<b>%{hovertext}</b><br><br>date=08/14/2020<br>size=%{marker.size}<br>country_name=%{location}<br>total_confirmed=%{marker.color}<extra></extra>",
           "hovertext": [
            "India"
           ],
           "legendgroup": "",
           "locationmode": "country names",
           "locations": [
            "India"
           ],
           "marker": {
            "color": [
             2526192
            ],
            "coloraxis": "coloraxis",
            "size": [
             83.31820531975853
            ],
            "sizemode": "area",
            "sizeref": 0.3021525730050908
           },
           "name": "",
           "showlegend": false,
           "type": "scattergeo"
          }
         ],
         "name": "08/14/2020"
        },
        {
         "data": [
          {
           "geo": "geo",
           "hovertemplate": "<b>%{hovertext}</b><br><br>date=08/18/2020<br>size=%{marker.size}<br>country_name=%{location}<br>total_confirmed=%{marker.color}<extra></extra>",
           "hovertext": [
            "Bangladesh"
           ],
           "legendgroup": "",
           "locationmode": "country names",
           "locations": [
            "Bangladesh"
           ],
           "marker": {
            "color": [
             282344
            ],
            "coloraxis": "coloraxis",
            "size": [
             43.17512155348628
            ],
            "sizemode": "area",
            "sizeref": 0.3021525730050908
           },
           "name": "",
           "showlegend": false,
           "type": "scattergeo"
          }
         ],
         "name": "08/18/2020"
        },
        {
         "data": [
          {
           "geo": "geo",
           "hovertemplate": "<b>%{hovertext}</b><br><br>date=08/19/2020<br>size=%{marker.size}<br>country_name=%{location}<br>total_confirmed=%{marker.color}<extra></extra>",
           "hovertext": [
            "Bangladesh"
           ],
           "legendgroup": "",
           "locationmode": "country names",
           "locations": [
            "Bangladesh"
           ],
           "marker": {
            "color": [
             285091
            ],
            "coloraxis": "coloraxis",
            "size": [
             43.300713457857185
            ],
            "sizemode": "area",
            "sizeref": 0.3021525730050908
           },
           "name": "",
           "showlegend": false,
           "type": "scattergeo"
          }
         ],
         "name": "08/19/2020"
        },
        {
         "data": [
          {
           "geo": "geo",
           "hovertemplate": "<b>%{hovertext}</b><br><br>date=08/20/2020<br>size=%{marker.size}<br>country_name=%{location}<br>total_confirmed=%{marker.color}<extra></extra>",
           "hovertext": [
            "Bangladesh"
           ],
           "legendgroup": "",
           "locationmode": "country names",
           "locations": [
            "Bangladesh"
           ],
           "marker": {
            "color": [
             287959
            ],
            "coloraxis": "coloraxis",
            "size": [
             43.430936787171596
            ],
            "sizemode": "area",
            "sizeref": 0.3021525730050908
           },
           "name": "",
           "showlegend": false,
           "type": "scattergeo"
          }
         ],
         "name": "08/20/2020"
        },
        {
         "data": [
          {
           "geo": "geo",
           "hovertemplate": "<b>%{hovertext}</b><br><br>date=08/25/2020<br>size=%{marker.size}<br>country_name=%{location}<br>total_confirmed=%{marker.color}<extra></extra>",
           "hovertext": [
            "Bangladesh",
            "India"
           ],
           "legendgroup": "",
           "locationmode": "country names",
           "locations": [
            "Bangladesh",
            "India"
           ],
           "marker": {
            "color": [
             299628,
             3234474
            ],
            "coloraxis": "coloraxis",
            "size": [
             43.9516029353707,
             89.73070900611799
            ],
            "sizemode": "area",
            "sizeref": 0.3021525730050908
           },
           "name": "",
           "showlegend": false,
           "type": "scattergeo"
          }
         ],
         "name": "08/25/2020"
        },
        {
         "data": [
          {
           "geo": "geo",
           "hovertemplate": "<b>%{hovertext}</b><br><br>date=08/26/2020<br>size=%{marker.size}<br>country_name=%{location}<br>total_confirmed=%{marker.color}<extra></extra>",
           "hovertext": [
            "Bangladesh"
           ],
           "legendgroup": "",
           "locationmode": "country names",
           "locations": [
            "Bangladesh"
           ],
           "marker": {
            "color": [
             302147
            ],
            "coloraxis": "coloraxis",
            "size": [
             44.0621298455634
            ],
            "sizemode": "area",
            "sizeref": 0.3021525730050908
           },
           "name": "",
           "showlegend": false,
           "type": "scattergeo"
          }
         ],
         "name": "08/26/2020"
        },
        {
         "data": [
          {
           "geo": "geo",
           "hovertemplate": "<b>%{hovertext}</b><br><br>date=08/30/2020<br>size=%{marker.size}<br>country_name=%{location}<br>total_confirmed=%{marker.color}<extra></extra>",
           "hovertext": [
            "Bangladesh",
            "India"
           ],
           "legendgroup": "",
           "locationmode": "country names",
           "locations": [
            "Bangladesh",
            "India"
           ],
           "marker": {
            "color": [
             310822,
             3621245
            ],
            "coloraxis": "coloraxis",
            "size": [
             44.43789978149724,
             92.82337874520915
            ],
            "sizemode": "area",
            "sizeref": 0.3021525730050908
           },
           "name": "",
           "showlegend": false,
           "type": "scattergeo"
          }
         ],
         "name": "08/30/2020"
        },
        {
         "data": [
          {
           "geo": "geo",
           "hovertemplate": "<b>%{hovertext}</b><br><br>date=08/31/2020<br>size=%{marker.size}<br>country_name=%{location}<br>total_confirmed=%{marker.color}<extra></extra>",
           "hovertext": [
            "India"
           ],
           "legendgroup": "",
           "locationmode": "country names",
           "locations": [
            "India"
           ],
           "marker": {
            "color": [
             3691166
            ],
            "coloraxis": "coloraxis",
            "size": [
             93.3574698476246
            ],
            "sizemode": "area",
            "sizeref": 0.3021525730050908
           },
           "name": "",
           "showlegend": false,
           "type": "scattergeo"
          }
         ],
         "name": "08/31/2020"
        },
        {
         "data": [
          {
           "geo": "geo",
           "hovertemplate": "<b>%{hovertext}</b><br><br>date=09/01/2020<br>size=%{marker.size}<br>country_name=%{location}<br>total_confirmed=%{marker.color}<extra></extra>",
           "hovertext": [
            "India"
           ],
           "legendgroup": "",
           "locationmode": "country names",
           "locations": [
            "India"
           ],
           "marker": {
            "color": [
             3769523
            ],
            "coloraxis": "coloraxis",
            "size": [
             93.94764958892199
            ],
            "sizemode": "area",
            "sizeref": 0.3021525730050908
           },
           "name": "",
           "showlegend": false,
           "type": "scattergeo"
          }
         ],
         "name": "09/01/2020"
        },
        {
         "data": [
          {
           "geo": "geo",
           "hovertemplate": "<b>%{hovertext}</b><br><br>date=09/02/2020<br>size=%{marker.size}<br>country_name=%{location}<br>total_confirmed=%{marker.color}<extra></extra>",
           "hovertext": [
            "Bangladesh"
           ],
           "legendgroup": "",
           "locationmode": "country names",
           "locations": [
            "Bangladesh"
           ],
           "marker": {
            "color": [
             317528
            ],
            "coloraxis": "coloraxis",
            "size": [
             44.7233789863352
            ],
            "sizemode": "area",
            "sizeref": 0.3021525730050908
           },
           "name": "",
           "showlegend": false,
           "type": "scattergeo"
          }
         ],
         "name": "09/02/2020"
        },
        {
         "data": [
          {
           "geo": "geo",
           "hovertemplate": "<b>%{hovertext}</b><br><br>date=09/05/2020<br>size=%{marker.size}<br>country_name=%{location}<br>total_confirmed=%{marker.color}<extra></extra>",
           "hovertext": [
            "India"
           ],
           "legendgroup": "",
           "locationmode": "country names",
           "locations": [
            "India"
           ],
           "marker": {
            "color": [
             4113811
            ],
            "coloraxis": "coloraxis",
            "size": [
             96.44357499308356
            ],
            "sizemode": "area",
            "sizeref": 0.3021525730050908
           },
           "name": "",
           "showlegend": false,
           "type": "scattergeo"
          }
         ],
         "name": "09/05/2020"
        },
        {
         "data": [
          {
           "geo": "geo",
           "hovertemplate": "<b>%{hovertext}</b><br><br>date=09/06/2020<br>size=%{marker.size}<br>country_name=%{location}<br>total_confirmed=%{marker.color}<extra></extra>",
           "hovertext": [
            "India"
           ],
           "legendgroup": "",
           "locationmode": "country names",
           "locations": [
            "India"
           ],
           "marker": {
            "color": [
             4204613
            ],
            "coloraxis": "coloraxis",
            "size": [
             97.07732677393595
            ],
            "sizemode": "area",
            "sizeref": 0.3021525730050908
           },
           "name": "",
           "showlegend": false,
           "type": "scattergeo"
          }
         ],
         "name": "09/06/2020"
        },
        {
         "data": [
          {
           "geo": "geo",
           "hovertemplate": "<b>%{hovertext}</b><br><br>date=09/09/2020<br>size=%{marker.size}<br>country_name=%{location}<br>total_confirmed=%{marker.color}<extra></extra>",
           "hovertext": [
            "India"
           ],
           "legendgroup": "",
           "locationmode": "country names",
           "locations": [
            "India"
           ],
           "marker": {
            "color": [
             4465863
            ],
            "coloraxis": "coloraxis",
            "size": [
             98.84884947086515
            ],
            "sizemode": "area",
            "sizeref": 0.3021525730050908
           },
           "name": "",
           "showlegend": false,
           "type": "scattergeo"
          }
         ],
         "name": "09/09/2020"
        },
        {
         "data": [
          {
           "geo": "geo",
           "hovertemplate": "<b>%{hovertext}</b><br><br>date=09/12/2020<br>size=%{marker.size}<br>country_name=%{location}<br>total_confirmed=%{marker.color}<extra></extra>",
           "hovertext": [
            "Bangladesh"
           ],
           "legendgroup": "",
           "locationmode": "country names",
           "locations": [
            "Bangladesh"
           ],
           "marker": {
            "color": [
             336044
            ],
            "coloraxis": "coloraxis",
            "size": [
             45.490304476684926
            ],
            "sizemode": "area",
            "sizeref": 0.3021525730050908
           },
           "name": "",
           "showlegend": false,
           "type": "scattergeo"
          }
         ],
         "name": "09/12/2020"
        },
        {
         "data": [
          {
           "geo": "geo",
           "hovertemplate": "<b>%{hovertext}</b><br><br>date=09/13/2020<br>size=%{marker.size}<br>country_name=%{location}<br>total_confirmed=%{marker.color}<extra></extra>",
           "hovertext": [
            "India"
           ],
           "legendgroup": "",
           "locationmode": "country names",
           "locations": [
            "India"
           ],
           "marker": {
            "color": [
             4846427
            ],
            "coloraxis": "coloraxis",
            "size": [
             101.30397872284429
            ],
            "sizemode": "area",
            "sizeref": 0.3021525730050908
           },
           "name": "",
           "showlegend": false,
           "type": "scattergeo"
          }
         ],
         "name": "09/13/2020"
        },
        {
         "data": [
          {
           "geo": "geo",
           "hovertemplate": "<b>%{hovertext}</b><br><br>date=09/14/2020<br>size=%{marker.size}<br>country_name=%{location}<br>total_confirmed=%{marker.color}<extra></extra>",
           "hovertext": [
            "Bangladesh"
           ],
           "legendgroup": "",
           "locationmode": "country names",
           "locations": [
            "Bangladesh"
           ],
           "marker": {
            "color": [
             339332
            ],
            "coloraxis": "coloraxis",
            "size": [
             45.62337876908806
            ],
            "sizemode": "area",
            "sizeref": 0.3021525730050908
           },
           "name": "",
           "showlegend": false,
           "type": "scattergeo"
          }
         ],
         "name": "09/14/2020"
        },
        {
         "data": [
          {
           "geo": "geo",
           "hovertemplate": "<b>%{hovertext}</b><br><br>date=09/15/2020<br>size=%{marker.size}<br>country_name=%{location}<br>total_confirmed=%{marker.color}<extra></extra>",
           "hovertext": [
            "India"
           ],
           "legendgroup": "",
           "locationmode": "country names",
           "locations": [
            "India"
           ],
           "marker": {
            "color": [
             5020359
            ],
            "coloraxis": "coloraxis",
            "size": [
             102.38125107968563
            ],
            "sizemode": "area",
            "sizeref": 0.3021525730050908
           },
           "name": "",
           "showlegend": false,
           "type": "scattergeo"
          }
         ],
         "name": "09/15/2020"
        },
        {
         "data": [
          {
           "geo": "geo",
           "hovertemplate": "<b>%{hovertext}</b><br><br>date=09/17/2020<br>size=%{marker.size}<br>country_name=%{location}<br>total_confirmed=%{marker.color}<extra></extra>",
           "hovertext": [
            "Bangladesh",
            "India"
           ],
           "legendgroup": "",
           "locationmode": "country names",
           "locations": [
            "Bangladesh",
            "India"
           ],
           "marker": {
            "color": [
             344264,
             5214677
            ],
            "coloraxis": "coloraxis",
            "size": [
             45.821308094426975,
             103.55432066126014
            ],
            "sizemode": "area",
            "sizeref": 0.3021525730050908
           },
           "name": "",
           "showlegend": false,
           "type": "scattergeo"
          }
         ],
         "name": "09/17/2020"
        },
        {
         "data": [
          {
           "geo": "geo",
           "hovertemplate": "<b>%{hovertext}</b><br><br>date=09/19/2020<br>size=%{marker.size}<br>country_name=%{location}<br>total_confirmed=%{marker.color}<extra></extra>",
           "hovertext": [
            "Bangladesh"
           ],
           "legendgroup": "",
           "locationmode": "country names",
           "locations": [
            "Bangladesh"
           ],
           "marker": {
            "color": [
             347372
            ],
            "coloraxis": "coloraxis",
            "size": [
             45.945019769649996
            ],
            "sizemode": "area",
            "sizeref": 0.3021525730050908
           },
           "name": "",
           "showlegend": false,
           "type": "scattergeo"
          }
         ],
         "name": "09/19/2020"
        },
        {
         "data": [
          {
           "geo": "geo",
           "hovertemplate": "<b>%{hovertext}</b><br><br>date=09/25/2020<br>size=%{marker.size}<br>country_name=%{location}<br>total_confirmed=%{marker.color}<extra></extra>",
           "hovertext": [
            "Bangladesh"
           ],
           "legendgroup": "",
           "locationmode": "country names",
           "locations": [
            "Bangladesh"
           ],
           "marker": {
            "color": [
             356767
            ],
            "coloraxis": "coloraxis",
            "size": [
             46.31433183130285
            ],
            "sizemode": "area",
            "sizeref": 0.3021525730050908
           },
           "name": "",
           "showlegend": false,
           "type": "scattergeo"
          }
         ],
         "name": "09/25/2020"
        },
        {
         "data": [
          {
           "geo": "geo",
           "hovertemplate": "<b>%{hovertext}</b><br><br>date=09/26/2020<br>size=%{marker.size}<br>country_name=%{location}<br>total_confirmed=%{marker.color}<extra></extra>",
           "hovertext": [
            "Bangladesh",
            "India"
           ],
           "legendgroup": "",
           "locationmode": "country names",
           "locations": [
            "Bangladesh",
            "India"
           ],
           "marker": {
            "color": [
             357873,
             5992532
            ],
            "coloraxis": "coloraxis",
            "size": [
             46.357358374947566,
             107.96502969670946
            ],
            "sizemode": "area",
            "sizeref": 0.3021525730050908
           },
           "name": "",
           "showlegend": false,
           "type": "scattergeo"
          }
         ],
         "name": "09/26/2020"
        },
        {
         "data": [
          {
           "geo": "geo",
           "hovertemplate": "<b>%{hovertext}</b><br><br>date=09/27/2020<br>size=%{marker.size}<br>country_name=%{location}<br>total_confirmed=%{marker.color}<extra></extra>",
           "hovertext": [
            "Bangladesh",
            "India"
           ],
           "legendgroup": "",
           "locationmode": "country names",
           "locations": [
            "Bangladesh",
            "India"
           ],
           "marker": {
            "color": [
             359148,
             6074702
            ],
            "coloraxis": "coloraxis",
            "size": [
             46.40684415221042,
             108.40704175627585
            ],
            "sizemode": "area",
            "sizeref": 0.3021525730050908
           },
           "name": "",
           "showlegend": false,
           "type": "scattergeo"
          }
         ],
         "name": "09/27/2020"
        },
        {
         "data": [
          {
           "geo": "geo",
           "hovertemplate": "<b>%{hovertext}</b><br><br>date=09/28/2020<br>size=%{marker.size}<br>country_name=%{location}<br>total_confirmed=%{marker.color}<extra></extra>",
           "hovertext": [
            "Bangladesh"
           ],
           "legendgroup": "",
           "locationmode": "country names",
           "locations": [
            "Bangladesh"
           ],
           "marker": {
            "color": [
             360555
            ],
            "coloraxis": "coloraxis",
            "size": [
             46.46131063849993
            ],
            "sizemode": "area",
            "sizeref": 0.3021525730050908
           },
           "name": "",
           "showlegend": false,
           "type": "scattergeo"
          }
         ],
         "name": "09/28/2020"
        },
        {
         "data": [
          {
           "geo": "geo",
           "hovertemplate": "<b>%{hovertext}</b><br><br>date=09/29/2020<br>size=%{marker.size}<br>country_name=%{location}<br>total_confirmed=%{marker.color}<extra></extra>",
           "hovertext": [
            "Bangladesh"
           ],
           "legendgroup": "",
           "locationmode": "country names",
           "locations": [
            "Bangladesh"
           ],
           "marker": {
            "color": [
             362043
            ],
            "coloraxis": "coloraxis",
            "size": [
             46.51875108663649
            ],
            "sizemode": "area",
            "sizeref": 0.3021525730050908
           },
           "name": "",
           "showlegend": false,
           "type": "scattergeo"
          }
         ],
         "name": "09/29/2020"
        },
        {
         "data": [
          {
           "geo": "geo",
           "hovertemplate": "<b>%{hovertext}</b><br><br>date=09/30/2020<br>size=%{marker.size}<br>country_name=%{location}<br>total_confirmed=%{marker.color}<extra></extra>",
           "hovertext": [
            "Bangladesh"
           ],
           "legendgroup": "",
           "locationmode": "country names",
           "locations": [
            "Bangladesh"
           ],
           "marker": {
            "color": [
             363479
            ],
            "coloraxis": "coloraxis",
            "size": [
             46.57402772437884
            ],
            "sizemode": "area",
            "sizeref": 0.3021525730050908
           },
           "name": "",
           "showlegend": false,
           "type": "scattergeo"
          }
         ],
         "name": "09/30/2020"
        },
        {
         "data": [
          {
           "geo": "geo",
           "hovertemplate": "<b>%{hovertext}</b><br><br>date=10/06/2020<br>size=%{marker.size}<br>country_name=%{location}<br>total_confirmed=%{marker.color}<extra></extra>",
           "hovertext": [
            "Bangladesh",
            "India"
           ],
           "legendgroup": "",
           "locationmode": "country names",
           "locations": [
            "Bangladesh",
            "India"
           ],
           "marker": {
            "color": [
             371631,
             6757131
            ],
            "coloraxis": "coloraxis",
            "size": [
             46.884963278358434,
             111.92541197066083
            ],
            "sizemode": "area",
            "sizeref": 0.3021525730050908
           },
           "name": "",
           "showlegend": false,
           "type": "scattergeo"
          }
         ],
         "name": "10/06/2020"
        },
        {
         "data": [
          {
           "geo": "geo",
           "hovertemplate": "<b>%{hovertext}</b><br><br>date=10/08/2020<br>size=%{marker.size}<br>country_name=%{location}<br>total_confirmed=%{marker.color}<extra></extra>",
           "hovertext": [
            "Bangladesh",
            "India"
           ],
           "legendgroup": "",
           "locationmode": "country names",
           "locations": [
            "Bangladesh",
            "India"
           ],
           "marker": {
            "color": [
             374592,
             6906151
            ],
            "coloraxis": "coloraxis",
            "size": [
             46.99672008245546,
             112.6602786146994
            ],
            "sizemode": "area",
            "sizeref": 0.3021525730050908
           },
           "name": "",
           "showlegend": false,
           "type": "scattergeo"
          }
         ],
         "name": "10/08/2020"
        },
        {
         "data": [
          {
           "geo": "geo",
           "hovertemplate": "<b>%{hovertext}</b><br><br>date=10/11/2020<br>size=%{marker.size}<br>country_name=%{location}<br>total_confirmed=%{marker.color}<extra></extra>",
           "hovertext": [
            "Bangladesh",
            "India"
           ],
           "legendgroup": "",
           "locationmode": "country names",
           "locations": [
            "Bangladesh",
            "India"
           ],
           "marker": {
            "color": [
             378266,
             7120538
            ],
            "coloraxis": "coloraxis",
            "size": [
             47.13453121640486,
             113.69826630912414
            ],
            "sizemode": "area",
            "sizeref": 0.3021525730050908
           },
           "name": "",
           "showlegend": false,
           "type": "scattergeo"
          }
         ],
         "name": "10/11/2020"
        },
        {
         "data": [
          {
           "geo": "geo",
           "hovertemplate": "<b>%{hovertext}</b><br><br>date=10/13/2020<br>size=%{marker.size}<br>country_name=%{location}<br>total_confirmed=%{marker.color}<extra></extra>",
           "hovertext": [
            "India"
           ],
           "legendgroup": "",
           "locationmode": "country names",
           "locations": [
            "India"
           ],
           "marker": {
            "color": [
             7239389
            ],
            "coloraxis": "coloraxis",
            "size": [
             114.26430280003731
            ],
            "sizemode": "area",
            "sizeref": 0.3021525730050908
           },
           "name": "",
           "showlegend": false,
           "type": "scattergeo"
          }
         ],
         "name": "10/13/2020"
        },
        {
         "data": [
          {
           "geo": "geo",
           "hovertemplate": "<b>%{hovertext}</b><br><br>date=10/15/2020<br>size=%{marker.size}<br>country_name=%{location}<br>total_confirmed=%{marker.color}<extra></extra>",
           "hovertext": [
            "India"
           ],
           "legendgroup": "",
           "locationmode": "country names",
           "locations": [
            "India"
           ],
           "marker": {
            "color": [
             7370468
            ],
            "coloraxis": "coloraxis",
            "size": [
             114.88108258234618
            ],
            "sizemode": "area",
            "sizeref": 0.3021525730050908
           },
           "name": "",
           "showlegend": false,
           "type": "scattergeo"
          }
         ],
         "name": "10/15/2020"
        },
        {
         "data": [
          {
           "geo": "geo",
           "hovertemplate": "<b>%{hovertext}</b><br><br>date=10/16/2020<br>size=%{marker.size}<br>country_name=%{location}<br>total_confirmed=%{marker.color}<extra></extra>",
           "hovertext": [
            "Bangladesh"
           ],
           "legendgroup": "",
           "locationmode": "country names",
           "locations": [
            "Bangladesh"
           ],
           "marker": {
            "color": [
             386086
            ],
            "coloraxis": "coloraxis",
            "size": [
             47.42476812297803
            ],
            "sizemode": "area",
            "sizeref": 0.3021525730050908
           },
           "name": "",
           "showlegend": false,
           "type": "scattergeo"
          }
         ],
         "name": "10/16/2020"
        },
        {
         "data": [
          {
           "geo": "geo",
           "hovertemplate": "<b>%{hovertext}</b><br><br>date=10/18/2020<br>size=%{marker.size}<br>country_name=%{location}<br>total_confirmed=%{marker.color}<extra></extra>",
           "hovertext": [
            "India"
           ],
           "legendgroup": "",
           "locationmode": "country names",
           "locations": [
            "India"
           ],
           "marker": {
            "color": [
             7550273
            ],
            "coloraxis": "coloraxis",
            "size": [
             115.71477000763338
            ],
            "sizemode": "area",
            "sizeref": 0.3021525730050908
           },
           "name": "",
           "showlegend": false,
           "type": "scattergeo"
          }
         ],
         "name": "10/18/2020"
        },
        {
         "data": [
          {
           "geo": "geo",
           "hovertemplate": "<b>%{hovertext}</b><br><br>date=10/19/2020<br>size=%{marker.size}<br>country_name=%{location}<br>total_confirmed=%{marker.color}<extra></extra>",
           "hovertext": [
            "India"
           ],
           "legendgroup": "",
           "locationmode": "country names",
           "locations": [
            "India"
           ],
           "marker": {
            "color": [
             7597063
            ],
            "coloraxis": "coloraxis",
            "size": [
             115.92943475882485
            ],
            "sizemode": "area",
            "sizeref": 0.3021525730050908
           },
           "name": "",
           "showlegend": false,
           "type": "scattergeo"
          }
         ],
         "name": "10/19/2020"
        },
        {
         "data": [
          {
           "geo": "geo",
           "hovertemplate": "<b>%{hovertext}</b><br><br>date=10/20/2020<br>size=%{marker.size}<br>country_name=%{location}<br>total_confirmed=%{marker.color}<extra></extra>",
           "hovertext": [
            "India"
           ],
           "legendgroup": "",
           "locationmode": "country names",
           "locations": [
            "India"
           ],
           "marker": {
            "color": [
             7651107
            ],
            "coloraxis": "coloraxis",
            "size": [
             116.17623092639734
            ],
            "sizemode": "area",
            "sizeref": 0.3021525730050908
           },
           "name": "",
           "showlegend": false,
           "type": "scattergeo"
          }
         ],
         "name": "10/20/2020"
        },
        {
         "data": [
          {
           "geo": "geo",
           "hovertemplate": "<b>%{hovertext}</b><br><br>date=10/23/2020<br>size=%{marker.size}<br>country_name=%{location}<br>total_confirmed=%{marker.color}<extra></extra>",
           "hovertext": [
            "Bangladesh",
            "India"
           ],
           "legendgroup": "",
           "locationmode": "country names",
           "locations": [
            "Bangladesh",
            "India"
           ],
           "marker": {
            "color": [
             396413,
             7814682
            ],
            "coloraxis": "coloraxis",
            "size": [
             47.80181276904872,
             116.9158504385849
            ],
            "sizemode": "area",
            "sizeref": 0.3021525730050908
           },
           "name": "",
           "showlegend": false,
           "type": "scattergeo"
          }
         ],
         "name": "10/23/2020"
        },
        {
         "data": [
          {
           "geo": "geo",
           "hovertemplate": "<b>%{hovertext}</b><br><br>date=10/25/2020<br>size=%{marker.size}<br>country_name=%{location}<br>total_confirmed=%{marker.color}<extra></extra>",
           "hovertext": [
            "Bangladesh"
           ],
           "legendgroup": "",
           "locationmode": "country names",
           "locations": [
            "Bangladesh"
           ],
           "marker": {
            "color": [
             398815
            ],
            "coloraxis": "coloraxis",
            "size": [
             47.888523306160245
            ],
            "sizemode": "area",
            "sizeref": 0.3021525730050908
           },
           "name": "",
           "showlegend": false,
           "type": "scattergeo"
          }
         ],
         "name": "10/25/2020"
        },
        {
         "data": [
          {
           "geo": "geo",
           "hovertemplate": "<b>%{hovertext}</b><br><br>date=10/26/2020<br>size=%{marker.size}<br>country_name=%{location}<br>total_confirmed=%{marker.color}<extra></extra>",
           "hovertext": [
            "Bangladesh"
           ],
           "legendgroup": "",
           "locationmode": "country names",
           "locations": [
            "Bangladesh"
           ],
           "marker": {
            "color": [
             400251
            ],
            "coloraxis": "coloraxis",
            "size": [
             47.940187435318194
            ],
            "sizemode": "area",
            "sizeref": 0.3021525730050908
           },
           "name": "",
           "showlegend": false,
           "type": "scattergeo"
          }
         ],
         "name": "10/26/2020"
        },
        {
         "data": [
          {
           "geo": "geo",
           "hovertemplate": "<b>%{hovertext}</b><br><br>date=10/27/2020<br>size=%{marker.size}<br>country_name=%{location}<br>total_confirmed=%{marker.color}<extra></extra>",
           "hovertext": [
            "Bangladesh",
            "India"
           ],
           "legendgroup": "",
           "locationmode": "country names",
           "locations": [
            "Bangladesh",
            "India"
           ],
           "marker": {
            "color": [
             401586,
             7990322
            ],
            "coloraxis": "coloraxis",
            "size": [
             47.98810155258138,
             117.69805454401384
            ],
            "sizemode": "area",
            "sizeref": 0.3021525730050908
           },
           "name": "",
           "showlegend": false,
           "type": "scattergeo"
          }
         ],
         "name": "10/27/2020"
        },
        {
         "data": [
          {
           "geo": "geo",
           "hovertemplate": "<b>%{hovertext}</b><br><br>date=10/30/2020<br>size=%{marker.size}<br>country_name=%{location}<br>total_confirmed=%{marker.color}<extra></extra>",
           "hovertext": [
            "India"
           ],
           "legendgroup": "",
           "locationmode": "country names",
           "locations": [
            "India"
           ],
           "marker": {
            "color": [
             8137119
            ],
            "coloraxis": "coloraxis",
            "size": [
             118.34262551910562
            ],
            "sizemode": "area",
            "sizeref": 0.3021525730050908
           },
           "name": "",
           "showlegend": false,
           "type": "scattergeo"
          }
         ],
         "name": "10/30/2020"
        },
        {
         "data": [
          {
           "geo": "geo",
           "hovertemplate": "<b>%{hovertext}</b><br><br>date=11/01/2020<br>size=%{marker.size}<br>country_name=%{location}<br>total_confirmed=%{marker.color}<extra></extra>",
           "hovertext": [
            "Bangladesh",
            "India"
           ],
           "legendgroup": "",
           "locationmode": "country names",
           "locations": [
            "Bangladesh",
            "India"
           ],
           "marker": {
            "color": [
             409252,
             8229313
            ],
            "coloraxis": "coloraxis",
            "size": [
             48.2611029691361,
             118.74328907003279
            ],
            "sizemode": "area",
            "sizeref": 0.3021525730050908
           },
           "name": "",
           "showlegend": false,
           "type": "scattergeo"
          }
         ],
         "name": "11/01/2020"
        },
        {
         "data": [
          {
           "geo": "geo",
           "hovertemplate": "<b>%{hovertext}</b><br><br>date=11/02/2020<br>size=%{marker.size}<br>country_name=%{location}<br>total_confirmed=%{marker.color}<extra></extra>",
           "hovertext": [
            "Bangladesh"
           ],
           "legendgroup": "",
           "locationmode": "country names",
           "locations": [
            "Bangladesh"
           ],
           "marker": {
            "color": [
             410988
            ],
            "coloraxis": "coloraxis",
            "size": [
             48.322427424142894
            ],
            "sizemode": "area",
            "sizeref": 0.3021525730050908
           },
           "name": "",
           "showlegend": false,
           "type": "scattergeo"
          }
         ],
         "name": "11/02/2020"
        },
        {
         "data": [
          {
           "geo": "geo",
           "hovertemplate": "<b>%{hovertext}</b><br><br>date=11/03/2020<br>size=%{marker.size}<br>country_name=%{location}<br>total_confirmed=%{marker.color}<extra></extra>",
           "hovertext": [
            "Bangladesh"
           ],
           "legendgroup": "",
           "locationmode": "country names",
           "locations": [
            "Bangladesh"
           ],
           "marker": {
            "color": [
             412647
            ],
            "coloraxis": "coloraxis",
            "size": [
             48.380862637186404
            ],
            "sizemode": "area",
            "sizeref": 0.3021525730050908
           },
           "name": "",
           "showlegend": false,
           "type": "scattergeo"
          }
         ],
         "name": "11/03/2020"
        },
        {
         "data": [
          {
           "geo": "geo",
           "hovertemplate": "<b>%{hovertext}</b><br><br>date=11/05/2020<br>size=%{marker.size}<br>country_name=%{location}<br>total_confirmed=%{marker.color}<extra></extra>",
           "hovertext": [
            "Bangladesh",
            "India"
           ],
           "legendgroup": "",
           "locationmode": "country names",
           "locations": [
            "Bangladesh",
            "India"
           ],
           "marker": {
            "color": [
             416006,
             8411724
            ],
            "coloraxis": "coloraxis",
            "size": [
             48.49867551807601,
             119.52685826800159
            ],
            "sizemode": "area",
            "sizeref": 0.3021525730050908
           },
           "name": "",
           "showlegend": false,
           "type": "scattergeo"
          }
         ],
         "name": "11/05/2020"
        },
        {
         "data": [
          {
           "geo": "geo",
           "hovertemplate": "<b>%{hovertext}</b><br><br>date=11/06/2020<br>size=%{marker.size}<br>country_name=%{location}<br>total_confirmed=%{marker.color}<extra></extra>",
           "hovertext": [
            "Bangladesh",
            "India"
           ],
           "legendgroup": "",
           "locationmode": "country names",
           "locations": [
            "Bangladesh",
            "India"
           ],
           "marker": {
            "color": [
             417475,
             8462080
            ],
            "coloraxis": "coloraxis",
            "size": [
             48.549989689673346,
             119.74107093264301
            ],
            "sizemode": "area",
            "sizeref": 0.3021525730050908
           },
           "name": "",
           "showlegend": false,
           "type": "scattergeo"
          }
         ],
         "name": "11/06/2020"
        },
        {
         "data": [
          {
           "geo": "geo",
           "hovertemplate": "<b>%{hovertext}</b><br><br>date=11/07/2020<br>size=%{marker.size}<br>country_name=%{location}<br>total_confirmed=%{marker.color}<extra></extra>",
           "hovertext": [
            "India"
           ],
           "legendgroup": "",
           "locationmode": "country names",
           "locations": [
            "India"
           ],
           "marker": {
            "color": [
             8507754
            ],
            "coloraxis": "coloraxis",
            "size": [
             119.93459616937425
            ],
            "sizemode": "area",
            "sizeref": 0.3021525730050908
           },
           "name": "",
           "showlegend": false,
           "type": "scattergeo"
          }
         ],
         "name": "11/07/2020"
        },
        {
         "data": [
          {
           "geo": "geo",
           "hovertemplate": "<b>%{hovertext}</b><br><br>date=11/09/2020<br>size=%{marker.size}<br>country_name=%{location}<br>total_confirmed=%{marker.color}<extra></extra>",
           "hovertext": [
            "Bangladesh"
           ],
           "legendgroup": "",
           "locationmode": "country names",
           "locations": [
            "Bangladesh"
           ],
           "marker": {
            "color": [
             421921
            ],
            "coloraxis": "coloraxis",
            "size": [
             48.70452840577765
            ],
            "sizemode": "area",
            "sizeref": 0.3021525730050908
           },
           "name": "",
           "showlegend": false,
           "type": "scattergeo"
          }
         ],
         "name": "11/09/2020"
        },
        {
         "data": [
          {
           "geo": "geo",
           "hovertemplate": "<b>%{hovertext}</b><br><br>date=11/10/2020<br>size=%{marker.size}<br>country_name=%{location}<br>total_confirmed=%{marker.color}<extra></extra>",
           "hovertext": [
            "India"
           ],
           "legendgroup": "",
           "locationmode": "country names",
           "locations": [
            "India"
           ],
           "marker": {
            "color": [
             8636011
            ],
            "coloraxis": "coloraxis",
            "size": [
             120.47417363827606
            ],
            "sizemode": "area",
            "sizeref": 0.3021525730050908
           },
           "name": "",
           "showlegend": false,
           "type": "scattergeo"
          }
         ],
         "name": "11/10/2020"
        },
        {
         "data": [
          {
           "geo": "geo",
           "hovertemplate": "<b>%{hovertext}</b><br><br>date=11/12/2020<br>size=%{marker.size}<br>country_name=%{location}<br>total_confirmed=%{marker.color}<extra></extra>",
           "hovertext": [
            "India"
           ],
           "legendgroup": "",
           "locationmode": "country names",
           "locations": [
            "India"
           ],
           "marker": {
            "color": [
             8728795
            ],
            "coloraxis": "coloraxis",
            "size": [
             120.86102920203632
            ],
            "sizemode": "area",
            "sizeref": 0.3021525730050908
           },
           "name": "",
           "showlegend": false,
           "type": "scattergeo"
          }
         ],
         "name": "11/12/2020"
        },
        {
         "data": [
          {
           "geo": "geo",
           "hovertemplate": "<b>%{hovertext}</b><br><br>date=11/14/2020<br>size=%{marker.size}<br>country_name=%{location}<br>total_confirmed=%{marker.color}<extra></extra>",
           "hovertext": [
            "Bangladesh"
           ],
           "legendgroup": "",
           "locationmode": "country names",
           "locations": [
            "Bangladesh"
           ],
           "marker": {
            "color": [
             430496
            ],
            "coloraxis": "coloraxis",
            "size": [
             48.99939707218219
            ],
            "sizemode": "area",
            "sizeref": 0.3021525730050908
           },
           "name": "",
           "showlegend": false,
           "type": "scattergeo"
          }
         ],
         "name": "11/14/2020"
        },
        {
         "data": [
          {
           "geo": "geo",
           "hovertemplate": "<b>%{hovertext}</b><br><br>date=11/18/2020<br>size=%{marker.size}<br>country_name=%{location}<br>total_confirmed=%{marker.color}<extra></extra>",
           "hovertext": [
            "Bangladesh"
           ],
           "legendgroup": "",
           "locationmode": "country names",
           "locations": [
            "Bangladesh"
           ],
           "marker": {
            "color": [
             0
            ],
            "coloraxis": "coloraxis",
            "size": [
             0
            ],
            "sizemode": "area",
            "sizeref": 0.3021525730050908
           },
           "name": "",
           "showlegend": false,
           "type": "scattergeo"
          }
         ],
         "name": "11/18/2020"
        }
       ],
       "layout": {
        "coloraxis": {
         "cmax": 8728797,
         "cmin": 0,
         "colorbar": {
          "title": {
           "text": "total_confirmed"
          }
         },
         "colorscale": [
          [
           0,
           "#0d0887"
          ],
          [
           0.1111111111111111,
           "#46039f"
          ],
          [
           0.2222222222222222,
           "#7201a8"
          ],
          [
           0.3333333333333333,
           "#9c179e"
          ],
          [
           0.4444444444444444,
           "#bd3786"
          ],
          [
           0.5555555555555556,
           "#d8576b"
          ],
          [
           0.6666666666666666,
           "#ed7953"
          ],
          [
           0.7777777777777778,
           "#fb9f3a"
          ],
          [
           0.8888888888888888,
           "#fdca26"
          ],
          [
           1,
           "#f0f921"
          ]
         ],
         "showscale": false
        },
        "geo": {
         "domain": {
          "x": [
           0,
           1
          ],
          "y": [
           0,
           1
          ]
         },
         "projection": {
          "type": "natural earth"
         }
        },
        "legend": {
         "itemsizing": "constant",
         "tracegroupgap": 0
        },
        "sliders": [
         {
          "active": 0,
          "currentvalue": {
           "prefix": "date="
          },
          "len": 0.9,
          "pad": {
           "b": 10,
           "t": 60
          },
          "steps": [
           {
            "args": [
             [
              "01/02/2020"
             ],
             {
              "frame": {
               "duration": 0,
               "redraw": true
              },
              "fromcurrent": true,
              "mode": "immediate",
              "transition": {
               "duration": 0,
               "easing": "linear"
              }
             }
            ],
            "label": "01/02/2020",
            "method": "animate"
           },
           {
            "args": [
             [
              "01/03/2020"
             ],
             {
              "frame": {
               "duration": 0,
               "redraw": true
              },
              "fromcurrent": true,
              "mode": "immediate",
              "transition": {
               "duration": 0,
               "easing": "linear"
              }
             }
            ],
            "label": "01/03/2020",
            "method": "animate"
           },
           {
            "args": [
             [
              "01/04/2020"
             ],
             {
              "frame": {
               "duration": 0,
               "redraw": true
              },
              "fromcurrent": true,
              "mode": "immediate",
              "transition": {
               "duration": 0,
               "easing": "linear"
              }
             }
            ],
            "label": "01/04/2020",
            "method": "animate"
           },
           {
            "args": [
             [
              "01/06/2020"
             ],
             {
              "frame": {
               "duration": 0,
               "redraw": true
              },
              "fromcurrent": true,
              "mode": "immediate",
              "transition": {
               "duration": 0,
               "easing": "linear"
              }
             }
            ],
            "label": "01/06/2020",
            "method": "animate"
           },
           {
            "args": [
             [
              "01/07/2020"
             ],
             {
              "frame": {
               "duration": 0,
               "redraw": true
              },
              "fromcurrent": true,
              "mode": "immediate",
              "transition": {
               "duration": 0,
               "easing": "linear"
              }
             }
            ],
            "label": "01/07/2020",
            "method": "animate"
           },
           {
            "args": [
             [
              "01/09/2020"
             ],
             {
              "frame": {
               "duration": 0,
               "redraw": true
              },
              "fromcurrent": true,
              "mode": "immediate",
              "transition": {
               "duration": 0,
               "easing": "linear"
              }
             }
            ],
            "label": "01/09/2020",
            "method": "animate"
           },
           {
            "args": [
             [
              "01/13/2020"
             ],
             {
              "frame": {
               "duration": 0,
               "redraw": true
              },
              "fromcurrent": true,
              "mode": "immediate",
              "transition": {
               "duration": 0,
               "easing": "linear"
              }
             }
            ],
            "label": "01/13/2020",
            "method": "animate"
           },
           {
            "args": [
             [
              "01/14/2020"
             ],
             {
              "frame": {
               "duration": 0,
               "redraw": true
              },
              "fromcurrent": true,
              "mode": "immediate",
              "transition": {
               "duration": 0,
               "easing": "linear"
              }
             }
            ],
            "label": "01/14/2020",
            "method": "animate"
           },
           {
            "args": [
             [
              "01/16/2020"
             ],
             {
              "frame": {
               "duration": 0,
               "redraw": true
              },
              "fromcurrent": true,
              "mode": "immediate",
              "transition": {
               "duration": 0,
               "easing": "linear"
              }
             }
            ],
            "label": "01/16/2020",
            "method": "animate"
           },
           {
            "args": [
             [
              "01/18/2020"
             ],
             {
              "frame": {
               "duration": 0,
               "redraw": true
              },
              "fromcurrent": true,
              "mode": "immediate",
              "transition": {
               "duration": 0,
               "easing": "linear"
              }
             }
            ],
            "label": "01/18/2020",
            "method": "animate"
           },
           {
            "args": [
             [
              "01/19/2020"
             ],
             {
              "frame": {
               "duration": 0,
               "redraw": true
              },
              "fromcurrent": true,
              "mode": "immediate",
              "transition": {
               "duration": 0,
               "easing": "linear"
              }
             }
            ],
            "label": "01/19/2020",
            "method": "animate"
           },
           {
            "args": [
             [
              "01/20/2020"
             ],
             {
              "frame": {
               "duration": 0,
               "redraw": true
              },
              "fromcurrent": true,
              "mode": "immediate",
              "transition": {
               "duration": 0,
               "easing": "linear"
              }
             }
            ],
            "label": "01/20/2020",
            "method": "animate"
           },
           {
            "args": [
             [
              "01/25/2020"
             ],
             {
              "frame": {
               "duration": 0,
               "redraw": true
              },
              "fromcurrent": true,
              "mode": "immediate",
              "transition": {
               "duration": 0,
               "easing": "linear"
              }
             }
            ],
            "label": "01/25/2020",
            "method": "animate"
           },
           {
            "args": [
             [
              "01/26/2020"
             ],
             {
              "frame": {
               "duration": 0,
               "redraw": true
              },
              "fromcurrent": true,
              "mode": "immediate",
              "transition": {
               "duration": 0,
               "easing": "linear"
              }
             }
            ],
            "label": "01/26/2020",
            "method": "animate"
           },
           {
            "args": [
             [
              "01/27/2020"
             ],
             {
              "frame": {
               "duration": 0,
               "redraw": true
              },
              "fromcurrent": true,
              "mode": "immediate",
              "transition": {
               "duration": 0,
               "easing": "linear"
              }
             }
            ],
            "label": "01/27/2020",
            "method": "animate"
           },
           {
            "args": [
             [
              "01/28/2020"
             ],
             {
              "frame": {
               "duration": 0,
               "redraw": true
              },
              "fromcurrent": true,
              "mode": "immediate",
              "transition": {
               "duration": 0,
               "easing": "linear"
              }
             }
            ],
            "label": "01/28/2020",
            "method": "animate"
           },
           {
            "args": [
             [
              "01/29/2020"
             ],
             {
              "frame": {
               "duration": 0,
               "redraw": true
              },
              "fromcurrent": true,
              "mode": "immediate",
              "transition": {
               "duration": 0,
               "easing": "linear"
              }
             }
            ],
            "label": "01/29/2020",
            "method": "animate"
           },
           {
            "args": [
             [
              "01/31/2020"
             ],
             {
              "frame": {
               "duration": 0,
               "redraw": true
              },
              "fromcurrent": true,
              "mode": "immediate",
              "transition": {
               "duration": 0,
               "easing": "linear"
              }
             }
            ],
            "label": "01/31/2020",
            "method": "animate"
           },
           {
            "args": [
             [
              "02/01/2020"
             ],
             {
              "frame": {
               "duration": 0,
               "redraw": true
              },
              "fromcurrent": true,
              "mode": "immediate",
              "transition": {
               "duration": 0,
               "easing": "linear"
              }
             }
            ],
            "label": "02/01/2020",
            "method": "animate"
           },
           {
            "args": [
             [
              "02/04/2020"
             ],
             {
              "frame": {
               "duration": 0,
               "redraw": true
              },
              "fromcurrent": true,
              "mode": "immediate",
              "transition": {
               "duration": 0,
               "easing": "linear"
              }
             }
            ],
            "label": "02/04/2020",
            "method": "animate"
           },
           {
            "args": [
             [
              "02/05/2020"
             ],
             {
              "frame": {
               "duration": 0,
               "redraw": true
              },
              "fromcurrent": true,
              "mode": "immediate",
              "transition": {
               "duration": 0,
               "easing": "linear"
              }
             }
            ],
            "label": "02/05/2020",
            "method": "animate"
           },
           {
            "args": [
             [
              "02/11/2020"
             ],
             {
              "frame": {
               "duration": 0,
               "redraw": true
              },
              "fromcurrent": true,
              "mode": "immediate",
              "transition": {
               "duration": 0,
               "easing": "linear"
              }
             }
            ],
            "label": "02/11/2020",
            "method": "animate"
           },
           {
            "args": [
             [
              "02/12/2020"
             ],
             {
              "frame": {
               "duration": 0,
               "redraw": true
              },
              "fromcurrent": true,
              "mode": "immediate",
              "transition": {
               "duration": 0,
               "easing": "linear"
              }
             }
            ],
            "label": "02/12/2020",
            "method": "animate"
           },
           {
            "args": [
             [
              "02/15/2020"
             ],
             {
              "frame": {
               "duration": 0,
               "redraw": true
              },
              "fromcurrent": true,
              "mode": "immediate",
              "transition": {
               "duration": 0,
               "easing": "linear"
              }
             }
            ],
            "label": "02/15/2020",
            "method": "animate"
           },
           {
            "args": [
             [
              "02/18/2020"
             ],
             {
              "frame": {
               "duration": 0,
               "redraw": true
              },
              "fromcurrent": true,
              "mode": "immediate",
              "transition": {
               "duration": 0,
               "easing": "linear"
              }
             }
            ],
            "label": "02/18/2020",
            "method": "animate"
           },
           {
            "args": [
             [
              "02/19/2020"
             ],
             {
              "frame": {
               "duration": 0,
               "redraw": true
              },
              "fromcurrent": true,
              "mode": "immediate",
              "transition": {
               "duration": 0,
               "easing": "linear"
              }
             }
            ],
            "label": "02/19/2020",
            "method": "animate"
           },
           {
            "args": [
             [
              "02/21/2020"
             ],
             {
              "frame": {
               "duration": 0,
               "redraw": true
              },
              "fromcurrent": true,
              "mode": "immediate",
              "transition": {
               "duration": 0,
               "easing": "linear"
              }
             }
            ],
            "label": "02/21/2020",
            "method": "animate"
           },
           {
            "args": [
             [
              "02/24/2020"
             ],
             {
              "frame": {
               "duration": 0,
               "redraw": true
              },
              "fromcurrent": true,
              "mode": "immediate",
              "transition": {
               "duration": 0,
               "easing": "linear"
              }
             }
            ],
            "label": "02/24/2020",
            "method": "animate"
           },
           {
            "args": [
             [
              "02/25/2020"
             ],
             {
              "frame": {
               "duration": 0,
               "redraw": true
              },
              "fromcurrent": true,
              "mode": "immediate",
              "transition": {
               "duration": 0,
               "easing": "linear"
              }
             }
            ],
            "label": "02/25/2020",
            "method": "animate"
           },
           {
            "args": [
             [
              "02/26/2020"
             ],
             {
              "frame": {
               "duration": 0,
               "redraw": true
              },
              "fromcurrent": true,
              "mode": "immediate",
              "transition": {
               "duration": 0,
               "easing": "linear"
              }
             }
            ],
            "label": "02/26/2020",
            "method": "animate"
           },
           {
            "args": [
             [
              "02/27/2020"
             ],
             {
              "frame": {
               "duration": 0,
               "redraw": true
              },
              "fromcurrent": true,
              "mode": "immediate",
              "transition": {
               "duration": 0,
               "easing": "linear"
              }
             }
            ],
            "label": "02/27/2020",
            "method": "animate"
           },
           {
            "args": [
             [
              "02/28/2020"
             ],
             {
              "frame": {
               "duration": 0,
               "redraw": true
              },
              "fromcurrent": true,
              "mode": "immediate",
              "transition": {
               "duration": 0,
               "easing": "linear"
              }
             }
            ],
            "label": "02/28/2020",
            "method": "animate"
           },
           {
            "args": [
             [
              "03/02/2020"
             ],
             {
              "frame": {
               "duration": 0,
               "redraw": true
              },
              "fromcurrent": true,
              "mode": "immediate",
              "transition": {
               "duration": 0,
               "easing": "linear"
              }
             }
            ],
            "label": "03/02/2020",
            "method": "animate"
           },
           {
            "args": [
             [
              "03/03/2020"
             ],
             {
              "frame": {
               "duration": 0,
               "redraw": true
              },
              "fromcurrent": true,
              "mode": "immediate",
              "transition": {
               "duration": 0,
               "easing": "linear"
              }
             }
            ],
            "label": "03/03/2020",
            "method": "animate"
           },
           {
            "args": [
             [
              "03/08/2020"
             ],
             {
              "frame": {
               "duration": 0,
               "redraw": true
              },
              "fromcurrent": true,
              "mode": "immediate",
              "transition": {
               "duration": 0,
               "easing": "linear"
              }
             }
            ],
            "label": "03/08/2020",
            "method": "animate"
           },
           {
            "args": [
             [
              "03/09/2020"
             ],
             {
              "frame": {
               "duration": 0,
               "redraw": true
              },
              "fromcurrent": true,
              "mode": "immediate",
              "transition": {
               "duration": 0,
               "easing": "linear"
              }
             }
            ],
            "label": "03/09/2020",
            "method": "animate"
           },
           {
            "args": [
             [
              "03/10/2020"
             ],
             {
              "frame": {
               "duration": 0,
               "redraw": true
              },
              "fromcurrent": true,
              "mode": "immediate",
              "transition": {
               "duration": 0,
               "easing": "linear"
              }
             }
            ],
            "label": "03/10/2020",
            "method": "animate"
           },
           {
            "args": [
             [
              "03/12/2020"
             ],
             {
              "frame": {
               "duration": 0,
               "redraw": true
              },
              "fromcurrent": true,
              "mode": "immediate",
              "transition": {
               "duration": 0,
               "easing": "linear"
              }
             }
            ],
            "label": "03/12/2020",
            "method": "animate"
           },
           {
            "args": [
             [
              "03/16/2020"
             ],
             {
              "frame": {
               "duration": 0,
               "redraw": true
              },
              "fromcurrent": true,
              "mode": "immediate",
              "transition": {
               "duration": 0,
               "easing": "linear"
              }
             }
            ],
            "label": "03/16/2020",
            "method": "animate"
           },
           {
            "args": [
             [
              "03/19/2020"
             ],
             {
              "frame": {
               "duration": 0,
               "redraw": true
              },
              "fromcurrent": true,
              "mode": "immediate",
              "transition": {
               "duration": 0,
               "easing": "linear"
              }
             }
            ],
            "label": "03/19/2020",
            "method": "animate"
           },
           {
            "args": [
             [
              "03/20/2020"
             ],
             {
              "frame": {
               "duration": 0,
               "redraw": true
              },
              "fromcurrent": true,
              "mode": "immediate",
              "transition": {
               "duration": 0,
               "easing": "linear"
              }
             }
            ],
            "label": "03/20/2020",
            "method": "animate"
           },
           {
            "args": [
             [
              "03/21/2020"
             ],
             {
              "frame": {
               "duration": 0,
               "redraw": true
              },
              "fromcurrent": true,
              "mode": "immediate",
              "transition": {
               "duration": 0,
               "easing": "linear"
              }
             }
            ],
            "label": "03/21/2020",
            "method": "animate"
           },
           {
            "args": [
             [
              "03/22/2020"
             ],
             {
              "frame": {
               "duration": 0,
               "redraw": true
              },
              "fromcurrent": true,
              "mode": "immediate",
              "transition": {
               "duration": 0,
               "easing": "linear"
              }
             }
            ],
            "label": "03/22/2020",
            "method": "animate"
           },
           {
            "args": [
             [
              "03/24/2020"
             ],
             {
              "frame": {
               "duration": 0,
               "redraw": true
              },
              "fromcurrent": true,
              "mode": "immediate",
              "transition": {
               "duration": 0,
               "easing": "linear"
              }
             }
            ],
            "label": "03/24/2020",
            "method": "animate"
           },
           {
            "args": [
             [
              "03/26/2020"
             ],
             {
              "frame": {
               "duration": 0,
               "redraw": true
              },
              "fromcurrent": true,
              "mode": "immediate",
              "transition": {
               "duration": 0,
               "easing": "linear"
              }
             }
            ],
            "label": "03/26/2020",
            "method": "animate"
           },
           {
            "args": [
             [
              "03/27/2020"
             ],
             {
              "frame": {
               "duration": 0,
               "redraw": true
              },
              "fromcurrent": true,
              "mode": "immediate",
              "transition": {
               "duration": 0,
               "easing": "linear"
              }
             }
            ],
            "label": "03/27/2020",
            "method": "animate"
           },
           {
            "args": [
             [
              "03/28/2020"
             ],
             {
              "frame": {
               "duration": 0,
               "redraw": true
              },
              "fromcurrent": true,
              "mode": "immediate",
              "transition": {
               "duration": 0,
               "easing": "linear"
              }
             }
            ],
            "label": "03/28/2020",
            "method": "animate"
           },
           {
            "args": [
             [
              "03/30/2020"
             ],
             {
              "frame": {
               "duration": 0,
               "redraw": true
              },
              "fromcurrent": true,
              "mode": "immediate",
              "transition": {
               "duration": 0,
               "easing": "linear"
              }
             }
            ],
            "label": "03/30/2020",
            "method": "animate"
           },
           {
            "args": [
             [
              "03/31/2020"
             ],
             {
              "frame": {
               "duration": 0,
               "redraw": true
              },
              "fromcurrent": true,
              "mode": "immediate",
              "transition": {
               "duration": 0,
               "easing": "linear"
              }
             }
            ],
            "label": "03/31/2020",
            "method": "animate"
           },
           {
            "args": [
             [
              "04/02/2020"
             ],
             {
              "frame": {
               "duration": 0,
               "redraw": true
              },
              "fromcurrent": true,
              "mode": "immediate",
              "transition": {
               "duration": 0,
               "easing": "linear"
              }
             }
            ],
            "label": "04/02/2020",
            "method": "animate"
           },
           {
            "args": [
             [
              "04/04/2020"
             ],
             {
              "frame": {
               "duration": 0,
               "redraw": true
              },
              "fromcurrent": true,
              "mode": "immediate",
              "transition": {
               "duration": 0,
               "easing": "linear"
              }
             }
            ],
            "label": "04/04/2020",
            "method": "animate"
           },
           {
            "args": [
             [
              "04/06/2020"
             ],
             {
              "frame": {
               "duration": 0,
               "redraw": true
              },
              "fromcurrent": true,
              "mode": "immediate",
              "transition": {
               "duration": 0,
               "easing": "linear"
              }
             }
            ],
            "label": "04/06/2020",
            "method": "animate"
           },
           {
            "args": [
             [
              "04/07/2020"
             ],
             {
              "frame": {
               "duration": 0,
               "redraw": true
              },
              "fromcurrent": true,
              "mode": "immediate",
              "transition": {
               "duration": 0,
               "easing": "linear"
              }
             }
            ],
            "label": "04/07/2020",
            "method": "animate"
           },
           {
            "args": [
             [
              "04/10/2020"
             ],
             {
              "frame": {
               "duration": 0,
               "redraw": true
              },
              "fromcurrent": true,
              "mode": "immediate",
              "transition": {
               "duration": 0,
               "easing": "linear"
              }
             }
            ],
            "label": "04/10/2020",
            "method": "animate"
           },
           {
            "args": [
             [
              "04/11/2020"
             ],
             {
              "frame": {
               "duration": 0,
               "redraw": true
              },
              "fromcurrent": true,
              "mode": "immediate",
              "transition": {
               "duration": 0,
               "easing": "linear"
              }
             }
            ],
            "label": "04/11/2020",
            "method": "animate"
           },
           {
            "args": [
             [
              "04/12/2020"
             ],
             {
              "frame": {
               "duration": 0,
               "redraw": true
              },
              "fromcurrent": true,
              "mode": "immediate",
              "transition": {
               "duration": 0,
               "easing": "linear"
              }
             }
            ],
            "label": "04/12/2020",
            "method": "animate"
           },
           {
            "args": [
             [
              "04/17/2020"
             ],
             {
              "frame": {
               "duration": 0,
               "redraw": true
              },
              "fromcurrent": true,
              "mode": "immediate",
              "transition": {
               "duration": 0,
               "easing": "linear"
              }
             }
            ],
            "label": "04/17/2020",
            "method": "animate"
           },
           {
            "args": [
             [
              "04/24/2020"
             ],
             {
              "frame": {
               "duration": 0,
               "redraw": true
              },
              "fromcurrent": true,
              "mode": "immediate",
              "transition": {
               "duration": 0,
               "easing": "linear"
              }
             }
            ],
            "label": "04/24/2020",
            "method": "animate"
           },
           {
            "args": [
             [
              "04/25/2020"
             ],
             {
              "frame": {
               "duration": 0,
               "redraw": true
              },
              "fromcurrent": true,
              "mode": "immediate",
              "transition": {
               "duration": 0,
               "easing": "linear"
              }
             }
            ],
            "label": "04/25/2020",
            "method": "animate"
           },
           {
            "args": [
             [
              "04/26/2020"
             ],
             {
              "frame": {
               "duration": 0,
               "redraw": true
              },
              "fromcurrent": true,
              "mode": "immediate",
              "transition": {
               "duration": 0,
               "easing": "linear"
              }
             }
            ],
            "label": "04/26/2020",
            "method": "animate"
           },
           {
            "args": [
             [
              "04/27/2020"
             ],
             {
              "frame": {
               "duration": 0,
               "redraw": true
              },
              "fromcurrent": true,
              "mode": "immediate",
              "transition": {
               "duration": 0,
               "easing": "linear"
              }
             }
            ],
            "label": "04/27/2020",
            "method": "animate"
           },
           {
            "args": [
             [
              "05/01/2020"
             ],
             {
              "frame": {
               "duration": 0,
               "redraw": true
              },
              "fromcurrent": true,
              "mode": "immediate",
              "transition": {
               "duration": 0,
               "easing": "linear"
              }
             }
            ],
            "label": "05/01/2020",
            "method": "animate"
           },
           {
            "args": [
             [
              "05/02/2020"
             ],
             {
              "frame": {
               "duration": 0,
               "redraw": true
              },
              "fromcurrent": true,
              "mode": "immediate",
              "transition": {
               "duration": 0,
               "easing": "linear"
              }
             }
            ],
            "label": "05/02/2020",
            "method": "animate"
           },
           {
            "args": [
             [
              "05/03/2020"
             ],
             {
              "frame": {
               "duration": 0,
               "redraw": true
              },
              "fromcurrent": true,
              "mode": "immediate",
              "transition": {
               "duration": 0,
               "easing": "linear"
              }
             }
            ],
            "label": "05/03/2020",
            "method": "animate"
           },
           {
            "args": [
             [
              "05/04/2020"
             ],
             {
              "frame": {
               "duration": 0,
               "redraw": true
              },
              "fromcurrent": true,
              "mode": "immediate",
              "transition": {
               "duration": 0,
               "easing": "linear"
              }
             }
            ],
            "label": "05/04/2020",
            "method": "animate"
           },
           {
            "args": [
             [
              "05/05/2020"
             ],
             {
              "frame": {
               "duration": 0,
               "redraw": true
              },
              "fromcurrent": true,
              "mode": "immediate",
              "transition": {
               "duration": 0,
               "easing": "linear"
              }
             }
            ],
            "label": "05/05/2020",
            "method": "animate"
           },
           {
            "args": [
             [
              "05/06/2020"
             ],
             {
              "frame": {
               "duration": 0,
               "redraw": true
              },
              "fromcurrent": true,
              "mode": "immediate",
              "transition": {
               "duration": 0,
               "easing": "linear"
              }
             }
            ],
            "label": "05/06/2020",
            "method": "animate"
           },
           {
            "args": [
             [
              "05/07/2020"
             ],
             {
              "frame": {
               "duration": 0,
               "redraw": true
              },
              "fromcurrent": true,
              "mode": "immediate",
              "transition": {
               "duration": 0,
               "easing": "linear"
              }
             }
            ],
            "label": "05/07/2020",
            "method": "animate"
           },
           {
            "args": [
             [
              "05/08/2020"
             ],
             {
              "frame": {
               "duration": 0,
               "redraw": true
              },
              "fromcurrent": true,
              "mode": "immediate",
              "transition": {
               "duration": 0,
               "easing": "linear"
              }
             }
            ],
            "label": "05/08/2020",
            "method": "animate"
           },
           {
            "args": [
             [
              "05/09/2020"
             ],
             {
              "frame": {
               "duration": 0,
               "redraw": true
              },
              "fromcurrent": true,
              "mode": "immediate",
              "transition": {
               "duration": 0,
               "easing": "linear"
              }
             }
            ],
            "label": "05/09/2020",
            "method": "animate"
           },
           {
            "args": [
             [
              "05/12/2020"
             ],
             {
              "frame": {
               "duration": 0,
               "redraw": true
              },
              "fromcurrent": true,
              "mode": "immediate",
              "transition": {
               "duration": 0,
               "easing": "linear"
              }
             }
            ],
            "label": "05/12/2020",
            "method": "animate"
           },
           {
            "args": [
             [
              "05/14/2020"
             ],
             {
              "frame": {
               "duration": 0,
               "redraw": true
              },
              "fromcurrent": true,
              "mode": "immediate",
              "transition": {
               "duration": 0,
               "easing": "linear"
              }
             }
            ],
            "label": "05/14/2020",
            "method": "animate"
           },
           {
            "args": [
             [
              "05/18/2020"
             ],
             {
              "frame": {
               "duration": 0,
               "redraw": true
              },
              "fromcurrent": true,
              "mode": "immediate",
              "transition": {
               "duration": 0,
               "easing": "linear"
              }
             }
            ],
            "label": "05/18/2020",
            "method": "animate"
           },
           {
            "args": [
             [
              "05/20/2020"
             ],
             {
              "frame": {
               "duration": 0,
               "redraw": true
              },
              "fromcurrent": true,
              "mode": "immediate",
              "transition": {
               "duration": 0,
               "easing": "linear"
              }
             }
            ],
            "label": "05/20/2020",
            "method": "animate"
           },
           {
            "args": [
             [
              "05/23/2020"
             ],
             {
              "frame": {
               "duration": 0,
               "redraw": true
              },
              "fromcurrent": true,
              "mode": "immediate",
              "transition": {
               "duration": 0,
               "easing": "linear"
              }
             }
            ],
            "label": "05/23/2020",
            "method": "animate"
           },
           {
            "args": [
             [
              "05/26/2020"
             ],
             {
              "frame": {
               "duration": 0,
               "redraw": true
              },
              "fromcurrent": true,
              "mode": "immediate",
              "transition": {
               "duration": 0,
               "easing": "linear"
              }
             }
            ],
            "label": "05/26/2020",
            "method": "animate"
           },
           {
            "args": [
             [
              "05/27/2020"
             ],
             {
              "frame": {
               "duration": 0,
               "redraw": true
              },
              "fromcurrent": true,
              "mode": "immediate",
              "transition": {
               "duration": 0,
               "easing": "linear"
              }
             }
            ],
            "label": "05/27/2020",
            "method": "animate"
           },
           {
            "args": [
             [
              "05/30/2020"
             ],
             {
              "frame": {
               "duration": 0,
               "redraw": true
              },
              "fromcurrent": true,
              "mode": "immediate",
              "transition": {
               "duration": 0,
               "easing": "linear"
              }
             }
            ],
            "label": "05/30/2020",
            "method": "animate"
           },
           {
            "args": [
             [
              "06/01/2020"
             ],
             {
              "frame": {
               "duration": 0,
               "redraw": true
              },
              "fromcurrent": true,
              "mode": "immediate",
              "transition": {
               "duration": 0,
               "easing": "linear"
              }
             }
            ],
            "label": "06/01/2020",
            "method": "animate"
           },
           {
            "args": [
             [
              "06/04/2020"
             ],
             {
              "frame": {
               "duration": 0,
               "redraw": true
              },
              "fromcurrent": true,
              "mode": "immediate",
              "transition": {
               "duration": 0,
               "easing": "linear"
              }
             }
            ],
            "label": "06/04/2020",
            "method": "animate"
           },
           {
            "args": [
             [
              "06/06/2020"
             ],
             {
              "frame": {
               "duration": 0,
               "redraw": true
              },
              "fromcurrent": true,
              "mode": "immediate",
              "transition": {
               "duration": 0,
               "easing": "linear"
              }
             }
            ],
            "label": "06/06/2020",
            "method": "animate"
           },
           {
            "args": [
             [
              "06/07/2020"
             ],
             {
              "frame": {
               "duration": 0,
               "redraw": true
              },
              "fromcurrent": true,
              "mode": "immediate",
              "transition": {
               "duration": 0,
               "easing": "linear"
              }
             }
            ],
            "label": "06/07/2020",
            "method": "animate"
           },
           {
            "args": [
             [
              "06/09/2020"
             ],
             {
              "frame": {
               "duration": 0,
               "redraw": true
              },
              "fromcurrent": true,
              "mode": "immediate",
              "transition": {
               "duration": 0,
               "easing": "linear"
              }
             }
            ],
            "label": "06/09/2020",
            "method": "animate"
           },
           {
            "args": [
             [
              "06/10/2020"
             ],
             {
              "frame": {
               "duration": 0,
               "redraw": true
              },
              "fromcurrent": true,
              "mode": "immediate",
              "transition": {
               "duration": 0,
               "easing": "linear"
              }
             }
            ],
            "label": "06/10/2020",
            "method": "animate"
           },
           {
            "args": [
             [
              "06/11/2020"
             ],
             {
              "frame": {
               "duration": 0,
               "redraw": true
              },
              "fromcurrent": true,
              "mode": "immediate",
              "transition": {
               "duration": 0,
               "easing": "linear"
              }
             }
            ],
            "label": "06/11/2020",
            "method": "animate"
           },
           {
            "args": [
             [
              "06/13/2020"
             ],
             {
              "frame": {
               "duration": 0,
               "redraw": true
              },
              "fromcurrent": true,
              "mode": "immediate",
              "transition": {
               "duration": 0,
               "easing": "linear"
              }
             }
            ],
            "label": "06/13/2020",
            "method": "animate"
           },
           {
            "args": [
             [
              "06/14/2020"
             ],
             {
              "frame": {
               "duration": 0,
               "redraw": true
              },
              "fromcurrent": true,
              "mode": "immediate",
              "transition": {
               "duration": 0,
               "easing": "linear"
              }
             }
            ],
            "label": "06/14/2020",
            "method": "animate"
           },
           {
            "args": [
             [
              "06/15/2020"
             ],
             {
              "frame": {
               "duration": 0,
               "redraw": true
              },
              "fromcurrent": true,
              "mode": "immediate",
              "transition": {
               "duration": 0,
               "easing": "linear"
              }
             }
            ],
            "label": "06/15/2020",
            "method": "animate"
           },
           {
            "args": [
             [
              "06/16/2020"
             ],
             {
              "frame": {
               "duration": 0,
               "redraw": true
              },
              "fromcurrent": true,
              "mode": "immediate",
              "transition": {
               "duration": 0,
               "easing": "linear"
              }
             }
            ],
            "label": "06/16/2020",
            "method": "animate"
           },
           {
            "args": [
             [
              "06/17/2020"
             ],
             {
              "frame": {
               "duration": 0,
               "redraw": true
              },
              "fromcurrent": true,
              "mode": "immediate",
              "transition": {
               "duration": 0,
               "easing": "linear"
              }
             }
            ],
            "label": "06/17/2020",
            "method": "animate"
           },
           {
            "args": [
             [
              "06/19/2020"
             ],
             {
              "frame": {
               "duration": 0,
               "redraw": true
              },
              "fromcurrent": true,
              "mode": "immediate",
              "transition": {
               "duration": 0,
               "easing": "linear"
              }
             }
            ],
            "label": "06/19/2020",
            "method": "animate"
           },
           {
            "args": [
             [
              "06/20/2020"
             ],
             {
              "frame": {
               "duration": 0,
               "redraw": true
              },
              "fromcurrent": true,
              "mode": "immediate",
              "transition": {
               "duration": 0,
               "easing": "linear"
              }
             }
            ],
            "label": "06/20/2020",
            "method": "animate"
           },
           {
            "args": [
             [
              "06/23/2020"
             ],
             {
              "frame": {
               "duration": 0,
               "redraw": true
              },
              "fromcurrent": true,
              "mode": "immediate",
              "transition": {
               "duration": 0,
               "easing": "linear"
              }
             }
            ],
            "label": "06/23/2020",
            "method": "animate"
           },
           {
            "args": [
             [
              "06/24/2020"
             ],
             {
              "frame": {
               "duration": 0,
               "redraw": true
              },
              "fromcurrent": true,
              "mode": "immediate",
              "transition": {
               "duration": 0,
               "easing": "linear"
              }
             }
            ],
            "label": "06/24/2020",
            "method": "animate"
           },
           {
            "args": [
             [
              "06/26/2020"
             ],
             {
              "frame": {
               "duration": 0,
               "redraw": true
              },
              "fromcurrent": true,
              "mode": "immediate",
              "transition": {
               "duration": 0,
               "easing": "linear"
              }
             }
            ],
            "label": "06/26/2020",
            "method": "animate"
           },
           {
            "args": [
             [
              "06/29/2020"
             ],
             {
              "frame": {
               "duration": 0,
               "redraw": true
              },
              "fromcurrent": true,
              "mode": "immediate",
              "transition": {
               "duration": 0,
               "easing": "linear"
              }
             }
            ],
            "label": "06/29/2020",
            "method": "animate"
           },
           {
            "args": [
             [
              "06/30/2020"
             ],
             {
              "frame": {
               "duration": 0,
               "redraw": true
              },
              "fromcurrent": true,
              "mode": "immediate",
              "transition": {
               "duration": 0,
               "easing": "linear"
              }
             }
            ],
            "label": "06/30/2020",
            "method": "animate"
           },
           {
            "args": [
             [
              "07/01/2020"
             ],
             {
              "frame": {
               "duration": 0,
               "redraw": true
              },
              "fromcurrent": true,
              "mode": "immediate",
              "transition": {
               "duration": 0,
               "easing": "linear"
              }
             }
            ],
            "label": "07/01/2020",
            "method": "animate"
           },
           {
            "args": [
             [
              "07/03/2020"
             ],
             {
              "frame": {
               "duration": 0,
               "redraw": true
              },
              "fromcurrent": true,
              "mode": "immediate",
              "transition": {
               "duration": 0,
               "easing": "linear"
              }
             }
            ],
            "label": "07/03/2020",
            "method": "animate"
           },
           {
            "args": [
             [
              "07/04/2020"
             ],
             {
              "frame": {
               "duration": 0,
               "redraw": true
              },
              "fromcurrent": true,
              "mode": "immediate",
              "transition": {
               "duration": 0,
               "easing": "linear"
              }
             }
            ],
            "label": "07/04/2020",
            "method": "animate"
           },
           {
            "args": [
             [
              "07/05/2020"
             ],
             {
              "frame": {
               "duration": 0,
               "redraw": true
              },
              "fromcurrent": true,
              "mode": "immediate",
              "transition": {
               "duration": 0,
               "easing": "linear"
              }
             }
            ],
            "label": "07/05/2020",
            "method": "animate"
           },
           {
            "args": [
             [
              "07/07/2020"
             ],
             {
              "frame": {
               "duration": 0,
               "redraw": true
              },
              "fromcurrent": true,
              "mode": "immediate",
              "transition": {
               "duration": 0,
               "easing": "linear"
              }
             }
            ],
            "label": "07/07/2020",
            "method": "animate"
           },
           {
            "args": [
             [
              "07/10/2020"
             ],
             {
              "frame": {
               "duration": 0,
               "redraw": true
              },
              "fromcurrent": true,
              "mode": "immediate",
              "transition": {
               "duration": 0,
               "easing": "linear"
              }
             }
            ],
            "label": "07/10/2020",
            "method": "animate"
           },
           {
            "args": [
             [
              "07/15/2020"
             ],
             {
              "frame": {
               "duration": 0,
               "redraw": true
              },
              "fromcurrent": true,
              "mode": "immediate",
              "transition": {
               "duration": 0,
               "easing": "linear"
              }
             }
            ],
            "label": "07/15/2020",
            "method": "animate"
           },
           {
            "args": [
             [
              "07/16/2020"
             ],
             {
              "frame": {
               "duration": 0,
               "redraw": true
              },
              "fromcurrent": true,
              "mode": "immediate",
              "transition": {
               "duration": 0,
               "easing": "linear"
              }
             }
            ],
            "label": "07/16/2020",
            "method": "animate"
           },
           {
            "args": [
             [
              "07/18/2020"
             ],
             {
              "frame": {
               "duration": 0,
               "redraw": true
              },
              "fromcurrent": true,
              "mode": "immediate",
              "transition": {
               "duration": 0,
               "easing": "linear"
              }
             }
            ],
            "label": "07/18/2020",
            "method": "animate"
           },
           {
            "args": [
             [
              "07/19/2020"
             ],
             {
              "frame": {
               "duration": 0,
               "redraw": true
              },
              "fromcurrent": true,
              "mode": "immediate",
              "transition": {
               "duration": 0,
               "easing": "linear"
              }
             }
            ],
            "label": "07/19/2020",
            "method": "animate"
           },
           {
            "args": [
             [
              "07/22/2020"
             ],
             {
              "frame": {
               "duration": 0,
               "redraw": true
              },
              "fromcurrent": true,
              "mode": "immediate",
              "transition": {
               "duration": 0,
               "easing": "linear"
              }
             }
            ],
            "label": "07/22/2020",
            "method": "animate"
           },
           {
            "args": [
             [
              "07/23/2020"
             ],
             {
              "frame": {
               "duration": 0,
               "redraw": true
              },
              "fromcurrent": true,
              "mode": "immediate",
              "transition": {
               "duration": 0,
               "easing": "linear"
              }
             }
            ],
            "label": "07/23/2020",
            "method": "animate"
           },
           {
            "args": [
             [
              "07/25/2020"
             ],
             {
              "frame": {
               "duration": 0,
               "redraw": true
              },
              "fromcurrent": true,
              "mode": "immediate",
              "transition": {
               "duration": 0,
               "easing": "linear"
              }
             }
            ],
            "label": "07/25/2020",
            "method": "animate"
           },
           {
            "args": [
             [
              "07/27/2020"
             ],
             {
              "frame": {
               "duration": 0,
               "redraw": true
              },
              "fromcurrent": true,
              "mode": "immediate",
              "transition": {
               "duration": 0,
               "easing": "linear"
              }
             }
            ],
            "label": "07/27/2020",
            "method": "animate"
           },
           {
            "args": [
             [
              "07/31/2020"
             ],
             {
              "frame": {
               "duration": 0,
               "redraw": true
              },
              "fromcurrent": true,
              "mode": "immediate",
              "transition": {
               "duration": 0,
               "easing": "linear"
              }
             }
            ],
            "label": "07/31/2020",
            "method": "animate"
           },
           {
            "args": [
             [
              "08/01/2020"
             ],
             {
              "frame": {
               "duration": 0,
               "redraw": true
              },
              "fromcurrent": true,
              "mode": "immediate",
              "transition": {
               "duration": 0,
               "easing": "linear"
              }
             }
            ],
            "label": "08/01/2020",
            "method": "animate"
           },
           {
            "args": [
             [
              "08/06/2020"
             ],
             {
              "frame": {
               "duration": 0,
               "redraw": true
              },
              "fromcurrent": true,
              "mode": "immediate",
              "transition": {
               "duration": 0,
               "easing": "linear"
              }
             }
            ],
            "label": "08/06/2020",
            "method": "animate"
           },
           {
            "args": [
             [
              "08/13/2020"
             ],
             {
              "frame": {
               "duration": 0,
               "redraw": true
              },
              "fromcurrent": true,
              "mode": "immediate",
              "transition": {
               "duration": 0,
               "easing": "linear"
              }
             }
            ],
            "label": "08/13/2020",
            "method": "animate"
           },
           {
            "args": [
             [
              "08/14/2020"
             ],
             {
              "frame": {
               "duration": 0,
               "redraw": true
              },
              "fromcurrent": true,
              "mode": "immediate",
              "transition": {
               "duration": 0,
               "easing": "linear"
              }
             }
            ],
            "label": "08/14/2020",
            "method": "animate"
           },
           {
            "args": [
             [
              "08/18/2020"
             ],
             {
              "frame": {
               "duration": 0,
               "redraw": true
              },
              "fromcurrent": true,
              "mode": "immediate",
              "transition": {
               "duration": 0,
               "easing": "linear"
              }
             }
            ],
            "label": "08/18/2020",
            "method": "animate"
           },
           {
            "args": [
             [
              "08/19/2020"
             ],
             {
              "frame": {
               "duration": 0,
               "redraw": true
              },
              "fromcurrent": true,
              "mode": "immediate",
              "transition": {
               "duration": 0,
               "easing": "linear"
              }
             }
            ],
            "label": "08/19/2020",
            "method": "animate"
           },
           {
            "args": [
             [
              "08/20/2020"
             ],
             {
              "frame": {
               "duration": 0,
               "redraw": true
              },
              "fromcurrent": true,
              "mode": "immediate",
              "transition": {
               "duration": 0,
               "easing": "linear"
              }
             }
            ],
            "label": "08/20/2020",
            "method": "animate"
           },
           {
            "args": [
             [
              "08/25/2020"
             ],
             {
              "frame": {
               "duration": 0,
               "redraw": true
              },
              "fromcurrent": true,
              "mode": "immediate",
              "transition": {
               "duration": 0,
               "easing": "linear"
              }
             }
            ],
            "label": "08/25/2020",
            "method": "animate"
           },
           {
            "args": [
             [
              "08/26/2020"
             ],
             {
              "frame": {
               "duration": 0,
               "redraw": true
              },
              "fromcurrent": true,
              "mode": "immediate",
              "transition": {
               "duration": 0,
               "easing": "linear"
              }
             }
            ],
            "label": "08/26/2020",
            "method": "animate"
           },
           {
            "args": [
             [
              "08/30/2020"
             ],
             {
              "frame": {
               "duration": 0,
               "redraw": true
              },
              "fromcurrent": true,
              "mode": "immediate",
              "transition": {
               "duration": 0,
               "easing": "linear"
              }
             }
            ],
            "label": "08/30/2020",
            "method": "animate"
           },
           {
            "args": [
             [
              "08/31/2020"
             ],
             {
              "frame": {
               "duration": 0,
               "redraw": true
              },
              "fromcurrent": true,
              "mode": "immediate",
              "transition": {
               "duration": 0,
               "easing": "linear"
              }
             }
            ],
            "label": "08/31/2020",
            "method": "animate"
           },
           {
            "args": [
             [
              "09/01/2020"
             ],
             {
              "frame": {
               "duration": 0,
               "redraw": true
              },
              "fromcurrent": true,
              "mode": "immediate",
              "transition": {
               "duration": 0,
               "easing": "linear"
              }
             }
            ],
            "label": "09/01/2020",
            "method": "animate"
           },
           {
            "args": [
             [
              "09/02/2020"
             ],
             {
              "frame": {
               "duration": 0,
               "redraw": true
              },
              "fromcurrent": true,
              "mode": "immediate",
              "transition": {
               "duration": 0,
               "easing": "linear"
              }
             }
            ],
            "label": "09/02/2020",
            "method": "animate"
           },
           {
            "args": [
             [
              "09/05/2020"
             ],
             {
              "frame": {
               "duration": 0,
               "redraw": true
              },
              "fromcurrent": true,
              "mode": "immediate",
              "transition": {
               "duration": 0,
               "easing": "linear"
              }
             }
            ],
            "label": "09/05/2020",
            "method": "animate"
           },
           {
            "args": [
             [
              "09/06/2020"
             ],
             {
              "frame": {
               "duration": 0,
               "redraw": true
              },
              "fromcurrent": true,
              "mode": "immediate",
              "transition": {
               "duration": 0,
               "easing": "linear"
              }
             }
            ],
            "label": "09/06/2020",
            "method": "animate"
           },
           {
            "args": [
             [
              "09/09/2020"
             ],
             {
              "frame": {
               "duration": 0,
               "redraw": true
              },
              "fromcurrent": true,
              "mode": "immediate",
              "transition": {
               "duration": 0,
               "easing": "linear"
              }
             }
            ],
            "label": "09/09/2020",
            "method": "animate"
           },
           {
            "args": [
             [
              "09/12/2020"
             ],
             {
              "frame": {
               "duration": 0,
               "redraw": true
              },
              "fromcurrent": true,
              "mode": "immediate",
              "transition": {
               "duration": 0,
               "easing": "linear"
              }
             }
            ],
            "label": "09/12/2020",
            "method": "animate"
           },
           {
            "args": [
             [
              "09/13/2020"
             ],
             {
              "frame": {
               "duration": 0,
               "redraw": true
              },
              "fromcurrent": true,
              "mode": "immediate",
              "transition": {
               "duration": 0,
               "easing": "linear"
              }
             }
            ],
            "label": "09/13/2020",
            "method": "animate"
           },
           {
            "args": [
             [
              "09/14/2020"
             ],
             {
              "frame": {
               "duration": 0,
               "redraw": true
              },
              "fromcurrent": true,
              "mode": "immediate",
              "transition": {
               "duration": 0,
               "easing": "linear"
              }
             }
            ],
            "label": "09/14/2020",
            "method": "animate"
           },
           {
            "args": [
             [
              "09/15/2020"
             ],
             {
              "frame": {
               "duration": 0,
               "redraw": true
              },
              "fromcurrent": true,
              "mode": "immediate",
              "transition": {
               "duration": 0,
               "easing": "linear"
              }
             }
            ],
            "label": "09/15/2020",
            "method": "animate"
           },
           {
            "args": [
             [
              "09/17/2020"
             ],
             {
              "frame": {
               "duration": 0,
               "redraw": true
              },
              "fromcurrent": true,
              "mode": "immediate",
              "transition": {
               "duration": 0,
               "easing": "linear"
              }
             }
            ],
            "label": "09/17/2020",
            "method": "animate"
           },
           {
            "args": [
             [
              "09/19/2020"
             ],
             {
              "frame": {
               "duration": 0,
               "redraw": true
              },
              "fromcurrent": true,
              "mode": "immediate",
              "transition": {
               "duration": 0,
               "easing": "linear"
              }
             }
            ],
            "label": "09/19/2020",
            "method": "animate"
           },
           {
            "args": [
             [
              "09/25/2020"
             ],
             {
              "frame": {
               "duration": 0,
               "redraw": true
              },
              "fromcurrent": true,
              "mode": "immediate",
              "transition": {
               "duration": 0,
               "easing": "linear"
              }
             }
            ],
            "label": "09/25/2020",
            "method": "animate"
           },
           {
            "args": [
             [
              "09/26/2020"
             ],
             {
              "frame": {
               "duration": 0,
               "redraw": true
              },
              "fromcurrent": true,
              "mode": "immediate",
              "transition": {
               "duration": 0,
               "easing": "linear"
              }
             }
            ],
            "label": "09/26/2020",
            "method": "animate"
           },
           {
            "args": [
             [
              "09/27/2020"
             ],
             {
              "frame": {
               "duration": 0,
               "redraw": true
              },
              "fromcurrent": true,
              "mode": "immediate",
              "transition": {
               "duration": 0,
               "easing": "linear"
              }
             }
            ],
            "label": "09/27/2020",
            "method": "animate"
           },
           {
            "args": [
             [
              "09/28/2020"
             ],
             {
              "frame": {
               "duration": 0,
               "redraw": true
              },
              "fromcurrent": true,
              "mode": "immediate",
              "transition": {
               "duration": 0,
               "easing": "linear"
              }
             }
            ],
            "label": "09/28/2020",
            "method": "animate"
           },
           {
            "args": [
             [
              "09/29/2020"
             ],
             {
              "frame": {
               "duration": 0,
               "redraw": true
              },
              "fromcurrent": true,
              "mode": "immediate",
              "transition": {
               "duration": 0,
               "easing": "linear"
              }
             }
            ],
            "label": "09/29/2020",
            "method": "animate"
           },
           {
            "args": [
             [
              "09/30/2020"
             ],
             {
              "frame": {
               "duration": 0,
               "redraw": true
              },
              "fromcurrent": true,
              "mode": "immediate",
              "transition": {
               "duration": 0,
               "easing": "linear"
              }
             }
            ],
            "label": "09/30/2020",
            "method": "animate"
           },
           {
            "args": [
             [
              "10/06/2020"
             ],
             {
              "frame": {
               "duration": 0,
               "redraw": true
              },
              "fromcurrent": true,
              "mode": "immediate",
              "transition": {
               "duration": 0,
               "easing": "linear"
              }
             }
            ],
            "label": "10/06/2020",
            "method": "animate"
           },
           {
            "args": [
             [
              "10/08/2020"
             ],
             {
              "frame": {
               "duration": 0,
               "redraw": true
              },
              "fromcurrent": true,
              "mode": "immediate",
              "transition": {
               "duration": 0,
               "easing": "linear"
              }
             }
            ],
            "label": "10/08/2020",
            "method": "animate"
           },
           {
            "args": [
             [
              "10/11/2020"
             ],
             {
              "frame": {
               "duration": 0,
               "redraw": true
              },
              "fromcurrent": true,
              "mode": "immediate",
              "transition": {
               "duration": 0,
               "easing": "linear"
              }
             }
            ],
            "label": "10/11/2020",
            "method": "animate"
           },
           {
            "args": [
             [
              "10/13/2020"
             ],
             {
              "frame": {
               "duration": 0,
               "redraw": true
              },
              "fromcurrent": true,
              "mode": "immediate",
              "transition": {
               "duration": 0,
               "easing": "linear"
              }
             }
            ],
            "label": "10/13/2020",
            "method": "animate"
           },
           {
            "args": [
             [
              "10/15/2020"
             ],
             {
              "frame": {
               "duration": 0,
               "redraw": true
              },
              "fromcurrent": true,
              "mode": "immediate",
              "transition": {
               "duration": 0,
               "easing": "linear"
              }
             }
            ],
            "label": "10/15/2020",
            "method": "animate"
           },
           {
            "args": [
             [
              "10/16/2020"
             ],
             {
              "frame": {
               "duration": 0,
               "redraw": true
              },
              "fromcurrent": true,
              "mode": "immediate",
              "transition": {
               "duration": 0,
               "easing": "linear"
              }
             }
            ],
            "label": "10/16/2020",
            "method": "animate"
           },
           {
            "args": [
             [
              "10/18/2020"
             ],
             {
              "frame": {
               "duration": 0,
               "redraw": true
              },
              "fromcurrent": true,
              "mode": "immediate",
              "transition": {
               "duration": 0,
               "easing": "linear"
              }
             }
            ],
            "label": "10/18/2020",
            "method": "animate"
           },
           {
            "args": [
             [
              "10/19/2020"
             ],
             {
              "frame": {
               "duration": 0,
               "redraw": true
              },
              "fromcurrent": true,
              "mode": "immediate",
              "transition": {
               "duration": 0,
               "easing": "linear"
              }
             }
            ],
            "label": "10/19/2020",
            "method": "animate"
           },
           {
            "args": [
             [
              "10/20/2020"
             ],
             {
              "frame": {
               "duration": 0,
               "redraw": true
              },
              "fromcurrent": true,
              "mode": "immediate",
              "transition": {
               "duration": 0,
               "easing": "linear"
              }
             }
            ],
            "label": "10/20/2020",
            "method": "animate"
           },
           {
            "args": [
             [
              "10/23/2020"
             ],
             {
              "frame": {
               "duration": 0,
               "redraw": true
              },
              "fromcurrent": true,
              "mode": "immediate",
              "transition": {
               "duration": 0,
               "easing": "linear"
              }
             }
            ],
            "label": "10/23/2020",
            "method": "animate"
           },
           {
            "args": [
             [
              "10/25/2020"
             ],
             {
              "frame": {
               "duration": 0,
               "redraw": true
              },
              "fromcurrent": true,
              "mode": "immediate",
              "transition": {
               "duration": 0,
               "easing": "linear"
              }
             }
            ],
            "label": "10/25/2020",
            "method": "animate"
           },
           {
            "args": [
             [
              "10/26/2020"
             ],
             {
              "frame": {
               "duration": 0,
               "redraw": true
              },
              "fromcurrent": true,
              "mode": "immediate",
              "transition": {
               "duration": 0,
               "easing": "linear"
              }
             }
            ],
            "label": "10/26/2020",
            "method": "animate"
           },
           {
            "args": [
             [
              "10/27/2020"
             ],
             {
              "frame": {
               "duration": 0,
               "redraw": true
              },
              "fromcurrent": true,
              "mode": "immediate",
              "transition": {
               "duration": 0,
               "easing": "linear"
              }
             }
            ],
            "label": "10/27/2020",
            "method": "animate"
           },
           {
            "args": [
             [
              "10/30/2020"
             ],
             {
              "frame": {
               "duration": 0,
               "redraw": true
              },
              "fromcurrent": true,
              "mode": "immediate",
              "transition": {
               "duration": 0,
               "easing": "linear"
              }
             }
            ],
            "label": "10/30/2020",
            "method": "animate"
           },
           {
            "args": [
             [
              "11/01/2020"
             ],
             {
              "frame": {
               "duration": 0,
               "redraw": true
              },
              "fromcurrent": true,
              "mode": "immediate",
              "transition": {
               "duration": 0,
               "easing": "linear"
              }
             }
            ],
            "label": "11/01/2020",
            "method": "animate"
           },
           {
            "args": [
             [
              "11/02/2020"
             ],
             {
              "frame": {
               "duration": 0,
               "redraw": true
              },
              "fromcurrent": true,
              "mode": "immediate",
              "transition": {
               "duration": 0,
               "easing": "linear"
              }
             }
            ],
            "label": "11/02/2020",
            "method": "animate"
           },
           {
            "args": [
             [
              "11/03/2020"
             ],
             {
              "frame": {
               "duration": 0,
               "redraw": true
              },
              "fromcurrent": true,
              "mode": "immediate",
              "transition": {
               "duration": 0,
               "easing": "linear"
              }
             }
            ],
            "label": "11/03/2020",
            "method": "animate"
           },
           {
            "args": [
             [
              "11/05/2020"
             ],
             {
              "frame": {
               "duration": 0,
               "redraw": true
              },
              "fromcurrent": true,
              "mode": "immediate",
              "transition": {
               "duration": 0,
               "easing": "linear"
              }
             }
            ],
            "label": "11/05/2020",
            "method": "animate"
           },
           {
            "args": [
             [
              "11/06/2020"
             ],
             {
              "frame": {
               "duration": 0,
               "redraw": true
              },
              "fromcurrent": true,
              "mode": "immediate",
              "transition": {
               "duration": 0,
               "easing": "linear"
              }
             }
            ],
            "label": "11/06/2020",
            "method": "animate"
           },
           {
            "args": [
             [
              "11/07/2020"
             ],
             {
              "frame": {
               "duration": 0,
               "redraw": true
              },
              "fromcurrent": true,
              "mode": "immediate",
              "transition": {
               "duration": 0,
               "easing": "linear"
              }
             }
            ],
            "label": "11/07/2020",
            "method": "animate"
           },
           {
            "args": [
             [
              "11/09/2020"
             ],
             {
              "frame": {
               "duration": 0,
               "redraw": true
              },
              "fromcurrent": true,
              "mode": "immediate",
              "transition": {
               "duration": 0,
               "easing": "linear"
              }
             }
            ],
            "label": "11/09/2020",
            "method": "animate"
           },
           {
            "args": [
             [
              "11/10/2020"
             ],
             {
              "frame": {
               "duration": 0,
               "redraw": true
              },
              "fromcurrent": true,
              "mode": "immediate",
              "transition": {
               "duration": 0,
               "easing": "linear"
              }
             }
            ],
            "label": "11/10/2020",
            "method": "animate"
           },
           {
            "args": [
             [
              "11/12/2020"
             ],
             {
              "frame": {
               "duration": 0,
               "redraw": true
              },
              "fromcurrent": true,
              "mode": "immediate",
              "transition": {
               "duration": 0,
               "easing": "linear"
              }
             }
            ],
            "label": "11/12/2020",
            "method": "animate"
           },
           {
            "args": [
             [
              "11/14/2020"
             ],
             {
              "frame": {
               "duration": 0,
               "redraw": true
              },
              "fromcurrent": true,
              "mode": "immediate",
              "transition": {
               "duration": 0,
               "easing": "linear"
              }
             }
            ],
            "label": "11/14/2020",
            "method": "animate"
           },
           {
            "args": [
             [
              "11/18/2020"
             ],
             {
              "frame": {
               "duration": 0,
               "redraw": true
              },
              "fromcurrent": true,
              "mode": "immediate",
              "transition": {
               "duration": 0,
               "easing": "linear"
              }
             }
            ],
            "label": "11/18/2020",
            "method": "animate"
           }
          ],
          "x": 0.1,
          "xanchor": "left",
          "y": 0,
          "yanchor": "top"
         }
        ],
        "template": {
         "data": {
          "bar": [
           {
            "error_x": {
             "color": "#2a3f5f"
            },
            "error_y": {
             "color": "#2a3f5f"
            },
            "marker": {
             "line": {
              "color": "#E5ECF6",
              "width": 0.5
             }
            },
            "type": "bar"
           }
          ],
          "barpolar": [
           {
            "marker": {
             "line": {
              "color": "#E5ECF6",
              "width": 0.5
             }
            },
            "type": "barpolar"
           }
          ],
          "carpet": [
           {
            "aaxis": {
             "endlinecolor": "#2a3f5f",
             "gridcolor": "white",
             "linecolor": "white",
             "minorgridcolor": "white",
             "startlinecolor": "#2a3f5f"
            },
            "baxis": {
             "endlinecolor": "#2a3f5f",
             "gridcolor": "white",
             "linecolor": "white",
             "minorgridcolor": "white",
             "startlinecolor": "#2a3f5f"
            },
            "type": "carpet"
           }
          ],
          "choropleth": [
           {
            "colorbar": {
             "outlinewidth": 0,
             "ticks": ""
            },
            "type": "choropleth"
           }
          ],
          "contour": [
           {
            "colorbar": {
             "outlinewidth": 0,
             "ticks": ""
            },
            "colorscale": [
             [
              0,
              "#0d0887"
             ],
             [
              0.1111111111111111,
              "#46039f"
             ],
             [
              0.2222222222222222,
              "#7201a8"
             ],
             [
              0.3333333333333333,
              "#9c179e"
             ],
             [
              0.4444444444444444,
              "#bd3786"
             ],
             [
              0.5555555555555556,
              "#d8576b"
             ],
             [
              0.6666666666666666,
              "#ed7953"
             ],
             [
              0.7777777777777778,
              "#fb9f3a"
             ],
             [
              0.8888888888888888,
              "#fdca26"
             ],
             [
              1,
              "#f0f921"
             ]
            ],
            "type": "contour"
           }
          ],
          "contourcarpet": [
           {
            "colorbar": {
             "outlinewidth": 0,
             "ticks": ""
            },
            "type": "contourcarpet"
           }
          ],
          "heatmap": [
           {
            "colorbar": {
             "outlinewidth": 0,
             "ticks": ""
            },
            "colorscale": [
             [
              0,
              "#0d0887"
             ],
             [
              0.1111111111111111,
              "#46039f"
             ],
             [
              0.2222222222222222,
              "#7201a8"
             ],
             [
              0.3333333333333333,
              "#9c179e"
             ],
             [
              0.4444444444444444,
              "#bd3786"
             ],
             [
              0.5555555555555556,
              "#d8576b"
             ],
             [
              0.6666666666666666,
              "#ed7953"
             ],
             [
              0.7777777777777778,
              "#fb9f3a"
             ],
             [
              0.8888888888888888,
              "#fdca26"
             ],
             [
              1,
              "#f0f921"
             ]
            ],
            "type": "heatmap"
           }
          ],
          "heatmapgl": [
           {
            "colorbar": {
             "outlinewidth": 0,
             "ticks": ""
            },
            "colorscale": [
             [
              0,
              "#0d0887"
             ],
             [
              0.1111111111111111,
              "#46039f"
             ],
             [
              0.2222222222222222,
              "#7201a8"
             ],
             [
              0.3333333333333333,
              "#9c179e"
             ],
             [
              0.4444444444444444,
              "#bd3786"
             ],
             [
              0.5555555555555556,
              "#d8576b"
             ],
             [
              0.6666666666666666,
              "#ed7953"
             ],
             [
              0.7777777777777778,
              "#fb9f3a"
             ],
             [
              0.8888888888888888,
              "#fdca26"
             ],
             [
              1,
              "#f0f921"
             ]
            ],
            "type": "heatmapgl"
           }
          ],
          "histogram": [
           {
            "marker": {
             "colorbar": {
              "outlinewidth": 0,
              "ticks": ""
             }
            },
            "type": "histogram"
           }
          ],
          "histogram2d": [
           {
            "colorbar": {
             "outlinewidth": 0,
             "ticks": ""
            },
            "colorscale": [
             [
              0,
              "#0d0887"
             ],
             [
              0.1111111111111111,
              "#46039f"
             ],
             [
              0.2222222222222222,
              "#7201a8"
             ],
             [
              0.3333333333333333,
              "#9c179e"
             ],
             [
              0.4444444444444444,
              "#bd3786"
             ],
             [
              0.5555555555555556,
              "#d8576b"
             ],
             [
              0.6666666666666666,
              "#ed7953"
             ],
             [
              0.7777777777777778,
              "#fb9f3a"
             ],
             [
              0.8888888888888888,
              "#fdca26"
             ],
             [
              1,
              "#f0f921"
             ]
            ],
            "type": "histogram2d"
           }
          ],
          "histogram2dcontour": [
           {
            "colorbar": {
             "outlinewidth": 0,
             "ticks": ""
            },
            "colorscale": [
             [
              0,
              "#0d0887"
             ],
             [
              0.1111111111111111,
              "#46039f"
             ],
             [
              0.2222222222222222,
              "#7201a8"
             ],
             [
              0.3333333333333333,
              "#9c179e"
             ],
             [
              0.4444444444444444,
              "#bd3786"
             ],
             [
              0.5555555555555556,
              "#d8576b"
             ],
             [
              0.6666666666666666,
              "#ed7953"
             ],
             [
              0.7777777777777778,
              "#fb9f3a"
             ],
             [
              0.8888888888888888,
              "#fdca26"
             ],
             [
              1,
              "#f0f921"
             ]
            ],
            "type": "histogram2dcontour"
           }
          ],
          "mesh3d": [
           {
            "colorbar": {
             "outlinewidth": 0,
             "ticks": ""
            },
            "type": "mesh3d"
           }
          ],
          "parcoords": [
           {
            "line": {
             "colorbar": {
              "outlinewidth": 0,
              "ticks": ""
             }
            },
            "type": "parcoords"
           }
          ],
          "pie": [
           {
            "automargin": true,
            "type": "pie"
           }
          ],
          "scatter": [
           {
            "marker": {
             "colorbar": {
              "outlinewidth": 0,
              "ticks": ""
             }
            },
            "type": "scatter"
           }
          ],
          "scatter3d": [
           {
            "line": {
             "colorbar": {
              "outlinewidth": 0,
              "ticks": ""
             }
            },
            "marker": {
             "colorbar": {
              "outlinewidth": 0,
              "ticks": ""
             }
            },
            "type": "scatter3d"
           }
          ],
          "scattercarpet": [
           {
            "marker": {
             "colorbar": {
              "outlinewidth": 0,
              "ticks": ""
             }
            },
            "type": "scattercarpet"
           }
          ],
          "scattergeo": [
           {
            "marker": {
             "colorbar": {
              "outlinewidth": 0,
              "ticks": ""
             }
            },
            "type": "scattergeo"
           }
          ],
          "scattergl": [
           {
            "marker": {
             "colorbar": {
              "outlinewidth": 0,
              "ticks": ""
             }
            },
            "type": "scattergl"
           }
          ],
          "scattermapbox": [
           {
            "marker": {
             "colorbar": {
              "outlinewidth": 0,
              "ticks": ""
             }
            },
            "type": "scattermapbox"
           }
          ],
          "scatterpolar": [
           {
            "marker": {
             "colorbar": {
              "outlinewidth": 0,
              "ticks": ""
             }
            },
            "type": "scatterpolar"
           }
          ],
          "scatterpolargl": [
           {
            "marker": {
             "colorbar": {
              "outlinewidth": 0,
              "ticks": ""
             }
            },
            "type": "scatterpolargl"
           }
          ],
          "scatterternary": [
           {
            "marker": {
             "colorbar": {
              "outlinewidth": 0,
              "ticks": ""
             }
            },
            "type": "scatterternary"
           }
          ],
          "surface": [
           {
            "colorbar": {
             "outlinewidth": 0,
             "ticks": ""
            },
            "colorscale": [
             [
              0,
              "#0d0887"
             ],
             [
              0.1111111111111111,
              "#46039f"
             ],
             [
              0.2222222222222222,
              "#7201a8"
             ],
             [
              0.3333333333333333,
              "#9c179e"
             ],
             [
              0.4444444444444444,
              "#bd3786"
             ],
             [
              0.5555555555555556,
              "#d8576b"
             ],
             [
              0.6666666666666666,
              "#ed7953"
             ],
             [
              0.7777777777777778,
              "#fb9f3a"
             ],
             [
              0.8888888888888888,
              "#fdca26"
             ],
             [
              1,
              "#f0f921"
             ]
            ],
            "type": "surface"
           }
          ],
          "table": [
           {
            "cells": {
             "fill": {
              "color": "#EBF0F8"
             },
             "line": {
              "color": "white"
             }
            },
            "header": {
             "fill": {
              "color": "#C8D4E3"
             },
             "line": {
              "color": "white"
             }
            },
            "type": "table"
           }
          ]
         },
         "layout": {
          "annotationdefaults": {
           "arrowcolor": "#2a3f5f",
           "arrowhead": 0,
           "arrowwidth": 1
          },
          "coloraxis": {
           "colorbar": {
            "outlinewidth": 0,
            "ticks": ""
           }
          },
          "colorscale": {
           "diverging": [
            [
             0,
             "#8e0152"
            ],
            [
             0.1,
             "#c51b7d"
            ],
            [
             0.2,
             "#de77ae"
            ],
            [
             0.3,
             "#f1b6da"
            ],
            [
             0.4,
             "#fde0ef"
            ],
            [
             0.5,
             "#f7f7f7"
            ],
            [
             0.6,
             "#e6f5d0"
            ],
            [
             0.7,
             "#b8e186"
            ],
            [
             0.8,
             "#7fbc41"
            ],
            [
             0.9,
             "#4d9221"
            ],
            [
             1,
             "#276419"
            ]
           ],
           "sequential": [
            [
             0,
             "#0d0887"
            ],
            [
             0.1111111111111111,
             "#46039f"
            ],
            [
             0.2222222222222222,
             "#7201a8"
            ],
            [
             0.3333333333333333,
             "#9c179e"
            ],
            [
             0.4444444444444444,
             "#bd3786"
            ],
            [
             0.5555555555555556,
             "#d8576b"
            ],
            [
             0.6666666666666666,
             "#ed7953"
            ],
            [
             0.7777777777777778,
             "#fb9f3a"
            ],
            [
             0.8888888888888888,
             "#fdca26"
            ],
            [
             1,
             "#f0f921"
            ]
           ],
           "sequentialminus": [
            [
             0,
             "#0d0887"
            ],
            [
             0.1111111111111111,
             "#46039f"
            ],
            [
             0.2222222222222222,
             "#7201a8"
            ],
            [
             0.3333333333333333,
             "#9c179e"
            ],
            [
             0.4444444444444444,
             "#bd3786"
            ],
            [
             0.5555555555555556,
             "#d8576b"
            ],
            [
             0.6666666666666666,
             "#ed7953"
            ],
            [
             0.7777777777777778,
             "#fb9f3a"
            ],
            [
             0.8888888888888888,
             "#fdca26"
            ],
            [
             1,
             "#f0f921"
            ]
           ]
          },
          "colorway": [
           "#636efa",
           "#EF553B",
           "#00cc96",
           "#ab63fa",
           "#FFA15A",
           "#19d3f3",
           "#FF6692",
           "#B6E880",
           "#FF97FF",
           "#FECB52"
          ],
          "font": {
           "color": "#2a3f5f"
          },
          "geo": {
           "bgcolor": "white",
           "lakecolor": "white",
           "landcolor": "#E5ECF6",
           "showlakes": true,
           "showland": true,
           "subunitcolor": "white"
          },
          "hoverlabel": {
           "align": "left"
          },
          "hovermode": "closest",
          "mapbox": {
           "style": "light"
          },
          "paper_bgcolor": "white",
          "plot_bgcolor": "#E5ECF6",
          "polar": {
           "angularaxis": {
            "gridcolor": "white",
            "linecolor": "white",
            "ticks": ""
           },
           "bgcolor": "#E5ECF6",
           "radialaxis": {
            "gridcolor": "white",
            "linecolor": "white",
            "ticks": ""
           }
          },
          "scene": {
           "xaxis": {
            "backgroundcolor": "#E5ECF6",
            "gridcolor": "white",
            "gridwidth": 2,
            "linecolor": "white",
            "showbackground": true,
            "ticks": "",
            "zerolinecolor": "white"
           },
           "yaxis": {
            "backgroundcolor": "#E5ECF6",
            "gridcolor": "white",
            "gridwidth": 2,
            "linecolor": "white",
            "showbackground": true,
            "ticks": "",
            "zerolinecolor": "white"
           },
           "zaxis": {
            "backgroundcolor": "#E5ECF6",
            "gridcolor": "white",
            "gridwidth": 2,
            "linecolor": "white",
            "showbackground": true,
            "ticks": "",
            "zerolinecolor": "white"
           }
          },
          "shapedefaults": {
           "line": {
            "color": "#2a3f5f"
           }
          },
          "ternary": {
           "aaxis": {
            "gridcolor": "white",
            "linecolor": "white",
            "ticks": ""
           },
           "baxis": {
            "gridcolor": "white",
            "linecolor": "white",
            "ticks": ""
           },
           "bgcolor": "#E5ECF6",
           "caxis": {
            "gridcolor": "white",
            "linecolor": "white",
            "ticks": ""
           }
          },
          "title": {
           "x": 0.05
          },
          "xaxis": {
           "automargin": true,
           "gridcolor": "white",
           "linecolor": "white",
           "ticks": "",
           "title": {
            "standoff": 15
           },
           "zerolinecolor": "white",
           "zerolinewidth": 2
          },
          "yaxis": {
           "automargin": true,
           "gridcolor": "white",
           "linecolor": "white",
           "ticks": "",
           "title": {
            "standoff": 15
           },
           "zerolinecolor": "white",
           "zerolinewidth": 2
          }
         }
        },
        "title": {
         "text": "spread of COVID-19 based on different time intervals"
        },
        "updatemenus": [
         {
          "buttons": [
           {
            "args": [
             null,
             {
              "frame": {
               "duration": 500,
               "redraw": true
              },
              "fromcurrent": true,
              "mode": "immediate",
              "transition": {
               "duration": 500,
               "easing": "linear"
              }
             }
            ],
            "label": "&#9654;",
            "method": "animate"
           },
           {
            "args": [
             [
              null
             ],
             {
              "frame": {
               "duration": 0,
               "redraw": true
              },
              "fromcurrent": true,
              "mode": "immediate",
              "transition": {
               "duration": 0,
               "easing": "linear"
              }
             }
            ],
            "label": "&#9724;",
            "method": "animate"
           }
          ],
          "direction": "left",
          "pad": {
           "r": 10,
           "t": 70
          },
          "showactive": false,
          "type": "buttons",
          "x": 0.1,
          "xanchor": "right",
          "y": 0,
          "yanchor": "top"
         }
        ]
       }
      },
      "text/html": [
       "<div>                            <div id=\"8b6712ca-13e1-4084-a012-011d87a6f024\" class=\"plotly-graph-div\" style=\"height:525px; width:100%;\"></div>            <script type=\"text/javascript\">                require([\"plotly\"], function(Plotly) {                    window.PLOTLYENV=window.PLOTLYENV || {};                                    if (document.getElementById(\"8b6712ca-13e1-4084-a012-011d87a6f024\")) {                    Plotly.newPlot(                        \"8b6712ca-13e1-4084-a012-011d87a6f024\",                        [{\"geo\": \"geo\", \"hovertemplate\": \"<b>%{hovertext}</b><br><br>date=01/02/2020<br>size=%{marker.size}<br>country_name=%{location}<br>total_confirmed=%{marker.color}<extra></extra>\", \"hovertext\": [\"Bangladesh\"], \"legendgroup\": \"\", \"locationmode\": \"country names\", \"locations\": [\"Bangladesh\"], \"marker\": {\"color\": [0.0], \"coloraxis\": \"coloraxis\", \"size\": [0.0], \"sizemode\": \"area\", \"sizeref\": 0.3021525730050908}, \"name\": \"\", \"showlegend\": false, \"type\": \"scattergeo\"}],                        {\"coloraxis\": {\"cmax\": 8728797.0, \"cmin\": 0, \"colorbar\": {\"title\": {\"text\": \"total_confirmed\"}}, \"colorscale\": [[0.0, \"#0d0887\"], [0.1111111111111111, \"#46039f\"], [0.2222222222222222, \"#7201a8\"], [0.3333333333333333, \"#9c179e\"], [0.4444444444444444, \"#bd3786\"], [0.5555555555555556, \"#d8576b\"], [0.6666666666666666, \"#ed7953\"], [0.7777777777777778, \"#fb9f3a\"], [0.8888888888888888, \"#fdca26\"], [1.0, \"#f0f921\"]], \"showscale\": false}, \"geo\": {\"domain\": {\"x\": [0.0, 1.0], \"y\": [0.0, 1.0]}, \"projection\": {\"type\": \"natural earth\"}}, \"legend\": {\"itemsizing\": \"constant\", \"tracegroupgap\": 0}, \"sliders\": [{\"active\": 0, \"currentvalue\": {\"prefix\": \"date=\"}, \"len\": 0.9, \"pad\": {\"b\": 10, \"t\": 60}, \"steps\": [{\"args\": [[\"01/02/2020\"], {\"frame\": {\"duration\": 0, \"redraw\": true}, \"fromcurrent\": true, \"mode\": \"immediate\", \"transition\": {\"duration\": 0, \"easing\": \"linear\"}}], \"label\": \"01/02/2020\", \"method\": \"animate\"}, {\"args\": [[\"01/03/2020\"], {\"frame\": {\"duration\": 0, \"redraw\": true}, \"fromcurrent\": true, \"mode\": \"immediate\", \"transition\": {\"duration\": 0, \"easing\": \"linear\"}}], \"label\": \"01/03/2020\", \"method\": \"animate\"}, {\"args\": [[\"01/04/2020\"], {\"frame\": {\"duration\": 0, \"redraw\": true}, \"fromcurrent\": true, \"mode\": \"immediate\", \"transition\": {\"duration\": 0, \"easing\": \"linear\"}}], \"label\": \"01/04/2020\", \"method\": \"animate\"}, {\"args\": [[\"01/06/2020\"], {\"frame\": {\"duration\": 0, \"redraw\": true}, \"fromcurrent\": true, \"mode\": \"immediate\", \"transition\": {\"duration\": 0, \"easing\": \"linear\"}}], \"label\": \"01/06/2020\", \"method\": \"animate\"}, {\"args\": [[\"01/07/2020\"], {\"frame\": {\"duration\": 0, \"redraw\": true}, \"fromcurrent\": true, \"mode\": \"immediate\", \"transition\": {\"duration\": 0, \"easing\": \"linear\"}}], \"label\": \"01/07/2020\", \"method\": \"animate\"}, {\"args\": [[\"01/09/2020\"], {\"frame\": {\"duration\": 0, \"redraw\": true}, \"fromcurrent\": true, \"mode\": \"immediate\", \"transition\": {\"duration\": 0, \"easing\": \"linear\"}}], \"label\": \"01/09/2020\", \"method\": \"animate\"}, {\"args\": [[\"01/13/2020\"], {\"frame\": {\"duration\": 0, \"redraw\": true}, \"fromcurrent\": true, \"mode\": \"immediate\", \"transition\": {\"duration\": 0, \"easing\": \"linear\"}}], \"label\": \"01/13/2020\", \"method\": \"animate\"}, {\"args\": [[\"01/14/2020\"], {\"frame\": {\"duration\": 0, \"redraw\": true}, \"fromcurrent\": true, \"mode\": \"immediate\", \"transition\": {\"duration\": 0, \"easing\": \"linear\"}}], \"label\": \"01/14/2020\", \"method\": \"animate\"}, {\"args\": [[\"01/16/2020\"], {\"frame\": {\"duration\": 0, \"redraw\": true}, \"fromcurrent\": true, \"mode\": \"immediate\", \"transition\": {\"duration\": 0, \"easing\": \"linear\"}}], \"label\": \"01/16/2020\", \"method\": \"animate\"}, {\"args\": [[\"01/18/2020\"], {\"frame\": {\"duration\": 0, \"redraw\": true}, \"fromcurrent\": true, \"mode\": \"immediate\", \"transition\": {\"duration\": 0, \"easing\": \"linear\"}}], \"label\": \"01/18/2020\", \"method\": \"animate\"}, {\"args\": [[\"01/19/2020\"], {\"frame\": {\"duration\": 0, \"redraw\": true}, \"fromcurrent\": true, \"mode\": \"immediate\", \"transition\": {\"duration\": 0, \"easing\": \"linear\"}}], \"label\": \"01/19/2020\", \"method\": \"animate\"}, {\"args\": [[\"01/20/2020\"], {\"frame\": {\"duration\": 0, \"redraw\": true}, \"fromcurrent\": true, \"mode\": \"immediate\", \"transition\": {\"duration\": 0, \"easing\": \"linear\"}}], \"label\": \"01/20/2020\", \"method\": \"animate\"}, {\"args\": [[\"01/25/2020\"], {\"frame\": {\"duration\": 0, \"redraw\": true}, \"fromcurrent\": true, \"mode\": \"immediate\", \"transition\": {\"duration\": 0, \"easing\": \"linear\"}}], \"label\": \"01/25/2020\", \"method\": \"animate\"}, {\"args\": [[\"01/26/2020\"], {\"frame\": {\"duration\": 0, \"redraw\": true}, \"fromcurrent\": true, \"mode\": \"immediate\", \"transition\": {\"duration\": 0, \"easing\": \"linear\"}}], \"label\": \"01/26/2020\", \"method\": \"animate\"}, {\"args\": [[\"01/27/2020\"], {\"frame\": {\"duration\": 0, \"redraw\": true}, \"fromcurrent\": true, \"mode\": \"immediate\", \"transition\": {\"duration\": 0, \"easing\": \"linear\"}}], \"label\": \"01/27/2020\", \"method\": \"animate\"}, {\"args\": [[\"01/28/2020\"], {\"frame\": {\"duration\": 0, \"redraw\": true}, \"fromcurrent\": true, \"mode\": \"immediate\", \"transition\": {\"duration\": 0, \"easing\": \"linear\"}}], \"label\": \"01/28/2020\", \"method\": \"animate\"}, {\"args\": [[\"01/29/2020\"], {\"frame\": {\"duration\": 0, \"redraw\": true}, \"fromcurrent\": true, \"mode\": \"immediate\", \"transition\": {\"duration\": 0, \"easing\": \"linear\"}}], \"label\": \"01/29/2020\", \"method\": \"animate\"}, {\"args\": [[\"01/31/2020\"], {\"frame\": {\"duration\": 0, \"redraw\": true}, \"fromcurrent\": true, \"mode\": \"immediate\", \"transition\": {\"duration\": 0, \"easing\": \"linear\"}}], \"label\": \"01/31/2020\", \"method\": \"animate\"}, {\"args\": [[\"02/01/2020\"], {\"frame\": {\"duration\": 0, \"redraw\": true}, \"fromcurrent\": true, \"mode\": \"immediate\", \"transition\": {\"duration\": 0, \"easing\": \"linear\"}}], \"label\": \"02/01/2020\", \"method\": \"animate\"}, {\"args\": [[\"02/04/2020\"], {\"frame\": {\"duration\": 0, \"redraw\": true}, \"fromcurrent\": true, \"mode\": \"immediate\", \"transition\": {\"duration\": 0, \"easing\": \"linear\"}}], \"label\": \"02/04/2020\", \"method\": \"animate\"}, {\"args\": [[\"02/05/2020\"], {\"frame\": {\"duration\": 0, \"redraw\": true}, \"fromcurrent\": true, \"mode\": \"immediate\", \"transition\": {\"duration\": 0, \"easing\": \"linear\"}}], \"label\": \"02/05/2020\", \"method\": \"animate\"}, {\"args\": [[\"02/11/2020\"], {\"frame\": {\"duration\": 0, \"redraw\": true}, \"fromcurrent\": true, \"mode\": \"immediate\", \"transition\": {\"duration\": 0, \"easing\": \"linear\"}}], \"label\": \"02/11/2020\", \"method\": \"animate\"}, {\"args\": [[\"02/12/2020\"], {\"frame\": {\"duration\": 0, \"redraw\": true}, \"fromcurrent\": true, \"mode\": \"immediate\", \"transition\": {\"duration\": 0, \"easing\": \"linear\"}}], \"label\": \"02/12/2020\", \"method\": \"animate\"}, {\"args\": [[\"02/15/2020\"], {\"frame\": {\"duration\": 0, \"redraw\": true}, \"fromcurrent\": true, \"mode\": \"immediate\", \"transition\": {\"duration\": 0, \"easing\": \"linear\"}}], \"label\": \"02/15/2020\", \"method\": \"animate\"}, {\"args\": [[\"02/18/2020\"], {\"frame\": {\"duration\": 0, \"redraw\": true}, \"fromcurrent\": true, \"mode\": \"immediate\", \"transition\": {\"duration\": 0, \"easing\": \"linear\"}}], \"label\": \"02/18/2020\", \"method\": \"animate\"}, {\"args\": [[\"02/19/2020\"], {\"frame\": {\"duration\": 0, \"redraw\": true}, \"fromcurrent\": true, \"mode\": \"immediate\", \"transition\": {\"duration\": 0, \"easing\": \"linear\"}}], \"label\": \"02/19/2020\", \"method\": \"animate\"}, {\"args\": [[\"02/21/2020\"], {\"frame\": {\"duration\": 0, \"redraw\": true}, \"fromcurrent\": true, \"mode\": \"immediate\", \"transition\": {\"duration\": 0, \"easing\": \"linear\"}}], \"label\": \"02/21/2020\", \"method\": \"animate\"}, {\"args\": [[\"02/24/2020\"], {\"frame\": {\"duration\": 0, \"redraw\": true}, \"fromcurrent\": true, \"mode\": \"immediate\", \"transition\": {\"duration\": 0, \"easing\": \"linear\"}}], \"label\": \"02/24/2020\", \"method\": \"animate\"}, {\"args\": [[\"02/25/2020\"], {\"frame\": {\"duration\": 0, \"redraw\": true}, \"fromcurrent\": true, \"mode\": \"immediate\", \"transition\": {\"duration\": 0, \"easing\": \"linear\"}}], \"label\": \"02/25/2020\", \"method\": \"animate\"}, {\"args\": [[\"02/26/2020\"], {\"frame\": {\"duration\": 0, \"redraw\": true}, \"fromcurrent\": true, \"mode\": \"immediate\", \"transition\": {\"duration\": 0, \"easing\": \"linear\"}}], \"label\": \"02/26/2020\", \"method\": \"animate\"}, {\"args\": [[\"02/27/2020\"], {\"frame\": {\"duration\": 0, \"redraw\": true}, \"fromcurrent\": true, \"mode\": \"immediate\", \"transition\": {\"duration\": 0, \"easing\": \"linear\"}}], \"label\": \"02/27/2020\", \"method\": \"animate\"}, {\"args\": [[\"02/28/2020\"], {\"frame\": {\"duration\": 0, \"redraw\": true}, \"fromcurrent\": true, \"mode\": \"immediate\", \"transition\": {\"duration\": 0, \"easing\": \"linear\"}}], \"label\": \"02/28/2020\", \"method\": \"animate\"}, {\"args\": [[\"03/02/2020\"], {\"frame\": {\"duration\": 0, \"redraw\": true}, \"fromcurrent\": true, \"mode\": \"immediate\", \"transition\": {\"duration\": 0, \"easing\": \"linear\"}}], \"label\": \"03/02/2020\", \"method\": \"animate\"}, {\"args\": [[\"03/03/2020\"], {\"frame\": {\"duration\": 0, \"redraw\": true}, \"fromcurrent\": true, \"mode\": \"immediate\", \"transition\": {\"duration\": 0, \"easing\": \"linear\"}}], \"label\": \"03/03/2020\", \"method\": \"animate\"}, {\"args\": [[\"03/08/2020\"], {\"frame\": {\"duration\": 0, \"redraw\": true}, \"fromcurrent\": true, \"mode\": \"immediate\", \"transition\": {\"duration\": 0, \"easing\": \"linear\"}}], \"label\": \"03/08/2020\", \"method\": \"animate\"}, {\"args\": [[\"03/09/2020\"], {\"frame\": {\"duration\": 0, \"redraw\": true}, \"fromcurrent\": true, \"mode\": \"immediate\", \"transition\": {\"duration\": 0, \"easing\": \"linear\"}}], \"label\": \"03/09/2020\", \"method\": \"animate\"}, {\"args\": [[\"03/10/2020\"], {\"frame\": {\"duration\": 0, \"redraw\": true}, \"fromcurrent\": true, \"mode\": \"immediate\", \"transition\": {\"duration\": 0, \"easing\": \"linear\"}}], \"label\": \"03/10/2020\", \"method\": \"animate\"}, {\"args\": [[\"03/12/2020\"], {\"frame\": {\"duration\": 0, \"redraw\": true}, \"fromcurrent\": true, \"mode\": \"immediate\", \"transition\": {\"duration\": 0, \"easing\": \"linear\"}}], \"label\": \"03/12/2020\", \"method\": \"animate\"}, {\"args\": [[\"03/16/2020\"], {\"frame\": {\"duration\": 0, \"redraw\": true}, \"fromcurrent\": true, \"mode\": \"immediate\", \"transition\": {\"duration\": 0, \"easing\": \"linear\"}}], \"label\": \"03/16/2020\", \"method\": \"animate\"}, {\"args\": [[\"03/19/2020\"], {\"frame\": {\"duration\": 0, \"redraw\": true}, \"fromcurrent\": true, \"mode\": \"immediate\", \"transition\": {\"duration\": 0, \"easing\": \"linear\"}}], \"label\": \"03/19/2020\", \"method\": \"animate\"}, {\"args\": [[\"03/20/2020\"], {\"frame\": {\"duration\": 0, \"redraw\": true}, \"fromcurrent\": true, \"mode\": \"immediate\", \"transition\": {\"duration\": 0, \"easing\": \"linear\"}}], \"label\": \"03/20/2020\", \"method\": \"animate\"}, {\"args\": [[\"03/21/2020\"], {\"frame\": {\"duration\": 0, \"redraw\": true}, \"fromcurrent\": true, \"mode\": \"immediate\", \"transition\": {\"duration\": 0, \"easing\": \"linear\"}}], \"label\": \"03/21/2020\", \"method\": \"animate\"}, {\"args\": [[\"03/22/2020\"], {\"frame\": {\"duration\": 0, \"redraw\": true}, \"fromcurrent\": true, \"mode\": \"immediate\", \"transition\": {\"duration\": 0, \"easing\": \"linear\"}}], \"label\": \"03/22/2020\", \"method\": \"animate\"}, {\"args\": [[\"03/24/2020\"], {\"frame\": {\"duration\": 0, \"redraw\": true}, \"fromcurrent\": true, \"mode\": \"immediate\", \"transition\": {\"duration\": 0, \"easing\": \"linear\"}}], \"label\": \"03/24/2020\", \"method\": \"animate\"}, {\"args\": [[\"03/26/2020\"], {\"frame\": {\"duration\": 0, \"redraw\": true}, \"fromcurrent\": true, \"mode\": \"immediate\", \"transition\": {\"duration\": 0, \"easing\": \"linear\"}}], \"label\": \"03/26/2020\", \"method\": \"animate\"}, {\"args\": [[\"03/27/2020\"], {\"frame\": {\"duration\": 0, \"redraw\": true}, \"fromcurrent\": true, \"mode\": \"immediate\", \"transition\": {\"duration\": 0, \"easing\": \"linear\"}}], \"label\": \"03/27/2020\", \"method\": \"animate\"}, {\"args\": [[\"03/28/2020\"], {\"frame\": {\"duration\": 0, \"redraw\": true}, \"fromcurrent\": true, \"mode\": \"immediate\", \"transition\": {\"duration\": 0, \"easing\": \"linear\"}}], \"label\": \"03/28/2020\", \"method\": \"animate\"}, {\"args\": [[\"03/30/2020\"], {\"frame\": {\"duration\": 0, \"redraw\": true}, \"fromcurrent\": true, \"mode\": \"immediate\", \"transition\": {\"duration\": 0, \"easing\": \"linear\"}}], \"label\": \"03/30/2020\", \"method\": \"animate\"}, {\"args\": [[\"03/31/2020\"], {\"frame\": {\"duration\": 0, \"redraw\": true}, \"fromcurrent\": true, \"mode\": \"immediate\", \"transition\": {\"duration\": 0, \"easing\": \"linear\"}}], \"label\": \"03/31/2020\", \"method\": \"animate\"}, {\"args\": [[\"04/02/2020\"], {\"frame\": {\"duration\": 0, \"redraw\": true}, \"fromcurrent\": true, \"mode\": \"immediate\", \"transition\": {\"duration\": 0, \"easing\": \"linear\"}}], \"label\": \"04/02/2020\", \"method\": \"animate\"}, {\"args\": [[\"04/04/2020\"], {\"frame\": {\"duration\": 0, \"redraw\": true}, \"fromcurrent\": true, \"mode\": \"immediate\", \"transition\": {\"duration\": 0, \"easing\": \"linear\"}}], \"label\": \"04/04/2020\", \"method\": \"animate\"}, {\"args\": [[\"04/06/2020\"], {\"frame\": {\"duration\": 0, \"redraw\": true}, \"fromcurrent\": true, \"mode\": \"immediate\", \"transition\": {\"duration\": 0, \"easing\": \"linear\"}}], \"label\": \"04/06/2020\", \"method\": \"animate\"}, {\"args\": [[\"04/07/2020\"], {\"frame\": {\"duration\": 0, \"redraw\": true}, \"fromcurrent\": true, \"mode\": \"immediate\", \"transition\": {\"duration\": 0, \"easing\": \"linear\"}}], \"label\": \"04/07/2020\", \"method\": \"animate\"}, {\"args\": [[\"04/10/2020\"], {\"frame\": {\"duration\": 0, \"redraw\": true}, \"fromcurrent\": true, \"mode\": \"immediate\", \"transition\": {\"duration\": 0, \"easing\": \"linear\"}}], \"label\": \"04/10/2020\", \"method\": \"animate\"}, {\"args\": [[\"04/11/2020\"], {\"frame\": {\"duration\": 0, \"redraw\": true}, \"fromcurrent\": true, \"mode\": \"immediate\", \"transition\": {\"duration\": 0, \"easing\": \"linear\"}}], \"label\": \"04/11/2020\", \"method\": \"animate\"}, {\"args\": [[\"04/12/2020\"], {\"frame\": {\"duration\": 0, \"redraw\": true}, \"fromcurrent\": true, \"mode\": \"immediate\", \"transition\": {\"duration\": 0, \"easing\": \"linear\"}}], \"label\": \"04/12/2020\", \"method\": \"animate\"}, {\"args\": [[\"04/17/2020\"], {\"frame\": {\"duration\": 0, \"redraw\": true}, \"fromcurrent\": true, \"mode\": \"immediate\", \"transition\": {\"duration\": 0, \"easing\": \"linear\"}}], \"label\": \"04/17/2020\", \"method\": \"animate\"}, {\"args\": [[\"04/24/2020\"], {\"frame\": {\"duration\": 0, \"redraw\": true}, \"fromcurrent\": true, \"mode\": \"immediate\", \"transition\": {\"duration\": 0, \"easing\": \"linear\"}}], \"label\": \"04/24/2020\", \"method\": \"animate\"}, {\"args\": [[\"04/25/2020\"], {\"frame\": {\"duration\": 0, \"redraw\": true}, \"fromcurrent\": true, \"mode\": \"immediate\", \"transition\": {\"duration\": 0, \"easing\": \"linear\"}}], \"label\": \"04/25/2020\", \"method\": \"animate\"}, {\"args\": [[\"04/26/2020\"], {\"frame\": {\"duration\": 0, \"redraw\": true}, \"fromcurrent\": true, \"mode\": \"immediate\", \"transition\": {\"duration\": 0, \"easing\": \"linear\"}}], \"label\": \"04/26/2020\", \"method\": \"animate\"}, {\"args\": [[\"04/27/2020\"], {\"frame\": {\"duration\": 0, \"redraw\": true}, \"fromcurrent\": true, \"mode\": \"immediate\", \"transition\": {\"duration\": 0, \"easing\": \"linear\"}}], \"label\": \"04/27/2020\", \"method\": \"animate\"}, {\"args\": [[\"05/01/2020\"], {\"frame\": {\"duration\": 0, \"redraw\": true}, \"fromcurrent\": true, \"mode\": \"immediate\", \"transition\": {\"duration\": 0, \"easing\": \"linear\"}}], \"label\": \"05/01/2020\", \"method\": \"animate\"}, {\"args\": [[\"05/02/2020\"], {\"frame\": {\"duration\": 0, \"redraw\": true}, \"fromcurrent\": true, \"mode\": \"immediate\", \"transition\": {\"duration\": 0, \"easing\": \"linear\"}}], \"label\": \"05/02/2020\", \"method\": \"animate\"}, {\"args\": [[\"05/03/2020\"], {\"frame\": {\"duration\": 0, \"redraw\": true}, \"fromcurrent\": true, \"mode\": \"immediate\", \"transition\": {\"duration\": 0, \"easing\": \"linear\"}}], \"label\": \"05/03/2020\", \"method\": \"animate\"}, {\"args\": [[\"05/04/2020\"], {\"frame\": {\"duration\": 0, \"redraw\": true}, \"fromcurrent\": true, \"mode\": \"immediate\", \"transition\": {\"duration\": 0, \"easing\": \"linear\"}}], \"label\": \"05/04/2020\", \"method\": \"animate\"}, {\"args\": [[\"05/05/2020\"], {\"frame\": {\"duration\": 0, \"redraw\": true}, \"fromcurrent\": true, \"mode\": \"immediate\", \"transition\": {\"duration\": 0, \"easing\": \"linear\"}}], \"label\": \"05/05/2020\", \"method\": \"animate\"}, {\"args\": [[\"05/06/2020\"], {\"frame\": {\"duration\": 0, \"redraw\": true}, \"fromcurrent\": true, \"mode\": \"immediate\", \"transition\": {\"duration\": 0, \"easing\": \"linear\"}}], \"label\": \"05/06/2020\", \"method\": \"animate\"}, {\"args\": [[\"05/07/2020\"], {\"frame\": {\"duration\": 0, \"redraw\": true}, \"fromcurrent\": true, \"mode\": \"immediate\", \"transition\": {\"duration\": 0, \"easing\": \"linear\"}}], \"label\": \"05/07/2020\", \"method\": \"animate\"}, {\"args\": [[\"05/08/2020\"], {\"frame\": {\"duration\": 0, \"redraw\": true}, \"fromcurrent\": true, \"mode\": \"immediate\", \"transition\": {\"duration\": 0, \"easing\": \"linear\"}}], \"label\": \"05/08/2020\", \"method\": \"animate\"}, {\"args\": [[\"05/09/2020\"], {\"frame\": {\"duration\": 0, \"redraw\": true}, \"fromcurrent\": true, \"mode\": \"immediate\", \"transition\": {\"duration\": 0, \"easing\": \"linear\"}}], \"label\": \"05/09/2020\", \"method\": \"animate\"}, {\"args\": [[\"05/12/2020\"], {\"frame\": {\"duration\": 0, \"redraw\": true}, \"fromcurrent\": true, \"mode\": \"immediate\", \"transition\": {\"duration\": 0, \"easing\": \"linear\"}}], \"label\": \"05/12/2020\", \"method\": \"animate\"}, {\"args\": [[\"05/14/2020\"], {\"frame\": {\"duration\": 0, \"redraw\": true}, \"fromcurrent\": true, \"mode\": \"immediate\", \"transition\": {\"duration\": 0, \"easing\": \"linear\"}}], \"label\": \"05/14/2020\", \"method\": \"animate\"}, {\"args\": [[\"05/18/2020\"], {\"frame\": {\"duration\": 0, \"redraw\": true}, \"fromcurrent\": true, \"mode\": \"immediate\", \"transition\": {\"duration\": 0, \"easing\": \"linear\"}}], \"label\": \"05/18/2020\", \"method\": \"animate\"}, {\"args\": [[\"05/20/2020\"], {\"frame\": {\"duration\": 0, \"redraw\": true}, \"fromcurrent\": true, \"mode\": \"immediate\", \"transition\": {\"duration\": 0, \"easing\": \"linear\"}}], \"label\": \"05/20/2020\", \"method\": \"animate\"}, {\"args\": [[\"05/23/2020\"], {\"frame\": {\"duration\": 0, \"redraw\": true}, \"fromcurrent\": true, \"mode\": \"immediate\", \"transition\": {\"duration\": 0, \"easing\": \"linear\"}}], \"label\": \"05/23/2020\", \"method\": \"animate\"}, {\"args\": [[\"05/26/2020\"], {\"frame\": {\"duration\": 0, \"redraw\": true}, \"fromcurrent\": true, \"mode\": \"immediate\", \"transition\": {\"duration\": 0, \"easing\": \"linear\"}}], \"label\": \"05/26/2020\", \"method\": \"animate\"}, {\"args\": [[\"05/27/2020\"], {\"frame\": {\"duration\": 0, \"redraw\": true}, \"fromcurrent\": true, \"mode\": \"immediate\", \"transition\": {\"duration\": 0, \"easing\": \"linear\"}}], \"label\": \"05/27/2020\", \"method\": \"animate\"}, {\"args\": [[\"05/30/2020\"], {\"frame\": {\"duration\": 0, \"redraw\": true}, \"fromcurrent\": true, \"mode\": \"immediate\", \"transition\": {\"duration\": 0, \"easing\": \"linear\"}}], \"label\": \"05/30/2020\", \"method\": \"animate\"}, {\"args\": [[\"06/01/2020\"], {\"frame\": {\"duration\": 0, \"redraw\": true}, \"fromcurrent\": true, \"mode\": \"immediate\", \"transition\": {\"duration\": 0, \"easing\": \"linear\"}}], \"label\": \"06/01/2020\", \"method\": \"animate\"}, {\"args\": [[\"06/04/2020\"], {\"frame\": {\"duration\": 0, \"redraw\": true}, \"fromcurrent\": true, \"mode\": \"immediate\", \"transition\": {\"duration\": 0, \"easing\": \"linear\"}}], \"label\": \"06/04/2020\", \"method\": \"animate\"}, {\"args\": [[\"06/06/2020\"], {\"frame\": {\"duration\": 0, \"redraw\": true}, \"fromcurrent\": true, \"mode\": \"immediate\", \"transition\": {\"duration\": 0, \"easing\": \"linear\"}}], \"label\": \"06/06/2020\", \"method\": \"animate\"}, {\"args\": [[\"06/07/2020\"], {\"frame\": {\"duration\": 0, \"redraw\": true}, \"fromcurrent\": true, \"mode\": \"immediate\", \"transition\": {\"duration\": 0, \"easing\": \"linear\"}}], \"label\": \"06/07/2020\", \"method\": \"animate\"}, {\"args\": [[\"06/09/2020\"], {\"frame\": {\"duration\": 0, \"redraw\": true}, \"fromcurrent\": true, \"mode\": \"immediate\", \"transition\": {\"duration\": 0, \"easing\": \"linear\"}}], \"label\": \"06/09/2020\", \"method\": \"animate\"}, {\"args\": [[\"06/10/2020\"], {\"frame\": {\"duration\": 0, \"redraw\": true}, \"fromcurrent\": true, \"mode\": \"immediate\", \"transition\": {\"duration\": 0, \"easing\": \"linear\"}}], \"label\": \"06/10/2020\", \"method\": \"animate\"}, {\"args\": [[\"06/11/2020\"], {\"frame\": {\"duration\": 0, \"redraw\": true}, \"fromcurrent\": true, \"mode\": \"immediate\", \"transition\": {\"duration\": 0, \"easing\": \"linear\"}}], \"label\": \"06/11/2020\", \"method\": \"animate\"}, {\"args\": [[\"06/13/2020\"], {\"frame\": {\"duration\": 0, \"redraw\": true}, \"fromcurrent\": true, \"mode\": \"immediate\", \"transition\": {\"duration\": 0, \"easing\": \"linear\"}}], \"label\": \"06/13/2020\", \"method\": \"animate\"}, {\"args\": [[\"06/14/2020\"], {\"frame\": {\"duration\": 0, \"redraw\": true}, \"fromcurrent\": true, \"mode\": \"immediate\", \"transition\": {\"duration\": 0, \"easing\": \"linear\"}}], \"label\": \"06/14/2020\", \"method\": \"animate\"}, {\"args\": [[\"06/15/2020\"], {\"frame\": {\"duration\": 0, \"redraw\": true}, \"fromcurrent\": true, \"mode\": \"immediate\", \"transition\": {\"duration\": 0, \"easing\": \"linear\"}}], \"label\": \"06/15/2020\", \"method\": \"animate\"}, {\"args\": [[\"06/16/2020\"], {\"frame\": {\"duration\": 0, \"redraw\": true}, \"fromcurrent\": true, \"mode\": \"immediate\", \"transition\": {\"duration\": 0, \"easing\": \"linear\"}}], \"label\": \"06/16/2020\", \"method\": \"animate\"}, {\"args\": [[\"06/17/2020\"], {\"frame\": {\"duration\": 0, \"redraw\": true}, \"fromcurrent\": true, \"mode\": \"immediate\", \"transition\": {\"duration\": 0, \"easing\": \"linear\"}}], \"label\": \"06/17/2020\", \"method\": \"animate\"}, {\"args\": [[\"06/19/2020\"], {\"frame\": {\"duration\": 0, \"redraw\": true}, \"fromcurrent\": true, \"mode\": \"immediate\", \"transition\": {\"duration\": 0, \"easing\": \"linear\"}}], \"label\": \"06/19/2020\", \"method\": \"animate\"}, {\"args\": [[\"06/20/2020\"], {\"frame\": {\"duration\": 0, \"redraw\": true}, \"fromcurrent\": true, \"mode\": \"immediate\", \"transition\": {\"duration\": 0, \"easing\": \"linear\"}}], \"label\": \"06/20/2020\", \"method\": \"animate\"}, {\"args\": [[\"06/23/2020\"], {\"frame\": {\"duration\": 0, \"redraw\": true}, \"fromcurrent\": true, \"mode\": \"immediate\", \"transition\": {\"duration\": 0, \"easing\": \"linear\"}}], \"label\": \"06/23/2020\", \"method\": \"animate\"}, {\"args\": [[\"06/24/2020\"], {\"frame\": {\"duration\": 0, \"redraw\": true}, \"fromcurrent\": true, \"mode\": \"immediate\", \"transition\": {\"duration\": 0, \"easing\": \"linear\"}}], \"label\": \"06/24/2020\", \"method\": \"animate\"}, {\"args\": [[\"06/26/2020\"], {\"frame\": {\"duration\": 0, \"redraw\": true}, \"fromcurrent\": true, \"mode\": \"immediate\", \"transition\": {\"duration\": 0, \"easing\": \"linear\"}}], \"label\": \"06/26/2020\", \"method\": \"animate\"}, {\"args\": [[\"06/29/2020\"], {\"frame\": {\"duration\": 0, \"redraw\": true}, \"fromcurrent\": true, \"mode\": \"immediate\", \"transition\": {\"duration\": 0, \"easing\": \"linear\"}}], \"label\": \"06/29/2020\", \"method\": \"animate\"}, {\"args\": [[\"06/30/2020\"], {\"frame\": {\"duration\": 0, \"redraw\": true}, \"fromcurrent\": true, \"mode\": \"immediate\", \"transition\": {\"duration\": 0, \"easing\": \"linear\"}}], \"label\": \"06/30/2020\", \"method\": \"animate\"}, {\"args\": [[\"07/01/2020\"], {\"frame\": {\"duration\": 0, \"redraw\": true}, \"fromcurrent\": true, \"mode\": \"immediate\", \"transition\": {\"duration\": 0, \"easing\": \"linear\"}}], \"label\": \"07/01/2020\", \"method\": \"animate\"}, {\"args\": [[\"07/03/2020\"], {\"frame\": {\"duration\": 0, \"redraw\": true}, \"fromcurrent\": true, \"mode\": \"immediate\", \"transition\": {\"duration\": 0, \"easing\": \"linear\"}}], \"label\": \"07/03/2020\", \"method\": \"animate\"}, {\"args\": [[\"07/04/2020\"], {\"frame\": {\"duration\": 0, \"redraw\": true}, \"fromcurrent\": true, \"mode\": \"immediate\", \"transition\": {\"duration\": 0, \"easing\": \"linear\"}}], \"label\": \"07/04/2020\", \"method\": \"animate\"}, {\"args\": [[\"07/05/2020\"], {\"frame\": {\"duration\": 0, \"redraw\": true}, \"fromcurrent\": true, \"mode\": \"immediate\", \"transition\": {\"duration\": 0, \"easing\": \"linear\"}}], \"label\": \"07/05/2020\", \"method\": \"animate\"}, {\"args\": [[\"07/07/2020\"], {\"frame\": {\"duration\": 0, \"redraw\": true}, \"fromcurrent\": true, \"mode\": \"immediate\", \"transition\": {\"duration\": 0, \"easing\": \"linear\"}}], \"label\": \"07/07/2020\", \"method\": \"animate\"}, {\"args\": [[\"07/10/2020\"], {\"frame\": {\"duration\": 0, \"redraw\": true}, \"fromcurrent\": true, \"mode\": \"immediate\", \"transition\": {\"duration\": 0, \"easing\": \"linear\"}}], \"label\": \"07/10/2020\", \"method\": \"animate\"}, {\"args\": [[\"07/15/2020\"], {\"frame\": {\"duration\": 0, \"redraw\": true}, \"fromcurrent\": true, \"mode\": \"immediate\", \"transition\": {\"duration\": 0, \"easing\": \"linear\"}}], \"label\": \"07/15/2020\", \"method\": \"animate\"}, {\"args\": [[\"07/16/2020\"], {\"frame\": {\"duration\": 0, \"redraw\": true}, \"fromcurrent\": true, \"mode\": \"immediate\", \"transition\": {\"duration\": 0, \"easing\": \"linear\"}}], \"label\": \"07/16/2020\", \"method\": \"animate\"}, {\"args\": [[\"07/18/2020\"], {\"frame\": {\"duration\": 0, \"redraw\": true}, \"fromcurrent\": true, \"mode\": \"immediate\", \"transition\": {\"duration\": 0, \"easing\": \"linear\"}}], \"label\": \"07/18/2020\", \"method\": \"animate\"}, {\"args\": [[\"07/19/2020\"], {\"frame\": {\"duration\": 0, \"redraw\": true}, \"fromcurrent\": true, \"mode\": \"immediate\", \"transition\": {\"duration\": 0, \"easing\": \"linear\"}}], \"label\": \"07/19/2020\", \"method\": \"animate\"}, {\"args\": [[\"07/22/2020\"], {\"frame\": {\"duration\": 0, \"redraw\": true}, \"fromcurrent\": true, \"mode\": \"immediate\", \"transition\": {\"duration\": 0, \"easing\": \"linear\"}}], \"label\": \"07/22/2020\", \"method\": \"animate\"}, {\"args\": [[\"07/23/2020\"], {\"frame\": {\"duration\": 0, \"redraw\": true}, \"fromcurrent\": true, \"mode\": \"immediate\", \"transition\": {\"duration\": 0, \"easing\": \"linear\"}}], \"label\": \"07/23/2020\", \"method\": \"animate\"}, {\"args\": [[\"07/25/2020\"], {\"frame\": {\"duration\": 0, \"redraw\": true}, \"fromcurrent\": true, \"mode\": \"immediate\", \"transition\": {\"duration\": 0, \"easing\": \"linear\"}}], \"label\": \"07/25/2020\", \"method\": \"animate\"}, {\"args\": [[\"07/27/2020\"], {\"frame\": {\"duration\": 0, \"redraw\": true}, \"fromcurrent\": true, \"mode\": \"immediate\", \"transition\": {\"duration\": 0, \"easing\": \"linear\"}}], \"label\": \"07/27/2020\", \"method\": \"animate\"}, {\"args\": [[\"07/31/2020\"], {\"frame\": {\"duration\": 0, \"redraw\": true}, \"fromcurrent\": true, \"mode\": \"immediate\", \"transition\": {\"duration\": 0, \"easing\": \"linear\"}}], \"label\": \"07/31/2020\", \"method\": \"animate\"}, {\"args\": [[\"08/01/2020\"], {\"frame\": {\"duration\": 0, \"redraw\": true}, \"fromcurrent\": true, \"mode\": \"immediate\", \"transition\": {\"duration\": 0, \"easing\": \"linear\"}}], \"label\": \"08/01/2020\", \"method\": \"animate\"}, {\"args\": [[\"08/06/2020\"], {\"frame\": {\"duration\": 0, \"redraw\": true}, \"fromcurrent\": true, \"mode\": \"immediate\", \"transition\": {\"duration\": 0, \"easing\": \"linear\"}}], \"label\": \"08/06/2020\", \"method\": \"animate\"}, {\"args\": [[\"08/13/2020\"], {\"frame\": {\"duration\": 0, \"redraw\": true}, \"fromcurrent\": true, \"mode\": \"immediate\", \"transition\": {\"duration\": 0, \"easing\": \"linear\"}}], \"label\": \"08/13/2020\", \"method\": \"animate\"}, {\"args\": [[\"08/14/2020\"], {\"frame\": {\"duration\": 0, \"redraw\": true}, \"fromcurrent\": true, \"mode\": \"immediate\", \"transition\": {\"duration\": 0, \"easing\": \"linear\"}}], \"label\": \"08/14/2020\", \"method\": \"animate\"}, {\"args\": [[\"08/18/2020\"], {\"frame\": {\"duration\": 0, \"redraw\": true}, \"fromcurrent\": true, \"mode\": \"immediate\", \"transition\": {\"duration\": 0, \"easing\": \"linear\"}}], \"label\": \"08/18/2020\", \"method\": \"animate\"}, {\"args\": [[\"08/19/2020\"], {\"frame\": {\"duration\": 0, \"redraw\": true}, \"fromcurrent\": true, \"mode\": \"immediate\", \"transition\": {\"duration\": 0, \"easing\": \"linear\"}}], \"label\": \"08/19/2020\", \"method\": \"animate\"}, {\"args\": [[\"08/20/2020\"], {\"frame\": {\"duration\": 0, \"redraw\": true}, \"fromcurrent\": true, \"mode\": \"immediate\", \"transition\": {\"duration\": 0, \"easing\": \"linear\"}}], \"label\": \"08/20/2020\", \"method\": \"animate\"}, {\"args\": [[\"08/25/2020\"], {\"frame\": {\"duration\": 0, \"redraw\": true}, \"fromcurrent\": true, \"mode\": \"immediate\", \"transition\": {\"duration\": 0, \"easing\": \"linear\"}}], \"label\": \"08/25/2020\", \"method\": \"animate\"}, {\"args\": [[\"08/26/2020\"], {\"frame\": {\"duration\": 0, \"redraw\": true}, \"fromcurrent\": true, \"mode\": \"immediate\", \"transition\": {\"duration\": 0, \"easing\": \"linear\"}}], \"label\": \"08/26/2020\", \"method\": \"animate\"}, {\"args\": [[\"08/30/2020\"], {\"frame\": {\"duration\": 0, \"redraw\": true}, \"fromcurrent\": true, \"mode\": \"immediate\", \"transition\": {\"duration\": 0, \"easing\": \"linear\"}}], \"label\": \"08/30/2020\", \"method\": \"animate\"}, {\"args\": [[\"08/31/2020\"], {\"frame\": {\"duration\": 0, \"redraw\": true}, \"fromcurrent\": true, \"mode\": \"immediate\", \"transition\": {\"duration\": 0, \"easing\": \"linear\"}}], \"label\": \"08/31/2020\", \"method\": \"animate\"}, {\"args\": [[\"09/01/2020\"], {\"frame\": {\"duration\": 0, \"redraw\": true}, \"fromcurrent\": true, \"mode\": \"immediate\", \"transition\": {\"duration\": 0, \"easing\": \"linear\"}}], \"label\": \"09/01/2020\", \"method\": \"animate\"}, {\"args\": [[\"09/02/2020\"], {\"frame\": {\"duration\": 0, \"redraw\": true}, \"fromcurrent\": true, \"mode\": \"immediate\", \"transition\": {\"duration\": 0, \"easing\": \"linear\"}}], \"label\": \"09/02/2020\", \"method\": \"animate\"}, {\"args\": [[\"09/05/2020\"], {\"frame\": {\"duration\": 0, \"redraw\": true}, \"fromcurrent\": true, \"mode\": \"immediate\", \"transition\": {\"duration\": 0, \"easing\": \"linear\"}}], \"label\": \"09/05/2020\", \"method\": \"animate\"}, {\"args\": [[\"09/06/2020\"], {\"frame\": {\"duration\": 0, \"redraw\": true}, \"fromcurrent\": true, \"mode\": \"immediate\", \"transition\": {\"duration\": 0, \"easing\": \"linear\"}}], \"label\": \"09/06/2020\", \"method\": \"animate\"}, {\"args\": [[\"09/09/2020\"], {\"frame\": {\"duration\": 0, \"redraw\": true}, \"fromcurrent\": true, \"mode\": \"immediate\", \"transition\": {\"duration\": 0, \"easing\": \"linear\"}}], \"label\": \"09/09/2020\", \"method\": \"animate\"}, {\"args\": [[\"09/12/2020\"], {\"frame\": {\"duration\": 0, \"redraw\": true}, \"fromcurrent\": true, \"mode\": \"immediate\", \"transition\": {\"duration\": 0, \"easing\": \"linear\"}}], \"label\": \"09/12/2020\", \"method\": \"animate\"}, {\"args\": [[\"09/13/2020\"], {\"frame\": {\"duration\": 0, \"redraw\": true}, \"fromcurrent\": true, \"mode\": \"immediate\", \"transition\": {\"duration\": 0, \"easing\": \"linear\"}}], \"label\": \"09/13/2020\", \"method\": \"animate\"}, {\"args\": [[\"09/14/2020\"], {\"frame\": {\"duration\": 0, \"redraw\": true}, \"fromcurrent\": true, \"mode\": \"immediate\", \"transition\": {\"duration\": 0, \"easing\": \"linear\"}}], \"label\": \"09/14/2020\", \"method\": \"animate\"}, {\"args\": [[\"09/15/2020\"], {\"frame\": {\"duration\": 0, \"redraw\": true}, \"fromcurrent\": true, \"mode\": \"immediate\", \"transition\": {\"duration\": 0, \"easing\": \"linear\"}}], \"label\": \"09/15/2020\", \"method\": \"animate\"}, {\"args\": [[\"09/17/2020\"], {\"frame\": {\"duration\": 0, \"redraw\": true}, \"fromcurrent\": true, \"mode\": \"immediate\", \"transition\": {\"duration\": 0, \"easing\": \"linear\"}}], \"label\": \"09/17/2020\", \"method\": \"animate\"}, {\"args\": [[\"09/19/2020\"], {\"frame\": {\"duration\": 0, \"redraw\": true}, \"fromcurrent\": true, \"mode\": \"immediate\", \"transition\": {\"duration\": 0, \"easing\": \"linear\"}}], \"label\": \"09/19/2020\", \"method\": \"animate\"}, {\"args\": [[\"09/25/2020\"], {\"frame\": {\"duration\": 0, \"redraw\": true}, \"fromcurrent\": true, \"mode\": \"immediate\", \"transition\": {\"duration\": 0, \"easing\": \"linear\"}}], \"label\": \"09/25/2020\", \"method\": \"animate\"}, {\"args\": [[\"09/26/2020\"], {\"frame\": {\"duration\": 0, \"redraw\": true}, \"fromcurrent\": true, \"mode\": \"immediate\", \"transition\": {\"duration\": 0, \"easing\": \"linear\"}}], \"label\": \"09/26/2020\", \"method\": \"animate\"}, {\"args\": [[\"09/27/2020\"], {\"frame\": {\"duration\": 0, \"redraw\": true}, \"fromcurrent\": true, \"mode\": \"immediate\", \"transition\": {\"duration\": 0, \"easing\": \"linear\"}}], \"label\": \"09/27/2020\", \"method\": \"animate\"}, {\"args\": [[\"09/28/2020\"], {\"frame\": {\"duration\": 0, \"redraw\": true}, \"fromcurrent\": true, \"mode\": \"immediate\", \"transition\": {\"duration\": 0, \"easing\": \"linear\"}}], \"label\": \"09/28/2020\", \"method\": \"animate\"}, {\"args\": [[\"09/29/2020\"], {\"frame\": {\"duration\": 0, \"redraw\": true}, \"fromcurrent\": true, \"mode\": \"immediate\", \"transition\": {\"duration\": 0, \"easing\": \"linear\"}}], \"label\": \"09/29/2020\", \"method\": \"animate\"}, {\"args\": [[\"09/30/2020\"], {\"frame\": {\"duration\": 0, \"redraw\": true}, \"fromcurrent\": true, \"mode\": \"immediate\", \"transition\": {\"duration\": 0, \"easing\": \"linear\"}}], \"label\": \"09/30/2020\", \"method\": \"animate\"}, {\"args\": [[\"10/06/2020\"], {\"frame\": {\"duration\": 0, \"redraw\": true}, \"fromcurrent\": true, \"mode\": \"immediate\", \"transition\": {\"duration\": 0, \"easing\": \"linear\"}}], \"label\": \"10/06/2020\", \"method\": \"animate\"}, {\"args\": [[\"10/08/2020\"], {\"frame\": {\"duration\": 0, \"redraw\": true}, \"fromcurrent\": true, \"mode\": \"immediate\", \"transition\": {\"duration\": 0, \"easing\": \"linear\"}}], \"label\": \"10/08/2020\", \"method\": \"animate\"}, {\"args\": [[\"10/11/2020\"], {\"frame\": {\"duration\": 0, \"redraw\": true}, \"fromcurrent\": true, \"mode\": \"immediate\", \"transition\": {\"duration\": 0, \"easing\": \"linear\"}}], \"label\": \"10/11/2020\", \"method\": \"animate\"}, {\"args\": [[\"10/13/2020\"], {\"frame\": {\"duration\": 0, \"redraw\": true}, \"fromcurrent\": true, \"mode\": \"immediate\", \"transition\": {\"duration\": 0, \"easing\": \"linear\"}}], \"label\": \"10/13/2020\", \"method\": \"animate\"}, {\"args\": [[\"10/15/2020\"], {\"frame\": {\"duration\": 0, \"redraw\": true}, \"fromcurrent\": true, \"mode\": \"immediate\", \"transition\": {\"duration\": 0, \"easing\": \"linear\"}}], \"label\": \"10/15/2020\", \"method\": \"animate\"}, {\"args\": [[\"10/16/2020\"], {\"frame\": {\"duration\": 0, \"redraw\": true}, \"fromcurrent\": true, \"mode\": \"immediate\", \"transition\": {\"duration\": 0, \"easing\": \"linear\"}}], \"label\": \"10/16/2020\", \"method\": \"animate\"}, {\"args\": [[\"10/18/2020\"], {\"frame\": {\"duration\": 0, \"redraw\": true}, \"fromcurrent\": true, \"mode\": \"immediate\", \"transition\": {\"duration\": 0, \"easing\": \"linear\"}}], \"label\": \"10/18/2020\", \"method\": \"animate\"}, {\"args\": [[\"10/19/2020\"], {\"frame\": {\"duration\": 0, \"redraw\": true}, \"fromcurrent\": true, \"mode\": \"immediate\", \"transition\": {\"duration\": 0, \"easing\": \"linear\"}}], \"label\": \"10/19/2020\", \"method\": \"animate\"}, {\"args\": [[\"10/20/2020\"], {\"frame\": {\"duration\": 0, \"redraw\": true}, \"fromcurrent\": true, \"mode\": \"immediate\", \"transition\": {\"duration\": 0, \"easing\": \"linear\"}}], \"label\": \"10/20/2020\", \"method\": \"animate\"}, {\"args\": [[\"10/23/2020\"], {\"frame\": {\"duration\": 0, \"redraw\": true}, \"fromcurrent\": true, \"mode\": \"immediate\", \"transition\": {\"duration\": 0, \"easing\": \"linear\"}}], \"label\": \"10/23/2020\", \"method\": \"animate\"}, {\"args\": [[\"10/25/2020\"], {\"frame\": {\"duration\": 0, \"redraw\": true}, \"fromcurrent\": true, \"mode\": \"immediate\", \"transition\": {\"duration\": 0, \"easing\": \"linear\"}}], \"label\": \"10/25/2020\", \"method\": \"animate\"}, {\"args\": [[\"10/26/2020\"], {\"frame\": {\"duration\": 0, \"redraw\": true}, \"fromcurrent\": true, \"mode\": \"immediate\", \"transition\": {\"duration\": 0, \"easing\": \"linear\"}}], \"label\": \"10/26/2020\", \"method\": \"animate\"}, {\"args\": [[\"10/27/2020\"], {\"frame\": {\"duration\": 0, \"redraw\": true}, \"fromcurrent\": true, \"mode\": \"immediate\", \"transition\": {\"duration\": 0, \"easing\": \"linear\"}}], \"label\": \"10/27/2020\", \"method\": \"animate\"}, {\"args\": [[\"10/30/2020\"], {\"frame\": {\"duration\": 0, \"redraw\": true}, \"fromcurrent\": true, \"mode\": \"immediate\", \"transition\": {\"duration\": 0, \"easing\": \"linear\"}}], \"label\": \"10/30/2020\", \"method\": \"animate\"}, {\"args\": [[\"11/01/2020\"], {\"frame\": {\"duration\": 0, \"redraw\": true}, \"fromcurrent\": true, \"mode\": \"immediate\", \"transition\": {\"duration\": 0, \"easing\": \"linear\"}}], \"label\": \"11/01/2020\", \"method\": \"animate\"}, {\"args\": [[\"11/02/2020\"], {\"frame\": {\"duration\": 0, \"redraw\": true}, \"fromcurrent\": true, \"mode\": \"immediate\", \"transition\": {\"duration\": 0, \"easing\": \"linear\"}}], \"label\": \"11/02/2020\", \"method\": \"animate\"}, {\"args\": [[\"11/03/2020\"], {\"frame\": {\"duration\": 0, \"redraw\": true}, \"fromcurrent\": true, \"mode\": \"immediate\", \"transition\": {\"duration\": 0, \"easing\": \"linear\"}}], \"label\": \"11/03/2020\", \"method\": \"animate\"}, {\"args\": [[\"11/05/2020\"], {\"frame\": {\"duration\": 0, \"redraw\": true}, \"fromcurrent\": true, \"mode\": \"immediate\", \"transition\": {\"duration\": 0, \"easing\": \"linear\"}}], \"label\": \"11/05/2020\", \"method\": \"animate\"}, {\"args\": [[\"11/06/2020\"], {\"frame\": {\"duration\": 0, \"redraw\": true}, \"fromcurrent\": true, \"mode\": \"immediate\", \"transition\": {\"duration\": 0, \"easing\": \"linear\"}}], \"label\": \"11/06/2020\", \"method\": \"animate\"}, {\"args\": [[\"11/07/2020\"], {\"frame\": {\"duration\": 0, \"redraw\": true}, \"fromcurrent\": true, \"mode\": \"immediate\", \"transition\": {\"duration\": 0, \"easing\": \"linear\"}}], \"label\": \"11/07/2020\", \"method\": \"animate\"}, {\"args\": [[\"11/09/2020\"], {\"frame\": {\"duration\": 0, \"redraw\": true}, \"fromcurrent\": true, \"mode\": \"immediate\", \"transition\": {\"duration\": 0, \"easing\": \"linear\"}}], \"label\": \"11/09/2020\", \"method\": \"animate\"}, {\"args\": [[\"11/10/2020\"], {\"frame\": {\"duration\": 0, \"redraw\": true}, \"fromcurrent\": true, \"mode\": \"immediate\", \"transition\": {\"duration\": 0, \"easing\": \"linear\"}}], \"label\": \"11/10/2020\", \"method\": \"animate\"}, {\"args\": [[\"11/12/2020\"], {\"frame\": {\"duration\": 0, \"redraw\": true}, \"fromcurrent\": true, \"mode\": \"immediate\", \"transition\": {\"duration\": 0, \"easing\": \"linear\"}}], \"label\": \"11/12/2020\", \"method\": \"animate\"}, {\"args\": [[\"11/14/2020\"], {\"frame\": {\"duration\": 0, \"redraw\": true}, \"fromcurrent\": true, \"mode\": \"immediate\", \"transition\": {\"duration\": 0, \"easing\": \"linear\"}}], \"label\": \"11/14/2020\", \"method\": \"animate\"}, {\"args\": [[\"11/18/2020\"], {\"frame\": {\"duration\": 0, \"redraw\": true}, \"fromcurrent\": true, \"mode\": \"immediate\", \"transition\": {\"duration\": 0, \"easing\": \"linear\"}}], \"label\": \"11/18/2020\", \"method\": \"animate\"}], \"x\": 0.1, \"xanchor\": \"left\", \"y\": 0, \"yanchor\": \"top\"}], \"template\": {\"data\": {\"bar\": [{\"error_x\": {\"color\": \"#2a3f5f\"}, \"error_y\": {\"color\": \"#2a3f5f\"}, \"marker\": {\"line\": {\"color\": \"#E5ECF6\", \"width\": 0.5}}, \"type\": \"bar\"}], \"barpolar\": [{\"marker\": {\"line\": {\"color\": \"#E5ECF6\", \"width\": 0.5}}, \"type\": \"barpolar\"}], \"carpet\": [{\"aaxis\": {\"endlinecolor\": \"#2a3f5f\", \"gridcolor\": \"white\", \"linecolor\": \"white\", \"minorgridcolor\": \"white\", \"startlinecolor\": \"#2a3f5f\"}, \"baxis\": {\"endlinecolor\": \"#2a3f5f\", \"gridcolor\": \"white\", \"linecolor\": \"white\", \"minorgridcolor\": \"white\", \"startlinecolor\": \"#2a3f5f\"}, \"type\": \"carpet\"}], \"choropleth\": [{\"colorbar\": {\"outlinewidth\": 0, \"ticks\": \"\"}, \"type\": \"choropleth\"}], \"contour\": [{\"colorbar\": {\"outlinewidth\": 0, \"ticks\": \"\"}, \"colorscale\": [[0.0, \"#0d0887\"], [0.1111111111111111, \"#46039f\"], [0.2222222222222222, \"#7201a8\"], [0.3333333333333333, \"#9c179e\"], [0.4444444444444444, \"#bd3786\"], [0.5555555555555556, \"#d8576b\"], [0.6666666666666666, \"#ed7953\"], [0.7777777777777778, \"#fb9f3a\"], [0.8888888888888888, \"#fdca26\"], [1.0, \"#f0f921\"]], \"type\": \"contour\"}], \"contourcarpet\": [{\"colorbar\": {\"outlinewidth\": 0, \"ticks\": \"\"}, \"type\": \"contourcarpet\"}], \"heatmap\": [{\"colorbar\": {\"outlinewidth\": 0, \"ticks\": \"\"}, \"colorscale\": [[0.0, \"#0d0887\"], [0.1111111111111111, \"#46039f\"], [0.2222222222222222, \"#7201a8\"], [0.3333333333333333, \"#9c179e\"], [0.4444444444444444, \"#bd3786\"], [0.5555555555555556, \"#d8576b\"], [0.6666666666666666, \"#ed7953\"], [0.7777777777777778, \"#fb9f3a\"], [0.8888888888888888, \"#fdca26\"], [1.0, \"#f0f921\"]], \"type\": \"heatmap\"}], \"heatmapgl\": [{\"colorbar\": {\"outlinewidth\": 0, \"ticks\": \"\"}, \"colorscale\": [[0.0, \"#0d0887\"], [0.1111111111111111, \"#46039f\"], [0.2222222222222222, \"#7201a8\"], [0.3333333333333333, \"#9c179e\"], [0.4444444444444444, \"#bd3786\"], [0.5555555555555556, \"#d8576b\"], [0.6666666666666666, \"#ed7953\"], [0.7777777777777778, \"#fb9f3a\"], [0.8888888888888888, \"#fdca26\"], [1.0, \"#f0f921\"]], \"type\": \"heatmapgl\"}], \"histogram\": [{\"marker\": {\"colorbar\": {\"outlinewidth\": 0, \"ticks\": \"\"}}, \"type\": \"histogram\"}], \"histogram2d\": [{\"colorbar\": {\"outlinewidth\": 0, \"ticks\": \"\"}, \"colorscale\": [[0.0, \"#0d0887\"], [0.1111111111111111, \"#46039f\"], [0.2222222222222222, \"#7201a8\"], [0.3333333333333333, \"#9c179e\"], [0.4444444444444444, \"#bd3786\"], [0.5555555555555556, \"#d8576b\"], [0.6666666666666666, \"#ed7953\"], [0.7777777777777778, \"#fb9f3a\"], [0.8888888888888888, \"#fdca26\"], [1.0, \"#f0f921\"]], \"type\": \"histogram2d\"}], \"histogram2dcontour\": [{\"colorbar\": {\"outlinewidth\": 0, \"ticks\": \"\"}, \"colorscale\": [[0.0, \"#0d0887\"], [0.1111111111111111, \"#46039f\"], [0.2222222222222222, \"#7201a8\"], [0.3333333333333333, \"#9c179e\"], [0.4444444444444444, \"#bd3786\"], [0.5555555555555556, \"#d8576b\"], [0.6666666666666666, \"#ed7953\"], [0.7777777777777778, \"#fb9f3a\"], [0.8888888888888888, \"#fdca26\"], [1.0, \"#f0f921\"]], \"type\": \"histogram2dcontour\"}], \"mesh3d\": [{\"colorbar\": {\"outlinewidth\": 0, \"ticks\": \"\"}, \"type\": \"mesh3d\"}], \"parcoords\": [{\"line\": {\"colorbar\": {\"outlinewidth\": 0, \"ticks\": \"\"}}, \"type\": \"parcoords\"}], \"pie\": [{\"automargin\": true, \"type\": \"pie\"}], \"scatter\": [{\"marker\": {\"colorbar\": {\"outlinewidth\": 0, \"ticks\": \"\"}}, \"type\": \"scatter\"}], \"scatter3d\": [{\"line\": {\"colorbar\": {\"outlinewidth\": 0, \"ticks\": \"\"}}, \"marker\": {\"colorbar\": {\"outlinewidth\": 0, \"ticks\": \"\"}}, \"type\": \"scatter3d\"}], \"scattercarpet\": [{\"marker\": {\"colorbar\": {\"outlinewidth\": 0, \"ticks\": \"\"}}, \"type\": \"scattercarpet\"}], \"scattergeo\": [{\"marker\": {\"colorbar\": {\"outlinewidth\": 0, \"ticks\": \"\"}}, \"type\": \"scattergeo\"}], \"scattergl\": [{\"marker\": {\"colorbar\": {\"outlinewidth\": 0, \"ticks\": \"\"}}, \"type\": \"scattergl\"}], \"scattermapbox\": [{\"marker\": {\"colorbar\": {\"outlinewidth\": 0, \"ticks\": \"\"}}, \"type\": \"scattermapbox\"}], \"scatterpolar\": [{\"marker\": {\"colorbar\": {\"outlinewidth\": 0, \"ticks\": \"\"}}, \"type\": \"scatterpolar\"}], \"scatterpolargl\": [{\"marker\": {\"colorbar\": {\"outlinewidth\": 0, \"ticks\": \"\"}}, \"type\": \"scatterpolargl\"}], \"scatterternary\": [{\"marker\": {\"colorbar\": {\"outlinewidth\": 0, \"ticks\": \"\"}}, \"type\": \"scatterternary\"}], \"surface\": [{\"colorbar\": {\"outlinewidth\": 0, \"ticks\": \"\"}, \"colorscale\": [[0.0, \"#0d0887\"], [0.1111111111111111, \"#46039f\"], [0.2222222222222222, \"#7201a8\"], [0.3333333333333333, \"#9c179e\"], [0.4444444444444444, \"#bd3786\"], [0.5555555555555556, \"#d8576b\"], [0.6666666666666666, \"#ed7953\"], [0.7777777777777778, \"#fb9f3a\"], [0.8888888888888888, \"#fdca26\"], [1.0, \"#f0f921\"]], \"type\": \"surface\"}], \"table\": [{\"cells\": {\"fill\": {\"color\": \"#EBF0F8\"}, \"line\": {\"color\": \"white\"}}, \"header\": {\"fill\": {\"color\": \"#C8D4E3\"}, \"line\": {\"color\": \"white\"}}, \"type\": \"table\"}]}, \"layout\": {\"annotationdefaults\": {\"arrowcolor\": \"#2a3f5f\", \"arrowhead\": 0, \"arrowwidth\": 1}, \"coloraxis\": {\"colorbar\": {\"outlinewidth\": 0, \"ticks\": \"\"}}, \"colorscale\": {\"diverging\": [[0, \"#8e0152\"], [0.1, \"#c51b7d\"], [0.2, \"#de77ae\"], [0.3, \"#f1b6da\"], [0.4, \"#fde0ef\"], [0.5, \"#f7f7f7\"], [0.6, \"#e6f5d0\"], [0.7, \"#b8e186\"], [0.8, \"#7fbc41\"], [0.9, \"#4d9221\"], [1, \"#276419\"]], \"sequential\": [[0.0, \"#0d0887\"], [0.1111111111111111, \"#46039f\"], [0.2222222222222222, \"#7201a8\"], [0.3333333333333333, \"#9c179e\"], [0.4444444444444444, \"#bd3786\"], [0.5555555555555556, \"#d8576b\"], [0.6666666666666666, \"#ed7953\"], [0.7777777777777778, \"#fb9f3a\"], [0.8888888888888888, \"#fdca26\"], [1.0, \"#f0f921\"]], \"sequentialminus\": [[0.0, \"#0d0887\"], [0.1111111111111111, \"#46039f\"], [0.2222222222222222, \"#7201a8\"], [0.3333333333333333, \"#9c179e\"], [0.4444444444444444, \"#bd3786\"], [0.5555555555555556, \"#d8576b\"], [0.6666666666666666, \"#ed7953\"], [0.7777777777777778, \"#fb9f3a\"], [0.8888888888888888, \"#fdca26\"], [1.0, \"#f0f921\"]]}, \"colorway\": [\"#636efa\", \"#EF553B\", \"#00cc96\", \"#ab63fa\", \"#FFA15A\", \"#19d3f3\", \"#FF6692\", \"#B6E880\", \"#FF97FF\", \"#FECB52\"], \"font\": {\"color\": \"#2a3f5f\"}, \"geo\": {\"bgcolor\": \"white\", \"lakecolor\": \"white\", \"landcolor\": \"#E5ECF6\", \"showlakes\": true, \"showland\": true, \"subunitcolor\": \"white\"}, \"hoverlabel\": {\"align\": \"left\"}, \"hovermode\": \"closest\", \"mapbox\": {\"style\": \"light\"}, \"paper_bgcolor\": \"white\", \"plot_bgcolor\": \"#E5ECF6\", \"polar\": {\"angularaxis\": {\"gridcolor\": \"white\", \"linecolor\": \"white\", \"ticks\": \"\"}, \"bgcolor\": \"#E5ECF6\", \"radialaxis\": {\"gridcolor\": \"white\", \"linecolor\": \"white\", \"ticks\": \"\"}}, \"scene\": {\"xaxis\": {\"backgroundcolor\": \"#E5ECF6\", \"gridcolor\": \"white\", \"gridwidth\": 2, \"linecolor\": \"white\", \"showbackground\": true, \"ticks\": \"\", \"zerolinecolor\": \"white\"}, \"yaxis\": {\"backgroundcolor\": \"#E5ECF6\", \"gridcolor\": \"white\", \"gridwidth\": 2, \"linecolor\": \"white\", \"showbackground\": true, \"ticks\": \"\", \"zerolinecolor\": \"white\"}, \"zaxis\": {\"backgroundcolor\": \"#E5ECF6\", \"gridcolor\": \"white\", \"gridwidth\": 2, \"linecolor\": \"white\", \"showbackground\": true, \"ticks\": \"\", \"zerolinecolor\": \"white\"}}, \"shapedefaults\": {\"line\": {\"color\": \"#2a3f5f\"}}, \"ternary\": {\"aaxis\": {\"gridcolor\": \"white\", \"linecolor\": \"white\", \"ticks\": \"\"}, \"baxis\": {\"gridcolor\": \"white\", \"linecolor\": \"white\", \"ticks\": \"\"}, \"bgcolor\": \"#E5ECF6\", \"caxis\": {\"gridcolor\": \"white\", \"linecolor\": \"white\", \"ticks\": \"\"}}, \"title\": {\"x\": 0.05}, \"xaxis\": {\"automargin\": true, \"gridcolor\": \"white\", \"linecolor\": \"white\", \"ticks\": \"\", \"title\": {\"standoff\": 15}, \"zerolinecolor\": \"white\", \"zerolinewidth\": 2}, \"yaxis\": {\"automargin\": true, \"gridcolor\": \"white\", \"linecolor\": \"white\", \"ticks\": \"\", \"title\": {\"standoff\": 15}, \"zerolinecolor\": \"white\", \"zerolinewidth\": 2}}}, \"title\": {\"text\": \"spread of COVID-19 based on different time intervals\"}, \"updatemenus\": [{\"buttons\": [{\"args\": [null, {\"frame\": {\"duration\": 500, \"redraw\": true}, \"fromcurrent\": true, \"mode\": \"immediate\", \"transition\": {\"duration\": 500, \"easing\": \"linear\"}}], \"label\": \"&#9654;\", \"method\": \"animate\"}, {\"args\": [[null], {\"frame\": {\"duration\": 0, \"redraw\": true}, \"fromcurrent\": true, \"mode\": \"immediate\", \"transition\": {\"duration\": 0, \"easing\": \"linear\"}}], \"label\": \"&#9724;\", \"method\": \"animate\"}], \"direction\": \"left\", \"pad\": {\"r\": 10, \"t\": 70}, \"showactive\": false, \"type\": \"buttons\", \"x\": 0.1, \"xanchor\": \"right\", \"y\": 0, \"yanchor\": \"top\"}]},                        {\"responsive\": true}                    ).then(function(){\n",
       "                            Plotly.addFrames('8b6712ca-13e1-4084-a012-011d87a6f024', [{\"data\": [{\"geo\": \"geo\", \"hovertemplate\": \"<b>%{hovertext}</b><br><br>date=01/02/2020<br>size=%{marker.size}<br>country_name=%{location}<br>total_confirmed=%{marker.color}<extra></extra>\", \"hovertext\": [\"Bangladesh\"], \"legendgroup\": \"\", \"locationmode\": \"country names\", \"locations\": [\"Bangladesh\"], \"marker\": {\"color\": [0.0], \"coloraxis\": \"coloraxis\", \"size\": [0.0], \"sizemode\": \"area\", \"sizeref\": 0.3021525730050908}, \"name\": \"\", \"showlegend\": false, \"type\": \"scattergeo\"}], \"name\": \"01/02/2020\"}, {\"data\": [{\"geo\": \"geo\", \"hovertemplate\": \"<b>%{hovertext}</b><br><br>date=01/03/2020<br>size=%{marker.size}<br>country_name=%{location}<br>total_confirmed=%{marker.color}<extra></extra>\", \"hovertext\": [\"Bangladesh\", \"India\"], \"legendgroup\": \"\", \"locationmode\": \"country names\", \"locations\": [\"Bangladesh\", \"India\"], \"marker\": {\"color\": [0.0, 0.0], \"coloraxis\": \"coloraxis\", \"size\": [0.0, 0.0], \"sizemode\": \"area\", \"sizeref\": 0.3021525730050908}, \"name\": \"\", \"showlegend\": false, \"type\": \"scattergeo\"}], \"name\": \"01/03/2020\"}, {\"data\": [{\"geo\": \"geo\", \"hovertemplate\": \"<b>%{hovertext}</b><br><br>date=01/04/2020<br>size=%{marker.size}<br>country_name=%{location}<br>total_confirmed=%{marker.color}<extra></extra>\", \"hovertext\": [\"Bangladesh\"], \"legendgroup\": \"\", \"locationmode\": \"country names\", \"locations\": [\"Bangladesh\"], \"marker\": {\"color\": [0.0], \"coloraxis\": \"coloraxis\", \"size\": [0.0], \"sizemode\": \"area\", \"sizeref\": 0.3021525730050908}, \"name\": \"\", \"showlegend\": false, \"type\": \"scattergeo\"}], \"name\": \"01/04/2020\"}, {\"data\": [{\"geo\": \"geo\", \"hovertemplate\": \"<b>%{hovertext}</b><br><br>date=01/06/2020<br>size=%{marker.size}<br>country_name=%{location}<br>total_confirmed=%{marker.color}<extra></extra>\", \"hovertext\": [\"Bangladesh\", \"India\"], \"legendgroup\": \"\", \"locationmode\": \"country names\", \"locations\": [\"Bangladesh\", \"India\"], \"marker\": {\"color\": [0.0, 0.0], \"coloraxis\": \"coloraxis\", \"size\": [0.0, 0.0], \"sizemode\": \"area\", \"sizeref\": 0.3021525730050908}, \"name\": \"\", \"showlegend\": false, \"type\": \"scattergeo\"}], \"name\": \"01/06/2020\"}, {\"data\": [{\"geo\": \"geo\", \"hovertemplate\": \"<b>%{hovertext}</b><br><br>date=01/07/2020<br>size=%{marker.size}<br>country_name=%{location}<br>total_confirmed=%{marker.color}<extra></extra>\", \"hovertext\": [\"Bangladesh\", \"India\"], \"legendgroup\": \"\", \"locationmode\": \"country names\", \"locations\": [\"Bangladesh\", \"India\"], \"marker\": {\"color\": [0.0, 0.0], \"coloraxis\": \"coloraxis\", \"size\": [0.0, 0.0], \"sizemode\": \"area\", \"sizeref\": 0.3021525730050908}, \"name\": \"\", \"showlegend\": false, \"type\": \"scattergeo\"}], \"name\": \"01/07/2020\"}, {\"data\": [{\"geo\": \"geo\", \"hovertemplate\": \"<b>%{hovertext}</b><br><br>date=01/09/2020<br>size=%{marker.size}<br>country_name=%{location}<br>total_confirmed=%{marker.color}<extra></extra>\", \"hovertext\": [\"India\"], \"legendgroup\": \"\", \"locationmode\": \"country names\", \"locations\": [\"India\"], \"marker\": {\"color\": [0.0], \"coloraxis\": \"coloraxis\", \"size\": [0.0], \"sizemode\": \"area\", \"sizeref\": 0.3021525730050908}, \"name\": \"\", \"showlegend\": false, \"type\": \"scattergeo\"}], \"name\": \"01/09/2020\"}, {\"data\": [{\"geo\": \"geo\", \"hovertemplate\": \"<b>%{hovertext}</b><br><br>date=01/13/2020<br>size=%{marker.size}<br>country_name=%{location}<br>total_confirmed=%{marker.color}<extra></extra>\", \"hovertext\": [\"India\"], \"legendgroup\": \"\", \"locationmode\": \"country names\", \"locations\": [\"India\"], \"marker\": {\"color\": [0.0], \"coloraxis\": \"coloraxis\", \"size\": [0.0], \"sizemode\": \"area\", \"sizeref\": 0.3021525730050908}, \"name\": \"\", \"showlegend\": false, \"type\": \"scattergeo\"}], \"name\": \"01/13/2020\"}, {\"data\": [{\"geo\": \"geo\", \"hovertemplate\": \"<b>%{hovertext}</b><br><br>date=01/14/2020<br>size=%{marker.size}<br>country_name=%{location}<br>total_confirmed=%{marker.color}<extra></extra>\", \"hovertext\": [\"India\"], \"legendgroup\": \"\", \"locationmode\": \"country names\", \"locations\": [\"India\"], \"marker\": {\"color\": [0.0], \"coloraxis\": \"coloraxis\", \"size\": [0.0], \"sizemode\": \"area\", \"sizeref\": 0.3021525730050908}, \"name\": \"\", \"showlegend\": false, \"type\": \"scattergeo\"}], \"name\": \"01/14/2020\"}, {\"data\": [{\"geo\": \"geo\", \"hovertemplate\": \"<b>%{hovertext}</b><br><br>date=01/16/2020<br>size=%{marker.size}<br>country_name=%{location}<br>total_confirmed=%{marker.color}<extra></extra>\", \"hovertext\": [\"Bangladesh\"], \"legendgroup\": \"\", \"locationmode\": \"country names\", \"locations\": [\"Bangladesh\"], \"marker\": {\"color\": [0.0], \"coloraxis\": \"coloraxis\", \"size\": [0.0], \"sizemode\": \"area\", \"sizeref\": 0.3021525730050908}, \"name\": \"\", \"showlegend\": false, \"type\": \"scattergeo\"}], \"name\": \"01/16/2020\"}, {\"data\": [{\"geo\": \"geo\", \"hovertemplate\": \"<b>%{hovertext}</b><br><br>date=01/18/2020<br>size=%{marker.size}<br>country_name=%{location}<br>total_confirmed=%{marker.color}<extra></extra>\", \"hovertext\": [\"Bangladesh\", \"India\"], \"legendgroup\": \"\", \"locationmode\": \"country names\", \"locations\": [\"Bangladesh\", \"India\"], \"marker\": {\"color\": [0.0, 0.0], \"coloraxis\": \"coloraxis\", \"size\": [0.0, 0.0], \"sizemode\": \"area\", \"sizeref\": 0.3021525730050908}, \"name\": \"\", \"showlegend\": false, \"type\": \"scattergeo\"}], \"name\": \"01/18/2020\"}, {\"data\": [{\"geo\": \"geo\", \"hovertemplate\": \"<b>%{hovertext}</b><br><br>date=01/19/2020<br>size=%{marker.size}<br>country_name=%{location}<br>total_confirmed=%{marker.color}<extra></extra>\", \"hovertext\": [\"India\"], \"legendgroup\": \"\", \"locationmode\": \"country names\", \"locations\": [\"India\"], \"marker\": {\"color\": [0.0], \"coloraxis\": \"coloraxis\", \"size\": [0.0], \"sizemode\": \"area\", \"sizeref\": 0.3021525730050908}, \"name\": \"\", \"showlegend\": false, \"type\": \"scattergeo\"}], \"name\": \"01/19/2020\"}, {\"data\": [{\"geo\": \"geo\", \"hovertemplate\": \"<b>%{hovertext}</b><br><br>date=01/20/2020<br>size=%{marker.size}<br>country_name=%{location}<br>total_confirmed=%{marker.color}<extra></extra>\", \"hovertext\": [\"Bangladesh\", \"India\"], \"legendgroup\": \"\", \"locationmode\": \"country names\", \"locations\": [\"Bangladesh\", \"India\"], \"marker\": {\"color\": [0.0, 0.0], \"coloraxis\": \"coloraxis\", \"size\": [0.0, 0.0], \"sizemode\": \"area\", \"sizeref\": 0.3021525730050908}, \"name\": \"\", \"showlegend\": false, \"type\": \"scattergeo\"}], \"name\": \"01/20/2020\"}, {\"data\": [{\"geo\": \"geo\", \"hovertemplate\": \"<b>%{hovertext}</b><br><br>date=01/25/2020<br>size=%{marker.size}<br>country_name=%{location}<br>total_confirmed=%{marker.color}<extra></extra>\", \"hovertext\": [\"Bangladesh\"], \"legendgroup\": \"\", \"locationmode\": \"country names\", \"locations\": [\"Bangladesh\"], \"marker\": {\"color\": [0.0], \"coloraxis\": \"coloraxis\", \"size\": [0.0], \"sizemode\": \"area\", \"sizeref\": 0.3021525730050908}, \"name\": \"\", \"showlegend\": false, \"type\": \"scattergeo\"}], \"name\": \"01/25/2020\"}, {\"data\": [{\"geo\": \"geo\", \"hovertemplate\": \"<b>%{hovertext}</b><br><br>date=01/26/2020<br>size=%{marker.size}<br>country_name=%{location}<br>total_confirmed=%{marker.color}<extra></extra>\", \"hovertext\": [\"India\"], \"legendgroup\": \"\", \"locationmode\": \"country names\", \"locations\": [\"India\"], \"marker\": {\"color\": [0.0], \"coloraxis\": \"coloraxis\", \"size\": [0.0], \"sizemode\": \"area\", \"sizeref\": 0.3021525730050908}, \"name\": \"\", \"showlegend\": false, \"type\": \"scattergeo\"}], \"name\": \"01/26/2020\"}, {\"data\": [{\"geo\": \"geo\", \"hovertemplate\": \"<b>%{hovertext}</b><br><br>date=01/27/2020<br>size=%{marker.size}<br>country_name=%{location}<br>total_confirmed=%{marker.color}<extra></extra>\", \"hovertext\": [\"India\"], \"legendgroup\": \"\", \"locationmode\": \"country names\", \"locations\": [\"India\"], \"marker\": {\"color\": [0.0], \"coloraxis\": \"coloraxis\", \"size\": [0.0], \"sizemode\": \"area\", \"sizeref\": 0.3021525730050908}, \"name\": \"\", \"showlegend\": false, \"type\": \"scattergeo\"}], \"name\": \"01/27/2020\"}, {\"data\": [{\"geo\": \"geo\", \"hovertemplate\": \"<b>%{hovertext}</b><br><br>date=01/28/2020<br>size=%{marker.size}<br>country_name=%{location}<br>total_confirmed=%{marker.color}<extra></extra>\", \"hovertext\": [\"Bangladesh\"], \"legendgroup\": \"\", \"locationmode\": \"country names\", \"locations\": [\"Bangladesh\"], \"marker\": {\"color\": [0.0], \"coloraxis\": \"coloraxis\", \"size\": [0.0], \"sizemode\": \"area\", \"sizeref\": 0.3021525730050908}, \"name\": \"\", \"showlegend\": false, \"type\": \"scattergeo\"}], \"name\": \"01/28/2020\"}, {\"data\": [{\"geo\": \"geo\", \"hovertemplate\": \"<b>%{hovertext}</b><br><br>date=01/29/2020<br>size=%{marker.size}<br>country_name=%{location}<br>total_confirmed=%{marker.color}<extra></extra>\", \"hovertext\": [\"Bangladesh\"], \"legendgroup\": \"\", \"locationmode\": \"country names\", \"locations\": [\"Bangladesh\"], \"marker\": {\"color\": [0.0], \"coloraxis\": \"coloraxis\", \"size\": [0.0], \"sizemode\": \"area\", \"sizeref\": 0.3021525730050908}, \"name\": \"\", \"showlegend\": false, \"type\": \"scattergeo\"}], \"name\": \"01/29/2020\"}, {\"data\": [{\"geo\": \"geo\", \"hovertemplate\": \"<b>%{hovertext}</b><br><br>date=01/31/2020<br>size=%{marker.size}<br>country_name=%{location}<br>total_confirmed=%{marker.color}<extra></extra>\", \"hovertext\": [\"Bangladesh\"], \"legendgroup\": \"\", \"locationmode\": \"country names\", \"locations\": [\"Bangladesh\"], \"marker\": {\"color\": [0.0], \"coloraxis\": \"coloraxis\", \"size\": [0.0], \"sizemode\": \"area\", \"sizeref\": 0.3021525730050908}, \"name\": \"\", \"showlegend\": false, \"type\": \"scattergeo\"}], \"name\": \"01/31/2020\"}, {\"data\": [{\"geo\": \"geo\", \"hovertemplate\": \"<b>%{hovertext}</b><br><br>date=02/01/2020<br>size=%{marker.size}<br>country_name=%{location}<br>total_confirmed=%{marker.color}<extra></extra>\", \"hovertext\": [\"India\"], \"legendgroup\": \"\", \"locationmode\": \"country names\", \"locations\": [\"India\"], \"marker\": {\"color\": [2.0], \"coloraxis\": \"coloraxis\", \"size\": [1.2311444133449163], \"sizemode\": \"area\", \"sizeref\": 0.3021525730050908}, \"name\": \"\", \"showlegend\": false, \"type\": \"scattergeo\"}], \"name\": \"02/01/2020\"}, {\"data\": [{\"geo\": \"geo\", \"hovertemplate\": \"<b>%{hovertext}</b><br><br>date=02/04/2020<br>size=%{marker.size}<br>country_name=%{location}<br>total_confirmed=%{marker.color}<extra></extra>\", \"hovertext\": [\"India\"], \"legendgroup\": \"\", \"locationmode\": \"country names\", \"locations\": [\"India\"], \"marker\": {\"color\": [3.0], \"coloraxis\": \"coloraxis\", \"size\": [1.3903891703159093], \"sizemode\": \"area\", \"sizeref\": 0.3021525730050908}, \"name\": \"\", \"showlegend\": false, \"type\": \"scattergeo\"}], \"name\": \"02/04/2020\"}, {\"data\": [{\"geo\": \"geo\", \"hovertemplate\": \"<b>%{hovertext}</b><br><br>date=02/05/2020<br>size=%{marker.size}<br>country_name=%{location}<br>total_confirmed=%{marker.color}<extra></extra>\", \"hovertext\": [\"Bangladesh\", \"India\"], \"legendgroup\": \"\", \"locationmode\": \"country names\", \"locations\": [\"Bangladesh\", \"India\"], \"marker\": {\"color\": [0.0, 3.0], \"coloraxis\": \"coloraxis\", \"size\": [0.0, 1.3903891703159093], \"sizemode\": \"area\", \"sizeref\": 0.3021525730050908}, \"name\": \"\", \"showlegend\": false, \"type\": \"scattergeo\"}], \"name\": \"02/05/2020\"}, {\"data\": [{\"geo\": \"geo\", \"hovertemplate\": \"<b>%{hovertext}</b><br><br>date=02/11/2020<br>size=%{marker.size}<br>country_name=%{location}<br>total_confirmed=%{marker.color}<extra></extra>\", \"hovertext\": [\"India\"], \"legendgroup\": \"\", \"locationmode\": \"country names\", \"locations\": [\"India\"], \"marker\": {\"color\": [3.0], \"coloraxis\": \"coloraxis\", \"size\": [1.3903891703159093], \"sizemode\": \"area\", \"sizeref\": 0.3021525730050908}, \"name\": \"\", \"showlegend\": false, \"type\": \"scattergeo\"}], \"name\": \"02/11/2020\"}, {\"data\": [{\"geo\": \"geo\", \"hovertemplate\": \"<b>%{hovertext}</b><br><br>date=02/12/2020<br>size=%{marker.size}<br>country_name=%{location}<br>total_confirmed=%{marker.color}<extra></extra>\", \"hovertext\": [\"India\"], \"legendgroup\": \"\", \"locationmode\": \"country names\", \"locations\": [\"India\"], \"marker\": {\"color\": [3.0], \"coloraxis\": \"coloraxis\", \"size\": [1.3903891703159093], \"sizemode\": \"area\", \"sizeref\": 0.3021525730050908}, \"name\": \"\", \"showlegend\": false, \"type\": \"scattergeo\"}], \"name\": \"02/12/2020\"}, {\"data\": [{\"geo\": \"geo\", \"hovertemplate\": \"<b>%{hovertext}</b><br><br>date=02/15/2020<br>size=%{marker.size}<br>country_name=%{location}<br>total_confirmed=%{marker.color}<extra></extra>\", \"hovertext\": [\"Bangladesh\"], \"legendgroup\": \"\", \"locationmode\": \"country names\", \"locations\": [\"Bangladesh\"], \"marker\": {\"color\": [0.0], \"coloraxis\": \"coloraxis\", \"size\": [0.0], \"sizemode\": \"area\", \"sizeref\": 0.3021525730050908}, \"name\": \"\", \"showlegend\": false, \"type\": \"scattergeo\"}], \"name\": \"02/15/2020\"}, {\"data\": [{\"geo\": \"geo\", \"hovertemplate\": \"<b>%{hovertext}</b><br><br>date=02/18/2020<br>size=%{marker.size}<br>country_name=%{location}<br>total_confirmed=%{marker.color}<extra></extra>\", \"hovertext\": [\"India\"], \"legendgroup\": \"\", \"locationmode\": \"country names\", \"locations\": [\"India\"], \"marker\": {\"color\": [3.0], \"coloraxis\": \"coloraxis\", \"size\": [1.3903891703159093], \"sizemode\": \"area\", \"sizeref\": 0.3021525730050908}, \"name\": \"\", \"showlegend\": false, \"type\": \"scattergeo\"}], \"name\": \"02/18/2020\"}, {\"data\": [{\"geo\": \"geo\", \"hovertemplate\": \"<b>%{hovertext}</b><br><br>date=02/19/2020<br>size=%{marker.size}<br>country_name=%{location}<br>total_confirmed=%{marker.color}<extra></extra>\", \"hovertext\": [\"India\"], \"legendgroup\": \"\", \"locationmode\": \"country names\", \"locations\": [\"India\"], \"marker\": {\"color\": [3.0], \"coloraxis\": \"coloraxis\", \"size\": [1.3903891703159093], \"sizemode\": \"area\", \"sizeref\": 0.3021525730050908}, \"name\": \"\", \"showlegend\": false, \"type\": \"scattergeo\"}], \"name\": \"02/19/2020\"}, {\"data\": [{\"geo\": \"geo\", \"hovertemplate\": \"<b>%{hovertext}</b><br><br>date=02/21/2020<br>size=%{marker.size}<br>country_name=%{location}<br>total_confirmed=%{marker.color}<extra></extra>\", \"hovertext\": [\"India\"], \"legendgroup\": \"\", \"locationmode\": \"country names\", \"locations\": [\"India\"], \"marker\": {\"color\": [3.0], \"coloraxis\": \"coloraxis\", \"size\": [1.3903891703159093], \"sizemode\": \"area\", \"sizeref\": 0.3021525730050908}, \"name\": \"\", \"showlegend\": false, \"type\": \"scattergeo\"}], \"name\": \"02/21/2020\"}, {\"data\": [{\"geo\": \"geo\", \"hovertemplate\": \"<b>%{hovertext}</b><br><br>date=02/24/2020<br>size=%{marker.size}<br>country_name=%{location}<br>total_confirmed=%{marker.color}<extra></extra>\", \"hovertext\": [\"Bangladesh\", \"India\"], \"legendgroup\": \"\", \"locationmode\": \"country names\", \"locations\": [\"Bangladesh\", \"India\"], \"marker\": {\"color\": [0.0, 3.0], \"coloraxis\": \"coloraxis\", \"size\": [0.0, 1.3903891703159093], \"sizemode\": \"area\", \"sizeref\": 0.3021525730050908}, \"name\": \"\", \"showlegend\": false, \"type\": \"scattergeo\"}], \"name\": \"02/24/2020\"}, {\"data\": [{\"geo\": \"geo\", \"hovertemplate\": \"<b>%{hovertext}</b><br><br>date=02/25/2020<br>size=%{marker.size}<br>country_name=%{location}<br>total_confirmed=%{marker.color}<extra></extra>\", \"hovertext\": [\"Bangladesh\"], \"legendgroup\": \"\", \"locationmode\": \"country names\", \"locations\": [\"Bangladesh\"], \"marker\": {\"color\": [0.0], \"coloraxis\": \"coloraxis\", \"size\": [0.0], \"sizemode\": \"area\", \"sizeref\": 0.3021525730050908}, \"name\": \"\", \"showlegend\": false, \"type\": \"scattergeo\"}], \"name\": \"02/25/2020\"}, {\"data\": [{\"geo\": \"geo\", \"hovertemplate\": \"<b>%{hovertext}</b><br><br>date=02/26/2020<br>size=%{marker.size}<br>country_name=%{location}<br>total_confirmed=%{marker.color}<extra></extra>\", \"hovertext\": [\"India\"], \"legendgroup\": \"\", \"locationmode\": \"country names\", \"locations\": [\"India\"], \"marker\": {\"color\": [3.0], \"coloraxis\": \"coloraxis\", \"size\": [1.3903891703159093], \"sizemode\": \"area\", \"sizeref\": 0.3021525730050908}, \"name\": \"\", \"showlegend\": false, \"type\": \"scattergeo\"}], \"name\": \"02/26/2020\"}, {\"data\": [{\"geo\": \"geo\", \"hovertemplate\": \"<b>%{hovertext}</b><br><br>date=02/27/2020<br>size=%{marker.size}<br>country_name=%{location}<br>total_confirmed=%{marker.color}<extra></extra>\", \"hovertext\": [\"India\"], \"legendgroup\": \"\", \"locationmode\": \"country names\", \"locations\": [\"India\"], \"marker\": {\"color\": [3.0], \"coloraxis\": \"coloraxis\", \"size\": [1.3903891703159093], \"sizemode\": \"area\", \"sizeref\": 0.3021525730050908}, \"name\": \"\", \"showlegend\": false, \"type\": \"scattergeo\"}], \"name\": \"02/27/2020\"}, {\"data\": [{\"geo\": \"geo\", \"hovertemplate\": \"<b>%{hovertext}</b><br><br>date=02/28/2020<br>size=%{marker.size}<br>country_name=%{location}<br>total_confirmed=%{marker.color}<extra></extra>\", \"hovertext\": [\"India\"], \"legendgroup\": \"\", \"locationmode\": \"country names\", \"locations\": [\"India\"], \"marker\": {\"color\": [3.0], \"coloraxis\": \"coloraxis\", \"size\": [1.3903891703159093], \"sizemode\": \"area\", \"sizeref\": 0.3021525730050908}, \"name\": \"\", \"showlegend\": false, \"type\": \"scattergeo\"}], \"name\": \"02/28/2020\"}, {\"data\": [{\"geo\": \"geo\", \"hovertemplate\": \"<b>%{hovertext}</b><br><br>date=03/02/2020<br>size=%{marker.size}<br>country_name=%{location}<br>total_confirmed=%{marker.color}<extra></extra>\", \"hovertext\": [\"India\"], \"legendgroup\": \"\", \"locationmode\": \"country names\", \"locations\": [\"India\"], \"marker\": {\"color\": [5.0], \"coloraxis\": \"coloraxis\", \"size\": [1.6206565966927624], \"sizemode\": \"area\", \"sizeref\": 0.3021525730050908}, \"name\": \"\", \"showlegend\": false, \"type\": \"scattergeo\"}], \"name\": \"03/02/2020\"}, {\"data\": [{\"geo\": \"geo\", \"hovertemplate\": \"<b>%{hovertext}</b><br><br>date=03/03/2020<br>size=%{marker.size}<br>country_name=%{location}<br>total_confirmed=%{marker.color}<extra></extra>\", \"hovertext\": [\"India\"], \"legendgroup\": \"\", \"locationmode\": \"country names\", \"locations\": [\"India\"], \"marker\": {\"color\": [6.0], \"coloraxis\": \"coloraxis\", \"size\": [1.711769859409705], \"sizemode\": \"area\", \"sizeref\": 0.3021525730050908}, \"name\": \"\", \"showlegend\": false, \"type\": \"scattergeo\"}], \"name\": \"03/03/2020\"}, {\"data\": [{\"geo\": \"geo\", \"hovertemplate\": \"<b>%{hovertext}</b><br><br>date=03/08/2020<br>size=%{marker.size}<br>country_name=%{location}<br>total_confirmed=%{marker.color}<extra></extra>\", \"hovertext\": [\"India\"], \"legendgroup\": \"\", \"locationmode\": \"country names\", \"locations\": [\"India\"], \"marker\": {\"color\": [54.0], \"coloraxis\": \"coloraxis\", \"size\": [3.3091627572662095], \"sizemode\": \"area\", \"sizeref\": 0.3021525730050908}, \"name\": \"\", \"showlegend\": false, \"type\": \"scattergeo\"}], \"name\": \"03/08/2020\"}, {\"data\": [{\"geo\": \"geo\", \"hovertemplate\": \"<b>%{hovertext}</b><br><br>date=03/09/2020<br>size=%{marker.size}<br>country_name=%{location}<br>total_confirmed=%{marker.color}<extra></extra>\", \"hovertext\": [\"Bangladesh\"], \"legendgroup\": \"\", \"locationmode\": \"country names\", \"locations\": [\"Bangladesh\"], \"marker\": {\"color\": [7.0], \"coloraxis\": \"coloraxis\", \"size\": [1.792789962520997], \"sizemode\": \"area\", \"sizeref\": 0.3021525730050908}, \"name\": \"\", \"showlegend\": false, \"type\": \"scattergeo\"}], \"name\": \"03/09/2020\"}, {\"data\": [{\"geo\": \"geo\", \"hovertemplate\": \"<b>%{hovertext}</b><br><br>date=03/10/2020<br>size=%{marker.size}<br>country_name=%{location}<br>total_confirmed=%{marker.color}<extra></extra>\", \"hovertext\": [\"Bangladesh\", \"India\"], \"legendgroup\": \"\", \"locationmode\": \"country names\", \"locations\": [\"Bangladesh\", \"India\"], \"marker\": {\"color\": [7.0, 50.0], \"coloraxis\": \"coloraxis\", \"size\": [1.792789962520997, 3.233635032886787], \"sizemode\": \"area\", \"sizeref\": 0.3021525730050908}, \"name\": \"\", \"showlegend\": false, \"type\": \"scattergeo\"}], \"name\": \"03/10/2020\"}, {\"data\": [{\"geo\": \"geo\", \"hovertemplate\": \"<b>%{hovertext}</b><br><br>date=03/12/2020<br>size=%{marker.size}<br>country_name=%{location}<br>total_confirmed=%{marker.color}<extra></extra>\", \"hovertext\": [\"India\"], \"legendgroup\": \"\", \"locationmode\": \"country names\", \"locations\": [\"India\"], \"marker\": {\"color\": [75.0], \"coloraxis\": \"coloraxis\", \"size\": [3.651895814776621], \"sizemode\": \"area\", \"sizeref\": 0.3021525730050908}, \"name\": \"\", \"showlegend\": false, \"type\": \"scattergeo\"}], \"name\": \"03/12/2020\"}, {\"data\": [{\"geo\": \"geo\", \"hovertemplate\": \"<b>%{hovertext}</b><br><br>date=03/16/2020<br>size=%{marker.size}<br>country_name=%{location}<br>total_confirmed=%{marker.color}<extra></extra>\", \"hovertext\": [\"Bangladesh\"], \"legendgroup\": \"\", \"locationmode\": \"country names\", \"locations\": [\"Bangladesh\"], \"marker\": {\"color\": [5.0], \"coloraxis\": \"coloraxis\", \"size\": [1.6206565966927624], \"sizemode\": \"area\", \"sizeref\": 0.3021525730050908}, \"name\": \"\", \"showlegend\": false, \"type\": \"scattergeo\"}], \"name\": \"03/16/2020\"}, {\"data\": [{\"geo\": \"geo\", \"hovertemplate\": \"<b>%{hovertext}</b><br><br>date=03/19/2020<br>size=%{marker.size}<br>country_name=%{location}<br>total_confirmed=%{marker.color}<extra></extra>\", \"hovertext\": [\"Bangladesh\"], \"legendgroup\": \"\", \"locationmode\": \"country names\", \"locations\": [\"Bangladesh\"], \"marker\": {\"color\": [10.0], \"coloraxis\": \"coloraxis\", \"size\": [1.9952623149688795], \"sizemode\": \"area\", \"sizeref\": 0.3021525730050908}, \"name\": \"\", \"showlegend\": false, \"type\": \"scattergeo\"}], \"name\": \"03/19/2020\"}, {\"data\": [{\"geo\": \"geo\", \"hovertemplate\": \"<b>%{hovertext}</b><br><br>date=03/20/2020<br>size=%{marker.size}<br>country_name=%{location}<br>total_confirmed=%{marker.color}<extra></extra>\", \"hovertext\": [\"Bangladesh\"], \"legendgroup\": \"\", \"locationmode\": \"country names\", \"locations\": [\"Bangladesh\"], \"marker\": {\"color\": [17.0], \"coloraxis\": \"coloraxis\", \"size\": [2.3395626336814512], \"sizemode\": \"area\", \"sizeref\": 0.3021525730050908}, \"name\": \"\", \"showlegend\": false, \"type\": \"scattergeo\"}], \"name\": \"03/20/2020\"}, {\"data\": [{\"geo\": \"geo\", \"hovertemplate\": \"<b>%{hovertext}</b><br><br>date=03/21/2020<br>size=%{marker.size}<br>country_name=%{location}<br>total_confirmed=%{marker.color}<extra></extra>\", \"hovertext\": [\"India\"], \"legendgroup\": \"\", \"locationmode\": \"country names\", \"locations\": [\"India\"], \"marker\": {\"color\": [320.0], \"coloraxis\": \"coloraxis\", \"size\": [5.643454052641855], \"sizemode\": \"area\", \"sizeref\": 0.3021525730050908}, \"name\": \"\", \"showlegend\": false, \"type\": \"scattergeo\"}], \"name\": \"03/21/2020\"}, {\"data\": [{\"geo\": \"geo\", \"hovertemplate\": \"<b>%{hovertext}</b><br><br>date=03/22/2020<br>size=%{marker.size}<br>country_name=%{location}<br>total_confirmed=%{marker.color}<extra></extra>\", \"hovertext\": [\"Bangladesh\", \"India\"], \"legendgroup\": \"\", \"locationmode\": \"country names\", \"locations\": [\"Bangladesh\", \"India\"], \"marker\": {\"color\": [27.0, 439.0], \"coloraxis\": \"coloraxis\", \"size\": [2.6878753795222865, 6.2049652847725225], \"sizemode\": \"area\", \"sizeref\": 0.3021525730050908}, \"name\": \"\", \"showlegend\": false, \"type\": \"scattergeo\"}], \"name\": \"03/22/2020\"}, {\"data\": [{\"geo\": \"geo\", \"hovertemplate\": \"<b>%{hovertext}</b><br><br>date=03/24/2020<br>size=%{marker.size}<br>country_name=%{location}<br>total_confirmed=%{marker.color}<extra></extra>\", \"hovertext\": [\"Bangladesh\", \"India\"], \"legendgroup\": \"\", \"locationmode\": \"country names\", \"locations\": [\"Bangladesh\", \"India\"], \"marker\": {\"color\": [39.0, 562.0], \"coloraxis\": \"coloraxis\", \"size\": [3.001368927744568, 6.682221919811203], \"sizemode\": \"area\", \"sizeref\": 0.3021525730050908}, \"name\": \"\", \"showlegend\": false, \"type\": \"scattergeo\"}], \"name\": \"03/24/2020\"}, {\"data\": [{\"geo\": \"geo\", \"hovertemplate\": \"<b>%{hovertext}</b><br><br>date=03/26/2020<br>size=%{marker.size}<br>country_name=%{location}<br>total_confirmed=%{marker.color}<extra></extra>\", \"hovertext\": [\"India\"], \"legendgroup\": \"\", \"locationmode\": \"country names\", \"locations\": [\"India\"], \"marker\": {\"color\": [724.0], \"coloraxis\": \"coloraxis\", \"size\": [7.209772646464614], \"sizemode\": \"area\", \"sizeref\": 0.3021525730050908}, \"name\": \"\", \"showlegend\": false, \"type\": \"scattergeo\"}], \"name\": \"03/26/2020\"}, {\"data\": [{\"geo\": \"geo\", \"hovertemplate\": \"<b>%{hovertext}</b><br><br>date=03/27/2020<br>size=%{marker.size}<br>country_name=%{location}<br>total_confirmed=%{marker.color}<extra></extra>\", \"hovertext\": [\"India\"], \"legendgroup\": \"\", \"locationmode\": \"country names\", \"locations\": [\"India\"], \"marker\": {\"color\": [873.0], \"coloraxis\": \"coloraxis\", \"size\": [7.626131208872437], \"sizemode\": \"area\", \"sizeref\": 0.3021525730050908}, \"name\": \"\", \"showlegend\": false, \"type\": \"scattergeo\"}], \"name\": \"03/27/2020\"}, {\"data\": [{\"geo\": \"geo\", \"hovertemplate\": \"<b>%{hovertext}</b><br><br>date=03/28/2020<br>size=%{marker.size}<br>country_name=%{location}<br>total_confirmed=%{marker.color}<extra></extra>\", \"hovertext\": [\"Bangladesh\", \"India\"], \"legendgroup\": \"\", \"locationmode\": \"country names\", \"locations\": [\"Bangladesh\", \"India\"], \"marker\": {\"color\": [48.0, 979.0], \"coloraxis\": \"coloraxis\", \"size\": [3.194275505495155, 7.892867414759166], \"sizemode\": \"area\", \"sizeref\": 0.3021525730050908}, \"name\": \"\", \"showlegend\": false, \"type\": \"scattergeo\"}], \"name\": \"03/28/2020\"}, {\"data\": [{\"geo\": \"geo\", \"hovertemplate\": \"<b>%{hovertext}</b><br><br>date=03/30/2020<br>size=%{marker.size}<br>country_name=%{location}<br>total_confirmed=%{marker.color}<extra></extra>\", \"hovertext\": [\"India\"], \"legendgroup\": \"\", \"locationmode\": \"country names\", \"locations\": [\"India\"], \"marker\": {\"color\": [1251.0], \"coloraxis\": \"coloraxis\", \"size\": [8.495270128442183], \"sizemode\": \"area\", \"sizeref\": 0.3021525730050908}, \"name\": \"\", \"showlegend\": false, \"type\": \"scattergeo\"}], \"name\": \"03/30/2020\"}, {\"data\": [{\"geo\": \"geo\", \"hovertemplate\": \"<b>%{hovertext}</b><br><br>date=03/31/2020<br>size=%{marker.size}<br>country_name=%{location}<br>total_confirmed=%{marker.color}<extra></extra>\", \"hovertext\": [\"Bangladesh\"], \"legendgroup\": \"\", \"locationmode\": \"country names\", \"locations\": [\"Bangladesh\"], \"marker\": {\"color\": [51.0], \"coloraxis\": \"coloraxis\", \"size\": [3.2529025491464565], \"sizemode\": \"area\", \"sizeref\": 0.3021525730050908}, \"name\": \"\", \"showlegend\": false, \"type\": \"scattergeo\"}], \"name\": \"03/31/2020\"}, {\"data\": [{\"geo\": \"geo\", \"hovertemplate\": \"<b>%{hovertext}</b><br><br>date=04/02/2020<br>size=%{marker.size}<br>country_name=%{location}<br>total_confirmed=%{marker.color}<extra></extra>\", \"hovertext\": [\"India\"], \"legendgroup\": \"\", \"locationmode\": \"country names\", \"locations\": [\"India\"], \"marker\": {\"color\": [2301.0], \"coloraxis\": \"coloraxis\", \"size\": [10.199408485700012], \"sizemode\": \"area\", \"sizeref\": 0.3021525730050908}, \"name\": \"\", \"showlegend\": false, \"type\": \"scattergeo\"}], \"name\": \"04/02/2020\"}, {\"data\": [{\"geo\": \"geo\", \"hovertemplate\": \"<b>%{hovertext}</b><br><br>date=04/04/2020<br>size=%{marker.size}<br>country_name=%{location}<br>total_confirmed=%{marker.color}<extra></extra>\", \"hovertext\": [\"India\"], \"legendgroup\": \"\", \"locationmode\": \"country names\", \"locations\": [\"India\"], \"marker\": {\"color\": [3374.0], \"coloraxis\": \"coloraxis\", \"size\": [11.44046096097928], \"sizemode\": \"area\", \"sizeref\": 0.3021525730050908}, \"name\": \"\", \"showlegend\": false, \"type\": \"scattergeo\"}], \"name\": \"04/04/2020\"}, {\"data\": [{\"geo\": \"geo\", \"hovertemplate\": \"<b>%{hovertext}</b><br><br>date=04/06/2020<br>size=%{marker.size}<br>country_name=%{location}<br>total_confirmed=%{marker.color}<extra></extra>\", \"hovertext\": [\"India\"], \"legendgroup\": \"\", \"locationmode\": \"country names\", \"locations\": [\"India\"], \"marker\": {\"color\": [4421.0], \"coloraxis\": \"coloraxis\", \"size\": [12.40669638813623], \"sizemode\": \"area\", \"sizeref\": 0.3021525730050908}, \"name\": \"\", \"showlegend\": false, \"type\": \"scattergeo\"}], \"name\": \"04/06/2020\"}, {\"data\": [{\"geo\": \"geo\", \"hovertemplate\": \"<b>%{hovertext}</b><br><br>date=04/07/2020<br>size=%{marker.size}<br>country_name=%{location}<br>total_confirmed=%{marker.color}<extra></extra>\", \"hovertext\": [\"Bangladesh\"], \"legendgroup\": \"\", \"locationmode\": \"country names\", \"locations\": [\"Bangladesh\"], \"marker\": {\"color\": [164.0], \"coloraxis\": \"coloraxis\", \"size\": [4.617991768029603], \"sizemode\": \"area\", \"sizeref\": 0.3021525730050908}, \"name\": \"\", \"showlegend\": false, \"type\": \"scattergeo\"}], \"name\": \"04/07/2020\"}, {\"data\": [{\"geo\": \"geo\", \"hovertemplate\": \"<b>%{hovertext}</b><br><br>date=04/10/2020<br>size=%{marker.size}<br>country_name=%{location}<br>total_confirmed=%{marker.color}<extra></extra>\", \"hovertext\": [\"India\"], \"legendgroup\": \"\", \"locationmode\": \"country names\", \"locations\": [\"India\"], \"marker\": {\"color\": [7447.0], \"coloraxis\": \"coloraxis\", \"size\": [14.507561027821316], \"sizemode\": \"area\", \"sizeref\": 0.3021525730050908}, \"name\": \"\", \"showlegend\": false, \"type\": \"scattergeo\"}], \"name\": \"04/10/2020\"}, {\"data\": [{\"geo\": \"geo\", \"hovertemplate\": \"<b>%{hovertext}</b><br><br>date=04/11/2020<br>size=%{marker.size}<br>country_name=%{location}<br>total_confirmed=%{marker.color}<extra></extra>\", \"hovertext\": [\"Bangladesh\"], \"legendgroup\": \"\", \"locationmode\": \"country names\", \"locations\": [\"Bangladesh\"], \"marker\": {\"color\": [482.0], \"coloraxis\": \"coloraxis\", \"size\": [6.381372720813239], \"sizemode\": \"area\", \"sizeref\": 0.3021525730050908}, \"name\": \"\", \"showlegend\": false, \"type\": \"scattergeo\"}], \"name\": \"04/11/2020\"}, {\"data\": [{\"geo\": \"geo\", \"hovertemplate\": \"<b>%{hovertext}</b><br><br>date=04/12/2020<br>size=%{marker.size}<br>country_name=%{location}<br>total_confirmed=%{marker.color}<extra></extra>\", \"hovertext\": [\"India\"], \"legendgroup\": \"\", \"locationmode\": \"country names\", \"locations\": [\"India\"], \"marker\": {\"color\": [9152.0], \"coloraxis\": \"coloraxis\", \"size\": [15.433158037309239], \"sizemode\": \"area\", \"sizeref\": 0.3021525730050908}, \"name\": \"\", \"showlegend\": false, \"type\": \"scattergeo\"}], \"name\": \"04/12/2020\"}, {\"data\": [{\"geo\": \"geo\", \"hovertemplate\": \"<b>%{hovertext}</b><br><br>date=04/17/2020<br>size=%{marker.size}<br>country_name=%{location}<br>total_confirmed=%{marker.color}<extra></extra>\", \"hovertext\": [\"India\"], \"legendgroup\": \"\", \"locationmode\": \"country names\", \"locations\": [\"India\"], \"marker\": {\"color\": [14378.0], \"coloraxis\": \"coloraxis\", \"size\": [17.672970144239603], \"sizemode\": \"area\", \"sizeref\": 0.3021525730050908}, \"name\": \"\", \"showlegend\": false, \"type\": \"scattergeo\"}], \"name\": \"04/17/2020\"}, {\"data\": [{\"geo\": \"geo\", \"hovertemplate\": \"<b>%{hovertext}</b><br><br>date=04/24/2020<br>size=%{marker.size}<br>country_name=%{location}<br>total_confirmed=%{marker.color}<extra></extra>\", \"hovertext\": [\"India\"], \"legendgroup\": \"\", \"locationmode\": \"country names\", \"locations\": [\"India\"], \"marker\": {\"color\": [24506.0], \"coloraxis\": \"coloraxis\", \"size\": [20.738709525826078], \"sizemode\": \"area\", \"sizeref\": 0.3021525730050908}, \"name\": \"\", \"showlegend\": false, \"type\": \"scattergeo\"}], \"name\": \"04/24/2020\"}, {\"data\": [{\"geo\": \"geo\", \"hovertemplate\": \"<b>%{hovertext}</b><br><br>date=04/25/2020<br>size=%{marker.size}<br>country_name=%{location}<br>total_confirmed=%{marker.color}<extra></extra>\", \"hovertext\": [\"Bangladesh\", \"India\"], \"legendgroup\": \"\", \"locationmode\": \"country names\", \"locations\": [\"Bangladesh\", \"India\"], \"marker\": {\"color\": [4998.0, 26496.0], \"coloraxis\": \"coloraxis\", \"size\": [12.871787919178955, 21.23020044272446], \"sizemode\": \"area\", \"sizeref\": 0.3021525730050908}, \"name\": \"\", \"showlegend\": false, \"type\": \"scattergeo\"}], \"name\": \"04/25/2020\"}, {\"data\": [{\"geo\": \"geo\", \"hovertemplate\": \"<b>%{hovertext}</b><br><br>date=04/26/2020<br>size=%{marker.size}<br>country_name=%{location}<br>total_confirmed=%{marker.color}<extra></extra>\", \"hovertext\": [\"India\"], \"legendgroup\": \"\", \"locationmode\": \"country names\", \"locations\": [\"India\"], \"marker\": {\"color\": [27892.0], \"coloraxis\": \"coloraxis\", \"size\": [21.55975875489909], \"sizemode\": \"area\", \"sizeref\": 0.3021525730050908}, \"name\": \"\", \"showlegend\": false, \"type\": \"scattergeo\"}], \"name\": \"04/26/2020\"}, {\"data\": [{\"geo\": \"geo\", \"hovertemplate\": \"<b>%{hovertext}</b><br><br>date=04/27/2020<br>size=%{marker.size}<br>country_name=%{location}<br>total_confirmed=%{marker.color}<extra></extra>\", \"hovertext\": [\"Bangladesh\", \"India\"], \"legendgroup\": \"\", \"locationmode\": \"country names\", \"locations\": [\"Bangladesh\", \"India\"], \"marker\": {\"color\": [5913.0, 29435.0], \"coloraxis\": \"coloraxis\", \"size\": [13.537621383443293, 21.910849310095237], \"sizemode\": \"area\", \"sizeref\": 0.3021525730050908}, \"name\": \"\", \"showlegend\": false, \"type\": \"scattergeo\"}], \"name\": \"04/27/2020\"}, {\"data\": [{\"geo\": \"geo\", \"hovertemplate\": \"<b>%{hovertext}</b><br><br>date=05/01/2020<br>size=%{marker.size}<br>country_name=%{location}<br>total_confirmed=%{marker.color}<extra></extra>\", \"hovertext\": [\"India\"], \"legendgroup\": \"\", \"locationmode\": \"country names\", \"locations\": [\"India\"], \"marker\": {\"color\": [37336.0], \"coloraxis\": \"coloraxis\", \"size\": [23.530889063718543], \"sizemode\": \"area\", \"sizeref\": 0.3021525730050908}, \"name\": \"\", \"showlegend\": false, \"type\": \"scattergeo\"}], \"name\": \"05/01/2020\"}, {\"data\": [{\"geo\": \"geo\", \"hovertemplate\": \"<b>%{hovertext}</b><br><br>date=05/02/2020<br>size=%{marker.size}<br>country_name=%{location}<br>total_confirmed=%{marker.color}<extra></extra>\", \"hovertext\": [\"India\"], \"legendgroup\": \"\", \"locationmode\": \"country names\", \"locations\": [\"India\"], \"marker\": {\"color\": [39980.0], \"coloraxis\": \"coloraxis\", \"size\": [24.018884675557622], \"sizemode\": \"area\", \"sizeref\": 0.3021525730050908}, \"name\": \"\", \"showlegend\": false, \"type\": \"scattergeo\"}], \"name\": \"05/02/2020\"}, {\"data\": [{\"geo\": \"geo\", \"hovertemplate\": \"<b>%{hovertext}</b><br><br>date=05/03/2020<br>size=%{marker.size}<br>country_name=%{location}<br>total_confirmed=%{marker.color}<extra></extra>\", \"hovertext\": [\"Bangladesh\", \"India\"], \"legendgroup\": \"\", \"locationmode\": \"country names\", \"locations\": [\"Bangladesh\", \"India\"], \"marker\": {\"color\": [9455.0, 42533.0], \"coloraxis\": \"coloraxis\", \"size\": [15.58470047645372, 24.469089238813122], \"sizemode\": \"area\", \"sizeref\": 0.3021525730050908}, \"name\": \"\", \"showlegend\": false, \"type\": \"scattergeo\"}], \"name\": \"05/03/2020\"}, {\"data\": [{\"geo\": \"geo\", \"hovertemplate\": \"<b>%{hovertext}</b><br><br>date=05/04/2020<br>size=%{marker.size}<br>country_name=%{location}<br>total_confirmed=%{marker.color}<extra></extra>\", \"hovertext\": [\"India\"], \"legendgroup\": \"\", \"locationmode\": \"country names\", \"locations\": [\"India\"], \"marker\": {\"color\": [46433.0], \"coloraxis\": \"coloraxis\", \"size\": [25.121642050021716], \"sizemode\": \"area\", \"sizeref\": 0.3021525730050908}, \"name\": \"\", \"showlegend\": false, \"type\": \"scattergeo\"}], \"name\": \"05/04/2020\"}, {\"data\": [{\"geo\": \"geo\", \"hovertemplate\": \"<b>%{hovertext}</b><br><br>date=05/05/2020<br>size=%{marker.size}<br>country_name=%{location}<br>total_confirmed=%{marker.color}<extra></extra>\", \"hovertext\": [\"Bangladesh\"], \"legendgroup\": \"\", \"locationmode\": \"country names\", \"locations\": [\"Bangladesh\"], \"marker\": {\"color\": [10929.0], \"coloraxis\": \"coloraxis\", \"size\": [16.276991166370987], \"sizemode\": \"area\", \"sizeref\": 0.3021525730050908}, \"name\": \"\", \"showlegend\": false, \"type\": \"scattergeo\"}], \"name\": \"05/05/2020\"}, {\"data\": [{\"geo\": \"geo\", \"hovertemplate\": \"<b>%{hovertext}</b><br><br>date=05/06/2020<br>size=%{marker.size}<br>country_name=%{location}<br>total_confirmed=%{marker.color}<extra></extra>\", \"hovertext\": [\"India\"], \"legendgroup\": \"\", \"locationmode\": \"country names\", \"locations\": [\"India\"], \"marker\": {\"color\": [52952.0], \"coloraxis\": \"coloraxis\", \"size\": [26.13152229993758], \"sizemode\": \"area\", \"sizeref\": 0.3021525730050908}, \"name\": \"\", \"showlegend\": false, \"type\": \"scattergeo\"}], \"name\": \"05/06/2020\"}, {\"data\": [{\"geo\": \"geo\", \"hovertemplate\": \"<b>%{hovertext}</b><br><br>date=05/07/2020<br>size=%{marker.size}<br>country_name=%{location}<br>total_confirmed=%{marker.color}<extra></extra>\", \"hovertext\": [\"Bangladesh\"], \"legendgroup\": \"\", \"locationmode\": \"country names\", \"locations\": [\"Bangladesh\"], \"marker\": {\"color\": [12425.0], \"coloraxis\": \"coloraxis\", \"size\": [16.915658903788458], \"sizemode\": \"area\", \"sizeref\": 0.3021525730050908}, \"name\": \"\", \"showlegend\": false, \"type\": \"scattergeo\"}], \"name\": \"05/07/2020\"}, {\"data\": [{\"geo\": \"geo\", \"hovertemplate\": \"<b>%{hovertext}</b><br><br>date=05/08/2020<br>size=%{marker.size}<br>country_name=%{location}<br>total_confirmed=%{marker.color}<extra></extra>\", \"hovertext\": [\"India\"], \"legendgroup\": \"\", \"locationmode\": \"country names\", \"locations\": [\"India\"], \"marker\": {\"color\": [59662.0], \"coloraxis\": \"coloraxis\", \"size\": [27.08378404978995], \"sizemode\": \"area\", \"sizeref\": 0.3021525730050908}, \"name\": \"\", \"showlegend\": false, \"type\": \"scattergeo\"}], \"name\": \"05/08/2020\"}, {\"data\": [{\"geo\": \"geo\", \"hovertemplate\": \"<b>%{hovertext}</b><br><br>date=05/09/2020<br>size=%{marker.size}<br>country_name=%{location}<br>total_confirmed=%{marker.color}<extra></extra>\", \"hovertext\": [\"India\"], \"legendgroup\": \"\", \"locationmode\": \"country names\", \"locations\": [\"India\"], \"marker\": {\"color\": [62939.0], \"coloraxis\": \"coloraxis\", \"size\": [27.52174404274626], \"sizemode\": \"area\", \"sizeref\": 0.3021525730050908}, \"name\": \"\", \"showlegend\": false, \"type\": \"scattergeo\"}], \"name\": \"05/09/2020\"}, {\"data\": [{\"geo\": \"geo\", \"hovertemplate\": \"<b>%{hovertext}</b><br><br>date=05/12/2020<br>size=%{marker.size}<br>country_name=%{location}<br>total_confirmed=%{marker.color}<extra></extra>\", \"hovertext\": [\"India\"], \"legendgroup\": \"\", \"locationmode\": \"country names\", \"locations\": [\"India\"], \"marker\": {\"color\": [74281.0], \"coloraxis\": \"coloraxis\", \"size\": [28.92433098131734], \"sizemode\": \"area\", \"sizeref\": 0.3021525730050908}, \"name\": \"\", \"showlegend\": false, \"type\": \"scattergeo\"}], \"name\": \"05/12/2020\"}, {\"data\": [{\"geo\": \"geo\", \"hovertemplate\": \"<b>%{hovertext}</b><br><br>date=05/14/2020<br>size=%{marker.size}<br>country_name=%{location}<br>total_confirmed=%{marker.color}<extra></extra>\", \"hovertext\": [\"India\"], \"legendgroup\": \"\", \"locationmode\": \"country names\", \"locations\": [\"India\"], \"marker\": {\"color\": [81970.0], \"coloraxis\": \"coloraxis\", \"size\": [29.791781941217327], \"sizemode\": \"area\", \"sizeref\": 0.3021525730050908}, \"name\": \"\", \"showlegend\": false, \"type\": \"scattergeo\"}], \"name\": \"05/14/2020\"}, {\"data\": [{\"geo\": \"geo\", \"hovertemplate\": \"<b>%{hovertext}</b><br><br>date=05/18/2020<br>size=%{marker.size}<br>country_name=%{location}<br>total_confirmed=%{marker.color}<extra></extra>\", \"hovertext\": [\"Bangladesh\"], \"legendgroup\": \"\", \"locationmode\": \"country names\", \"locations\": [\"Bangladesh\"], \"marker\": {\"color\": [23870.0], \"coloraxis\": \"coloraxis\", \"size\": [20.575752425803437], \"sizemode\": \"area\", \"sizeref\": 0.3021525730050908}, \"name\": \"\", \"showlegend\": false, \"type\": \"scattergeo\"}], \"name\": \"05/18/2020\"}, {\"data\": [{\"geo\": \"geo\", \"hovertemplate\": \"<b>%{hovertext}</b><br><br>date=05/20/2020<br>size=%{marker.size}<br>country_name=%{location}<br>total_confirmed=%{marker.color}<extra></extra>\", \"hovertext\": [\"India\"], \"legendgroup\": \"\", \"locationmode\": \"country names\", \"locations\": [\"India\"], \"marker\": {\"color\": [112359.0], \"coloraxis\": \"coloraxis\", \"size\": [32.74781736000276], \"sizemode\": \"area\", \"sizeref\": 0.3021525730050908}, \"name\": \"\", \"showlegend\": false, \"type\": \"scattergeo\"}], \"name\": \"05/20/2020\"}, {\"data\": [{\"geo\": \"geo\", \"hovertemplate\": \"<b>%{hovertext}</b><br><br>date=05/23/2020<br>size=%{marker.size}<br>country_name=%{location}<br>total_confirmed=%{marker.color}<extra></extra>\", \"hovertext\": [\"Bangladesh\"], \"legendgroup\": \"\", \"locationmode\": \"country names\", \"locations\": [\"Bangladesh\"], \"marker\": {\"color\": [32078.0], \"coloraxis\": \"coloraxis\", \"size\": [22.483410244081508], \"sizemode\": \"area\", \"sizeref\": 0.3021525730050908}, \"name\": \"\", \"showlegend\": false, \"type\": \"scattergeo\"}], \"name\": \"05/23/2020\"}, {\"data\": [{\"geo\": \"geo\", \"hovertemplate\": \"<b>%{hovertext}</b><br><br>date=05/26/2020<br>size=%{marker.size}<br>country_name=%{location}<br>total_confirmed=%{marker.color}<extra></extra>\", \"hovertext\": [\"India\"], \"legendgroup\": \"\", \"locationmode\": \"country names\", \"locations\": [\"India\"], \"marker\": {\"color\": [151767.0], \"coloraxis\": \"coloraxis\", \"size\": [35.8387789733316], \"sizemode\": \"area\", \"sizeref\": 0.3021525730050908}, \"name\": \"\", \"showlegend\": false, \"type\": \"scattergeo\"}], \"name\": \"05/26/2020\"}, {\"data\": [{\"geo\": \"geo\", \"hovertemplate\": \"<b>%{hovertext}</b><br><br>date=05/27/2020<br>size=%{marker.size}<br>country_name=%{location}<br>total_confirmed=%{marker.color}<extra></extra>\", \"hovertext\": [\"Bangladesh\", \"India\"], \"legendgroup\": \"\", \"locationmode\": \"country names\", \"locations\": [\"Bangladesh\", \"India\"], \"marker\": {\"color\": [38292.0, 158333.0], \"coloraxis\": \"coloraxis\", \"size\": [23.710047010872678, 36.297058565167376], \"sizemode\": \"area\", \"sizeref\": 0.3021525730050908}, \"name\": \"\", \"showlegend\": false, \"type\": \"scattergeo\"}], \"name\": \"05/27/2020\"}, {\"data\": [{\"geo\": \"geo\", \"hovertemplate\": \"<b>%{hovertext}</b><br><br>date=05/30/2020<br>size=%{marker.size}<br>country_name=%{location}<br>total_confirmed=%{marker.color}<extra></extra>\", \"hovertext\": [\"India\"], \"legendgroup\": \"\", \"locationmode\": \"country names\", \"locations\": [\"India\"], \"marker\": {\"color\": [182143.0], \"coloraxis\": \"coloraxis\", \"size\": [37.85504315451868], \"sizemode\": \"area\", \"sizeref\": 0.3021525730050908}, \"name\": \"\", \"showlegend\": false, \"type\": \"scattergeo\"}], \"name\": \"05/30/2020\"}, {\"data\": [{\"geo\": \"geo\", \"hovertemplate\": \"<b>%{hovertext}</b><br><br>date=06/01/2020<br>size=%{marker.size}<br>country_name=%{location}<br>total_confirmed=%{marker.color}<extra></extra>\", \"hovertext\": [\"India\"], \"legendgroup\": \"\", \"locationmode\": \"country names\", \"locations\": [\"India\"], \"marker\": {\"color\": [198706.0], \"coloraxis\": \"coloraxis\", \"size\": [38.856465585658675], \"sizemode\": \"area\", \"sizeref\": 0.3021525730050908}, \"name\": \"\", \"showlegend\": false, \"type\": \"scattergeo\"}], \"name\": \"06/01/2020\"}, {\"data\": [{\"geo\": \"geo\", \"hovertemplate\": \"<b>%{hovertext}</b><br><br>date=06/04/2020<br>size=%{marker.size}<br>country_name=%{location}<br>total_confirmed=%{marker.color}<extra></extra>\", \"hovertext\": [\"Bangladesh\"], \"legendgroup\": \"\", \"locationmode\": \"country names\", \"locations\": [\"Bangladesh\"], \"marker\": {\"color\": [57563.0], \"coloraxis\": \"coloraxis\", \"size\": [26.794337657339145], \"sizemode\": \"area\", \"sizeref\": 0.3021525730050908}, \"name\": \"\", \"showlegend\": false, \"type\": \"scattergeo\"}], \"name\": \"06/04/2020\"}, {\"data\": [{\"geo\": \"geo\", \"hovertemplate\": \"<b>%{hovertext}</b><br><br>date=06/06/2020<br>size=%{marker.size}<br>country_name=%{location}<br>total_confirmed=%{marker.color}<extra></extra>\", \"hovertext\": [\"Bangladesh\"], \"legendgroup\": \"\", \"locationmode\": \"country names\", \"locations\": [\"Bangladesh\"], \"marker\": {\"color\": [63026.0], \"coloraxis\": \"coloraxis\", \"size\": [27.533151441468583], \"sizemode\": \"area\", \"sizeref\": 0.3021525730050908}, \"name\": \"\", \"showlegend\": false, \"type\": \"scattergeo\"}], \"name\": \"06/06/2020\"}, {\"data\": [{\"geo\": \"geo\", \"hovertemplate\": \"<b>%{hovertext}</b><br><br>date=06/07/2020<br>size=%{marker.size}<br>country_name=%{location}<br>total_confirmed=%{marker.color}<extra></extra>\", \"hovertext\": [\"Bangladesh\"], \"legendgroup\": \"\", \"locationmode\": \"country names\", \"locations\": [\"Bangladesh\"], \"marker\": {\"color\": [65769.0], \"coloraxis\": \"coloraxis\", \"size\": [27.887293765592432], \"sizemode\": \"area\", \"sizeref\": 0.3021525730050908}, \"name\": \"\", \"showlegend\": false, \"type\": \"scattergeo\"}], \"name\": \"06/07/2020\"}, {\"data\": [{\"geo\": \"geo\", \"hovertemplate\": \"<b>%{hovertext}</b><br><br>date=06/09/2020<br>size=%{marker.size}<br>country_name=%{location}<br>total_confirmed=%{marker.color}<extra></extra>\", \"hovertext\": [\"Bangladesh\"], \"legendgroup\": \"\", \"locationmode\": \"country names\", \"locations\": [\"Bangladesh\"], \"marker\": {\"color\": [71675.0], \"coloraxis\": \"coloraxis\", \"size\": [28.616091149795846], \"sizemode\": \"area\", \"sizeref\": 0.3021525730050908}, \"name\": \"\", \"showlegend\": false, \"type\": \"scattergeo\"}], \"name\": \"06/09/2020\"}, {\"data\": [{\"geo\": \"geo\", \"hovertemplate\": \"<b>%{hovertext}</b><br><br>date=06/10/2020<br>size=%{marker.size}<br>country_name=%{location}<br>total_confirmed=%{marker.color}<extra></extra>\", \"hovertext\": [\"Bangladesh\", \"India\"], \"legendgroup\": \"\", \"locationmode\": \"country names\", \"locations\": [\"Bangladesh\", \"India\"], \"marker\": {\"color\": [74865.0, 286579.0], \"coloraxis\": \"coloraxis\", \"size\": [28.992365339509714, 43.368390907608614], \"sizemode\": \"area\", \"sizeref\": 0.3021525730050908}, \"name\": \"\", \"showlegend\": false, \"type\": \"scattergeo\"}], \"name\": \"06/10/2020\"}, {\"data\": [{\"geo\": \"geo\", \"hovertemplate\": \"<b>%{hovertext}</b><br><br>date=06/11/2020<br>size=%{marker.size}<br>country_name=%{location}<br>total_confirmed=%{marker.color}<extra></extra>\", \"hovertext\": [\"India\"], \"legendgroup\": \"\", \"locationmode\": \"country names\", \"locations\": [\"India\"], \"marker\": {\"color\": [297535.0], \"coloraxis\": \"coloraxis\", \"size\": [43.859271940669636], \"sizemode\": \"area\", \"sizeref\": 0.3021525730050908}, \"name\": \"\", \"showlegend\": false, \"type\": \"scattergeo\"}], \"name\": \"06/11/2020\"}, {\"data\": [{\"geo\": \"geo\", \"hovertemplate\": \"<b>%{hovertext}</b><br><br>date=06/13/2020<br>size=%{marker.size}<br>country_name=%{location}<br>total_confirmed=%{marker.color}<extra></extra>\", \"hovertext\": [\"Bangladesh\", \"India\"], \"legendgroup\": \"\", \"locationmode\": \"country names\", \"locations\": [\"Bangladesh\", \"India\"], \"marker\": {\"color\": [84379.0, 320922.0], \"coloraxis\": \"coloraxis\", \"size\": [30.051787708332483, 44.866257755379486], \"sizemode\": \"area\", \"sizeref\": 0.3021525730050908}, \"name\": \"\", \"showlegend\": false, \"type\": \"scattergeo\"}], \"name\": \"06/13/2020\"}, {\"data\": [{\"geo\": \"geo\", \"hovertemplate\": \"<b>%{hovertext}</b><br><br>date=06/14/2020<br>size=%{marker.size}<br>country_name=%{location}<br>total_confirmed=%{marker.color}<extra></extra>\", \"hovertext\": [\"India\"], \"legendgroup\": \"\", \"locationmode\": \"country names\", \"locations\": [\"India\"], \"marker\": {\"color\": [332424.0], \"coloraxis\": \"coloraxis\", \"size\": [45.34273487237655], \"sizemode\": \"area\", \"sizeref\": 0.3021525730050908}, \"name\": \"\", \"showlegend\": false, \"type\": \"scattergeo\"}], \"name\": \"06/14/2020\"}, {\"data\": [{\"geo\": \"geo\", \"hovertemplate\": \"<b>%{hovertext}</b><br><br>date=06/15/2020<br>size=%{marker.size}<br>country_name=%{location}<br>total_confirmed=%{marker.color}<extra></extra>\", \"hovertext\": [\"Bangladesh\"], \"legendgroup\": \"\", \"locationmode\": \"country names\", \"locations\": [\"Bangladesh\"], \"marker\": {\"color\": [90619.0], \"coloraxis\": \"coloraxis\", \"size\": [30.701937241172153], \"sizemode\": \"area\", \"sizeref\": 0.3021525730050908}, \"name\": \"\", \"showlegend\": false, \"type\": \"scattergeo\"}], \"name\": \"06/15/2020\"}, {\"data\": [{\"geo\": \"geo\", \"hovertemplate\": \"<b>%{hovertext}</b><br><br>date=06/16/2020<br>size=%{marker.size}<br>country_name=%{location}<br>total_confirmed=%{marker.color}<extra></extra>\", \"hovertext\": [\"India\"], \"legendgroup\": \"\", \"locationmode\": \"country names\", \"locations\": [\"India\"], \"marker\": {\"color\": [354065.0], \"coloraxis\": \"coloraxis\", \"size\": [46.208822234943185], \"sizemode\": \"area\", \"sizeref\": 0.3021525730050908}, \"name\": \"\", \"showlegend\": false, \"type\": \"scattergeo\"}], \"name\": \"06/16/2020\"}, {\"data\": [{\"geo\": \"geo\", \"hovertemplate\": \"<b>%{hovertext}</b><br><br>date=06/17/2020<br>size=%{marker.size}<br>country_name=%{location}<br>total_confirmed=%{marker.color}<extra></extra>\", \"hovertext\": [\"India\"], \"legendgroup\": \"\", \"locationmode\": \"country names\", \"locations\": [\"India\"], \"marker\": {\"color\": [366946.0], \"coloraxis\": \"coloraxis\", \"size\": [46.70685739432084], \"sizemode\": \"area\", \"sizeref\": 0.3021525730050908}, \"name\": \"\", \"showlegend\": false, \"type\": \"scattergeo\"}], \"name\": \"06/17/2020\"}, {\"data\": [{\"geo\": \"geo\", \"hovertemplate\": \"<b>%{hovertext}</b><br><br>date=06/19/2020<br>size=%{marker.size}<br>country_name=%{location}<br>total_confirmed=%{marker.color}<extra></extra>\", \"hovertext\": [\"India\"], \"legendgroup\": \"\", \"locationmode\": \"country names\", \"locations\": [\"India\"], \"marker\": {\"color\": [395048.0], \"coloraxis\": \"coloraxis\", \"size\": [47.75237322058416], \"sizemode\": \"area\", \"sizeref\": 0.3021525730050908}, \"name\": \"\", \"showlegend\": false, \"type\": \"scattergeo\"}], \"name\": \"06/19/2020\"}, {\"data\": [{\"geo\": \"geo\", \"hovertemplate\": \"<b>%{hovertext}</b><br><br>date=06/20/2020<br>size=%{marker.size}<br>country_name=%{location}<br>total_confirmed=%{marker.color}<extra></extra>\", \"hovertext\": [\"India\"], \"legendgroup\": \"\", \"locationmode\": \"country names\", \"locations\": [\"India\"], \"marker\": {\"color\": [410461.0], \"coloraxis\": \"coloraxis\", \"size\": [48.30383027051708], \"sizemode\": \"area\", \"sizeref\": 0.3021525730050908}, \"name\": \"\", \"showlegend\": false, \"type\": \"scattergeo\"}], \"name\": \"06/20/2020\"}, {\"data\": [{\"geo\": \"geo\", \"hovertemplate\": \"<b>%{hovertext}</b><br><br>date=06/23/2020<br>size=%{marker.size}<br>country_name=%{location}<br>total_confirmed=%{marker.color}<extra></extra>\", \"hovertext\": [\"Bangladesh\"], \"legendgroup\": \"\", \"locationmode\": \"country names\", \"locations\": [\"Bangladesh\"], \"marker\": {\"color\": [119198.0], \"coloraxis\": \"coloraxis\", \"size\": [33.333482639159676], \"sizemode\": \"area\", \"sizeref\": 0.3021525730050908}, \"name\": \"\", \"showlegend\": false, \"type\": \"scattergeo\"}], \"name\": \"06/23/2020\"}, {\"data\": [{\"geo\": \"geo\", \"hovertemplate\": \"<b>%{hovertext}</b><br><br>date=06/24/2020<br>size=%{marker.size}<br>country_name=%{location}<br>total_confirmed=%{marker.color}<extra></extra>\", \"hovertext\": [\"Bangladesh\", \"India\"], \"legendgroup\": \"\", \"locationmode\": \"country names\", \"locations\": [\"Bangladesh\", \"India\"], \"marker\": {\"color\": [122660.0, 473105.0], \"coloraxis\": \"coloraxis\", \"size\": [33.62102024038575, 50.40658337395542], \"sizemode\": \"area\", \"sizeref\": 0.3021525730050908}, \"name\": \"\", \"showlegend\": false, \"type\": \"scattergeo\"}], \"name\": \"06/24/2020\"}, {\"data\": [{\"geo\": \"geo\", \"hovertemplate\": \"<b>%{hovertext}</b><br><br>date=06/26/2020<br>size=%{marker.size}<br>country_name=%{location}<br>total_confirmed=%{marker.color}<extra></extra>\", \"hovertext\": [\"Bangladesh\"], \"legendgroup\": \"\", \"locationmode\": \"country names\", \"locations\": [\"Bangladesh\"], \"marker\": {\"color\": [130474.0], \"coloraxis\": \"coloraxis\", \"size\": [34.24973322591845], \"sizemode\": \"area\", \"sizeref\": 0.3021525730050908}, \"name\": \"\", \"showlegend\": false, \"type\": \"scattergeo\"}], \"name\": \"06/26/2020\"}, {\"data\": [{\"geo\": \"geo\", \"hovertemplate\": \"<b>%{hovertext}</b><br><br>date=06/29/2020<br>size=%{marker.size}<br>country_name=%{location}<br>total_confirmed=%{marker.color}<extra></extra>\", \"hovertext\": [\"Bangladesh\", \"India\"], \"legendgroup\": \"\", \"locationmode\": \"country names\", \"locations\": [\"Bangladesh\", \"India\"], \"marker\": {\"color\": [141801.0, 566840.0], \"coloraxis\": \"coloraxis\", \"size\": [35.11589874345778, 53.21549997263336], \"sizemode\": \"area\", \"sizeref\": 0.3021525730050908}, \"name\": \"\", \"showlegend\": false, \"type\": \"scattergeo\"}], \"name\": \"06/29/2020\"}, {\"data\": [{\"geo\": \"geo\", \"hovertemplate\": \"<b>%{hovertext}</b><br><br>date=06/30/2020<br>size=%{marker.size}<br>country_name=%{location}<br>total_confirmed=%{marker.color}<extra></extra>\", \"hovertext\": [\"India\"], \"legendgroup\": \"\", \"locationmode\": \"country names\", \"locations\": [\"India\"], \"marker\": {\"color\": [585493.0], \"coloraxis\": \"coloraxis\", \"size\": [53.73490830739226], \"sizemode\": \"area\", \"sizeref\": 0.3021525730050908}, \"name\": \"\", \"showlegend\": false, \"type\": \"scattergeo\"}], \"name\": \"06/30/2020\"}, {\"data\": [{\"geo\": \"geo\", \"hovertemplate\": \"<b>%{hovertext}</b><br><br>date=07/01/2020<br>size=%{marker.size}<br>country_name=%{location}<br>total_confirmed=%{marker.color}<extra></extra>\", \"hovertext\": [\"Bangladesh\"], \"legendgroup\": \"\", \"locationmode\": \"country names\", \"locations\": [\"Bangladesh\"], \"marker\": {\"color\": [149258.0], \"coloraxis\": \"coloraxis\", \"size\": [35.65999561070073], \"sizemode\": \"area\", \"sizeref\": 0.3021525730050908}, \"name\": \"\", \"showlegend\": false, \"type\": \"scattergeo\"}], \"name\": \"07/01/2020\"}, {\"data\": [{\"geo\": \"geo\", \"hovertemplate\": \"<b>%{hovertext}</b><br><br>date=07/03/2020<br>size=%{marker.size}<br>country_name=%{location}<br>total_confirmed=%{marker.color}<extra></extra>\", \"hovertext\": [\"India\"], \"legendgroup\": \"\", \"locationmode\": \"country names\", \"locations\": [\"India\"], \"marker\": {\"color\": [648315.0], \"coloraxis\": \"coloraxis\", \"size\": [55.40332391945618], \"sizemode\": \"area\", \"sizeref\": 0.3021525730050908}, \"name\": \"\", \"showlegend\": false, \"type\": \"scattergeo\"}], \"name\": \"07/03/2020\"}, {\"data\": [{\"geo\": \"geo\", \"hovertemplate\": \"<b>%{hovertext}</b><br><br>date=07/04/2020<br>size=%{marker.size}<br>country_name=%{location}<br>total_confirmed=%{marker.color}<extra></extra>\", \"hovertext\": [\"Bangladesh\"], \"legendgroup\": \"\", \"locationmode\": \"country names\", \"locations\": [\"Bangladesh\"], \"marker\": {\"color\": [159679.0], \"coloraxis\": \"coloraxis\", \"size\": [36.389353612940916], \"sizemode\": \"area\", \"sizeref\": 0.3021525730050908}, \"name\": \"\", \"showlegend\": false, \"type\": \"scattergeo\"}], \"name\": \"07/04/2020\"}, {\"data\": [{\"geo\": \"geo\", \"hovertemplate\": \"<b>%{hovertext}</b><br><br>date=07/05/2020<br>size=%{marker.size}<br>country_name=%{location}<br>total_confirmed=%{marker.color}<extra></extra>\", \"hovertext\": [\"India\"], \"legendgroup\": \"\", \"locationmode\": \"country names\", \"locations\": [\"India\"], \"marker\": {\"color\": [697413.0], \"coloraxis\": \"coloraxis\", \"size\": [56.63005866808013], \"sizemode\": \"area\", \"sizeref\": 0.3021525730050908}, \"name\": \"\", \"showlegend\": false, \"type\": \"scattergeo\"}], \"name\": \"07/05/2020\"}, {\"data\": [{\"geo\": \"geo\", \"hovertemplate\": \"<b>%{hovertext}</b><br><br>date=07/07/2020<br>size=%{marker.size}<br>country_name=%{location}<br>total_confirmed=%{marker.color}<extra></extra>\", \"hovertext\": [\"Bangladesh\"], \"legendgroup\": \"\", \"locationmode\": \"country names\", \"locations\": [\"Bangladesh\"], \"marker\": {\"color\": [168645.0], \"coloraxis\": \"coloraxis\", \"size\": [36.990656652723764], \"sizemode\": \"area\", \"sizeref\": 0.3021525730050908}, \"name\": \"\", \"showlegend\": false, \"type\": \"scattergeo\"}], \"name\": \"07/07/2020\"}, {\"data\": [{\"geo\": \"geo\", \"hovertemplate\": \"<b>%{hovertext}</b><br><br>date=07/10/2020<br>size=%{marker.size}<br>country_name=%{location}<br>total_confirmed=%{marker.color}<extra></extra>\", \"hovertext\": [\"Bangladesh\"], \"legendgroup\": \"\", \"locationmode\": \"country names\", \"locations\": [\"Bangladesh\"], \"marker\": {\"color\": [178443.0], \"coloraxis\": \"coloraxis\", \"size\": [37.622690925781676], \"sizemode\": \"area\", \"sizeref\": 0.3021525730050908}, \"name\": \"\", \"showlegend\": false, \"type\": \"scattergeo\"}], \"name\": \"07/10/2020\"}, {\"data\": [{\"geo\": \"geo\", \"hovertemplate\": \"<b>%{hovertext}</b><br><br>date=07/15/2020<br>size=%{marker.size}<br>country_name=%{location}<br>total_confirmed=%{marker.color}<extra></extra>\", \"hovertext\": [\"Bangladesh\", \"India\"], \"legendgroup\": \"\", \"locationmode\": \"country names\", \"locations\": [\"Bangladesh\", \"India\"], \"marker\": {\"color\": [193590.0, 968876.0], \"coloraxis\": \"coloraxis\", \"size\": [38.55359456456657, 62.500063623163264], \"sizemode\": \"area\", \"sizeref\": 0.3021525730050908}, \"name\": \"\", \"showlegend\": false, \"type\": \"scattergeo\"}], \"name\": \"07/15/2020\"}, {\"data\": [{\"geo\": \"geo\", \"hovertemplate\": \"<b>%{hovertext}</b><br><br>date=07/16/2020<br>size=%{marker.size}<br>country_name=%{location}<br>total_confirmed=%{marker.color}<extra></extra>\", \"hovertext\": [\"India\"], \"legendgroup\": \"\", \"locationmode\": \"country names\", \"locations\": [\"India\"], \"marker\": {\"color\": [1003832.0], \"coloraxis\": \"coloraxis\", \"size\": [63.16817223129501], \"sizemode\": \"area\", \"sizeref\": 0.3021525730050908}, \"name\": \"\", \"showlegend\": false, \"type\": \"scattergeo\"}], \"name\": \"07/16/2020\"}, {\"data\": [{\"geo\": \"geo\", \"hovertemplate\": \"<b>%{hovertext}</b><br><br>date=07/18/2020<br>size=%{marker.size}<br>country_name=%{location}<br>total_confirmed=%{marker.color}<extra></extra>\", \"hovertext\": [\"Bangladesh\", \"India\"], \"legendgroup\": \"\", \"locationmode\": \"country names\", \"locations\": [\"Bangladesh\", \"India\"], \"marker\": {\"color\": [202066.0, 1077618.0], \"coloraxis\": \"coloraxis\", \"size\": [39.0524219725701, 64.52669939877259], \"sizemode\": \"area\", \"sizeref\": 0.3021525730050908}, \"name\": \"\", \"showlegend\": false, \"type\": \"scattergeo\"}], \"name\": \"07/18/2020\"}, {\"data\": [{\"geo\": \"geo\", \"hovertemplate\": \"<b>%{hovertext}</b><br><br>date=07/19/2020<br>size=%{marker.size}<br>country_name=%{location}<br>total_confirmed=%{marker.color}<extra></extra>\", \"hovertext\": [\"India\"], \"legendgroup\": \"\", \"locationmode\": \"country names\", \"locations\": [\"India\"], \"marker\": {\"color\": [1118043.0], \"coloraxis\": \"coloraxis\", \"size\": [65.2435452572348], \"sizemode\": \"area\", \"sizeref\": 0.3021525730050908}, \"name\": \"\", \"showlegend\": false, \"type\": \"scattergeo\"}], \"name\": \"07/19/2020\"}, {\"data\": [{\"geo\": \"geo\", \"hovertemplate\": \"<b>%{hovertext}</b><br><br>date=07/22/2020<br>size=%{marker.size}<br>country_name=%{location}<br>total_confirmed=%{marker.color}<extra></extra>\", \"hovertext\": [\"Bangladesh\"], \"legendgroup\": \"\", \"locationmode\": \"country names\", \"locations\": [\"Bangladesh\"], \"marker\": {\"color\": [213254.0], \"coloraxis\": \"coloraxis\", \"size\": [39.68890853828327], \"sizemode\": \"area\", \"sizeref\": 0.3021525730050908}, \"name\": \"\", \"showlegend\": false, \"type\": \"scattergeo\"}], \"name\": \"07/22/2020\"}, {\"data\": [{\"geo\": \"geo\", \"hovertemplate\": \"<b>%{hovertext}</b><br><br>date=07/23/2020<br>size=%{marker.size}<br>country_name=%{location}<br>total_confirmed=%{marker.color}<extra></extra>\", \"hovertext\": [\"Bangladesh\"], \"legendgroup\": \"\", \"locationmode\": \"country names\", \"locations\": [\"Bangladesh\"], \"marker\": {\"color\": [216110.0], \"coloraxis\": \"coloraxis\", \"size\": [39.84762659084921], \"sizemode\": \"area\", \"sizeref\": 0.3021525730050908}, \"name\": \"\", \"showlegend\": false, \"type\": \"scattergeo\"}], \"name\": \"07/23/2020\"}, {\"data\": [{\"geo\": \"geo\", \"hovertemplate\": \"<b>%{hovertext}</b><br><br>date=07/25/2020<br>size=%{marker.size}<br>country_name=%{location}<br>total_confirmed=%{marker.color}<extra></extra>\", \"hovertext\": [\"India\"], \"legendgroup\": \"\", \"locationmode\": \"country names\", \"locations\": [\"India\"], \"marker\": {\"color\": [1385522.0], \"coloraxis\": \"coloraxis\", \"size\": [69.5799364628555], \"sizemode\": \"area\", \"sizeref\": 0.3021525730050908}, \"name\": \"\", \"showlegend\": false, \"type\": \"scattergeo\"}], \"name\": \"07/25/2020\"}, {\"data\": [{\"geo\": \"geo\", \"hovertemplate\": \"<b>%{hovertext}</b><br><br>date=07/27/2020<br>size=%{marker.size}<br>country_name=%{location}<br>total_confirmed=%{marker.color}<extra></extra>\", \"hovertext\": [\"Bangladesh\", \"India\"], \"legendgroup\": \"\", \"locationmode\": \"country names\", \"locations\": [\"Bangladesh\", \"India\"], \"marker\": {\"color\": [226225.0, 1483156.0], \"coloraxis\": \"coloraxis\", \"size\": [40.39821526837009, 71.01597433224542], \"sizemode\": \"area\", \"sizeref\": 0.3021525730050908}, \"name\": \"\", \"showlegend\": false, \"type\": \"scattergeo\"}], \"name\": \"07/27/2020\"}, {\"data\": [{\"geo\": \"geo\", \"hovertemplate\": \"<b>%{hovertext}</b><br><br>date=07/31/2020<br>size=%{marker.size}<br>country_name=%{location}<br>total_confirmed=%{marker.color}<extra></extra>\", \"hovertext\": [\"Bangladesh\"], \"legendgroup\": \"\", \"locationmode\": \"country names\", \"locations\": [\"Bangladesh\"], \"marker\": {\"color\": [237661.0], \"coloraxis\": \"coloraxis\", \"size\": [41.00033224704951], \"sizemode\": \"area\", \"sizeref\": 0.3021525730050908}, \"name\": \"\", \"showlegend\": false, \"type\": \"scattergeo\"}], \"name\": \"07/31/2020\"}, {\"data\": [{\"geo\": \"geo\", \"hovertemplate\": \"<b>%{hovertext}</b><br><br>date=08/01/2020<br>size=%{marker.size}<br>country_name=%{location}<br>total_confirmed=%{marker.color}<extra></extra>\", \"hovertext\": [\"India\"], \"legendgroup\": \"\", \"locationmode\": \"country names\", \"locations\": [\"India\"], \"marker\": {\"color\": [1750723.0], \"coloraxis\": \"coloraxis\", \"size\": [74.63890014978334], \"sizemode\": \"area\", \"sizeref\": 0.3021525730050908}, \"name\": \"\", \"showlegend\": false, \"type\": \"scattergeo\"}], \"name\": \"08/01/2020\"}, {\"data\": [{\"geo\": \"geo\", \"hovertemplate\": \"<b>%{hovertext}</b><br><br>date=08/06/2020<br>size=%{marker.size}<br>country_name=%{location}<br>total_confirmed=%{marker.color}<extra></extra>\", \"hovertext\": [\"Bangladesh\"], \"legendgroup\": \"\", \"locationmode\": \"country names\", \"locations\": [\"Bangladesh\"], \"marker\": {\"color\": [249651.0], \"coloraxis\": \"coloraxis\", \"size\": [41.610218181097615], \"sizemode\": \"area\", \"sizeref\": 0.3021525730050908}, \"name\": \"\", \"showlegend\": false, \"type\": \"scattergeo\"}], \"name\": \"08/06/2020\"}, {\"data\": [{\"geo\": \"geo\", \"hovertemplate\": \"<b>%{hovertext}</b><br><br>date=08/13/2020<br>size=%{marker.size}<br>country_name=%{location}<br>total_confirmed=%{marker.color}<extra></extra>\", \"hovertext\": [\"Bangladesh\"], \"legendgroup\": \"\", \"locationmode\": \"country names\", \"locations\": [\"Bangladesh\"], \"marker\": {\"color\": [269115.0], \"coloraxis\": \"coloraxis\", \"size\": [42.55801581066055], \"sizemode\": \"area\", \"sizeref\": 0.3021525730050908}, \"name\": \"\", \"showlegend\": false, \"type\": \"scattergeo\"}], \"name\": \"08/13/2020\"}, {\"data\": [{\"geo\": \"geo\", \"hovertemplate\": \"<b>%{hovertext}</b><br><br>date=08/14/2020<br>size=%{marker.size}<br>country_name=%{location}<br>total_confirmed=%{marker.color}<extra></extra>\", \"hovertext\": [\"India\"], \"legendgroup\": \"\", \"locationmode\": \"country names\", \"locations\": [\"India\"], \"marker\": {\"color\": [2526192.0], \"coloraxis\": \"coloraxis\", \"size\": [83.31820531975853], \"sizemode\": \"area\", \"sizeref\": 0.3021525730050908}, \"name\": \"\", \"showlegend\": false, \"type\": \"scattergeo\"}], \"name\": \"08/14/2020\"}, {\"data\": [{\"geo\": \"geo\", \"hovertemplate\": \"<b>%{hovertext}</b><br><br>date=08/18/2020<br>size=%{marker.size}<br>country_name=%{location}<br>total_confirmed=%{marker.color}<extra></extra>\", \"hovertext\": [\"Bangladesh\"], \"legendgroup\": \"\", \"locationmode\": \"country names\", \"locations\": [\"Bangladesh\"], \"marker\": {\"color\": [282344.0], \"coloraxis\": \"coloraxis\", \"size\": [43.17512155348628], \"sizemode\": \"area\", \"sizeref\": 0.3021525730050908}, \"name\": \"\", \"showlegend\": false, \"type\": \"scattergeo\"}], \"name\": \"08/18/2020\"}, {\"data\": [{\"geo\": \"geo\", \"hovertemplate\": \"<b>%{hovertext}</b><br><br>date=08/19/2020<br>size=%{marker.size}<br>country_name=%{location}<br>total_confirmed=%{marker.color}<extra></extra>\", \"hovertext\": [\"Bangladesh\"], \"legendgroup\": \"\", \"locationmode\": \"country names\", \"locations\": [\"Bangladesh\"], \"marker\": {\"color\": [285091.0], \"coloraxis\": \"coloraxis\", \"size\": [43.300713457857185], \"sizemode\": \"area\", \"sizeref\": 0.3021525730050908}, \"name\": \"\", \"showlegend\": false, \"type\": \"scattergeo\"}], \"name\": \"08/19/2020\"}, {\"data\": [{\"geo\": \"geo\", \"hovertemplate\": \"<b>%{hovertext}</b><br><br>date=08/20/2020<br>size=%{marker.size}<br>country_name=%{location}<br>total_confirmed=%{marker.color}<extra></extra>\", \"hovertext\": [\"Bangladesh\"], \"legendgroup\": \"\", \"locationmode\": \"country names\", \"locations\": [\"Bangladesh\"], \"marker\": {\"color\": [287959.0], \"coloraxis\": \"coloraxis\", \"size\": [43.430936787171596], \"sizemode\": \"area\", \"sizeref\": 0.3021525730050908}, \"name\": \"\", \"showlegend\": false, \"type\": \"scattergeo\"}], \"name\": \"08/20/2020\"}, {\"data\": [{\"geo\": \"geo\", \"hovertemplate\": \"<b>%{hovertext}</b><br><br>date=08/25/2020<br>size=%{marker.size}<br>country_name=%{location}<br>total_confirmed=%{marker.color}<extra></extra>\", \"hovertext\": [\"Bangladesh\", \"India\"], \"legendgroup\": \"\", \"locationmode\": \"country names\", \"locations\": [\"Bangladesh\", \"India\"], \"marker\": {\"color\": [299628.0, 3234474.0], \"coloraxis\": \"coloraxis\", \"size\": [43.9516029353707, 89.73070900611799], \"sizemode\": \"area\", \"sizeref\": 0.3021525730050908}, \"name\": \"\", \"showlegend\": false, \"type\": \"scattergeo\"}], \"name\": \"08/25/2020\"}, {\"data\": [{\"geo\": \"geo\", \"hovertemplate\": \"<b>%{hovertext}</b><br><br>date=08/26/2020<br>size=%{marker.size}<br>country_name=%{location}<br>total_confirmed=%{marker.color}<extra></extra>\", \"hovertext\": [\"Bangladesh\"], \"legendgroup\": \"\", \"locationmode\": \"country names\", \"locations\": [\"Bangladesh\"], \"marker\": {\"color\": [302147.0], \"coloraxis\": \"coloraxis\", \"size\": [44.0621298455634], \"sizemode\": \"area\", \"sizeref\": 0.3021525730050908}, \"name\": \"\", \"showlegend\": false, \"type\": \"scattergeo\"}], \"name\": \"08/26/2020\"}, {\"data\": [{\"geo\": \"geo\", \"hovertemplate\": \"<b>%{hovertext}</b><br><br>date=08/30/2020<br>size=%{marker.size}<br>country_name=%{location}<br>total_confirmed=%{marker.color}<extra></extra>\", \"hovertext\": [\"Bangladesh\", \"India\"], \"legendgroup\": \"\", \"locationmode\": \"country names\", \"locations\": [\"Bangladesh\", \"India\"], \"marker\": {\"color\": [310822.0, 3621245.0], \"coloraxis\": \"coloraxis\", \"size\": [44.43789978149724, 92.82337874520915], \"sizemode\": \"area\", \"sizeref\": 0.3021525730050908}, \"name\": \"\", \"showlegend\": false, \"type\": \"scattergeo\"}], \"name\": \"08/30/2020\"}, {\"data\": [{\"geo\": \"geo\", \"hovertemplate\": \"<b>%{hovertext}</b><br><br>date=08/31/2020<br>size=%{marker.size}<br>country_name=%{location}<br>total_confirmed=%{marker.color}<extra></extra>\", \"hovertext\": [\"India\"], \"legendgroup\": \"\", \"locationmode\": \"country names\", \"locations\": [\"India\"], \"marker\": {\"color\": [3691166.0], \"coloraxis\": \"coloraxis\", \"size\": [93.3574698476246], \"sizemode\": \"area\", \"sizeref\": 0.3021525730050908}, \"name\": \"\", \"showlegend\": false, \"type\": \"scattergeo\"}], \"name\": \"08/31/2020\"}, {\"data\": [{\"geo\": \"geo\", \"hovertemplate\": \"<b>%{hovertext}</b><br><br>date=09/01/2020<br>size=%{marker.size}<br>country_name=%{location}<br>total_confirmed=%{marker.color}<extra></extra>\", \"hovertext\": [\"India\"], \"legendgroup\": \"\", \"locationmode\": \"country names\", \"locations\": [\"India\"], \"marker\": {\"color\": [3769523.0], \"coloraxis\": \"coloraxis\", \"size\": [93.94764958892199], \"sizemode\": \"area\", \"sizeref\": 0.3021525730050908}, \"name\": \"\", \"showlegend\": false, \"type\": \"scattergeo\"}], \"name\": \"09/01/2020\"}, {\"data\": [{\"geo\": \"geo\", \"hovertemplate\": \"<b>%{hovertext}</b><br><br>date=09/02/2020<br>size=%{marker.size}<br>country_name=%{location}<br>total_confirmed=%{marker.color}<extra></extra>\", \"hovertext\": [\"Bangladesh\"], \"legendgroup\": \"\", \"locationmode\": \"country names\", \"locations\": [\"Bangladesh\"], \"marker\": {\"color\": [317528.0], \"coloraxis\": \"coloraxis\", \"size\": [44.7233789863352], \"sizemode\": \"area\", \"sizeref\": 0.3021525730050908}, \"name\": \"\", \"showlegend\": false, \"type\": \"scattergeo\"}], \"name\": \"09/02/2020\"}, {\"data\": [{\"geo\": \"geo\", \"hovertemplate\": \"<b>%{hovertext}</b><br><br>date=09/05/2020<br>size=%{marker.size}<br>country_name=%{location}<br>total_confirmed=%{marker.color}<extra></extra>\", \"hovertext\": [\"India\"], \"legendgroup\": \"\", \"locationmode\": \"country names\", \"locations\": [\"India\"], \"marker\": {\"color\": [4113811.0], \"coloraxis\": \"coloraxis\", \"size\": [96.44357499308356], \"sizemode\": \"area\", \"sizeref\": 0.3021525730050908}, \"name\": \"\", \"showlegend\": false, \"type\": \"scattergeo\"}], \"name\": \"09/05/2020\"}, {\"data\": [{\"geo\": \"geo\", \"hovertemplate\": \"<b>%{hovertext}</b><br><br>date=09/06/2020<br>size=%{marker.size}<br>country_name=%{location}<br>total_confirmed=%{marker.color}<extra></extra>\", \"hovertext\": [\"India\"], \"legendgroup\": \"\", \"locationmode\": \"country names\", \"locations\": [\"India\"], \"marker\": {\"color\": [4204613.0], \"coloraxis\": \"coloraxis\", \"size\": [97.07732677393595], \"sizemode\": \"area\", \"sizeref\": 0.3021525730050908}, \"name\": \"\", \"showlegend\": false, \"type\": \"scattergeo\"}], \"name\": \"09/06/2020\"}, {\"data\": [{\"geo\": \"geo\", \"hovertemplate\": \"<b>%{hovertext}</b><br><br>date=09/09/2020<br>size=%{marker.size}<br>country_name=%{location}<br>total_confirmed=%{marker.color}<extra></extra>\", \"hovertext\": [\"India\"], \"legendgroup\": \"\", \"locationmode\": \"country names\", \"locations\": [\"India\"], \"marker\": {\"color\": [4465863.0], \"coloraxis\": \"coloraxis\", \"size\": [98.84884947086515], \"sizemode\": \"area\", \"sizeref\": 0.3021525730050908}, \"name\": \"\", \"showlegend\": false, \"type\": \"scattergeo\"}], \"name\": \"09/09/2020\"}, {\"data\": [{\"geo\": \"geo\", \"hovertemplate\": \"<b>%{hovertext}</b><br><br>date=09/12/2020<br>size=%{marker.size}<br>country_name=%{location}<br>total_confirmed=%{marker.color}<extra></extra>\", \"hovertext\": [\"Bangladesh\"], \"legendgroup\": \"\", \"locationmode\": \"country names\", \"locations\": [\"Bangladesh\"], \"marker\": {\"color\": [336044.0], \"coloraxis\": \"coloraxis\", \"size\": [45.490304476684926], \"sizemode\": \"area\", \"sizeref\": 0.3021525730050908}, \"name\": \"\", \"showlegend\": false, \"type\": \"scattergeo\"}], \"name\": \"09/12/2020\"}, {\"data\": [{\"geo\": \"geo\", \"hovertemplate\": \"<b>%{hovertext}</b><br><br>date=09/13/2020<br>size=%{marker.size}<br>country_name=%{location}<br>total_confirmed=%{marker.color}<extra></extra>\", \"hovertext\": [\"India\"], \"legendgroup\": \"\", \"locationmode\": \"country names\", \"locations\": [\"India\"], \"marker\": {\"color\": [4846427.0], \"coloraxis\": \"coloraxis\", \"size\": [101.30397872284429], \"sizemode\": \"area\", \"sizeref\": 0.3021525730050908}, \"name\": \"\", \"showlegend\": false, \"type\": \"scattergeo\"}], \"name\": \"09/13/2020\"}, {\"data\": [{\"geo\": \"geo\", \"hovertemplate\": \"<b>%{hovertext}</b><br><br>date=09/14/2020<br>size=%{marker.size}<br>country_name=%{location}<br>total_confirmed=%{marker.color}<extra></extra>\", \"hovertext\": [\"Bangladesh\"], \"legendgroup\": \"\", \"locationmode\": \"country names\", \"locations\": [\"Bangladesh\"], \"marker\": {\"color\": [339332.0], \"coloraxis\": \"coloraxis\", \"size\": [45.62337876908806], \"sizemode\": \"area\", \"sizeref\": 0.3021525730050908}, \"name\": \"\", \"showlegend\": false, \"type\": \"scattergeo\"}], \"name\": \"09/14/2020\"}, {\"data\": [{\"geo\": \"geo\", \"hovertemplate\": \"<b>%{hovertext}</b><br><br>date=09/15/2020<br>size=%{marker.size}<br>country_name=%{location}<br>total_confirmed=%{marker.color}<extra></extra>\", \"hovertext\": [\"India\"], \"legendgroup\": \"\", \"locationmode\": \"country names\", \"locations\": [\"India\"], \"marker\": {\"color\": [5020359.0], \"coloraxis\": \"coloraxis\", \"size\": [102.38125107968563], \"sizemode\": \"area\", \"sizeref\": 0.3021525730050908}, \"name\": \"\", \"showlegend\": false, \"type\": \"scattergeo\"}], \"name\": \"09/15/2020\"}, {\"data\": [{\"geo\": \"geo\", \"hovertemplate\": \"<b>%{hovertext}</b><br><br>date=09/17/2020<br>size=%{marker.size}<br>country_name=%{location}<br>total_confirmed=%{marker.color}<extra></extra>\", \"hovertext\": [\"Bangladesh\", \"India\"], \"legendgroup\": \"\", \"locationmode\": \"country names\", \"locations\": [\"Bangladesh\", \"India\"], \"marker\": {\"color\": [344264.0, 5214677.0], \"coloraxis\": \"coloraxis\", \"size\": [45.821308094426975, 103.55432066126014], \"sizemode\": \"area\", \"sizeref\": 0.3021525730050908}, \"name\": \"\", \"showlegend\": false, \"type\": \"scattergeo\"}], \"name\": \"09/17/2020\"}, {\"data\": [{\"geo\": \"geo\", \"hovertemplate\": \"<b>%{hovertext}</b><br><br>date=09/19/2020<br>size=%{marker.size}<br>country_name=%{location}<br>total_confirmed=%{marker.color}<extra></extra>\", \"hovertext\": [\"Bangladesh\"], \"legendgroup\": \"\", \"locationmode\": \"country names\", \"locations\": [\"Bangladesh\"], \"marker\": {\"color\": [347372.0], \"coloraxis\": \"coloraxis\", \"size\": [45.945019769649996], \"sizemode\": \"area\", \"sizeref\": 0.3021525730050908}, \"name\": \"\", \"showlegend\": false, \"type\": \"scattergeo\"}], \"name\": \"09/19/2020\"}, {\"data\": [{\"geo\": \"geo\", \"hovertemplate\": \"<b>%{hovertext}</b><br><br>date=09/25/2020<br>size=%{marker.size}<br>country_name=%{location}<br>total_confirmed=%{marker.color}<extra></extra>\", \"hovertext\": [\"Bangladesh\"], \"legendgroup\": \"\", \"locationmode\": \"country names\", \"locations\": [\"Bangladesh\"], \"marker\": {\"color\": [356767.0], \"coloraxis\": \"coloraxis\", \"size\": [46.31433183130285], \"sizemode\": \"area\", \"sizeref\": 0.3021525730050908}, \"name\": \"\", \"showlegend\": false, \"type\": \"scattergeo\"}], \"name\": \"09/25/2020\"}, {\"data\": [{\"geo\": \"geo\", \"hovertemplate\": \"<b>%{hovertext}</b><br><br>date=09/26/2020<br>size=%{marker.size}<br>country_name=%{location}<br>total_confirmed=%{marker.color}<extra></extra>\", \"hovertext\": [\"Bangladesh\", \"India\"], \"legendgroup\": \"\", \"locationmode\": \"country names\", \"locations\": [\"Bangladesh\", \"India\"], \"marker\": {\"color\": [357873.0, 5992532.0], \"coloraxis\": \"coloraxis\", \"size\": [46.357358374947566, 107.96502969670946], \"sizemode\": \"area\", \"sizeref\": 0.3021525730050908}, \"name\": \"\", \"showlegend\": false, \"type\": \"scattergeo\"}], \"name\": \"09/26/2020\"}, {\"data\": [{\"geo\": \"geo\", \"hovertemplate\": \"<b>%{hovertext}</b><br><br>date=09/27/2020<br>size=%{marker.size}<br>country_name=%{location}<br>total_confirmed=%{marker.color}<extra></extra>\", \"hovertext\": [\"Bangladesh\", \"India\"], \"legendgroup\": \"\", \"locationmode\": \"country names\", \"locations\": [\"Bangladesh\", \"India\"], \"marker\": {\"color\": [359148.0, 6074702.0], \"coloraxis\": \"coloraxis\", \"size\": [46.40684415221042, 108.40704175627585], \"sizemode\": \"area\", \"sizeref\": 0.3021525730050908}, \"name\": \"\", \"showlegend\": false, \"type\": \"scattergeo\"}], \"name\": \"09/27/2020\"}, {\"data\": [{\"geo\": \"geo\", \"hovertemplate\": \"<b>%{hovertext}</b><br><br>date=09/28/2020<br>size=%{marker.size}<br>country_name=%{location}<br>total_confirmed=%{marker.color}<extra></extra>\", \"hovertext\": [\"Bangladesh\"], \"legendgroup\": \"\", \"locationmode\": \"country names\", \"locations\": [\"Bangladesh\"], \"marker\": {\"color\": [360555.0], \"coloraxis\": \"coloraxis\", \"size\": [46.46131063849993], \"sizemode\": \"area\", \"sizeref\": 0.3021525730050908}, \"name\": \"\", \"showlegend\": false, \"type\": \"scattergeo\"}], \"name\": \"09/28/2020\"}, {\"data\": [{\"geo\": \"geo\", \"hovertemplate\": \"<b>%{hovertext}</b><br><br>date=09/29/2020<br>size=%{marker.size}<br>country_name=%{location}<br>total_confirmed=%{marker.color}<extra></extra>\", \"hovertext\": [\"Bangladesh\"], \"legendgroup\": \"\", \"locationmode\": \"country names\", \"locations\": [\"Bangladesh\"], \"marker\": {\"color\": [362043.0], \"coloraxis\": \"coloraxis\", \"size\": [46.51875108663649], \"sizemode\": \"area\", \"sizeref\": 0.3021525730050908}, \"name\": \"\", \"showlegend\": false, \"type\": \"scattergeo\"}], \"name\": \"09/29/2020\"}, {\"data\": [{\"geo\": \"geo\", \"hovertemplate\": \"<b>%{hovertext}</b><br><br>date=09/30/2020<br>size=%{marker.size}<br>country_name=%{location}<br>total_confirmed=%{marker.color}<extra></extra>\", \"hovertext\": [\"Bangladesh\"], \"legendgroup\": \"\", \"locationmode\": \"country names\", \"locations\": [\"Bangladesh\"], \"marker\": {\"color\": [363479.0], \"coloraxis\": \"coloraxis\", \"size\": [46.57402772437884], \"sizemode\": \"area\", \"sizeref\": 0.3021525730050908}, \"name\": \"\", \"showlegend\": false, \"type\": \"scattergeo\"}], \"name\": \"09/30/2020\"}, {\"data\": [{\"geo\": \"geo\", \"hovertemplate\": \"<b>%{hovertext}</b><br><br>date=10/06/2020<br>size=%{marker.size}<br>country_name=%{location}<br>total_confirmed=%{marker.color}<extra></extra>\", \"hovertext\": [\"Bangladesh\", \"India\"], \"legendgroup\": \"\", \"locationmode\": \"country names\", \"locations\": [\"Bangladesh\", \"India\"], \"marker\": {\"color\": [371631.0, 6757131.0], \"coloraxis\": \"coloraxis\", \"size\": [46.884963278358434, 111.92541197066083], \"sizemode\": \"area\", \"sizeref\": 0.3021525730050908}, \"name\": \"\", \"showlegend\": false, \"type\": \"scattergeo\"}], \"name\": \"10/06/2020\"}, {\"data\": [{\"geo\": \"geo\", \"hovertemplate\": \"<b>%{hovertext}</b><br><br>date=10/08/2020<br>size=%{marker.size}<br>country_name=%{location}<br>total_confirmed=%{marker.color}<extra></extra>\", \"hovertext\": [\"Bangladesh\", \"India\"], \"legendgroup\": \"\", \"locationmode\": \"country names\", \"locations\": [\"Bangladesh\", \"India\"], \"marker\": {\"color\": [374592.0, 6906151.0], \"coloraxis\": \"coloraxis\", \"size\": [46.99672008245546, 112.6602786146994], \"sizemode\": \"area\", \"sizeref\": 0.3021525730050908}, \"name\": \"\", \"showlegend\": false, \"type\": \"scattergeo\"}], \"name\": \"10/08/2020\"}, {\"data\": [{\"geo\": \"geo\", \"hovertemplate\": \"<b>%{hovertext}</b><br><br>date=10/11/2020<br>size=%{marker.size}<br>country_name=%{location}<br>total_confirmed=%{marker.color}<extra></extra>\", \"hovertext\": [\"Bangladesh\", \"India\"], \"legendgroup\": \"\", \"locationmode\": \"country names\", \"locations\": [\"Bangladesh\", \"India\"], \"marker\": {\"color\": [378266.0, 7120538.0], \"coloraxis\": \"coloraxis\", \"size\": [47.13453121640486, 113.69826630912414], \"sizemode\": \"area\", \"sizeref\": 0.3021525730050908}, \"name\": \"\", \"showlegend\": false, \"type\": \"scattergeo\"}], \"name\": \"10/11/2020\"}, {\"data\": [{\"geo\": \"geo\", \"hovertemplate\": \"<b>%{hovertext}</b><br><br>date=10/13/2020<br>size=%{marker.size}<br>country_name=%{location}<br>total_confirmed=%{marker.color}<extra></extra>\", \"hovertext\": [\"India\"], \"legendgroup\": \"\", \"locationmode\": \"country names\", \"locations\": [\"India\"], \"marker\": {\"color\": [7239389.0], \"coloraxis\": \"coloraxis\", \"size\": [114.26430280003731], \"sizemode\": \"area\", \"sizeref\": 0.3021525730050908}, \"name\": \"\", \"showlegend\": false, \"type\": \"scattergeo\"}], \"name\": \"10/13/2020\"}, {\"data\": [{\"geo\": \"geo\", \"hovertemplate\": \"<b>%{hovertext}</b><br><br>date=10/15/2020<br>size=%{marker.size}<br>country_name=%{location}<br>total_confirmed=%{marker.color}<extra></extra>\", \"hovertext\": [\"India\"], \"legendgroup\": \"\", \"locationmode\": \"country names\", \"locations\": [\"India\"], \"marker\": {\"color\": [7370468.0], \"coloraxis\": \"coloraxis\", \"size\": [114.88108258234618], \"sizemode\": \"area\", \"sizeref\": 0.3021525730050908}, \"name\": \"\", \"showlegend\": false, \"type\": \"scattergeo\"}], \"name\": \"10/15/2020\"}, {\"data\": [{\"geo\": \"geo\", \"hovertemplate\": \"<b>%{hovertext}</b><br><br>date=10/16/2020<br>size=%{marker.size}<br>country_name=%{location}<br>total_confirmed=%{marker.color}<extra></extra>\", \"hovertext\": [\"Bangladesh\"], \"legendgroup\": \"\", \"locationmode\": \"country names\", \"locations\": [\"Bangladesh\"], \"marker\": {\"color\": [386086.0], \"coloraxis\": \"coloraxis\", \"size\": [47.42476812297803], \"sizemode\": \"area\", \"sizeref\": 0.3021525730050908}, \"name\": \"\", \"showlegend\": false, \"type\": \"scattergeo\"}], \"name\": \"10/16/2020\"}, {\"data\": [{\"geo\": \"geo\", \"hovertemplate\": \"<b>%{hovertext}</b><br><br>date=10/18/2020<br>size=%{marker.size}<br>country_name=%{location}<br>total_confirmed=%{marker.color}<extra></extra>\", \"hovertext\": [\"India\"], \"legendgroup\": \"\", \"locationmode\": \"country names\", \"locations\": [\"India\"], \"marker\": {\"color\": [7550273.0], \"coloraxis\": \"coloraxis\", \"size\": [115.71477000763338], \"sizemode\": \"area\", \"sizeref\": 0.3021525730050908}, \"name\": \"\", \"showlegend\": false, \"type\": \"scattergeo\"}], \"name\": \"10/18/2020\"}, {\"data\": [{\"geo\": \"geo\", \"hovertemplate\": \"<b>%{hovertext}</b><br><br>date=10/19/2020<br>size=%{marker.size}<br>country_name=%{location}<br>total_confirmed=%{marker.color}<extra></extra>\", \"hovertext\": [\"India\"], \"legendgroup\": \"\", \"locationmode\": \"country names\", \"locations\": [\"India\"], \"marker\": {\"color\": [7597063.0], \"coloraxis\": \"coloraxis\", \"size\": [115.92943475882485], \"sizemode\": \"area\", \"sizeref\": 0.3021525730050908}, \"name\": \"\", \"showlegend\": false, \"type\": \"scattergeo\"}], \"name\": \"10/19/2020\"}, {\"data\": [{\"geo\": \"geo\", \"hovertemplate\": \"<b>%{hovertext}</b><br><br>date=10/20/2020<br>size=%{marker.size}<br>country_name=%{location}<br>total_confirmed=%{marker.color}<extra></extra>\", \"hovertext\": [\"India\"], \"legendgroup\": \"\", \"locationmode\": \"country names\", \"locations\": [\"India\"], \"marker\": {\"color\": [7651107.0], \"coloraxis\": \"coloraxis\", \"size\": [116.17623092639734], \"sizemode\": \"area\", \"sizeref\": 0.3021525730050908}, \"name\": \"\", \"showlegend\": false, \"type\": \"scattergeo\"}], \"name\": \"10/20/2020\"}, {\"data\": [{\"geo\": \"geo\", \"hovertemplate\": \"<b>%{hovertext}</b><br><br>date=10/23/2020<br>size=%{marker.size}<br>country_name=%{location}<br>total_confirmed=%{marker.color}<extra></extra>\", \"hovertext\": [\"Bangladesh\", \"India\"], \"legendgroup\": \"\", \"locationmode\": \"country names\", \"locations\": [\"Bangladesh\", \"India\"], \"marker\": {\"color\": [396413.0, 7814682.0], \"coloraxis\": \"coloraxis\", \"size\": [47.80181276904872, 116.9158504385849], \"sizemode\": \"area\", \"sizeref\": 0.3021525730050908}, \"name\": \"\", \"showlegend\": false, \"type\": \"scattergeo\"}], \"name\": \"10/23/2020\"}, {\"data\": [{\"geo\": \"geo\", \"hovertemplate\": \"<b>%{hovertext}</b><br><br>date=10/25/2020<br>size=%{marker.size}<br>country_name=%{location}<br>total_confirmed=%{marker.color}<extra></extra>\", \"hovertext\": [\"Bangladesh\"], \"legendgroup\": \"\", \"locationmode\": \"country names\", \"locations\": [\"Bangladesh\"], \"marker\": {\"color\": [398815.0], \"coloraxis\": \"coloraxis\", \"size\": [47.888523306160245], \"sizemode\": \"area\", \"sizeref\": 0.3021525730050908}, \"name\": \"\", \"showlegend\": false, \"type\": \"scattergeo\"}], \"name\": \"10/25/2020\"}, {\"data\": [{\"geo\": \"geo\", \"hovertemplate\": \"<b>%{hovertext}</b><br><br>date=10/26/2020<br>size=%{marker.size}<br>country_name=%{location}<br>total_confirmed=%{marker.color}<extra></extra>\", \"hovertext\": [\"Bangladesh\"], \"legendgroup\": \"\", \"locationmode\": \"country names\", \"locations\": [\"Bangladesh\"], \"marker\": {\"color\": [400251.0], \"coloraxis\": \"coloraxis\", \"size\": [47.940187435318194], \"sizemode\": \"area\", \"sizeref\": 0.3021525730050908}, \"name\": \"\", \"showlegend\": false, \"type\": \"scattergeo\"}], \"name\": \"10/26/2020\"}, {\"data\": [{\"geo\": \"geo\", \"hovertemplate\": \"<b>%{hovertext}</b><br><br>date=10/27/2020<br>size=%{marker.size}<br>country_name=%{location}<br>total_confirmed=%{marker.color}<extra></extra>\", \"hovertext\": [\"Bangladesh\", \"India\"], \"legendgroup\": \"\", \"locationmode\": \"country names\", \"locations\": [\"Bangladesh\", \"India\"], \"marker\": {\"color\": [401586.0, 7990322.0], \"coloraxis\": \"coloraxis\", \"size\": [47.98810155258138, 117.69805454401384], \"sizemode\": \"area\", \"sizeref\": 0.3021525730050908}, \"name\": \"\", \"showlegend\": false, \"type\": \"scattergeo\"}], \"name\": \"10/27/2020\"}, {\"data\": [{\"geo\": \"geo\", \"hovertemplate\": \"<b>%{hovertext}</b><br><br>date=10/30/2020<br>size=%{marker.size}<br>country_name=%{location}<br>total_confirmed=%{marker.color}<extra></extra>\", \"hovertext\": [\"India\"], \"legendgroup\": \"\", \"locationmode\": \"country names\", \"locations\": [\"India\"], \"marker\": {\"color\": [8137119.0], \"coloraxis\": \"coloraxis\", \"size\": [118.34262551910562], \"sizemode\": \"area\", \"sizeref\": 0.3021525730050908}, \"name\": \"\", \"showlegend\": false, \"type\": \"scattergeo\"}], \"name\": \"10/30/2020\"}, {\"data\": [{\"geo\": \"geo\", \"hovertemplate\": \"<b>%{hovertext}</b><br><br>date=11/01/2020<br>size=%{marker.size}<br>country_name=%{location}<br>total_confirmed=%{marker.color}<extra></extra>\", \"hovertext\": [\"Bangladesh\", \"India\"], \"legendgroup\": \"\", \"locationmode\": \"country names\", \"locations\": [\"Bangladesh\", \"India\"], \"marker\": {\"color\": [409252.0, 8229313.0], \"coloraxis\": \"coloraxis\", \"size\": [48.2611029691361, 118.74328907003279], \"sizemode\": \"area\", \"sizeref\": 0.3021525730050908}, \"name\": \"\", \"showlegend\": false, \"type\": \"scattergeo\"}], \"name\": \"11/01/2020\"}, {\"data\": [{\"geo\": \"geo\", \"hovertemplate\": \"<b>%{hovertext}</b><br><br>date=11/02/2020<br>size=%{marker.size}<br>country_name=%{location}<br>total_confirmed=%{marker.color}<extra></extra>\", \"hovertext\": [\"Bangladesh\"], \"legendgroup\": \"\", \"locationmode\": \"country names\", \"locations\": [\"Bangladesh\"], \"marker\": {\"color\": [410988.0], \"coloraxis\": \"coloraxis\", \"size\": [48.322427424142894], \"sizemode\": \"area\", \"sizeref\": 0.3021525730050908}, \"name\": \"\", \"showlegend\": false, \"type\": \"scattergeo\"}], \"name\": \"11/02/2020\"}, {\"data\": [{\"geo\": \"geo\", \"hovertemplate\": \"<b>%{hovertext}</b><br><br>date=11/03/2020<br>size=%{marker.size}<br>country_name=%{location}<br>total_confirmed=%{marker.color}<extra></extra>\", \"hovertext\": [\"Bangladesh\"], \"legendgroup\": \"\", \"locationmode\": \"country names\", \"locations\": [\"Bangladesh\"], \"marker\": {\"color\": [412647.0], \"coloraxis\": \"coloraxis\", \"size\": [48.380862637186404], \"sizemode\": \"area\", \"sizeref\": 0.3021525730050908}, \"name\": \"\", \"showlegend\": false, \"type\": \"scattergeo\"}], \"name\": \"11/03/2020\"}, {\"data\": [{\"geo\": \"geo\", \"hovertemplate\": \"<b>%{hovertext}</b><br><br>date=11/05/2020<br>size=%{marker.size}<br>country_name=%{location}<br>total_confirmed=%{marker.color}<extra></extra>\", \"hovertext\": [\"Bangladesh\", \"India\"], \"legendgroup\": \"\", \"locationmode\": \"country names\", \"locations\": [\"Bangladesh\", \"India\"], \"marker\": {\"color\": [416006.0, 8411724.0], \"coloraxis\": \"coloraxis\", \"size\": [48.49867551807601, 119.52685826800159], \"sizemode\": \"area\", \"sizeref\": 0.3021525730050908}, \"name\": \"\", \"showlegend\": false, \"type\": \"scattergeo\"}], \"name\": \"11/05/2020\"}, {\"data\": [{\"geo\": \"geo\", \"hovertemplate\": \"<b>%{hovertext}</b><br><br>date=11/06/2020<br>size=%{marker.size}<br>country_name=%{location}<br>total_confirmed=%{marker.color}<extra></extra>\", \"hovertext\": [\"Bangladesh\", \"India\"], \"legendgroup\": \"\", \"locationmode\": \"country names\", \"locations\": [\"Bangladesh\", \"India\"], \"marker\": {\"color\": [417475.0, 8462080.0], \"coloraxis\": \"coloraxis\", \"size\": [48.549989689673346, 119.74107093264301], \"sizemode\": \"area\", \"sizeref\": 0.3021525730050908}, \"name\": \"\", \"showlegend\": false, \"type\": \"scattergeo\"}], \"name\": \"11/06/2020\"}, {\"data\": [{\"geo\": \"geo\", \"hovertemplate\": \"<b>%{hovertext}</b><br><br>date=11/07/2020<br>size=%{marker.size}<br>country_name=%{location}<br>total_confirmed=%{marker.color}<extra></extra>\", \"hovertext\": [\"India\"], \"legendgroup\": \"\", \"locationmode\": \"country names\", \"locations\": [\"India\"], \"marker\": {\"color\": [8507754.0], \"coloraxis\": \"coloraxis\", \"size\": [119.93459616937425], \"sizemode\": \"area\", \"sizeref\": 0.3021525730050908}, \"name\": \"\", \"showlegend\": false, \"type\": \"scattergeo\"}], \"name\": \"11/07/2020\"}, {\"data\": [{\"geo\": \"geo\", \"hovertemplate\": \"<b>%{hovertext}</b><br><br>date=11/09/2020<br>size=%{marker.size}<br>country_name=%{location}<br>total_confirmed=%{marker.color}<extra></extra>\", \"hovertext\": [\"Bangladesh\"], \"legendgroup\": \"\", \"locationmode\": \"country names\", \"locations\": [\"Bangladesh\"], \"marker\": {\"color\": [421921.0], \"coloraxis\": \"coloraxis\", \"size\": [48.70452840577765], \"sizemode\": \"area\", \"sizeref\": 0.3021525730050908}, \"name\": \"\", \"showlegend\": false, \"type\": \"scattergeo\"}], \"name\": \"11/09/2020\"}, {\"data\": [{\"geo\": \"geo\", \"hovertemplate\": \"<b>%{hovertext}</b><br><br>date=11/10/2020<br>size=%{marker.size}<br>country_name=%{location}<br>total_confirmed=%{marker.color}<extra></extra>\", \"hovertext\": [\"India\"], \"legendgroup\": \"\", \"locationmode\": \"country names\", \"locations\": [\"India\"], \"marker\": {\"color\": [8636011.0], \"coloraxis\": \"coloraxis\", \"size\": [120.47417363827606], \"sizemode\": \"area\", \"sizeref\": 0.3021525730050908}, \"name\": \"\", \"showlegend\": false, \"type\": \"scattergeo\"}], \"name\": \"11/10/2020\"}, {\"data\": [{\"geo\": \"geo\", \"hovertemplate\": \"<b>%{hovertext}</b><br><br>date=11/12/2020<br>size=%{marker.size}<br>country_name=%{location}<br>total_confirmed=%{marker.color}<extra></extra>\", \"hovertext\": [\"India\"], \"legendgroup\": \"\", \"locationmode\": \"country names\", \"locations\": [\"India\"], \"marker\": {\"color\": [8728795.0], \"coloraxis\": \"coloraxis\", \"size\": [120.86102920203632], \"sizemode\": \"area\", \"sizeref\": 0.3021525730050908}, \"name\": \"\", \"showlegend\": false, \"type\": \"scattergeo\"}], \"name\": \"11/12/2020\"}, {\"data\": [{\"geo\": \"geo\", \"hovertemplate\": \"<b>%{hovertext}</b><br><br>date=11/14/2020<br>size=%{marker.size}<br>country_name=%{location}<br>total_confirmed=%{marker.color}<extra></extra>\", \"hovertext\": [\"Bangladesh\"], \"legendgroup\": \"\", \"locationmode\": \"country names\", \"locations\": [\"Bangladesh\"], \"marker\": {\"color\": [430496.0], \"coloraxis\": \"coloraxis\", \"size\": [48.99939707218219], \"sizemode\": \"area\", \"sizeref\": 0.3021525730050908}, \"name\": \"\", \"showlegend\": false, \"type\": \"scattergeo\"}], \"name\": \"11/14/2020\"}, {\"data\": [{\"geo\": \"geo\", \"hovertemplate\": \"<b>%{hovertext}</b><br><br>date=11/18/2020<br>size=%{marker.size}<br>country_name=%{location}<br>total_confirmed=%{marker.color}<extra></extra>\", \"hovertext\": [\"Bangladesh\"], \"legendgroup\": \"\", \"locationmode\": \"country names\", \"locations\": [\"Bangladesh\"], \"marker\": {\"color\": [0.0], \"coloraxis\": \"coloraxis\", \"size\": [0.0], \"sizemode\": \"area\", \"sizeref\": 0.3021525730050908}, \"name\": \"\", \"showlegend\": false, \"type\": \"scattergeo\"}], \"name\": \"11/18/2020\"}]);\n",
       "                        }).then(function(){\n",
       "                            Plotly.animate('8b6712ca-13e1-4084-a012-011d87a6f024', null);\n",
       "                        }).then(function(){\n",
       "                            \n",
       "var gd = document.getElementById('8b6712ca-13e1-4084-a012-011d87a6f024');\n",
       "var x = new MutationObserver(function (mutations, observer) {{\n",
       "        var display = window.getComputedStyle(gd).display;\n",
       "        if (!display || display === 'none') {{\n",
       "            console.log([gd, 'removed!']);\n",
       "            Plotly.purge(gd);\n",
       "            observer.disconnect();\n",
       "        }}\n",
       "}});\n",
       "\n",
       "// Listen for the removal of the full notebook cells\n",
       "var notebookContainer = gd.closest('#notebook-container');\n",
       "if (notebookContainer) {{\n",
       "    x.observe(notebookContainer, {childList: true});\n",
       "}}\n",
       "\n",
       "// Listen for the clearing of the current output cell\n",
       "var outputEl = gd.closest('.output');\n",
       "if (outputEl) {{\n",
       "    x.observe(outputEl, {childList: true});\n",
       "}}\n",
       "\n",
       "                        })                };                });            </script>        </div>"
      ]
     },
     "metadata": {},
     "output_type": "display_data"
    }
   ],
   "source": [
    "import plotly.express as px\n",
    "import plotly.offline as py\n",
    "py.init_notebook_mode(connected=True)\n",
    "\n",
    "countries = np.unique(dataset2['country_name'])\n",
    "mean_temp = []\n",
    "for country in countries:\n",
    "    mean_temp.append(dataset2[dataset2['country_name'] == country]['average_temperature'].mean())\n",
    "    \n",
    "    # Building the data frame\n",
    "    \n",
    "data = [ dict(\n",
    "        type = 'choropleth',\n",
    "        locations = countries,\n",
    "        z = mean_temp,\n",
    "        locationmode = 'country names',\n",
    "        text = countries,\n",
    "        marker = dict(\n",
    "            line = dict(color = 'rgb(0,0,0)', width = 1)),\n",
    "            colorbar = dict(autotick = True, tickprefix = '', \n",
    "            title = 'Temperature')\n",
    "            )\n",
    "       ]\n",
    "\n",
    "# Building the visual\n",
    "\n",
    "layout = dict(\n",
    "    title = 'Avg Temperature by Country',\n",
    "    geo = dict(\n",
    "        showframe = False,\n",
    "        showocean = True,\n",
    "        oceancolor = 'rgb(0,255,255)',\n",
    "        projection = dict(\n",
    "        type = 'orthographic',\n",
    "            rotation = dict(\n",
    "                    lon = 60,\n",
    "                    lat = 10),\n",
    "        ),\n",
    "        lonaxis =  dict(\n",
    "                showgrid = True,\n",
    "                gridcolor = 'rgb(102, 102, 102)'\n",
    "            ),\n",
    "        lataxis = dict(\n",
    "                showgrid = True,\n",
    "                gridcolor = 'rgb(102, 102, 102)'\n",
    "                )\n",
    "            ),\n",
    "        )\n",
    "\n",
    "fig = dict(data=data, layout=layout)\n",
    "py.iplot(fig, validate=False, filename='worldmap')\n",
    "\n",
    "formated_gdf = dataset2.groupby(['date', 'country_name'])['total_confirmed', 'total_deceased'].max()\n",
    "formated_gdf = formated_gdf.reset_index()\n",
    "formated_gdf['date'] = pd.to_datetime(formated_gdf['date'])\n",
    "formated_gdf['date'] = formated_gdf['date'].dt.strftime('%m/%d/%Y')\n",
    "formated_gdf['size'] = formated_gdf['total_confirmed'].pow(0.3)\n",
    "\n",
    "fig = px.scatter_geo(formated_gdf, locations=\"country_name\", locationmode='country names', \n",
    "                     color=\"total_confirmed\", size='size', hover_name=\"country_name\", \n",
    "                     range_color= [0, max(formated_gdf['total_confirmed'])+2], \n",
    "                     projection=\"natural earth\", animation_frame=\"date\", \n",
    "                     title='spread of COVID-19 based on different time intervals')\n",
    "fig.update(layout_coloraxis_showscale=False)\n",
    "py.offline.iplot(fig)"
   ]
  },
  {
   "cell_type": "code",
   "execution_count": null,
   "metadata": {},
   "outputs": [],
   "source": []
  }
 ],
 "metadata": {
  "kernelspec": {
   "display_name": "Python 3",
   "language": "python",
   "name": "python3"
  },
  "language_info": {
   "codemirror_mode": {
    "name": "ipython",
    "version": 3
   },
   "file_extension": ".py",
   "mimetype": "text/x-python",
   "name": "python",
   "nbconvert_exporter": "python",
   "pygments_lexer": "ipython3",
   "version": "3.7.6"
  }
 },
 "nbformat": 4,
 "nbformat_minor": 4
}
